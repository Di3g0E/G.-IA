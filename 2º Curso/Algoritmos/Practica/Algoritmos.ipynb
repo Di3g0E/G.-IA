{
 "cells": [
  {
   "cell_type": "markdown",
   "metadata": {},
   "source": [
    "# Código Mochila:"
   ]
  },
  {
   "cell_type": "code",
   "execution_count": 21,
   "metadata": {},
   "outputs": [],
   "source": [
    "def mochila(lista, pesoMax):\n",
    "    mochila = []\n",
    "    pesoMochila, valorMochila, i = 0, 0, 0\n",
    "\n",
    "    lista.sort(reverse = True)\n",
    "    while pesoMochila < pesoMax:\n",
    "        if (pesoMochila + lista[i][1]) <= pesoMax:\n",
    "            mochila.append(lista[i][3])\n",
    "            pesoMochila += lista[i][1]\n",
    "            valorMochila += lista[i][2]\n",
    "        else:\n",
    "            frac = (pesoMax - pesoMochila) / lista[i][1]\n",
    "            mochila.append(lista[i][3])\n",
    "            pesoMochila = pesoMax\n",
    "            valorMochila += (lista[i][2] * frac)\n",
    "        i += 1\n",
    "\n",
    "    return mochila, valorMochila"
   ]
  },
  {
   "cell_type": "markdown",
   "metadata": {},
   "source": [
    "Código para practicar: $\\downarrow$"
   ]
  },
  {
   "cell_type": "code",
   "execution_count": 1,
   "metadata": {},
   "outputs": [],
   "source": [
    "def mochila(lista, pesoMax):\n",
    "    bag = []\n",
    "    wb, cb, i = 0, 0, 0\n",
    "\n",
    "    lista.sort(reverse = True)\n",
    "    while wb < pesoMax:\n",
    "        if (wb + lista[i][1]) < pesoMax:\n",
    "            bag.append(lista[i][3])\n",
    "            cb += lista[i][2]\n",
    "            wb += lista[i][1]\n",
    "            i += 1\n",
    "        else:\n",
    "            frac = (pesoMax - wb) / lista[i][1]\n",
    "            bag.append(lista[i][3])\n",
    "            cb += (lista[i][2] * frac)\n",
    "            wb = pesoMax\n",
    "    return bag, cb"
   ]
  },
  {
   "cell_type": "code",
   "execution_count": 2,
   "metadata": {},
   "outputs": [],
   "source": [
    "assert mochila([(2.0, 10, 20, 'boli'), (1.5, 20, 30, 'vaso'), (2.2, 30, 66, 'luz'), (1.0, 40, 40, 'bote'), (1.2, 50, 60, 'papel')], 100) == (['luz', 'boli', 'vaso', 'papel'], 164.0)"
   ]
  },
  {
   "cell_type": "markdown",
   "metadata": {},
   "source": [
    "# Código Plazo Fijo:"
   ]
  },
  {
   "cell_type": "code",
   "execution_count": 26,
   "metadata": {},
   "outputs": [],
   "source": [
    "def plazo_fijo(lista):\n",
    "    completadas = []\n",
    "    beneficio_total = 0\n",
    "\n",
    "    lista.sort(reverse=True)\n",
    "    for i in range(len(lista)):\n",
    "        if lista[i][1] not in completadas:\n",
    "            completadas.append(lista[i][1])\n",
    "            beneficio_total += lista[i][0]\n",
    "\n",
    "    return beneficio_total\n"
   ]
  },
  {
   "cell_type": "markdown",
   "metadata": {},
   "source": [
    "Código para practicar: $\\downarrow$"
   ]
  },
  {
   "cell_type": "code",
   "execution_count": 13,
   "metadata": {},
   "outputs": [],
   "source": [
    "def plazo_fijo(l):\n",
    "    p, b, i = [], 0, 0\n",
    "    l.sort(reverse = True)\n",
    "    while i < len(l):\n",
    "        if l[i][1] not in p:\n",
    "            b += l[i][0]\n",
    "            p.append(l[i][1])\n",
    "        i += 1\n",
    "    return b"
   ]
  },
  {
   "cell_type": "code",
   "execution_count": 14,
   "metadata": {},
   "outputs": [],
   "source": [
    "assert plazo_fijo([(50, 2), (10, 1), (15, 2), (30, 1)]) == 80"
   ]
  },
  {
   "cell_type": "markdown",
   "metadata": {},
   "source": [
    "# Código Tiempos de Espera:"
   ]
  },
  {
   "cell_type": "code",
   "execution_count": 46,
   "metadata": {},
   "outputs": [],
   "source": [
    "def tiepos_espera(lista):\n",
    "    espera = 0\n",
    "    orden_clientes = []\n",
    "\n",
    "    lista.sort()\n",
    "    for i in range(len(lista)):\n",
    "        espera += lista[i][0] * (len(lista) - i)\n",
    "        orden_clientes.append(lista[i][1])\n",
    "    espera /= len(lista)\n",
    "\n",
    "    return orden_clientes, espera"
   ]
  },
  {
   "cell_type": "markdown",
   "metadata": {},
   "source": [
    "Código para practicar: $\\downarrow$"
   ]
  },
  {
   "cell_type": "code",
   "execution_count": 15,
   "metadata": {},
   "outputs": [],
   "source": [
    "def tiepos_espera(l):\n",
    "    t, c = 0, []\n",
    "    l.sort()\n",
    "    for i in range(len(l)):\n",
    "        t += (l[i][0] * (len(l)-i))\n",
    "        c.append(l[i][1])\n",
    "    return c, t/len(l)"
   ]
  },
  {
   "cell_type": "code",
   "execution_count": 16,
   "metadata": {},
   "outputs": [],
   "source": [
    "assert tiepos_espera([(5, 1), (10, 2), (3, 3)]) == ([3, 1, 2], 9.666666666666666)"
   ]
  },
  {
   "cell_type": "markdown",
   "metadata": {},
   "source": [
    "# Código Kruskal:"
   ]
  },
  {
   "cell_type": "code",
   "execution_count": 3,
   "metadata": {},
   "outputs": [],
   "source": [
    "def actualizar_indices(lista, indice_origen, indice_final):\n",
    "        for i in range(len(lista)):\n",
    "            if indice_origen == lista[i]:\n",
    "                lista[i] = indice_final\n",
    "        return lista\n",
    "\n",
    "\n",
    "def kruskal(lista):\n",
    "    indices = list(range(len(lista)))\n",
    "    cont = len(lista)\n",
    "    coste, i = 0, 0\n",
    "\n",
    "    lista.sort()\n",
    "    while cont > 1 and i < len(lista):\n",
    "        v, o, f = lista[i]\n",
    "\n",
    "        if indices[o] != indices[f]:\n",
    "            coste += v\n",
    "            cont -= 1\n",
    "            actualizar_indices(indices, indices[o], indices[f])\n",
    "        i += 1\n",
    "\n",
    "    return coste"
   ]
  },
  {
   "cell_type": "markdown",
   "metadata": {},
   "source": [
    "Código para practicar: $\\downarrow$"
   ]
  },
  {
   "cell_type": "code",
   "execution_count": 26,
   "metadata": {},
   "outputs": [],
   "source": [
    "def act_ind(l, o, d):\n",
    "    for i in range(len(l)):\n",
    "        if l[i] == o:\n",
    "            l[i] = d\n",
    "    return l\n",
    "\n",
    "\n",
    "def kruskal(l):\n",
    "    ind, cont, c, i = list(range(len(l))), len(l), 0, 0\n",
    "    l.sort()\n",
    "\n",
    "    while cont > 1 and i < len(l):\n",
    "        v, o, d = l[i]\n",
    "        if ind[o] != ind[d]:\n",
    "            c += v\n",
    "            cont -= 1\n",
    "            act_ind(ind, ind[o], ind[d])\n",
    "        i += 1\n",
    "    return c"
   ]
  },
  {
   "cell_type": "code",
   "execution_count": 27,
   "metadata": {},
   "outputs": [],
   "source": [
    "assert kruskal([(67, 0, 1), (75, 0, 4), (48, 1, 5), (60, 1, 6), (38, 2, 5), (58, 3, 7), (34, 3, 9), (19, 4, 5), (137, 4, 6), (55, 4, 7), (76, 4, 8), (8, 4, 9), (111, 5, 7), (33, 6, 8), (4, 6, 9)]) == 306"
   ]
  },
  {
   "cell_type": "markdown",
   "metadata": {},
   "source": [
    "# Código Djikstra:"
   ]
  },
  {
   "cell_type": "code",
   "execution_count": 12,
   "metadata": {},
   "outputs": [],
   "source": [
    "def actualizarDistancia(grafo, vector_distancia, nodo):\n",
    "        for vecino, dist in grafo[nodo].items():\n",
    "            distancia = vector_distancia[nodo] + dist\n",
    "            if distancia < vector_distancia[vecino]:\n",
    "                vector_distancia[vecino] = distancia\n",
    "\n",
    "\n",
    "def djikstra(grafo, nodo_inicial):\n",
    "    distancia = {node: float('inf') for node in grafo}\n",
    "    distancia[nodo_inicial] = 0\n",
    "    visitados = []\n",
    "\n",
    "    while len(visitados) < len(grafo):\n",
    "        prox_nodo = None\n",
    "        for node in grafo:\n",
    "            if node not in visitados:\n",
    "                if prox_nodo is None:\n",
    "                    prox_nodo = node\n",
    "                elif distancia[node] < distancia[prox_nodo]:\n",
    "                    prox_nodo = node\n",
    "\n",
    "        visitados.append(prox_nodo)\n",
    "        actualizarDistancia(grafo, distancia, prox_nodo)\n",
    "\n",
    "    return distancia"
   ]
  },
  {
   "cell_type": "markdown",
   "metadata": {},
   "source": [
    "Código para practicar: $\\downarrow$"
   ]
  },
  {
   "cell_type": "code",
   "execution_count": 15,
   "metadata": {},
   "outputs": [],
   "source": [
    "def update_dist(grafo, list_dist, prox_nodo):\n",
    "    for vecino, dist in grafo[prox_nodo].items():\n",
    "        distancia = list_dist[vecino] + dist\n",
    "        a = list_dist[vecino]\n",
    "        if distancia < a:\n",
    "            list_dist[vecino] = distancia\n",
    "    return list_dist\n",
    "\n",
    "\n",
    "def djikstra(grafo, n_ini):\n",
    "    dist = {node: float('inf') for node in grafo}\n",
    "    dist[n_ini] = 0\n",
    "    visitados = []\n",
    "\n",
    "    while len(visitados) < len(grafo):\n",
    "        prox_nodo = None\n",
    "        for node in grafo:\n",
    "            if node not in visitados:\n",
    "                if prox_nodo is None:\n",
    "                    prox_nodo = node\n",
    "                elif dist[node] < dist[prox_nodo]:\n",
    "                    prox_nodo = node\n",
    "            \n",
    "        visitados.append(prox_nodo)\n",
    "        update_dist(grafo, dist, prox_nodo)\n",
    "\n",
    "    return dist"
   ]
  },
  {
   "cell_type": "code",
   "execution_count": null,
   "metadata": {},
   "outputs": [],
   "source": [
    "assert djikstra({'A': {'B': 1, 'C': 3}, 'B': {'A': 1, 'C': 2, 'D': 5}, 'C': {'A': 4, 'B': 2, 'D': 1}, 'D': {'B': 5, 'C': 1}}, 'A') == {'A': 0, 'B': 1, 'C': 3, 'D': 4}"
   ]
  },
  {
   "cell_type": "markdown",
   "metadata": {},
   "source": [
    "# Código Búsqueda Binaria:"
   ]
  },
  {
   "cell_type": "code",
   "execution_count": 16,
   "metadata": {},
   "outputs": [],
   "source": [
    "def busquedaBinaria(lista, ini, fin, elem):\n",
    "# Descripción: El programa busca un elemento en una lista ordenada y devuelve la posición que ocupa\n",
    "#Programa principal:\n",
    "    if ini <= fin:                                              # Mientras el índice de la derecha de la lista sea mayor que el de la izquierda\n",
    "        medio = (ini + fin) // 2                                # Se calcula la posición intermedia entre los dos índices\n",
    "        if lista[medio] == elem:                                # Si la posición intermedia es el elem. que se busca se devuelve esa posición\n",
    "            return medio\n",
    "        elif lista[medio] > elem:                               # Si el valor de la posición intermedia es mayor que el elem. buscado\n",
    "            return busquedaBinaria(lista, ini, medio-1, elem)   # Se repite el algoritmo buscando únicamente en la primera mitad de la lista\n",
    "        else:                                                   # Si el valor de la posición intermedia es menor que el elem. buscado\n",
    "            return busquedaBinaria(lista, medio+1, fin, elem)   # Se repite el algoritmo buscando únicamente en la segunda mitad de la lista\n",
    "    return -1"
   ]
  },
  {
   "cell_type": "markdown",
   "metadata": {},
   "source": [
    "Código para practicar: $\\downarrow$"
   ]
  },
  {
   "cell_type": "code",
   "execution_count": null,
   "metadata": {},
   "outputs": [],
   "source": []
  },
  {
   "cell_type": "code",
   "execution_count": 20,
   "metadata": {},
   "outputs": [],
   "source": [
    "assert busquedaBinaria(list(range(1, 19)), 0, 18, 9) == 8"
   ]
  }
 ],
 "metadata": {
  "kernelspec": {
   "display_name": "base",
   "language": "python",
   "name": "python3"
  },
  "language_info": {
   "codemirror_mode": {
    "name": "ipython",
    "version": 3
   },
   "file_extension": ".py",
   "mimetype": "text/x-python",
   "name": "python",
   "nbconvert_exporter": "python",
   "pygments_lexer": "ipython3",
   "version": "3.10.11"
  }
 },
 "nbformat": 4,
 "nbformat_minor": 2
}
