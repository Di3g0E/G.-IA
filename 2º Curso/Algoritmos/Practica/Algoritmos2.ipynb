{
 "cells": [
  {
   "cell_type": "markdown",
   "metadata": {},
   "source": [
    "# Examen 2 - Algoritmos"
   ]
  },
  {
   "cell_type": "markdown",
   "metadata": {},
   "source": [
    "## Backtraking:"
   ]
  },
  {
   "cell_type": "markdown",
   "metadata": {},
   "source": [
    "### Código nDamas:"
   ]
  },
  {
   "cell_type": "code",
   "execution_count": 1,
   "metadata": {},
   "outputs": [],
   "source": [
    "def inicializar(n):\n",
    "    return ['o'] * n\n",
    "\n",
    "\n",
    "def inicializar1(n):\n",
    "    tablero = []\n",
    "    for i in range(n):\n",
    "        tablero.append(['o']*n)\n",
    "    return tablero\n",
    "\n",
    "\n",
    "def damaEnColumna(sol, fila, col): # if col in f\n",
    "    encontrada = False\n",
    "    f = 0\n",
    "    while not encontrada and f < fila:\n",
    "        encontrada = sol[f] == col\n",
    "        f += 1\n",
    "    return encontrada\n",
    "\n",
    "\n",
    "def damaEnDiagonal1(sol, fila, col):\n",
    "    encontrada = False\n",
    "    f = 0\n",
    "    while not encontrada and f < fila:\n",
    "        encontrada = sol[f] - f == col - fila\n",
    "        f += 1\n",
    "    return encontrada\n",
    "\n",
    "\n",
    "def damaEnDiagonal2(sol, fila, col):\n",
    "    encontrada = False\n",
    "    f = 0\n",
    "    while not encontrada and f < fila:\n",
    "        encontrada = sol[f] + f == col + fila\n",
    "        f += 1\n",
    "    return encontrada\n",
    "\n",
    "\n",
    "def esFactible(sol, fila, col):\n",
    "    return not (damaEnColumna(sol, fila, col) or damaEnDiagonal1(sol, fila, col) or damaEnDiagonal2(sol, fila, col))\n",
    "\n",
    "\n",
    "def nDamas(sol, fila):\n",
    "    N = len(sol)\n",
    "    if fila == N:\n",
    "        esSol = True\n",
    "    else:\n",
    "        esSol = False\n",
    "\n",
    "    col = 0\n",
    "    while not esSol and col < N:\n",
    "        if esFactible(sol, fila, col):\n",
    "            sol[fila] = col\n",
    "            sol, esSol = nDamas(sol, fila + 1)\n",
    "        col += 1\n",
    "    if not esSol:\n",
    "        sol[fila] = -1\n",
    "\n",
    "    return sol, esSol\n",
    "\n",
    "\n",
    "def imprimir(tablero):\n",
    "    for i in range(len(tablero)):\n",
    "        for j in range(len(tablero)):\n",
    "            if tablero[i] == j:\n",
    "                print(\"\\u2655\\t\", end ='')\n",
    "            else:\n",
    "                print('o\\t', end ='')\n",
    "        print()"
   ]
  },
  {
   "cell_type": "markdown",
   "metadata": {},
   "source": [
    "Código para practicar: $\\downarrow$"
   ]
  },
  {
   "cell_type": "code",
   "execution_count": null,
   "metadata": {},
   "outputs": [],
   "source": []
  },
  {
   "cell_type": "code",
   "execution_count": null,
   "metadata": {},
   "outputs": [],
   "source": [
    "assert nDamas(sol, fila) == ([1, 3, 5, 0, 2, 4], True)      # La lista indica las posiciones de las damas en cada fila\n",
    "\n",
    "# Imprime la matriz:\n",
    "sol, esSol = nDamas(inicializar(6), 0)\n",
    "imprimir(sol) if esSol else print('No se ha encontrado solucion.\\n')"
   ]
  },
  {
   "cell_type": "markdown",
   "metadata": {},
   "source": [
    "### Código Laberinto:"
   ]
  },
  {
   "cell_type": "code",
   "execution_count": 29,
   "metadata": {},
   "outputs": [],
   "source": [
    "import copy\n",
    "\n",
    "\n",
    "def esSolucion(lab, f, c):\n",
    "    return f == len(lab)-1 and c == len(lab)-1\n",
    "\n",
    "\n",
    "def esMejor(lab, mejorSol):\n",
    "    n, m = len(lab) - 1, len(lab) - 1\n",
    "    return lab[n][m] < mejorSol[n][m]\n",
    "\n",
    "\n",
    "def esFactible(lab, f, c):\n",
    "    return 0 <= f < len(lab) and 0 <= c <len(lab) and lab[f][c] == 0\n",
    "\n",
    "\n",
    "def laberintoVA(lab, mejorSol, fil, col, cont):\n",
    "    if esSolucion(lab, fil, col):\n",
    "        if esMejor(lab, mejorSol):\n",
    "            mejorSol = copy.deepcopy(lab)\n",
    "        else:\n",
    "            desp = [[0,1], [1,0], [0,-1], [-1, 0]]         # Posibles desplazamientos\n",
    "            for d in desp:\n",
    "                newF = fil + desp[0]\n",
    "                newC = col + desp[1]\n",
    "                if esFactible(lab, newF, newC):\n",
    "                    lab[newF][newC] = cont\n",
    "                    mejorSol = laberintoVA(lab, newF, newC, cont+1)\n",
    "                    lab[newF][newC] = 0\n",
    "\n",
    "        return mejorSol"
   ]
  },
  {
   "cell_type": "markdown",
   "metadata": {},
   "source": [
    "Código para practicar: $\\downarrow$"
   ]
  },
  {
   "cell_type": "code",
   "execution_count": null,
   "metadata": {},
   "outputs": [],
   "source": []
  },
  {
   "cell_type": "code",
   "execution_count": null,
   "metadata": {},
   "outputs": [],
   "source": []
  }
 ],
 "metadata": {
  "kernelspec": {
   "display_name": "Python 3",
   "language": "python",
   "name": "python3"
  },
  "language_info": {
   "codemirror_mode": {
    "name": "ipython",
    "version": 3
   },
   "file_extension": ".py",
   "mimetype": "text/x-python",
   "name": "python",
   "nbconvert_exporter": "python",
   "pygments_lexer": "ipython3",
   "version": "3.10.11"
  }
 },
 "nbformat": 4,
 "nbformat_minor": 2
}
