{
 "cells": [
  {
   "cell_type": "code",
   "execution_count": 94,
   "metadata": {},
   "outputs": [],
   "source": [
    "from scipy.optimize import linprog\n",
    "import numpy as np"
   ]
  },
  {
   "attachments": {
    "Tabla Max-Min.gif": {
     "image/gif": "[encoded data removed]"
    }
   },
   "cell_type": "markdown",
   "metadata": {},
   "source": [
    "![Tabla Max-Min.gif](<attachment:Tabla Max-Min.gif>)"
   ]
  },
  {
   "cell_type": "markdown",
   "metadata": {},
   "source": [
    "# Ejercicio 1"
   ]
  },
  {
   "cell_type": "markdown",
   "metadata": {},
   "source": [
    "### Primal:\n",
    "    Min Z = 7x1 + x2 + 5x3 \n",
    "    Subject to:   \n",
    "    x1 -  x2 + 3x3 >= 10 <=> -x1 +  x2 - 3x3 <= -10 \n",
    "    5x1 + 2x2 - x3 >= 6 <=> -5x1 - 2x2 + x3 <= -6\n",
    "    x1,   x2,  x3 >= 0 "
   ]
  },
  {
   "cell_type": "markdown",
   "metadata": {},
   "source": [
    "Calculamos el resultado del problema primal para compararlo con el resultado del problema dual y ver si está bien resuelto.\n",
    "\n",
    "Como las inequaciones tienen el signo `'>='` tenemos que multiplicar por `'-1'` para cambiar el signo (`<=`)"
   ]
  },
  {
   "cell_type": "code",
   "execution_count": 75,
   "metadata": {},
   "outputs": [],
   "source": [
    "# Primal\n",
    "obj_p_ej1 = [7, 1, 5]\n",
    "lhs_ineq_p_ej1 = [[-1, 1, -3], [-5, -2, 1]]\n",
    "rhs_ineq_p_ej1 = [-10, -6]\n",
    "bnd_p_ej1 = [(0,float('inf')), (0,float('inf')), (0,float('inf'))]\n",
    "\n",
    "opt_p_ej1 = linprog(c=obj_p_ej1, A_ub=lhs_ineq_p_ej1, b_ub=rhs_ineq_p_ej1, bounds=bnd_p_ej1)"
   ]
  },
  {
   "cell_type": "code",
   "execution_count": 76,
   "metadata": {},
   "outputs": [
    {
     "name": "stdout",
     "output_type": "stream",
     "text": [
      "26.0\n",
      "True\n",
      "[1.75 0.   2.75] \n",
      "\n"
     ]
    }
   ],
   "source": [
    "print(opt_p_ej1.fun)          # 25.999999903497027\n",
    "print(opt_p_ej1.success)      # True\n",
    "print(opt_p_ej1.x, '\\n')      # [1.74999999e+00 1.85667727e-08 2.74999999e+00]"
   ]
  },
  {
   "cell_type": "markdown",
   "metadata": {},
   "source": [
    "### Dual:\n",
    "    Max Z = 10y1 + 6y2\n",
    "    Subject to: \n",
    "    y1 + 5y2 <= 7\n",
    "    -y1 + 2y2 <= 1\n",
    "    3y1 -  y2 <= 5\n",
    "    y1, y2 <= 0"
   ]
  },
  {
   "cell_type": "markdown",
   "metadata": {},
   "source": [
    "Calculamos el resultado del problema dual y comparamos resultados.\n",
    "\n",
    "Hacemos la traspuesta de las inequaciones para poder calcular el dual y cambiamos el signo debido al cambio de signo como en el problema primal."
   ]
  },
  {
   "cell_type": "code",
   "execution_count": 77,
   "metadata": {},
   "outputs": [],
   "source": [
    "# Dual\n",
    "obj_d_ej1 = rhs_ineq_p_ej1\n",
    "lhs_ineq_d_ej1 = np.transpose(lhs_ineq_p_ej1)\n",
    "lhs_ineq_d_n_ej1 = np.negative(lhs_ineq_d_ej1)\n",
    "rhs_ineq_d_ej1 = obj_p_ej1\n",
    "bnd_d_ej1 = [(0,float('inf')), (0,float('inf'))]\n",
    "\n",
    "opt_d_ej1 = linprog(c = obj_d_ej1, A_ub = lhs_ineq_d_n_ej1, b_ub = rhs_ineq_d_ej1, bounds=bnd_d_ej1)"
   ]
  },
  {
   "cell_type": "code",
   "execution_count": 78,
   "metadata": {},
   "outputs": [
    {
     "name": "stdout",
     "output_type": "stream",
     "text": [
      "-26.0\n",
      "True\n",
      "[2. 1.]\n"
     ]
    }
   ],
   "source": [
    "print(opt_d_ej1.fun)          # -25.9999999215443\n",
    "print(opt_d_ej1.success)      # True\n",
    "print(opt_d_ej1.x)            # [1.99999999 1.        ]"
   ]
  },
  {
   "cell_type": "markdown",
   "metadata": {},
   "source": [
    "Podemos ver que el resultado es el mismo pero con signo negativo (-26), lo que es lo mismo debido a que estamos maximizando."
   ]
  },
  {
   "cell_type": "markdown",
   "metadata": {},
   "source": [
    "# Ejercicio 2"
   ]
  },
  {
   "cell_type": "markdown",
   "metadata": {},
   "source": [
    "### Primal:\n",
    "    Max Z = 40x1 + 18x2\n",
    "    Subject to:   \n",
    "    16x1 + 2x2 <= 700\n",
    "    6x1 +  3x2 <= 612\n",
    "    3x1 <= 80\n",
    "    4x2 <= 120\n",
    "    x1, x2 <= 0"
   ]
  },
  {
   "cell_type": "markdown",
   "metadata": {},
   "source": [
    "Calculamos el resultado del problema primal para compararlo con el resultado del problema dual y ver si está bien resuelto."
   ]
  },
  {
   "cell_type": "code",
   "execution_count": 92,
   "metadata": {},
   "outputs": [],
   "source": [
    "# Primal\n",
    "obj_p_ej2 = [2, 4, 3]\n",
    "lhs_ineq_p_ej2 = [[3, 4, 2], [2, 1, 2], [1, 3, 2]]\n",
    "rhs_ineq_p_ej2 = [60, 40, 80]\n",
    "bnd_p_ej2 = [(0,float('inf')), (0,float('inf')), (0,float('inf'))]\n",
    "\n",
    "opt_p_ej2 = linprog(c=obj_p_ej2, A_ub=lhs_ineq_p_ej2, b_ub=rhs_ineq_p_ej2, bounds=bnd_p_ej2)"
   ]
  },
  {
   "cell_type": "code",
   "execution_count": 87,
   "metadata": {},
   "outputs": [
    {
     "name": "stdout",
     "output_type": "stream",
     "text": [
      "0.0\n",
      "True\n",
      "[0. 0. 0.] \n",
      "\n"
     ]
    }
   ],
   "source": [
    "print(opt_p_ej2.fun)          # 0.0\n",
    "print(opt_p_ej2.success)      # True\n",
    "print(opt_p_ej2.x, '\\n')      # [0. 0. 0.]"
   ]
  },
  {
   "cell_type": "markdown",
   "metadata": {},
   "source": [
    "### Dual:\n",
    "    Min Z = 700y1 + 612y2 + 80y3 + 120y4\n",
    "    Subject to: \n",
    "    16y1 + 6y2 + 3y3 >= 40\n",
    "    2y1 + 3y2 + 4y4 >= 18\n",
    "    y1, y2, y3, y4 >= 0"
   ]
  },
  {
   "cell_type": "markdown",
   "metadata": {},
   "source": [
    "Partimos del problema dual y tenemos que calcular el primal."
   ]
  },
  {
   "cell_type": "code",
   "execution_count": 96,
   "metadata": {},
   "outputs": [],
   "source": [
    "# Dual\n",
    "obj_d_ej3 = [700, 612, 80, 120]\n",
    "lhs_ineq_d_ej3 = [[-16, -6, -3, 0], [-2, -3, 0, -4]]\n",
    "rhs_ineq_d_ej3 = [-40, 18]\n",
    "bnd_d_ej3 = [(0, float('inf')), (0, float('inf')), (0, float('inf')), (0, float('inf'))]\n",
    "\n",
    "opt_d_ej3 = linprog(c = obj_d_ej3, A_ub = lhs_ineq_d_ej3, b_ub = rhs_ineq_d_ej3, bounds=bnd_d_ej3)"
   ]
  },
  {
   "cell_type": "code",
   "execution_count": 97,
   "metadata": {},
   "outputs": [
    {
     "name": "stdout",
     "output_type": "stream",
     "text": [
      "1066.6666666666667\n",
      "True\n",
      "[ 0.          0.         13.33333333  0.        ]\n"
     ]
    }
   ],
   "source": [
    "print(opt_d_ej3.fun)          # 1066.6666666666667\n",
    "print(opt_d_ej3.success)      # True\n",
    "print(opt_d_ej3.x)            # [ 0.          0.         13.33333333  0.        ]"
   ]
  },
  {
   "cell_type": "markdown",
   "metadata": {},
   "source": [
    "Podemos ver que el resultado es el mismo (0)."
   ]
  },
  {
   "cell_type": "markdown",
   "metadata": {},
   "source": []
  },
  {
   "cell_type": "markdown",
   "metadata": {},
   "source": [
    "# Ejercicio 3"
   ]
  },
  {
   "cell_type": "markdown",
   "metadata": {},
   "source": [
    "### Dual:\n",
    "    Max Z = 700y1 + 612y2 + 80y3 + 120y4\n",
    "    Subject to:   \n",
    "    16y1 + 6y2 + 3y3 >= 40\n",
    "    2y1 + 3y2 + 4y4 >= 18\n",
    "    y1, y2, y3, y4 >= 0"
   ]
  },
  {
   "cell_type": "markdown",
   "metadata": {},
   "source": [
    "Calculamos el resultado del problema primal para compararlo con el resultado del problema dual y ver si está bien resuelto."
   ]
  },
  {
   "cell_type": "code",
   "execution_count": null,
   "metadata": {},
   "outputs": [],
   "source": [
    "# Primal\n",
    "obj_p_ej2 = [700, 612, 80, 120]\n",
    "lhs_ineq_p_ej2 = [[-16, -2], [-6, -3], [-3, 0], [0, -4]]\n",
    "rhs_ineq_p_ej2 = [-40, -18]\n",
    "bnd_p_ej2 = [(0,float('inf')), (0,float('inf')), (0,float('inf'))]\n",
    "\n",
    "opt_p_ej2 = linprog(c=obj_p_ej2, A_ub=lhs_ineq_p_ej2, b_ub=rhs_ineq_p_ej2, bounds=bnd_p_ej2)"
   ]
  },
  {
   "cell_type": "code",
   "execution_count": null,
   "metadata": {},
   "outputs": [
    {
     "name": "stdout",
     "output_type": "stream",
     "text": [
      "0.0\n",
      "True\n",
      "[0. 0. 0.] \n",
      "\n"
     ]
    }
   ],
   "source": [
    "print(opt_p_ej2.fun)          # 0.0\n",
    "print(opt_p_ej2.success)      # True\n",
    "print(opt_p_ej2.x, '\\n')      # [0. 0. 0.]"
   ]
  }
 ],
 "metadata": {
  "kernelspec": {
   "display_name": "base",
   "language": "python",
   "name": "python3"
  },
  "language_info": {
   "codemirror_mode": {
    "name": "ipython",
    "version": 3
   },
   "file_extension": ".py",
   "mimetype": "text/x-python",
   "name": "python",
   "nbconvert_exporter": "python",
   "pygments_lexer": "ipython3",
   "version": "3.11.5"
  }
 },
 "nbformat": 4,
 "nbformat_minor": 2
}
