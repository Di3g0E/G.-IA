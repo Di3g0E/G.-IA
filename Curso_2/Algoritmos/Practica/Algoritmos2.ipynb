{
 "cells": [
  {
   "cell_type": "markdown",
   "metadata": {},
   "source": [
    "# Examen 2 - Algoritmos"
   ]
  },
  {
   "cell_type": "markdown",
   "metadata": {},
   "source": [
    "## Backtraking:"
   ]
  },
  {
   "cell_type": "markdown",
   "metadata": {},
   "source": [
    "### Código nDamas:"
   ]
  },
  {
   "cell_type": "code",
   "execution_count": 14,
   "metadata": {},
   "outputs": [],
   "source": [
    "def inicializar(n):\n",
    "    return ['o'] * n\n",
    "\n",
    "\n",
    "def damaEnColumna(sol, fila, col): # if col in f\n",
    "    encontrada = False\n",
    "    f = 0\n",
    "    while not encontrada and f < fila:\n",
    "        encontrada = sol[f] == col\n",
    "        f += 1\n",
    "    return encontrada\n",
    "\n",
    "\n",
    "def damaEnDiagonal1(sol, fila, col):\n",
    "    encontrada = False\n",
    "    f = 0\n",
    "    while not encontrada and f < fila:\n",
    "        encontrada = sol[f] - f == col - fila\n",
    "        f += 1\n",
    "    return encontrada\n",
    "\n",
    "\n",
    "def damaEnDiagonal2(sol, fila, col):\n",
    "    encontrada = False\n",
    "    f = 0\n",
    "    while not encontrada and f < fila:\n",
    "        encontrada = sol[f] + f == col + fila\n",
    "        f += 1\n",
    "    return encontrada\n",
    "\n",
    "\n",
    "def esFactible(sol, fila, col):\n",
    "    return not (damaEnColumna(sol, fila, col) or damaEnDiagonal1(sol, fila, col) or damaEnDiagonal2(sol, fila, col))\n",
    "\n",
    "\n",
    "def nDamas(sol, fila):\n",
    "    N = len(sol)\n",
    "    if fila == N:\n",
    "        esSol = True\n",
    "    else:\n",
    "        esSol = False\n",
    "\n",
    "    col = 0\n",
    "    while not esSol and col < N:\n",
    "        if esFactible(sol, fila, col):\n",
    "            sol[fila] = col\n",
    "            sol, esSol = nDamas(sol, fila + 1)\n",
    "        col += 1\n",
    "    if not esSol:\n",
    "        sol[fila] = -1\n",
    "\n",
    "    return sol, esSol\n",
    "\n",
    "\n",
    "def imprimir(tablero):\n",
    "    for i in range(len(tablero)):\n",
    "        for j in range(len(tablero)):\n",
    "            if tablero[i] == j:\n",
    "                print(\"\\u2655\\t\", end ='')\n",
    "            else:\n",
    "                print('o\\t', end ='')\n",
    "        print()"
   ]
  },
  {
   "cell_type": "markdown",
   "metadata": {},
   "source": [
    "Código para practicar: $\\downarrow$"
   ]
  },
  {
   "cell_type": "code",
   "execution_count": 25,
   "metadata": {},
   "outputs": [],
   "source": [
    "def damaEnLimite(sol, fila, col, op):\n",
    "    encontrada = False\n",
    "    f = 0\n",
    "    while not encontrada and f < fila:\n",
    "        if op == 'col':\n",
    "            encontrada = sol[f] == col\n",
    "            f += 1\n",
    "        elif op == 'diag1':\n",
    "            encontrada = sol[f] + f == col + fila\n",
    "            f += 1\n",
    "        else:\n",
    "            encontrada = sol[f] - f == col - fila\n",
    "            f += 1\n",
    "    return encontrada\n",
    "\n",
    "\n",
    "def esFactible(sol, fila, col):\n",
    "    return not (damaEnLimite(sol, fila, col, 'col') or damaEnLimite(sol, fila, col, 'diag1') or damaEnLimite(sol, fila, col, 'diag2'))\n",
    "\n",
    "\n",
    "def nDamas(sol, fila):\n",
    "    N = len(sol)\n",
    "    col = 0\n",
    "    esSol = False\n",
    "    if fila == N:\n",
    "        esSol = True\n",
    "    \n",
    "    while not esSol and col < N:\n",
    "        if esFactible(sol, fila, col):\n",
    "            sol[fila] = col\n",
    "            sol, esSol = nDamas(sol, fila + 1)\n",
    "        col += 1\n",
    "    if not esSol:\n",
    "        sol[fila] = -1\n",
    "    \n",
    "    return sol, esSol\n",
    "\n",
    "\n",
    "\n",
    "def inicializar(n):\n",
    "    return [['o'] * n] * n\n",
    "\n",
    "def imprimir(tablero):\n",
    "    for i in range(len(tablero)):\n",
    "        for j in range(len(tablero)):\n",
    "            if tablero[i] == j:\n",
    "                print(\"\\u2655\\t\", end ='')\n",
    "            else:\n",
    "                print('o\\t', end ='')\n",
    "        print()"
   ]
  },
  {
   "cell_type": "markdown",
   "metadata": {},
   "source": [
    "def "
   ]
  },
  {
   "cell_type": "code",
   "execution_count": 26,
   "metadata": {},
   "outputs": [
    {
     "name": "stdout",
     "output_type": "stream",
     "text": [
      "o\t♕\to\to\to\to\t\n",
      "o\to\to\t♕\to\to\t\n",
      "o\to\to\to\to\t♕\t\n",
      "♕\to\to\to\to\to\t\n",
      "o\to\t♕\to\to\to\t\n",
      "o\to\to\to\t♕\to\t\n"
     ]
    }
   ],
   "source": [
    "assert nDamas(['o'] * 6, 0) == ([1, 3, 5, 0, 2, 4], True)      # La lista indica las posiciones de las damas en cada fila\n",
    "\n",
    "# Imprime la matriz:\n",
    "sol, esSol = nDamas(inicializar(6), 0)\n",
    "imprimir(sol) if esSol else print('No se ha encontrado solucion.\\n')"
   ]
  },
  {
   "cell_type": "markdown",
   "metadata": {},
   "source": [
    "### Código Laberinto: `Tiene fallos`"
   ]
  },
  {
   "cell_type": "code",
   "execution_count": 4,
   "metadata": {},
   "outputs": [
    {
     "ename": "NameError",
     "evalue": "name 'labVA' is not defined",
     "output_type": "error",
     "traceback": [
      "\u001b[1;31m---------------------------------------------------------------------------\u001b[0m",
      "\u001b[1;31mNameError\u001b[0m                                 Traceback (most recent call last)",
      "\u001b[1;32mc:\\Users\\Diego\\OneDrive - Universidad Rey Juan Carlos\\Documentos\\GIA_URJC\\Curso 2023-24\\G.-IA\\Curso_2\\Algoritmos\\Practica\\Algoritmos2.ipynb Cell 9\u001b[0m line \u001b[0;36m3\n\u001b[0;32m     <a href='vscode-notebook-cell:/c%3A/Users/Diego/OneDrive%20-%20Universidad%20Rey%20Juan%20Carlos/Documentos/GIA_URJC/Curso%202023-24/G.-IA/Curso_2/Algoritmos/Practica/Algoritmos2.ipynb#X11sZmlsZQ%3D%3D?line=28'>29</a>\u001b[0m k \u001b[39m=\u001b[39m \u001b[39m1\u001b[39m\n\u001b[0;32m     <a href='vscode-notebook-cell:/c%3A/Users/Diego/OneDrive%20-%20Universidad%20Rey%20Juan%20Carlos/Documentos/GIA_URJC/Curso%202023-24/G.-IA/Curso_2/Algoritmos/Practica/Algoritmos2.ipynb#X11sZmlsZQ%3D%3D?line=30'>31</a>\u001b[0m lab[f][c] \u001b[39m=\u001b[39m k\n\u001b[1;32m---> <a href='vscode-notebook-cell:/c%3A/Users/Diego/OneDrive%20-%20Universidad%20Rey%20Juan%20Carlos/Documentos/GIA_URJC/Curso%202023-24/G.-IA/Curso_2/Algoritmos/Practica/Algoritmos2.ipynb#X11sZmlsZQ%3D%3D?line=31'>32</a>\u001b[0m mejorSol \u001b[39m=\u001b[39m labVA(lab, mejorSol, f,c, k \u001b[39m+\u001b[39m \u001b[39m1\u001b[39m)\n",
      "\u001b[1;31mNameError\u001b[0m: name 'labVA' is not defined"
     ]
    }
   ],
   "source": [
    "import copy\n",
    "\n",
    "\n",
    "def esSolucion(lab, f, c):\n",
    "    return f == len(lab)-1 and c == len(lab)-1\n",
    "\n",
    "\n",
    "def esMejor(lab, mejorSol):\n",
    "    n, m = len(lab) - 1, len(lab) - 1\n",
    "    return lab[n][m] < mejorSol[n][m]\n",
    "\n",
    "\n",
    "def esFactible(lab, f, c):\n",
    "    return 0 <= f < len(lab) and 0 <= c <len(lab) and lab[f][c] == 0\n",
    "\n",
    "\n",
    "def laberintoVA(lab, mejorSol, fil, col, cont):\n",
    "    if esSolucion(lab, fil, col):\n",
    "        if esMejor(lab, mejorSol):\n",
    "            mejorSol = copy.deepcopy(lab)\n",
    "        else:\n",
    "            desp = [[0,1], [1,0], [0,-1], [-1, 0]]         # Posibles desplazamientos\n",
    "            for d in desp:\n",
    "                newF = fil + desp[0]\n",
    "                newC = col + desp[1]\n",
    "                if esFactible(lab, newF, newC):\n",
    "                    lab[newF][newC] = cont\n",
    "                    mejorSol = laberintoVA(lab, newF, newC, cont+1)\n",
    "                    lab[newF][newC] = 0\n",
    "\n",
    "        return mejorSol"
   ]
  },
  {
   "cell_type": "markdown",
   "metadata": {},
   "source": [
    "Código para practicar: $\\downarrow$"
   ]
  },
  {
   "cell_type": "code",
   "execution_count": 7,
   "metadata": {},
   "outputs": [
    {
     "name": "stdout",
     "output_type": "stream",
     "text": [
      "None\n"
     ]
    }
   ],
   "source": [
    "import copy\n",
    "from math import inf\n",
    "\n",
    "def inicializarLab():\n",
    "    F = 10\n",
    "    C = 10\n",
    "    fila = [0] * C\n",
    "    lab = []\n",
    "    for i in range(F):\n",
    "        lab.append(fila[:])\n",
    "    paredes = [[0, 2], [0, 7],[1, 0], [1, 2], [1, 5], [1, 6], [1, 8],[2,6],[2,8],[3,1],[3,4],[3,5],[3,6],[4,2],[4,3],[4,7],[5,5],[5,7],[6,0],[6,3],[6,4],[6,7],[6,9],[7,1],[7,2],[7,8],[7,9],[8,2],[8,4],[8,5]]\n",
    "    for i in range(len(paredes)):\n",
    "        lab[paredes[i][0]][paredes[i][1]] = inf\n",
    "    return lab\n",
    "\n",
    "def inicializarMejorSol(lab):\n",
    "    mejorSol = copy.deepcopy(lab)\n",
    "    mejorSol[len(lab) - 1][len(lab[0]) - 1] = inf\n",
    "    return mejorSol\n",
    "\n",
    "\n",
    "def laberintoVA(lab, mejorSol, fil, col, cont):\n",
    "    if esSolucion(lab, fil, col):\n",
    "        if esMejor(lab, mejorSol):\n",
    "            mejorSol = copy.deepcopy(lab)\n",
    "        else:\n",
    "            desp = [[0,1], [1,0], [0,-1], [-1, 0]]         # Posibles desplazamientos\n",
    "            for d in desp:\n",
    "                newF = fil + desp[0]\n",
    "                newC = col + desp[1]\n",
    "                if esFactible(lab, newF, newC):\n",
    "                    lab[newF][newC] = cont\n",
    "                    mejorSol = laberintoVA(lab, newF, newC, cont+1)\n",
    "                    lab[newF][newC] = 0\n",
    "\n",
    "        return mejorSol\n",
    "\n",
    "\n",
    "\n",
    "\n",
    "#Laberinto\n",
    "lab = inicializarLab()\n",
    "mejorSol = inicializarMejorSol(lab)\n",
    "f = 0\n",
    "c = 0\n",
    "k = 1\n",
    "\n",
    "lab[f][c] = k\n",
    "mejorSol = laberintoVA(lab, mejorSol, f,c, k + 1)\n",
    "print(mejorSol)"
   ]
  },
  {
   "cell_type": "code",
   "execution_count": null,
   "metadata": {},
   "outputs": [],
   "source": []
  },
  {
   "cell_type": "markdown",
   "metadata": {},
   "source": [
    "### Código Coloreado de Grafos:"
   ]
  },
  {
   "cell_type": "code",
   "execution_count": 8,
   "metadata": {},
   "outputs": [],
   "source": [
    "\n",
    "\n",
    "def inicializarGrafo():\n",
    "    return [[1, 1, 1, 1], [1, 1, 0, 0], [1, 0, 1, 1], [1, 0, 1, 1]]\n",
    "\n",
    "\n",
    "\n",
    "def inicializarSol(grafo):\n",
    "    return [0] * len(grafo)\n",
    "\n",
    "\n",
    "def esSol(sol, nodo):\n",
    "    return nodo == len(sol)\n",
    "\n",
    "\n",
    "def esFactible(grafo, sol, nodo, color):\n",
    "    i, factible = 0, True\n",
    "    while i < nodo and factible:\n",
    "        if grafo[nodo][i] == 1:         # Son adyacentes\n",
    "            factible = color != sol[i]  # deben tener colores distintos\n",
    "        i += 1\n",
    "    return factible\n",
    "\n",
    "\n",
    "def colorearGrafoVA(grafo, sol, nodo, m):\n",
    "    if esSol(sol, nodo):\n",
    "        print(sol)\n",
    "    else:\n",
    "        color = 1\n",
    "        while color <= m:\n",
    "            if esFactible(grafo, sol, nodo, color):\n",
    "                sol[nodo] = color\n",
    "                colorearGrafoVA(grafo, sol, nodo + 1, m)  # Incrementar el índice del nodo\n",
    "            color += 1\n"
   ]
  },
  {
   "cell_type": "markdown",
   "metadata": {},
   "source": [
    "Código para practicar: $\\downarrow$"
   ]
  },
  {
   "cell_type": "code",
   "execution_count": null,
   "metadata": {},
   "outputs": [],
   "source": []
  },
  {
   "cell_type": "code",
   "execution_count": 9,
   "metadata": {},
   "outputs": [
    {
     "name": "stdout",
     "output_type": "stream",
     "text": [
      "[1, 2, 2, 3]\n",
      "[1, 2, 3, 2]\n",
      "[1, 3, 2, 3]\n",
      "[1, 3, 3, 2]\n",
      "[2, 1, 1, 3]\n",
      "[2, 1, 3, 1]\n",
      "[2, 3, 1, 3]\n",
      "[2, 3, 3, 1]\n",
      "[3, 1, 1, 2]\n",
      "[3, 1, 2, 1]\n",
      "[3, 2, 1, 2]\n",
      "[3, 2, 2, 1]\n"
     ]
    }
   ],
   "source": [
    "grafo = inicializarGrafo()\n",
    "m = 3                           # num de colores disponibles\n",
    "sol = inicializarSol(grafo)\n",
    "colorearGrafoVA(grafo, sol, 0, m)"
   ]
  },
  {
   "cell_type": "markdown",
   "metadata": {},
   "source": [
    "### Código Ciclos Hamiltonianos:"
   ]
  },
  {
   "cell_type": "code",
   "execution_count": 10,
   "metadata": {},
   "outputs": [],
   "source": [
    "def inicializarGrafo():\n",
    "    return [[0, 1, 0, 1, 1],\n",
    "            [1, 0, 1, 0, 0],\n",
    "            [0, 1, 0, 1, 1],\n",
    "            [1, 0, 1, 0, 1],\n",
    "            [1, 0, 1, 1, 0]]\n",
    "\n",
    "\n",
    "def esSol(sol, grafo):\n",
    "    return len(sol) == len(grafo) and grafo[sol[0]][sol[-1]] == 1\n",
    "\n",
    "\n",
    "def esFactible(sol, grafo, vertice):\n",
    "    return (vertice not in sol) and grafo[sol[-1]][vertice] == 1\n",
    "\n",
    "\n",
    "def ciclosVA(sol, grafo, nodo):\n",
    "    if esSol(sol, grafo):\n",
    "        print(sol)\n",
    "    else:\n",
    "        vertice = 0\n",
    "        while vertice < len(grafo):\n",
    "            if esFactible(sol, grafo, vertice):\n",
    "                sol.append(vertice)\n",
    "                ciclosVA(sol, grafo, nodo + 1)\n",
    "                del sol[-1]\n",
    "            vertice += 1"
   ]
  },
  {
   "cell_type": "markdown",
   "metadata": {},
   "source": [
    "Código para practicar: $\\downarrow$"
   ]
  },
  {
   "cell_type": "code",
   "execution_count": null,
   "metadata": {},
   "outputs": [],
   "source": []
  },
  {
   "cell_type": "code",
   "execution_count": 11,
   "metadata": {},
   "outputs": [
    {
     "name": "stdout",
     "output_type": "stream",
     "text": [
      "[0, 1, 2, 3, 4]\n",
      "[0, 1, 2, 4, 3]\n",
      "[0, 3, 4, 2, 1]\n",
      "[0, 4, 3, 2, 1]\n"
     ]
    }
   ],
   "source": [
    "grafo = inicializarGrafo()\n",
    "origen = 0\n",
    "sol = [origen]\n",
    "ciclosVA(sol, grafo, 1)"
   ]
  }
 ],
 "metadata": {
  "kernelspec": {
   "display_name": "Python 3",
   "language": "python",
   "name": "python3"
  },
  "language_info": {
   "codemirror_mode": {
    "name": "ipython",
    "version": 3
   },
   "file_extension": ".py",
   "mimetype": "text/x-python",
   "name": "python",
   "nbconvert_exporter": "python",
   "pygments_lexer": "ipython3",
   "version": "3.10.11"
  }
 },
 "nbformat": 4,
 "nbformat_minor": 2
}
