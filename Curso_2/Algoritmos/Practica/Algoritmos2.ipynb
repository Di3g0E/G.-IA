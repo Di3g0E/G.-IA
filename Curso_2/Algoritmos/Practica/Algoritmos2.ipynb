{
 "cells": [
  {
   "cell_type": "markdown",
   "metadata": {},
   "source": [
    "# Examen 2 - Algoritmos"
   ]
  },
  {
   "cell_type": "markdown",
   "metadata": {},
   "source": [
    "## Backtraking:"
   ]
  },
  {
   "cell_type": "markdown",
   "metadata": {},
   "source": [
    "### Código nDamas:"
   ]
  },
  {
   "cell_type": "code",
   "execution_count": 6,
   "metadata": {},
   "outputs": [],
   "source": [
    "def inicializar(n):\n",
    "    return ['o'] * n\n",
    "\n",
    "\n",
    "def inicializar1(n):\n",
    "    tablero = []\n",
    "    for i in range(n):\n",
    "        tablero.append(['o']*n)\n",
    "    return tablero\n",
    "\n",
    "\n",
    "def damaEnColumna(sol, fila, col): # if col in f\n",
    "    encontrada = False\n",
    "    f = 0\n",
    "    while not encontrada and f < fila:\n",
    "        encontrada = sol[f] == col\n",
    "        f += 1\n",
    "    return encontrada\n",
    "\n",
    "\n",
    "def damaEnDiagonal1(sol, fila, col):\n",
    "    encontrada = False\n",
    "    f = 0\n",
    "    while not encontrada and f < fila:\n",
    "        encontrada = sol[f] - f == col - fila\n",
    "        f += 1\n",
    "    return encontrada\n",
    "\n",
    "\n",
    "def damaEnDiagonal2(sol, fila, col):\n",
    "    encontrada = False\n",
    "    f = 0\n",
    "    while not encontrada and f < fila:\n",
    "        encontrada = sol[f] + f == col + fila\n",
    "        f += 1\n",
    "    return encontrada\n",
    "\n",
    "\n",
    "def esFactible(sol, fila, col):\n",
    "    return not (damaEnColumna(sol, fila, col) or damaEnDiagonal1(sol, fila, col) or damaEnDiagonal2(sol, fila, col))\n",
    "\n",
    "\n",
    "def nDamas(sol, fila):\n",
    "    N = len(sol)\n",
    "    if fila == N:\n",
    "        esSol = True\n",
    "    else:\n",
    "        esSol = False\n",
    "\n",
    "    col = 0\n",
    "    while not esSol and col < N:\n",
    "        if esFactible(sol, fila, col):\n",
    "            sol[fila] = col\n",
    "            sol, esSol = nDamas(sol, fila + 1)\n",
    "        col += 1\n",
    "    if not esSol:\n",
    "        sol[fila] = -1\n",
    "\n",
    "    return sol, esSol\n",
    "\n",
    "\n",
    "def imprimir(tablero):\n",
    "    for i in range(len(tablero)):\n",
    "        for j in range(len(tablero)):\n",
    "            if tablero[i] == j:\n",
    "                print(\"\\u2655\\t\", end ='')\n",
    "            else:\n",
    "                print('o\\t', end ='')\n",
    "        print()"
   ]
  },
  {
   "cell_type": "markdown",
   "metadata": {},
   "source": [
    "Código para practicar: $\\downarrow$"
   ]
  },
  {
   "cell_type": "code",
   "execution_count": null,
   "metadata": {},
   "outputs": [],
   "source": []
  },
  {
   "cell_type": "code",
   "execution_count": 7,
   "metadata": {},
   "outputs": [
    {
     "name": "stdout",
     "output_type": "stream",
     "text": [
      "o\t♕\to\to\to\to\t\n",
      "o\to\to\t♕\to\to\t\n",
      "o\to\to\to\to\t♕\t\n",
      "♕\to\to\to\to\to\t\n",
      "o\to\t♕\to\to\to\t\n",
      "o\to\to\to\t♕\to\t\n"
     ]
    }
   ],
   "source": [
    "assert nDamas(['o'] * 6, 0) == ([1, 3, 5, 0, 2, 4], True)      # La lista indica las posiciones de las damas en cada fila\n",
    "\n",
    "# Imprime la matriz:\n",
    "sol, esSol = nDamas(inicializar(6), 0)\n",
    "imprimir(sol) if esSol else print('No se ha encontrado solucion.\\n')"
   ]
  },
  {
   "cell_type": "markdown",
   "metadata": {},
   "source": [
    "### Código Laberinto: `Tiene fallos`"
   ]
  },
  {
   "cell_type": "code",
   "execution_count": 8,
   "metadata": {},
   "outputs": [],
   "source": [
    "import copy\n",
    "\n",
    "\n",
    "def esSolucion(lab, f, c):\n",
    "    return f == len(lab)-1 and c == len(lab)-1\n",
    "\n",
    "\n",
    "def esMejor(lab, mejorSol):\n",
    "    n, m = len(lab) - 1, len(lab) - 1\n",
    "    return lab[n][m] < mejorSol[n][m]\n",
    "\n",
    "\n",
    "def esFactible(lab, f, c):\n",
    "    return 0 <= f < len(lab) and 0 <= c <len(lab) and lab[f][c] == 0\n",
    "\n",
    "\n",
    "def laberintoVA(lab, mejorSol, fil, col, cont):\n",
    "    if esSolucion(lab, fil, col):\n",
    "        if esMejor(lab, mejorSol):\n",
    "            mejorSol = copy.deepcopy(lab)\n",
    "        else:\n",
    "            desp = [[0,1], [1,0], [0,-1], [-1, 0]]         # Posibles desplazamientos\n",
    "            for d in desp:\n",
    "                newF = fil + desp[0]\n",
    "                newC = col + desp[1]\n",
    "                if esFactible(lab, newF, newC):\n",
    "                    lab[newF][newC] = cont\n",
    "                    mejorSol = laberintoVA(lab, newF, newC, cont+1)\n",
    "                    lab[newF][newC] = 0\n",
    "\n",
    "        return mejorSol"
   ]
  },
  {
   "cell_type": "markdown",
   "metadata": {},
   "source": [
    "Código para practicar: $\\downarrow$"
   ]
  },
  {
   "cell_type": "code",
   "execution_count": 13,
   "metadata": {},
   "outputs": [
    {
     "name": "stdout",
     "output_type": "stream",
     "text": [
      "No se encontró solución.\n"
     ]
    }
   ],
   "source": [
    "import copy\n",
    "\n",
    "def esSolucion(lab, f, c):\n",
    "    return f == len(lab) - 1 and c == len(lab) - 1\n",
    "\n",
    "def esMejor(lab, mejorSol):\n",
    "    n, m = len(lab) - 1, len(lab) - 1\n",
    "    return lab[n][m] < mejorSol[n][m]\n",
    "\n",
    "def esFactible(lab, f, c):\n",
    "    return 0 <= f < len(lab) and 0 <= c < len(lab) and lab[f][c] == 0\n",
    "\n",
    "def laberintoVA(lab, mejorSol, fil, col, cont):\n",
    "    if esSolucion(lab, fil, col):\n",
    "        if esMejor(lab, mejorSol):\n",
    "            return copy.deepcopy(lab)\n",
    "        else:\n",
    "            desp = [[0, 1], [1, 0], [0, -1], [-1, 0]]  # Posibles desplazamientos\n",
    "            for d in desp:\n",
    "                newF = fil + d[0]\n",
    "                newC = col + d[1]\n",
    "                if esFactible(lab, newF, newC):\n",
    "                    lab[newF][newC] = cont\n",
    "                    mejorSol = laberintoVA(lab, mejorSol, newF, newC, cont + 1)\n",
    "                    lab[newF][newC] = 0\n",
    "\n",
    "        return mejorSol\n",
    "\n",
    "# Laberinto de ejemplo 3x3 con solución\n",
    "laberinto = [\n",
    "    [0, 0, 0],\n",
    "    [1, 1, 0],\n",
    "    [0, 1, 0]\n",
    "]\n",
    "\n",
    "# Inicializar la mejor solución con valores infinitos\n",
    "mejorSolucion = [[float('inf')] * 3 for _ in range(3)]\n",
    "\n",
    "# Llamar a la función\n",
    "resultado = laberintoVA(laberinto, mejorSolucion, 0, 0, 1)\n",
    "\n",
    "# Imprimir la solución encontrada\n",
    "if resultado is not None:\n",
    "    for fila in resultado:\n",
    "        print(fila)\n",
    "else:\n",
    "    print(\"No se encontró solución.\")\n"
   ]
  },
  {
   "cell_type": "code",
   "execution_count": 14,
   "metadata": {},
   "outputs": [
    {
     "name": "stdout",
     "output_type": "stream",
     "text": [
      "None\n"
     ]
    }
   ],
   "source": [
    "laberinto = [\n",
    "    [0, 0, 0],\n",
    "    [0, 1, 0],\n",
    "    [0, 0, 0]\n",
    "]\n",
    "mejorSolucion = [[float('inf')] * 3 for _ in range(3)]  # Inicializar la mejor solución con valores infinitos\n",
    "resultado = laberintoVA(laberinto, mejorSolucion, 0, 0, 1)\n",
    "print(resultado)\n"
   ]
  },
  {
   "cell_type": "markdown",
   "metadata": {},
   "source": [
    "### Código Coloreado de Grafos:"
   ]
  },
  {
   "cell_type": "code",
   "execution_count": 16,
   "metadata": {},
   "outputs": [],
   "source": [
    "\n",
    "\n",
    "def inicializarGrafo():\n",
    "    return [[1, 1, 1, 1], [1, 1, 0, 0], [1, 0, 1, 1], [1, 0, 1, 1]]\n",
    "\n",
    "\n",
    "\n",
    "def inicializarSol(grafo):\n",
    "    return [0] * len(grafo)\n",
    "\n",
    "\n",
    "def esSol(sol, nodo):\n",
    "    return nodo == len(sol)\n",
    "\n",
    "\n",
    "def esFactible(grafo, sol, nodo, color):\n",
    "    i, factible = 0, True\n",
    "    while i < nodo and factible:\n",
    "        if grafo[nodo][i] == 1:         # Son adyacentes\n",
    "            factible = color != sol[i]  # deben tener colores distintos\n",
    "        i += 1\n",
    "    return factible\n",
    "\n",
    "\n",
    "def colorearGrafoVA(grafo, sol, nodo, m):\n",
    "    if esSol(sol, nodo):\n",
    "        print(sol)\n",
    "    else:\n",
    "        color = 1\n",
    "        while color <= m:\n",
    "            if esFactible(grafo, sol, nodo, color):\n",
    "                sol[nodo] = color\n",
    "                colorearGrafoVA(grafo, sol, nodo + 1, m)  # Incrementar el índice del nodo\n",
    "            color += 1\n"
   ]
  },
  {
   "cell_type": "markdown",
   "metadata": {},
   "source": [
    "Código para practicar: $\\downarrow$"
   ]
  },
  {
   "cell_type": "code",
   "execution_count": null,
   "metadata": {},
   "outputs": [],
   "source": []
  },
  {
   "cell_type": "code",
   "execution_count": 17,
   "metadata": {},
   "outputs": [
    {
     "name": "stdout",
     "output_type": "stream",
     "text": [
      "[1, 2, 2, 3]\n",
      "[1, 2, 3, 2]\n",
      "[1, 3, 2, 3]\n",
      "[1, 3, 3, 2]\n",
      "[2, 1, 1, 3]\n",
      "[2, 1, 3, 1]\n",
      "[2, 3, 1, 3]\n",
      "[2, 3, 3, 1]\n",
      "[3, 1, 1, 2]\n",
      "[3, 1, 2, 1]\n",
      "[3, 2, 1, 2]\n",
      "[3, 2, 2, 1]\n"
     ]
    }
   ],
   "source": [
    "grafo = inicializarGrafo()\n",
    "m = 3                           # num de colores disponibles\n",
    "sol = inicializarSol(grafo)\n",
    "colorearGrafoVA(grafo, sol, 0, m)"
   ]
  },
  {
   "cell_type": "markdown",
   "metadata": {},
   "source": [
    "### Código Ciclos Hamiltonianos:"
   ]
  },
  {
   "cell_type": "code",
   "execution_count": 18,
   "metadata": {},
   "outputs": [],
   "source": [
    "def inicializarGrafo():\n",
    "    return [[0, 1, 0, 1, 1],\n",
    "            [1, 0, 1, 0, 0],\n",
    "            [0, 1, 0, 1, 1],\n",
    "            [1, 0, 1, 0, 1],\n",
    "            [1, 0, 1, 1, 0]]\n",
    "\n",
    "\n",
    "def esSol(sol, grafo):\n",
    "    return len(sol) == len(grafo) and grafo[sol[0]][sol[-1]] == 1\n",
    "\n",
    "\n",
    "def esFactible(sol, grafo, vertice):\n",
    "    return (vertice not in sol) and grafo[sol[-1]][vertice] == 1\n",
    "\n",
    "\n",
    "def ciclosVA(sol, grafo, nodo):\n",
    "    if esSol(sol, grafo):\n",
    "        print(sol)\n",
    "    else:\n",
    "        vertice = 0\n",
    "        while vertice < len(grafo):\n",
    "            if esFactible(sol, grafo, vertice):\n",
    "                sol.append(vertice)\n",
    "                ciclosVA(sol, grafo, nodo + 1)\n",
    "                del sol[-1]\n",
    "            vertice += 1"
   ]
  },
  {
   "cell_type": "markdown",
   "metadata": {},
   "source": [
    "Código para practicar: $\\downarrow$"
   ]
  },
  {
   "cell_type": "code",
   "execution_count": null,
   "metadata": {},
   "outputs": [],
   "source": []
  },
  {
   "cell_type": "code",
   "execution_count": 19,
   "metadata": {},
   "outputs": [
    {
     "name": "stdout",
     "output_type": "stream",
     "text": [
      "[0, 1, 2, 3, 4]\n",
      "[0, 1, 2, 4, 3]\n",
      "[0, 3, 4, 2, 1]\n",
      "[0, 4, 3, 2, 1]\n"
     ]
    }
   ],
   "source": [
    "grafo = inicializarGrafo()\n",
    "origen = 0\n",
    "sol = [origen]\n",
    "ciclosVA(sol, grafo, 1)"
   ]
  }
 ],
 "metadata": {
  "kernelspec": {
   "display_name": "Python 3",
   "language": "python",
   "name": "python3"
  },
  "language_info": {
   "codemirror_mode": {
    "name": "ipython",
    "version": 3
   },
   "file_extension": ".py",
   "mimetype": "text/x-python",
   "name": "python",
   "nbconvert_exporter": "python",
   "pygments_lexer": "ipython3",
   "version": "3.10.11"
  }
 },
 "nbformat": 4,
 "nbformat_minor": 2
}
