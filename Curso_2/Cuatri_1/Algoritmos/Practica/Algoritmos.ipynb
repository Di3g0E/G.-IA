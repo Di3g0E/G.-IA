{
 "cells": [
  {
   "cell_type": "markdown",
   "metadata": {},
   "source": [
    "# Examen 1 - Algoritmos"
   ]
  },
  {
   "cell_type": "markdown",
   "metadata": {},
   "source": [
    "## Código Mochila:"
   ]
  },
  {
   "cell_type": "code",
   "execution_count": 21,
   "metadata": {},
   "outputs": [],
   "source": [
    "def mochila(lista, pesoMax):\n",
    "    mochila = []\n",
    "    pesoMochila, valorMochila, i = 0, 0, 0\n",
    "\n",
    "    lista.sort(reverse = True)\n",
    "    while pesoMochila < pesoMax:\n",
    "        if (pesoMochila + lista[i][1]) <= pesoMax:\n",
    "            mochila.append(lista[i][3])\n",
    "            pesoMochila += lista[i][1]\n",
    "            valorMochila += lista[i][2]\n",
    "        else:\n",
    "            frac = (pesoMax - pesoMochila) / lista[i][1]\n",
    "            mochila.append(lista[i][3])\n",
    "            pesoMochila = pesoMax\n",
    "            valorMochila += (lista[i][2] * frac)\n",
    "        i += 1\n",
    "\n",
    "    return mochila, valorMochila"
   ]
  },
  {
   "cell_type": "markdown",
   "metadata": {},
   "source": [
    "Código para practicar: $\\downarrow$"
   ]
  },
  {
   "cell_type": "code",
   "execution_count": 11,
   "metadata": {},
   "outputs": [],
   "source": [
    "def mochila(l, pm):\n",
    "    b, v, w, i = [], 0, 0, 0\n",
    "    l.sort(reverse = True)\n",
    "    while w < pm:\n",
    "        if (w + l[i][1]) < pm:\n",
    "            b.append(l[i][3])\n",
    "            v += l[i][2]\n",
    "            w += l[i][1]\n",
    "            i += 1\n",
    "        else:\n",
    "            frac = (pm - w) / l[i][1]\n",
    "            b.append(l[i][3])\n",
    "            v += (l[i][2] * frac)\n",
    "            w = pm\n",
    "    return b, v"
   ]
  },
  {
   "cell_type": "code",
   "execution_count": 12,
   "metadata": {},
   "outputs": [],
   "source": [
    "assert mochila([(2.0, 10, 20, 'boli'), (1.5, 20, 30, 'vaso'), (2.2, 30, 66, 'luz'), (1.0, 40, 40, 'bote'), (1.2, 50, 60, 'papel')], 100) == (['luz', 'boli', 'vaso', 'papel'], 164.0)"
   ]
  },
  {
   "cell_type": "markdown",
   "metadata": {},
   "source": [
    "## Código Plazo Fijo:"
   ]
  },
  {
   "cell_type": "code",
   "execution_count": 26,
   "metadata": {},
   "outputs": [],
   "source": [
    "def plazo_fijo(lista):\n",
    "    completadas = []\n",
    "    beneficio_total = 0\n",
    "\n",
    "    lista.sort(reverse=True)\n",
    "    for i in range(len(lista)):\n",
    "        if lista[i][1] not in completadas:\n",
    "            completadas.append(lista[i][1])\n",
    "            beneficio_total += lista[i][0]\n",
    "\n",
    "    return beneficio_total\n"
   ]
  },
  {
   "cell_type": "markdown",
   "metadata": {},
   "source": [
    "Código para practicar: $\\downarrow$"
   ]
  },
  {
   "cell_type": "code",
   "execution_count": 68,
   "metadata": {},
   "outputs": [],
   "source": []
  },
  {
   "cell_type": "code",
   "execution_count": 69,
   "metadata": {},
   "outputs": [],
   "source": [
    "assert plazo_fijo([(50, 2), (10, 1), (15, 2), (30, 1)]) == 80"
   ]
  },
  {
   "cell_type": "markdown",
   "metadata": {},
   "source": [
    "## Código Tiempos de Espera:"
   ]
  },
  {
   "cell_type": "code",
   "execution_count": 40,
   "metadata": {},
   "outputs": [],
   "source": [
    "def tiempos_espera(lista):\n",
    "    espera = 0\n",
    "    orden_clientes = []\n",
    "\n",
    "    lista.sort()\n",
    "    for i in range(len(lista)):\n",
    "        espera += lista[i][0] * (len(lista) - i)\n",
    "        orden_clientes.append(lista[i][1])\n",
    "    espera /= len(lista)\n",
    "\n",
    "    return orden_clientes, espera"
   ]
  },
  {
   "cell_type": "markdown",
   "metadata": {},
   "source": [
    "Código para practicar: $\\downarrow$"
   ]
  },
  {
   "cell_type": "code",
   "execution_count": 70,
   "metadata": {},
   "outputs": [],
   "source": []
  },
  {
   "cell_type": "code",
   "execution_count": 71,
   "metadata": {},
   "outputs": [],
   "source": [
    "assert tiempos_espera([(5, 1), (10, 2), (3, 3)]) == ([3, 1, 2], 9.666666666666666)"
   ]
  },
  {
   "cell_type": "markdown",
   "metadata": {},
   "source": [
    "## Código Kruskal:"
   ]
  },
  {
   "cell_type": "code",
   "execution_count": 5,
   "metadata": {},
   "outputs": [],
   "source": [
    "def actualizar_indices(lista, indice_origen, indice_final):\n",
    "        for i in range(len(lista)):\n",
    "            if indice_origen == lista[i]:\n",
    "                lista[i] = indice_final\n",
    "        return lista\n",
    "\n",
    "\n",
    "def kruskal(lista):\n",
    "    indices = list(range(len(lista)))\n",
    "    cont = len(lista)\n",
    "    coste, i = 0, 0\n",
    "\n",
    "    lista.sort()\n",
    "    while cont > 1 and i < len(lista):\n",
    "        v, o, f = lista[i]\n",
    "\n",
    "        if indices[o] != indices[f]:\n",
    "            coste += v\n",
    "            cont -= 1\n",
    "            actualizar_indices(indices, indices[o], indices[f])\n",
    "        i += 1\n",
    "\n",
    "    return coste"
   ]
  },
  {
   "cell_type": "markdown",
   "metadata": {},
   "source": [
    "Código para practicar: $\\downarrow$"
   ]
  },
  {
   "cell_type": "code",
   "execution_count": 13,
   "metadata": {},
   "outputs": [],
   "source": [
    "def ind_a(l, o, d):\n",
    "    for i in range(len(l)):\n",
    "        if l[i] == o:\n",
    "            l[i] = d\n",
    "    return l\n",
    "\n",
    "def kruskal(l):\n",
    "    ind, cont, c, i = list(range(len(l))), len(l), 0, 0\n",
    "    l.sort()\n",
    "    while cont > 1 and i < len(l):\n",
    "        v, o, d = l[i]\n",
    "        if ind[o] != ind[d]:\n",
    "            cont -= 1\n",
    "            c += v\n",
    "            ind_a(ind, ind[o], ind[d])\n",
    "\n",
    "        i += 1\n",
    "    return c"
   ]
  },
  {
   "cell_type": "code",
   "execution_count": 14,
   "metadata": {},
   "outputs": [],
   "source": [
    "assert kruskal([(67, 0, 1), (75, 0, 4), (48, 1, 5), (60, 1, 6), (38, 2, 5), (58, 3, 7), (34, 3, 9), (19, 4, 5), (137, 4, 6), (55, 4, 7), (76, 4, 8), (8, 4, 9), (111, 5, 7), (33, 6, 8), (4, 6, 9)]) == 306"
   ]
  },
  {
   "cell_type": "markdown",
   "metadata": {},
   "source": [
    "## Código Búsqueda Binaria:"
   ]
  },
  {
   "cell_type": "code",
   "execution_count": null,
   "metadata": {},
   "outputs": [],
   "source": [
    "def busquedaBinaria(lista, ini, fin, elem):\n",
    "    if ini <= fin:\n",
    "        medio = (ini + fin) // 2\n",
    "        if lista[medio] == elem:\n",
    "            return medio\n",
    "        elif lista[medio] > elem:\n",
    "            return busquedaBinaria(lista, ini, medio-1, elem)\n",
    "        else:\n",
    "            return busquedaBinaria(lista, medio+1, fin, elem)\n",
    "    return -1"
   ]
  },
  {
   "cell_type": "markdown",
   "metadata": {},
   "source": [
    "Código para practicar: $\\downarrow$"
   ]
  },
  {
   "cell_type": "code",
   "execution_count": 15,
   "metadata": {},
   "outputs": [],
   "source": [
    "def busquedaBinaria(l, i, f, e):\n",
    "    if i <= f:\n",
    "        m = (f + i) // 2\n",
    "        if l[m] == e:\n",
    "            return m\n",
    "        elif l[m] > e:\n",
    "            return busquedaBinaria(l, i, m-1, e)\n",
    "        else:\n",
    "            return busquedaBinaria(l, m+1, f, e)\n",
    "        \n",
    "    return -1"
   ]
  },
  {
   "cell_type": "code",
   "execution_count": 7,
   "metadata": {},
   "outputs": [],
   "source": [
    "assert busquedaBinaria(list(range(1, 19)), 0, 18, 9) == 8"
   ]
  },
  {
   "cell_type": "markdown",
   "metadata": {},
   "source": [
    "## Código Merge Sort:"
   ]
  },
  {
   "cell_type": "code",
   "execution_count": 9,
   "metadata": {},
   "outputs": [],
   "source": [
    "def sort(l1, l2):                                   # Esta función ordena los elementos de dos listas dadas\n",
    "    listaOrdenada = []                              # Lista en la que guardaremos los elem ordenados\n",
    "    i, j = 0, 0                                     # Guardas para las diferentes listas, no tienen porqué ser del mismo tamaño\n",
    "\n",
    "    while i < len(l1) and j < len(l2):\n",
    "        if l1[i] < l2[j]:                           # Si el valor del elemento de la lista 1 es menor se guarda en la lista ordenada\n",
    "            listaOrdenada.append(l1[i])\n",
    "            i += 1                                  # Se suma 1 al índice de la primera lista para avanzar de elemento\n",
    "        else:                                       # Si el valor del elemento de la lista 2 es menor se guarda en la lista ordenada\n",
    "            listaOrdenada.append(l2[j])\n",
    "            j += 1                                  # Se suma 1 al índice de la primera lista para avanzar de elemento\n",
    "\n",
    "    listaOrdenada.extend(l1[i:])                    # Agregar los elementos restantes de l1, si los hay\n",
    "    listaOrdenada.extend(l2[j:])                    # Agregar los elementos restantes de l2, si los hay\n",
    "\n",
    "    return listaOrdenada\n",
    "\n",
    "\n",
    "def mergeSort(lista, val_in, val_fin):              # Esta función dibide la lista por la mitad recursivamente hasta tener un único valor y después los va ordenando\n",
    "    mitad = (val_in + val_fin) // 2                 # Cálculo de la mitad de la lista\n",
    "    if val_fin <= val_in:                           # Si solo hay un valor en la lista lo devuelve\n",
    "        return [lista[val_in]]\n",
    "    else:\n",
    "        l1 = mergeSort(lista, val_in, mitad)        # Llamada recursiva de la lista desde el valor inicial hasta la mitad calculada\n",
    "        l2 = mergeSort(lista, mitad+1, val_fin)     # Llamada recursiva de la lista desde la mitad calculada de la lista hasta el final\n",
    "        sol = sort(l1, l2)                          # Llamada a la función de ordenación que ordenará las listas guardadas en l1 y l2\n",
    "        return sol"
   ]
  },
  {
   "cell_type": "markdown",
   "metadata": {},
   "source": [
    "Código para practicar: $\\downarrow$"
   ]
  },
  {
   "cell_type": "code",
   "execution_count": null,
   "metadata": {},
   "outputs": [],
   "source": []
  },
  {
   "cell_type": "code",
   "execution_count": 10,
   "metadata": {},
   "outputs": [],
   "source": [
    "assert mergeSort([7, 6, 2, 3, 4, 10, 65, 8, 63, 74, 5, 78], 0, len([7, 6, 2, 3, 4, 10, 65, 8, 63, 74, 5, 78])-1) == [2, 3, 4, 5, 6, 7, 8, 10, 63, 65, 74, 78]"
   ]
  },
  {
   "cell_type": "markdown",
   "metadata": {},
   "source": [
    "## Código Quick Sort:"
   ]
  },
  {
   "cell_type": "code",
   "execution_count": 11,
   "metadata": {},
   "outputs": [],
   "source": [
    "def intercambiar(lista, i, j):                      # Intercambia la posición del valor de la izquierda (i) y el de la derecha (j)\n",
    "    aux = lista[i]                                  # Guarda la posición del valor de la izquierda ya que se va a sustituir por el de la derecha y se perdería\n",
    "    lista[i] = lista[j]\n",
    "    lista[j] = aux\n",
    "    return lista                                    # Devuelve la lista con los valores intercambiados\n",
    "\n",
    "\n",
    "def pivote(lista, ini, fin):\n",
    "    valorPivote = lista[ini]                        # Cogemos como valor pivote el primero de la lista\n",
    "    i = ini + 1                                     # Valor que empieza por la izquierda de la lista y va creciendo\n",
    "    j = fin                                         # Valor que empieza por la derecha de la lista y va decreciendo\n",
    "    flag = False\n",
    "    while not flag:\n",
    "        while i <= j and lista[i] <= valorPivote:   # Mientras i sea menor o igual que j y el valor del elem. de la posición 'i' sea menor o igual que el pivote se sigue a la siguiente posición porque no hace falta pasarlo al lado derecho\n",
    "            i += 1\n",
    "        while i <= j and lista[j] >= valorPivote:   # Mientras i sea menor o igual que j y el valor del elem. de la posición 'j' sea mayor o igual que el pivote se sigue a la posición anterior porque no hace falta pasarlo al lado izquierdo\n",
    "            j -= 1\n",
    "\n",
    "        if j < i:                                   # Si el índice de la derecha (j) es menor que el de la izquierda (i) se sale del bucle\n",
    "            flag = True\n",
    "        else:                                       # Si no se intercambian las posiciones 'i' y 'j'\n",
    "            lista = intercambiar(lista, i, j)\n",
    "    lista = intercambiar(lista, ini, j)             # Al terminar la ordenación de los elementos mayores y menores que el elem. pivote se intercambia el elem. pivote con el ultimo elem. menor\n",
    "    return lista, j                                 # Devuelve la lista reordenada y la posición del elemento pivote\n",
    "\n",
    "def quicksort(lista, ini, fin):                     # Ordena la lista a partir del elem. inicial (ini) y final (fin) indicados\n",
    "    if ini < fin:                                   # Mientras el índice inicial (ini) siga siendo menor que el final (fin) se hará lo siguiente:\n",
    "        [lista, p] = pivote(lista, ini, fin)        # Reordenar la lista a partir del indice 'ini' y 'fin'\n",
    "        lista = quicksort(lista, ini, p-1)          # Llamada recursiva para ordenar los elem. de la lista menores que el elem. 'pivote'\n",
    "        lista = quicksort(lista, p+1, fin)          # Llamada recursiva para ordenar los elem. de la lista mayores que el elem. 'pivote'\n",
    "    return lista"
   ]
  },
  {
   "cell_type": "markdown",
   "metadata": {},
   "source": [
    "Código para practicar: $\\downarrow$"
   ]
  },
  {
   "cell_type": "code",
   "execution_count": null,
   "metadata": {},
   "outputs": [],
   "source": []
  },
  {
   "cell_type": "code",
   "execution_count": 13,
   "metadata": {},
   "outputs": [],
   "source": [
    "assert quicksort([9, 4, 17, 21, 34, 6, 0, -5, 56, 14, 8, 43], 0, len([9, 4, 17, 21, 34, 6, 0, -5, 56, 14, 8, 43])-1) == [-5, 0, 4, 6, 8, 9, 14, 17, 21, 34, 43, 56]"
   ]
  },
  {
   "cell_type": "markdown",
   "metadata": {},
   "source": [
    "# No entra en el examen (Fuera de temario del grado) $\\downarrow$"
   ]
  },
  {
   "cell_type": "markdown",
   "metadata": {},
   "source": [
    "## Código Djikstra:"
   ]
  },
  {
   "cell_type": "code",
   "execution_count": 16,
   "metadata": {},
   "outputs": [],
   "source": [
    "def actualizarDistancia(grafo, vector_distancia, nodo):\n",
    "    for vecino, dist in grafo[nodo].items():\n",
    "        distancia = vector_distancia[nodo] + dist\n",
    "        if distancia < vector_distancia[vecino]:\n",
    "            vector_distancia[vecino] = distancia\n",
    "    return vector_distancia\n",
    "\n",
    "\n",
    "def djikstra(grafo, nodo_inicial):\n",
    "    distancia = {node: float('inf') for node in grafo}\n",
    "    distancia[nodo_inicial] = 0\n",
    "    visitados = []\n",
    "\n",
    "    while len(visitados) < len(grafo):\n",
    "        prox_nodo = None\n",
    "        for node in grafo:\n",
    "            if node not in visitados:\n",
    "                if prox_nodo is None:\n",
    "                    prox_nodo = node\n",
    "                elif distancia[node] < distancia[prox_nodo]:\n",
    "                    prox_nodo = node\n",
    "\n",
    "        visitados.append(prox_nodo)\n",
    "        actualizarDistancia(grafo, distancia, prox_nodo)\n",
    "\n",
    "    return distancia"
   ]
  },
  {
   "cell_type": "markdown",
   "metadata": {},
   "source": [
    "Código para practicar: $\\downarrow$"
   ]
  },
  {
   "cell_type": "code",
   "execution_count": null,
   "metadata": {},
   "outputs": [],
   "source": []
  },
  {
   "cell_type": "code",
   "execution_count": 17,
   "metadata": {},
   "outputs": [],
   "source": [
    "assert djikstra({'A': {'B': 1, 'C': 3}, 'B': {'A': 1, 'C': 2, 'D': 5}, 'C': {'A': 4, 'B': 2, 'D': 1}, 'D': {'B': 5, 'C': 1}}, 'A') == {'A': 0, 'B': 1, 'C': 3, 'D': 4}"
   ]
  }
 ],
 "metadata": {
  "kernelspec": {
   "display_name": "base",
   "language": "python",
   "name": "python3"
  },
  "language_info": {
   "codemirror_mode": {
    "name": "ipython",
    "version": 3
   },
   "file_extension": ".py",
   "mimetype": "text/x-python",
   "name": "python",
   "nbconvert_exporter": "python",
   "pygments_lexer": "ipython3",
   "version": "3.10.11"
  }
 },
 "nbformat": 4,
 "nbformat_minor": 2
}
