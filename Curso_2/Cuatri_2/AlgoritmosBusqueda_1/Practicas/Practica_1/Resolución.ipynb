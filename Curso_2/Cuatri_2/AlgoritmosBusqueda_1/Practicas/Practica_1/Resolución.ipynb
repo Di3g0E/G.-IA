{
 "cells": [
  {
   "cell_type": "markdown",
   "metadata": {},
   "source": [
    "### c) Descripción de los operadores que se pueden aplicar para la función expandir(nodos)."
   ]
  },
  {
   "cell_type": "markdown",
   "metadata": {},
   "source": [
    "__Mover disco de una torre a otra:__\n",
    "\n",
    "Descripción:\n",
    "\n",
    "1) Seleccionar una torre de origen (de las tres torres disponibles: A, B, C).\n",
    "2) Seleccionar una torre de destino (distinta de la torre de origen y que cumpla con las reglas del juego, es decir, el disco a mover debe ser más pequeño que el disco en la cima de la torre de destino).\n",
    "3) Verificar que la torre de origen no esté vacía y que la torre de destino acepte el disco a mover según las reglas del juego.\n",
    "4) Extraer el disco superior de la torre de origen.\n",
    "5) Colocar el disco extraído en la cima de la torre de destino.\n",
    "6) Generar una nueva configuración del juego después de aplicar este movimiento.\n",
    "7) Agregar la nueva configuración a la lista de nodos expandidos."
   ]
  },
  {
   "cell_type": "markdown",
   "metadata": {},
   "source": [
    "### f) Proponer y describir una heurística."
   ]
  },
  {
   "cell_type": "markdown",
   "metadata": {},
   "source": [
    "__Distancia de Hamming__: contar los discos que se encuentran en diferentes posiciones entre la configuración inicial y la final e incrementar en uno el coste por cada disco que se encuentre en una posición diferente entre ambas configuraciones.\n",
    "\n",
    "Descripción:\n",
    "\n",
    "1) Calcular la distancia de Hamming entre la configuración actual y la configuración final del problema.\n",
    "2) Cuantos más discos estén en diferentes posiciones, mayor será la distancia de Hamming y mayor será la estimación de la cantidad de movimientos necesarios.\n",
    "3) La heurística elegirá la configuración de expansión que minimice la distancia de Hamming, es decir, que más se acerque a la configuración objetivo."
   ]
  },
  {
   "cell_type": "markdown",
   "metadata": {},
   "source": [
    "### g) Programa en Python de la búsqueda de la solución usando el algoritmo de __A* con la heurística propuesta__."
   ]
  },
  {
   "cell_type": "code",
   "execution_count": 25,
   "metadata": {},
   "outputs": [
    {
     "name": "stdout",
     "output_type": "stream",
     "text": [
      "Solución encontrada:\n",
      "Paso 1: [[5], [4], [3, 2, 1]]\n",
      "Paso 2: [[5, 1], [4], [3, 2]]\n",
      "Paso 3: [[5, 1], [4, 2], [3]]\n",
      "Paso 4: [[5], [4, 2, 1], [3]]\n",
      "Paso 5: [[5, 3], [4, 2, 1], []]\n",
      "Paso 6: [[5, 3], [4, 2], [1]]\n",
      "Paso 7: [[5, 3, 2], [4], [1]]\n",
      "Paso 8: [[5, 3, 2, 1], [4], []]\n",
      "Paso 9: [[5, 3, 2, 1], [], [4]]\n",
      "Paso 10: [[5, 3, 2], [], [4, 1]]\n",
      "Paso 11: [[5, 3], [2], [4, 1]]\n",
      "Paso 12: [[5, 3], [2, 1], [4]]\n",
      "Paso 13: [[5], [2, 1], [4, 3]]\n",
      "Paso 14: [[5, 1], [2], [4, 3]]\n",
      "Paso 15: [[5, 1], [], [4, 3, 2]]\n",
      "Paso 16: [[5], [], [4, 3, 2, 1]]\n",
      "Paso 17: [[], [5], [4, 3, 2, 1]]\n",
      "Paso 18: [[1], [5], [4, 3, 2]]\n",
      "Paso 19: [[1], [5, 2], [4, 3]]\n",
      "Paso 20: [[], [5, 2, 1], [4, 3]]\n",
      "Paso 21: [[3], [5, 2, 1], [4]]\n",
      "Paso 22: [[3], [5, 2], [4, 1]]\n",
      "Paso 23: [[3, 2], [5], [4, 1]]\n",
      "Paso 24: [[3, 2, 1], [5], [4]]\n",
      "Paso 25: [[3, 2, 1], [5, 4], []]\n",
      "Paso 26: [[3, 2], [5, 4, 1], []]\n",
      "Paso 27: [[3], [5, 4, 1], [2]]\n",
      "Paso 28: [[3], [5, 4], [2, 1]]\n",
      "Paso 29: [[], [5, 4, 3], [2, 1]]\n"
     ]
    }
   ],
   "source": [
    "from queue import PriorityQueue\n",
    "\n",
    "def calcular_distancia_hamming(configuracion_actual, configuracion_objetivo):\n",
    "    distancia_hamming = 0\n",
    "    for torre_actual, torre_objetivo in zip(configuracion_actual, configuracion_objetivo):\n",
    "        for disco_actual, disco_objetivo in zip(torre_actual, torre_objetivo):\n",
    "            if disco_actual != disco_objetivo:\n",
    "                distancia_hamming += 1\n",
    "    return distancia_hamming\n",
    "\n",
    "def esFinal(configuracion, configuracion_objetivo):\n",
    "    return configuracion == configuracion_objetivo\n",
    "\n",
    "def expandir(configuracion, configuracion_objetivo):\n",
    "    sucesores = []\n",
    "    for i in range(3):\n",
    "        for j in range(3):\n",
    "            if i != j and (configuracion[i] and (not configuracion[j] or configuracion[i][-1] < configuracion[j][-1])):\n",
    "                nuevo_estado = [list(torre) for torre in configuracion]\n",
    "                if nuevo_estado[i]:  # Verificar si la lista no está vacía antes de llamar a pop()\n",
    "                    nuevo_estado[j].append(nuevo_estado[i].pop())\n",
    "                    sucesores.append((nuevo_estado, calcular_distancia_hamming(nuevo_estado, configuracion_objetivo)))\n",
    "    return sucesores\n",
    "# def expandir(configuracion, configuracion_objetivo):\n",
    "#     sucesores = []\n",
    "#     for i in range(3):\n",
    "#         for j in range(3):\n",
    "#             if i != j and (not configuracion[i] or configuracion[j] and (not configuracion[i] or configuracion[i][-1] < configuracion[j][-1])):\n",
    "#                 nuevo_estado = [list(torre) for torre in configuracion]\n",
    "#                 if nuevo_estado[i]:  # Verificar si la lista no está vacía antes de llamar a pop()\n",
    "#                     nuevo_estado[j].append(nuevo_estado[i].pop())\n",
    "#                     sucesores.append((nuevo_estado, calcular_distancia_hamming(nuevo_estado, configuracion_objetivo)))\n",
    "#     return sucesores\n",
    "\n",
    "\n",
    "def heuristicaEstatica(configuracion_inicial, configuracion_objetivo):\n",
    "    frontera = PriorityQueue()\n",
    "    frontera.put((0, configuracion_inicial))\n",
    "    padres = {tuple(map(tuple, configuracion_inicial)): None}\n",
    "    costo_camino = {tuple(map(tuple, configuracion_inicial)): 0}\n",
    "    contador = 0\n",
    "\n",
    "    while not frontera.empty():\n",
    "        _, estado_actual = frontera.get()\n",
    "\n",
    "        if esFinal(estado_actual, configuracion_objetivo):\n",
    "            camino = []\n",
    "            while estado_actual:\n",
    "                camino.append(estado_actual)\n",
    "                estado_actual = padres[tuple(map(tuple, estado_actual))]\n",
    "            return camino[::-1]\n",
    "\n",
    "        for sucesor, distancia in expandir(estado_actual, configuracion_objetivo):\n",
    "            nuevo_costo = costo_camino[tuple(map(tuple, estado_actual))] + 1\n",
    "            if tuple(map(tuple, sucesor)) not in costo_camino or nuevo_costo < costo_camino[tuple(map(tuple, sucesor))]:\n",
    "                costo_camino[tuple(map(tuple, sucesor))] = nuevo_costo\n",
    "                prioridad = nuevo_costo + distancia\n",
    "                frontera.put((prioridad, sucesor))\n",
    "                padres[tuple(map(tuple, sucesor))] = estado_actual\n",
    "\n",
    "\n",
    "\n",
    "# Configuraciones inicial y objetivo\n",
    "configuracion_inicial = [[3, 2, 1], [], []]\n",
    "configuracion_objetivo = [[], [], [3, 2, 1]]\n",
    "\n",
    "# Configuración 2\n",
    "configuracion_inicial_2 = [[2, 1], [], [3]]\n",
    "configuracion_objetivo_2 = [[], [], [3, 2, 1]]\n",
    "\n",
    "# Configuración 3\n",
    "configuracion_inicial_3 = [[3], [2], [1]]\n",
    "configuracion_objetivo_3 = [[], [], [3, 2, 1]]\n",
    "\n",
    "# Configuración 4\n",
    "configuracion_inicial_4 = [[], [2, 1], [3]]\n",
    "configuracion_objetivo_4 = [[], [], [3, 2, 1]]\n",
    "\n",
    "# Configuración 5\n",
    "configuracion_inicial_5 = [[5], [4], [3, 2, 1]]\n",
    "configuracion_objetivo_5 = [[], [5, 4, 3], [2, 1]]\n",
    "\n",
    "\n",
    "\n",
    "# Ejecutar el algoritmo A*\n",
    "solucion = heuristicaEstatica(configuracion_inicial_5, configuracion_objetivo_5)\n",
    "\n",
    "# Imprimir la solución\n",
    "if solucion:\n",
    "    print(\"Solución encontrada:\")\n", # Hay que meter el print en una función pq ahora se acumulan los numeros de los pasos en la impresión.
    "    for paso, estado in enumerate(solucion):\n",
    "        print(f\"Paso {paso + 1}: {estado}\")\n",
    "else:\n",
    "    print(\"No se encontró solución.\")\n"
   ]
  }
 ],
 "metadata": {
  "kernelspec": {
   "display_name": "Python 3",
   "language": "python",
   "name": "python3"
  },
  "language_info": {
   "codemirror_mode": {
    "name": "ipython",
    "version": 3
   },
   "file_extension": ".py",
   "mimetype": "text/x-python",
   "name": "python",
   "nbconvert_exporter": "python",
   "pygments_lexer": "ipython3",
   "version": "3.10.11"
  }
 },
 "nbformat": 4,
 "nbformat_minor": 2
}
