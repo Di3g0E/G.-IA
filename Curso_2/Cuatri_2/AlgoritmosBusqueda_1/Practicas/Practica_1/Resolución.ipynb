{
 "cells": [
  {
   "cell_type": "markdown",
   "metadata": {},
   "source": [
    "### c) Descripción de los operadores que se pueden aplicar para la función expandir(nodos)."
   ]
  },
  {
   "cell_type": "markdown",
   "metadata": {},
   "source": [
    "__Mover disco de una torre a otra:__\n",
    "\n",
    "Descripción:\n",
    "\n",
    "1) Seleccionar una torre de origen (de las tres torres disponibles: A, B, C).<br>$S_0$\n",
    "2) Seleccionar una torre de destino (distinta de la torre de origen y que cumpla con las reglas del juego, es decir, el disco a mover debe ser más pequeño que el disco en la cima de la torre de destino).<br>$S_m$\n",
    "3) Verificar que las torres de origen no esté vacía y que la torre de destino acepte el disco a mover según las reglas del juego.<br>$S_0 > 2$\n",
    "4) Expandir: $s: \\rightarrow \\{ s_i1, ... , s_in \\}$\n",
    "5) Prueba de éxito: $meta?: s \\rightarrow  verdad|falso$\n",
    "6) Generar una nueva configuración del juego después de aplicar este movimiento.<br>$M: (A, B, C) \\rightarrow (A', B', C')$\n",
    "7) Agregar la nueva configuración a la lista de nodos expandidos.<br>$L = L \\cup \\{N\\}$"
   ]
  },
  {
   "cell_type": "markdown",
   "metadata": {},
   "source": [
    "### f) Proponer y describir una heurística."
   ]
  },
  {
   "cell_type": "markdown",
   "metadata": {},
   "source": [
    "__Distancia de Hamming__: contar los discos que se encuentran en diferentes posiciones entre la configuración inicial y la final e incrementar en uno el coste por cada disco que se encuentre en una posición diferente entre ambas configuraciones.\n",
    "\n",
    "Descripción:\n",
    "\n",
    "1) Calcular la distancia de Hamming entre la configuración actual y la configuración final del problema.\n",
    "2) Cuantos más discos estén en diferentes posiciones, mayor será la distancia de Hamming y mayor será la estimación de la cantidad de movimientos necesarios.\n",
    "3) La heurística elegirá la configuración de expansión que minimice la distancia de Hamming, es decir, que más se acerque a la configuración objetivo."
   ]
  },
  {
   "cell_type": "markdown",
   "metadata": {},
   "source": [
    "### g) Programa en Python de la búsqueda de la solución usando el algoritmo de __A* con la heurística propuesta__."
   ]
  },
  {
   "cell_type": "code",
   "execution_count": 5,
   "metadata": {},
   "outputs": [],
   "source": [
    "from queue import PriorityQueue\n",
    "\n",
    "def calcular_distancia_hamming(configuracion_actual, configuracion_objetivo):\n",
    "    distancia_hamming = 0\n",
    "    for torre_actual, torre_objetivo in zip(configuracion_actual, configuracion_objetivo):\n",
    "        for disco_actual, disco_objetivo in zip(torre_actual, torre_objetivo):\n",
    "            if disco_actual != disco_objetivo:\n",
    "                distancia_hamming += 1\n",
    "    return distancia_hamming\n",
    "\n",
    "def esFinal(configuracion, configuracion_objetivo):\n",
    "    return configuracion == configuracion_objetivo\n",
    "\n",
    "def expandir(configuracion, configuracion_objetivo):\n",
    "    sucesores = []                                                                                                      # Aquí se inicializa una lista vacía llamada sucesores que se utilizará para almacenar los estados sucesores generados.\n",
    "    for i in range(3):\n",
    "        for j in range(3):\n",
    "            if i != j and (configuracion[i] and (not configuracion[j] or configuracion[i][-1] < configuracion[j][-1])): # Esta condición asegura que solo se realicen movimientos válidos de torres según las reglas del problema.\n",
    "                nuevo_estado = [list(torre) for torre in configuracion]                                                 # Aquí se crea una copia profunda del estado actual para evitar modificar el estado origina\n",
    "                if nuevo_estado[i]:                                                                                     # Verificar si la lista no está vacía antes de llamar a pop()\n",
    "                    nuevo_estado[j].append(nuevo_estado[i].pop())                                                       # Aquí se saca el disco de una torre y se mete en la otra\n",
    "                    sucesores.append((nuevo_estado, calcular_distancia_hamming(nuevo_estado, configuracion_objetivo)))\n",
    "    return sucesores\n",
    "\n",
    "def verifica_hanoi(torres):\n",
    "    for torre in torres:\n",
    "        if torre != sorted(torre, reverse=True):\n",
    "            return False\n",
    "    return True\n",
    "\n",
    "def ingresar_datos_hanoi():\n",
    "    configuracion_inicial = []\n",
    "    configuracion_objetivo = []\n",
    "    for i in range(3):\n",
    "        torre_inicial = input(f\"Por favor, ingresa los discos en la torre inicial {i+1}, de arriba a abajo, separados por comas: \")\n",
    "        torre_inicial = list(map(int, torre_inicial.split(','))) if torre_inicial else []\n",
    "        configuracion_inicial.append(torre_inicial)\n",
    "        \n",
    "    for i in range(3):\n",
    "        torre_objetivo = input(f\"Por favor, ingresa los discos en la torre objetivo {i+1}, de arriba a abajo, separados por comas: \")\n",
    "        torre_objetivo = list(map(int, torre_objetivo.split(','))) if torre_objetivo else []\n",
    "        configuracion_objetivo.append(torre_objetivo)\n",
    "    \n",
    "    while not verifica_hanoi(configuracion_inicial) or not verifica_hanoi(configuracion_objetivo):\n",
    "          print('No puede haber discos de menor tamaño de los que tienen encima.\\nIndica los valores de esta forma: 3, 2, 1')\n",
    "          configuracion_inicial, configuracion_objetivo = ingresar_datos_hanoi()\n",
    "    \n",
    "    return configuracion_inicial, configuracion_objetivo\n",
    "\n",
    "def heuristicaEstatica(configuracion_inicial, configuracion_objetivo):\n",
    "    frontera = PriorityQueue()                                      # Aquí se crea una cola de prioridad vacía llamada frontera. Se utilizará para almacenar los nodos que se deben explorar, ordenados por una prioridad específica.   \n",
    "    frontera.put((0, configuracion_inicial))                        # Se agrega la configuración inicial a la frontera con una prioridad de 0. La prioridad 0 indica que es el nodo inicial y no tiene ningún costo hasta ahora.\n",
    "    padres = {tuple(map(tuple, configuracion_inicial)): None}       # Se inicializa un diccionario llamado padres que se utilizará para mantener un registro de los padres de cada nodo. Aquí, se asigna la configuración inicial como una clave con el valor None, ya que no tiene un padre.\n",
    "    costo_camino = {tuple(map(tuple, configuracion_inicial)): 0}    # Se inicializa otro diccionario llamado costo_camino que se utilizará para mantener un registro del costo acumulado de llegar a cada nodo desde la configuración inicial. Se asigna la configuración inicial con un costo de 0.\n",
    "    ### contador = 0\n",
    "\n",
    "    while not frontera.empty():                                     # El algoritmo seguirá explorando nodos hasta que no haya más nodos en la frontera para explorar.\n",
    "        _, estado_actual = frontera.get()                           # Se saca el nodo con la mayor prioridad de la frontera y se asigna a estado_actual. El guion bajo _ se utiliza para descartar la prioridad, ya que no se necesita en este punto.\n",
    "\n",
    "        if esFinal(estado_actual, configuracion_objetivo):          # Ejecuta si el estado actual es el estado objetivo. Comienza con una lista vacía llamada camino y \n",
    "            camino = []                                             # agrega el estado actual a esta lista en cada iteración del bucle while. Luego, actualiza el estado \n",
    "            while estado_actual:                                    # actual al padre del estado actual (obtenido del diccionario padres). Esto continúa hasta que \n",
    "                camino.append(estado_actual)                        # estado_actual se convierte en None, lo que significa que hemos alcanzado el estado inicial. \n",
    "                estado_actual = padres[tuple(map(tuple, estado_actual))]\n",
    "            return camino[::-1]                                     # Finalmente, devuelve el camino invertido, ya que lo hemos construido desde el objetivo hacia el inicio.\n",
    "\n",
    "        for sucesor, distancia in expandir(estado_actual, configuracion_objetivo):\n",
    "            nuevo_costo = costo_camino[tuple(map(tuple, estado_actual))] + 1\n",
    "            if tuple(map(tuple, sucesor)) not in costo_camino or nuevo_costo < costo_camino[tuple(map(tuple, sucesor))]:\n",
    "                costo_camino[tuple(map(tuple, sucesor))] = nuevo_costo\n",
    "                prioridad = nuevo_costo + distancia\n",
    "                frontera.put((prioridad, sucesor))\n",
    "                padres[tuple(map(tuple, sucesor))] = estado_actual"
   ]
  },
  {
   "cell_type": "code",
   "execution_count": 6,
   "metadata": {},
   "outputs": [
    {
     "name": "stdout",
     "output_type": "stream",
     "text": [
      "Paso 1: [[3, 2], [], []]\n",
      "Paso 2: [[3], [2], []]\n",
      "Paso 3: [[], [2], [3]]\n",
      "Paso 4: [[], [], [3, 2]]\n"
     ]
    }
   ],
   "source": [
    "# Ejecutar el algoritmo A*\n",
    "inicio, meta = ingresar_datos_hanoi()\n",
    "solucion = heuristicaEstatica(inicio, meta)\n",
    "\n",
    "# Imprimir la solución\n",
    "for paso, estado in enumerate(solucion):\n",
    "            print(f\"Paso {paso + 1}: {estado}\")"
   ]
  },
  {
   "cell_type": "markdown",
   "metadata": {},
   "source": [
    "# Configuraciones inicial y objetivo\n",
    "configuracion_inicial = [[3, 2, 1], [], []]\n",
    "configuracion_objetivo = [[], [], [3, 2, 1]]\n",
    "\n",
    "# Configuración 2\n",
    "configuracion_inicial_2 = [[2, 1], [], [3]]\n",
    "configuracion_objetivo_2 = [[], [], [3, 2, 1]]\n",
    "\n",
    "# Configuración 3\n",
    "configuracion_inicial_3 = [[3], [2], [1]]\n",
    "configuracion_objetivo_3 = [[], [], [3, 2, 1]]\n",
    "\n",
    "# Configuración 4\n",
    "configuracion_inicial_4 = [[], [2, 1], [3]]\n",
    "configuracion_objetivo_4 = [[], [], [3, 2, 1]]\n",
    "\n",
    "# Configuración 5\n",
    "configuracion_inicial_5 = [[5], [4], [3, 2, 1]]\n",
    "configuracion_objetivo_5 = [[], [5, 4, 3], [2, 1]]"
   ]
  }
 ],
 "metadata": {
  "kernelspec": {
   "display_name": "Python 3",
   "language": "python",
   "name": "python3"
  },
  "language_info": {
   "codemirror_mode": {
    "name": "ipython",
    "version": 3
   },
   "file_extension": ".py",
   "mimetype": "text/x-python",
   "name": "python",
   "nbconvert_exporter": "python",
   "pygments_lexer": "ipython3",
   "version": "3.10.undefined"
  }
 },
 "nbformat": 4,
 "nbformat_minor": 2
}
