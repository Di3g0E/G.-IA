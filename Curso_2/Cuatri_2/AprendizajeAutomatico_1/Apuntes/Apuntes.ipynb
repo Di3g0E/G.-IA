{
 "cells": [
  {
   "cell_type": "markdown",
   "metadata": {},
   "source": [
    "# Apuntes"
   ]
  },
  {
   "cell_type": "code",
   "execution_count": 1,
   "metadata": {},
   "outputs": [],
   "source": [
    "# Librerías:\n",
    "import pandas as pd             # Manejo de datos\n",
    "import numpy as np              # Manejo de arrays n-dimensionales y func. matemáticas\n",
    "import scipy                    # Manejo de func. matemáticas y distrib. de probabilidad\n",
    "from sklearn.preprocessing import PolynomialFeatures, MinMaxScaler, MaxAbsScaler, StandardScaler\n",
    "from sklearn.feature_selection import VarianceThreshold\n",
    "from sklearn.experimental import enable_iterative_imputer\n",
    "from sklearn.impute import IterativeImputer\n",
    "import random                   # Generación aleatoria\n",
    "import matplotlib.pyplot as plt # Generación de gráficos"
   ]
  },
  {
   "cell_type": "code",
   "execution_count": 2,
   "metadata": {},
   "outputs": [],
   "source": [
    "# Base de datos de prueba\n",
    "from sklearn.datasets import load_iris"
   ]
  },
  {
   "cell_type": "code",
   "execution_count": 3,
   "metadata": {},
   "outputs": [],
   "source": [
    "### Abrir la Base de Datos: ###\n",
    "\n",
    "# bd = pd.read_csv('C:/Users/Diego/OneDrive - Universidad Rey Juan Carlos/Documentos/GIA_URJC/Curso 2023-24/G.-IA/G.-IA/Curso_2/Cuatri_2/AprendizajeAutomatico_1/Apuntes/california_housing_apuntes.csv', sep=',')\n",
    "\n",
    "# Base de datos de prueba:\n",
    "iris_data = load_iris()\n",
    "bd = pd.DataFrame(iris_data.data, columns=iris_data.feature_names)\n",
    "bd['species'] = pd.Categorical.from_codes(iris_data.target, iris_data.target_names)\n",
    "\n",
    "# Guardar tamaño de bd:\n",
    "N, D = bd.shape"
   ]
  },
  {
   "cell_type": "code",
   "execution_count": 4,
   "metadata": {},
   "outputs": [],
   "source": [
    "### Dividir en Train-Test: ###\n",
    "\n",
    "fraction_test = 0.2\n",
    "\n",
    "# Crea una lista con los índices de la bd:\n",
    "ind = bd.index.tolist()\n",
    "# Desordena los índices:\n",
    "random.shuffle(ind)\n",
    "\n",
    "# Calcula la cantidad de ejemplos que se guardan en test:\n",
    "N_test = int(N * fraction_test)\n",
    "\n",
    "# Divide los datos:\n",
    "test_df = bd.iloc[ind[:N_test]]\n",
    "train_df = bd.iloc[ind[N_test:]]\n"
   ]
  },
  {
   "cell_type": "code",
   "execution_count": 5,
   "metadata": {},
   "outputs": [
    {
     "name": "stdout",
     "output_type": "stream",
     "text": [
      "BD size: (150, 5)\n",
      "Train size: (120, 5) \t Test size: (30, 5)\n"
     ]
    }
   ],
   "source": [
    "# Imprime el tamaño de las bd:\n",
    "print(f'BD size: ({N}, {D})\\nTrain size: {train_df.shape} \\t Test size: {test_df.shape}')"
   ]
  },
  {
   "cell_type": "code",
   "execution_count": 6,
   "metadata": {},
   "outputs": [],
   "source": [
    "# Guardar los datos de train y Test en un directorio:\n",
    "\n",
    "# flag_save = True\n",
    "# if flag_save:\n",
    "#     train_folder = 'C:/Users/Diego/OneDrive - Universidad Rey Juan Carlos/Documentos/GIA_URJC/Curso 2023-24/G.-IA/G.-IA/Curso_2/Cuatri_2/AprendizajeAutomatico_1/Apuntes/'\n",
    "#     train_name   = 'train_df_apuntes.csv'\n",
    "#     train_df.to_csv(train_folder + train_name, sep=';', header=True)\n",
    "\n",
    "# if flag_save:\n",
    "#     test_folder = 'C:/Users/Diego/OneDrive - Universidad Rey Juan Carlos/Documentos/GIA_URJC/Curso 2023-24/G.-IA/G.-IA/Curso_2/Cuatri_2/AprendizajeAutomatico_1/Apuntes/'\n",
    "#     test_name   = 'test_apuntes.csv'\n",
    "#     test_df.to_csv(test_folder + test_name, sep=';', header=True)"
   ]
  },
  {
   "cell_type": "code",
   "execution_count": 7,
   "metadata": {},
   "outputs": [
    {
     "name": "stdout",
     "output_type": "stream",
     "text": [
      "<class 'pandas.core.frame.DataFrame'>\n",
      "Int64Index: 120 entries, 34 to 30\n",
      "Data columns (total 5 columns):\n",
      " #   Column             Non-Null Count  Dtype   \n",
      "---  ------             --------------  -----   \n",
      " 0   sepal length (cm)  120 non-null    float64 \n",
      " 1   sepal width (cm)   120 non-null    float64 \n",
      " 2   petal length (cm)  120 non-null    float64 \n",
      " 3   petal width (cm)   120 non-null    float64 \n",
      " 4   species            120 non-null    category\n",
      "dtypes: category(1), float64(4)\n",
      "memory usage: 4.9 KB\n"
     ]
    }
   ],
   "source": [
    "# Información de los datos para ver si hay que codificar:\n",
    "train_df.info()\n",
    "\n",
    "### Tipos de datos: Atributos 'continuos', 'discretos' y 'categóricos' ###"
   ]
  },
  {
   "cell_type": "code",
   "execution_count": 8,
   "metadata": {},
   "outputs": [
    {
     "name": "stdout",
     "output_type": "stream",
     "text": [
      "Columnas categóricas: ['species']\n",
      "     sepal length (cm)  sepal width (cm)  petal length (cm)  petal width (cm)  \\\n",
      "17                 5.1               3.5                1.4               0.3   \n",
      "23                 5.1               3.3                1.7               0.5   \n",
      "103                6.3               2.9                5.6               1.8   \n",
      "72                 6.3               2.5                4.9               1.5   \n",
      "110                6.5               3.2                5.1               2.0   \n",
      "\n",
      "     species  \n",
      "17         0  \n",
      "23         0  \n",
      "103        2  \n",
      "72         1  \n",
      "110        2  \n",
      "Decodificación: {'species': {0: 'setosa', 2: 'virginica', 1: 'versicolor'}}\n"
     ]
    },
    {
     "name": "stderr",
     "output_type": "stream",
     "text": [
      "C:\\Users\\Diego\\AppData\\Local\\Temp\\ipykernel_13412\\1781162713.py:13: SettingWithCopyWarning: \n",
      "A value is trying to be set on a copy of a slice from a DataFrame.\n",
      "Try using .loc[row_indexer,col_indexer] = value instead\n",
      "\n",
      "See the caveats in the documentation: https://pandas.pydata.org/pandas-docs/stable/user_guide/indexing.html#returning-a-view-versus-a-copy\n",
      "  train_cod[col] = codes                            # Asigna el valor codificado a la serie\n"
     ]
    }
   ],
   "source": [
    "### La codificación de los tipos categóricos no siempre hay que hacerla por la falta de estos###\n",
    "# 1) Averiguamos las columnas categóricas:\n",
    "cat_cols = train_df.select_dtypes(include='category').columns.tolist()\n",
    "\n",
    "# 2) Creamos un dataframe con las columnas categóricas:\n",
    "train_cod = train_df\n",
    "\n",
    "# 3) Codificamos la fila, a la vez que creamos una diccionario de diccionarios para descodificar en el futuro\n",
    "dict_decode={}\n",
    "for col in cat_cols:\n",
    "  codes = train_df[col].cat.codes                   # Codifica la serie del df actual\n",
    "  code_to_categ = dict(zip(codes,train_df[col]))    # Crea la relación de codificación\n",
    "  train_cod[col] = codes                            # Asigna el valor codificado a la serie\n",
    "  dict_decode[col] = code_to_categ                  # Añade la decodificación al diccionario\n",
    "\n",
    "print(f'Columnas categóricas: {cat_cols}\\n{train_cod.head()}\\nDecodificación: {dict_decode}')"
   ]
  },
  {
   "cell_type": "code",
   "execution_count": 9,
   "metadata": {},
   "outputs": [
    {
     "data": {
      "text/html": [
       "<div>\n",
       "<style scoped>\n",
       "    .dataframe tbody tr th:only-of-type {\n",
       "        vertical-align: middle;\n",
       "    }\n",
       "\n",
       "    .dataframe tbody tr th {\n",
       "        vertical-align: top;\n",
       "    }\n",
       "\n",
       "    .dataframe thead th {\n",
       "        text-align: right;\n",
       "    }\n",
       "</style>\n",
       "<table border=\"1\" class=\"dataframe\">\n",
       "  <thead>\n",
       "    <tr style=\"text-align: right;\">\n",
       "      <th></th>\n",
       "      <th>sepal length (cm)</th>\n",
       "      <th>sepal width (cm)</th>\n",
       "      <th>petal length (cm)</th>\n",
       "      <th>petal width (cm)</th>\n",
       "      <th>species</th>\n",
       "      <th>0</th>\n",
       "      <th>1</th>\n",
       "      <th>2</th>\n",
       "    </tr>\n",
       "  </thead>\n",
       "  <tbody>\n",
       "    <tr>\n",
       "      <th>17</th>\n",
       "      <td>5.1</td>\n",
       "      <td>3.5</td>\n",
       "      <td>1.4</td>\n",
       "      <td>0.3</td>\n",
       "      <td>0</td>\n",
       "      <td>1</td>\n",
       "      <td>0</td>\n",
       "      <td>0</td>\n",
       "    </tr>\n",
       "    <tr>\n",
       "      <th>23</th>\n",
       "      <td>5.1</td>\n",
       "      <td>3.3</td>\n",
       "      <td>1.7</td>\n",
       "      <td>0.5</td>\n",
       "      <td>0</td>\n",
       "      <td>1</td>\n",
       "      <td>0</td>\n",
       "      <td>0</td>\n",
       "    </tr>\n",
       "    <tr>\n",
       "      <th>103</th>\n",
       "      <td>6.3</td>\n",
       "      <td>2.9</td>\n",
       "      <td>5.6</td>\n",
       "      <td>1.8</td>\n",
       "      <td>2</td>\n",
       "      <td>0</td>\n",
       "      <td>0</td>\n",
       "      <td>1</td>\n",
       "    </tr>\n",
       "    <tr>\n",
       "      <th>72</th>\n",
       "      <td>6.3</td>\n",
       "      <td>2.5</td>\n",
       "      <td>4.9</td>\n",
       "      <td>1.5</td>\n",
       "      <td>1</td>\n",
       "      <td>0</td>\n",
       "      <td>1</td>\n",
       "      <td>0</td>\n",
       "    </tr>\n",
       "    <tr>\n",
       "      <th>110</th>\n",
       "      <td>6.5</td>\n",
       "      <td>3.2</td>\n",
       "      <td>5.1</td>\n",
       "      <td>2.0</td>\n",
       "      <td>2</td>\n",
       "      <td>0</td>\n",
       "      <td>0</td>\n",
       "      <td>1</td>\n",
       "    </tr>\n",
       "    <tr>\n",
       "      <th>...</th>\n",
       "      <td>...</td>\n",
       "      <td>...</td>\n",
       "      <td>...</td>\n",
       "      <td>...</td>\n",
       "      <td>...</td>\n",
       "      <td>...</td>\n",
       "      <td>...</td>\n",
       "      <td>...</td>\n",
       "    </tr>\n",
       "    <tr>\n",
       "      <th>137</th>\n",
       "      <td>6.4</td>\n",
       "      <td>3.1</td>\n",
       "      <td>5.5</td>\n",
       "      <td>1.8</td>\n",
       "      <td>2</td>\n",
       "      <td>0</td>\n",
       "      <td>0</td>\n",
       "      <td>1</td>\n",
       "    </tr>\n",
       "    <tr>\n",
       "      <th>124</th>\n",
       "      <td>6.7</td>\n",
       "      <td>3.3</td>\n",
       "      <td>5.7</td>\n",
       "      <td>2.1</td>\n",
       "      <td>2</td>\n",
       "      <td>0</td>\n",
       "      <td>0</td>\n",
       "      <td>1</td>\n",
       "    </tr>\n",
       "    <tr>\n",
       "      <th>13</th>\n",
       "      <td>4.3</td>\n",
       "      <td>3.0</td>\n",
       "      <td>1.1</td>\n",
       "      <td>0.1</td>\n",
       "      <td>0</td>\n",
       "      <td>1</td>\n",
       "      <td>0</td>\n",
       "      <td>0</td>\n",
       "    </tr>\n",
       "    <tr>\n",
       "      <th>34</th>\n",
       "      <td>4.9</td>\n",
       "      <td>3.1</td>\n",
       "      <td>1.5</td>\n",
       "      <td>0.2</td>\n",
       "      <td>0</td>\n",
       "      <td>1</td>\n",
       "      <td>0</td>\n",
       "      <td>0</td>\n",
       "    </tr>\n",
       "    <tr>\n",
       "      <th>119</th>\n",
       "      <td>6.0</td>\n",
       "      <td>2.2</td>\n",
       "      <td>5.0</td>\n",
       "      <td>1.5</td>\n",
       "      <td>2</td>\n",
       "      <td>0</td>\n",
       "      <td>0</td>\n",
       "      <td>1</td>\n",
       "    </tr>\n",
       "  </tbody>\n",
       "</table>\n",
       "<p>120 rows × 8 columns</p>\n",
       "</div>"
      ],
      "text/plain": [
       "     sepal length (cm)  sepal width (cm)  petal length (cm)  petal width (cm)  \\\n",
       "17                 5.1               3.5                1.4               0.3   \n",
       "23                 5.1               3.3                1.7               0.5   \n",
       "103                6.3               2.9                5.6               1.8   \n",
       "72                 6.3               2.5                4.9               1.5   \n",
       "110                6.5               3.2                5.1               2.0   \n",
       "..                 ...               ...                ...               ...   \n",
       "137                6.4               3.1                5.5               1.8   \n",
       "124                6.7               3.3                5.7               2.1   \n",
       "13                 4.3               3.0                1.1               0.1   \n",
       "34                 4.9               3.1                1.5               0.2   \n",
       "119                6.0               2.2                5.0               1.5   \n",
       "\n",
       "     species  0  1  2  \n",
       "17         0  1  0  0  \n",
       "23         0  1  0  0  \n",
       "103        2  0  0  1  \n",
       "72         1  0  1  0  \n",
       "110        2  0  0  1  \n",
       "..       ... .. .. ..  \n",
       "137        2  0  0  1  \n",
       "124        2  0  0  1  \n",
       "13         0  1  0  0  \n",
       "34         0  1  0  0  \n",
       "119        2  0  0  1  \n",
       "\n",
       "[120 rows x 8 columns]"
      ]
     },
     "execution_count": 9,
     "metadata": {},
     "output_type": "execute_result"
    }
   ],
   "source": [
    "### Tambien se puede codificar por One-Hot. Elegir cómo nos viene mejor. ###\n",
    "### Codificación One-hot: crea una columna por cada categoría validando con 1 y 0 ###\n",
    "OneHot_codification = train_df\n",
    "for col in cat_cols:\n",
    "    OneHot_codification = pd.concat([OneHot_codification, pd.get_dummies(OneHot_codification[col])], axis=1)\n",
    "\n",
    "OneHot_codification"
   ]
  },
  {
   "cell_type": "code",
   "execution_count": 10,
   "metadata": {},
   "outputs": [
    {
     "name": "stdout",
     "output_type": "stream",
     "text": [
      "<class 'pandas.core.frame.DataFrame'>\n",
      "Int64Index: 120 entries, 17 to 119\n",
      "Data columns (total 5 columns):\n",
      " #   Column             Non-Null Count  Dtype  \n",
      "---  ------             --------------  -----  \n",
      " 0   sepal length (cm)  120 non-null    float64\n",
      " 1   sepal width (cm)   120 non-null    float64\n",
      " 2   petal length (cm)  120 non-null    float64\n",
      " 3   petal width (cm)   120 non-null    float64\n",
      " 4   species            120 non-null    int8   \n",
      "dtypes: float64(4), int8(1)\n",
      "memory usage: 4.8 KB\n",
      "None \n",
      "\n",
      "       sepal length (cm)  sepal width (cm)  petal length (cm)  \\\n",
      "count         120.000000        120.000000         120.000000   \n",
      "mean            5.845833          3.004167           3.826667   \n",
      "std             0.822263          0.411269           1.728249   \n",
      "min             4.300000          2.000000           1.000000   \n",
      "25%             5.100000          2.775000           1.600000   \n",
      "50%             5.800000          3.000000           4.400000   \n",
      "75%             6.400000          3.225000           5.100000   \n",
      "max             7.900000          4.200000           6.900000   \n",
      "\n",
      "       petal width (cm)     species  \n",
      "count        120.000000  120.000000  \n",
      "mean           1.235000    1.041667  \n",
      "std            0.752659    0.813704  \n",
      "min            0.100000    0.000000  \n",
      "25%            0.300000    0.000000  \n",
      "50%            1.300000    1.000000  \n",
      "75%            1.800000    2.000000  \n",
      "max            2.500000    2.000000   \n",
      "\n"
     ]
    },
    {
     "data": {
      "text/html": [
       "<div>\n",
       "<style scoped>\n",
       "    .dataframe tbody tr th:only-of-type {\n",
       "        vertical-align: middle;\n",
       "    }\n",
       "\n",
       "    .dataframe tbody tr th {\n",
       "        vertical-align: top;\n",
       "    }\n",
       "\n",
       "    .dataframe thead th {\n",
       "        text-align: right;\n",
       "    }\n",
       "</style>\n",
       "<table border=\"1\" class=\"dataframe\">\n",
       "  <thead>\n",
       "    <tr style=\"text-align: right;\">\n",
       "      <th></th>\n",
       "      <th>sepal length (cm)</th>\n",
       "      <th>sepal width (cm)</th>\n",
       "      <th>petal length (cm)</th>\n",
       "      <th>petal width (cm)</th>\n",
       "      <th>species</th>\n",
       "    </tr>\n",
       "  </thead>\n",
       "  <tbody>\n",
       "    <tr>\n",
       "      <th>0</th>\n",
       "      <td>5.0</td>\n",
       "      <td>3.0</td>\n",
       "      <td>1.5</td>\n",
       "      <td>0.2</td>\n",
       "      <td>2.0</td>\n",
       "    </tr>\n",
       "    <tr>\n",
       "      <th>1</th>\n",
       "      <td>6.3</td>\n",
       "      <td>NaN</td>\n",
       "      <td>NaN</td>\n",
       "      <td>NaN</td>\n",
       "      <td>NaN</td>\n",
       "    </tr>\n",
       "  </tbody>\n",
       "</table>\n",
       "</div>"
      ],
      "text/plain": [
       "   sepal length (cm)  sepal width (cm)  petal length (cm)  petal width (cm)  \\\n",
       "0                5.0               3.0                1.5               0.2   \n",
       "1                6.3               NaN                NaN               NaN   \n",
       "\n",
       "   species  \n",
       "0      2.0  \n",
       "1      NaN  "
      ]
     },
     "execution_count": 10,
     "metadata": {},
     "output_type": "execute_result"
    }
   ],
   "source": [
    "# Ver la información del df\n",
    "print(train_cod.info(), '\\n')        # Indica el tamaño, los tipos de datos y cuántos son 'Na' de cada atributo\n",
    "print(train_cod.describe(), '\\n')    # Indica la descripción estadística básica excepto la moda de cada atributo en forma de tabla\n",
    "train_cod.mode(axis=0, dropna=False) # Devuelve una tabla con las modas de cada atributo"
   ]
  },
  {
   "cell_type": "markdown",
   "metadata": {},
   "source": [
    "### Búsqueda de valores NaN:"
   ]
  },
  {
   "cell_type": "code",
   "execution_count": 11,
   "metadata": {},
   "outputs": [
    {
     "name": "stdout",
     "output_type": "stream",
     "text": [
      "Columnas con valores nulos:\n",
      "Series([], dtype: int64)\n",
      "\n",
      "Filas con valores nulos:\n",
      "Series([], dtype: int64)\n",
      "\n",
      "Valores NaN en cada fila:\n",
      "0    120\n",
      "dtype: int64\n",
      "Valores NaN en cada columna:\n",
      "0    5\n",
      "dtype: int64\n"
     ]
    }
   ],
   "source": [
    "# Búsqueda de valores NaN:\n",
    "missing_data = train_cod.isna()\n",
    "missing_data.sum()\n",
    "\n",
    "missing_values_per_column = missing_data.sum(axis=0)    # 'NA' por cada columna\n",
    "missing_values_per_row = missing_data.sum(axis=1)       # 'NA' por cada fila\n",
    "\n",
    "mask_mayorq0 = missing_values_per_column > 0            # Crea una máscara de Pandas para indicar si hay columnas con NA\n",
    "mask_mayorq1 = missing_values_per_row > 0               # Crea una máscara de Pandas para indicar si hay filas con NA\n",
    "\n",
    "print(f'Columnas con valores nulos:\\n{missing_values_per_column[mask_mayorq0]}\\n')\n",
    "print(f'Filas con valores nulos:\\n{missing_values_per_row[mask_mayorq1]}\\n')\n",
    "\n",
    "missing_count_row = missing_values_per_row.value_counts().sort_index()\n",
    "print(f'Valores NaN en cada fila:\\n{missing_count_row}')\n",
    "missing_count_col = missing_values_per_column.value_counts().sort_index()\n",
    "print(f'Valores NaN en cada columna:\\n{missing_count_col}')"
   ]
  },
  {
   "cell_type": "markdown",
   "metadata": {},
   "source": [
    "##### Se puede hacer una de las siguientes cosas con los valores NaN:\n",
    "- Eliminar filas/columnas Nan\n",
    "- Imputación univariada\n",
    "- Imputación multivariante"
   ]
  },
  {
   "cell_type": "code",
   "execution_count": null,
   "metadata": {},
   "outputs": [],
   "source": [
    "### Eliminar filas y columnas con NaN excesivos ###\n",
    "\n",
    "# Eliminar filas:\n",
    "if missing_count_row.index[-1] > 0:                                         # Calcular la cantidad máxima de valores nulos por fila\n",
    "    mask_toDrop = missing_values_per_row >= missing_count_row.index[-1]     # Filtro que busca las filas con el número de valores perdidos máximo\n",
    "    drop_list_row = missing_values_per_row[mask_toDrop].index.tolist()      # Crea una lista de índices de las filas que cumplen con la condición\n",
    "    train_cod.drop(drop_list_row, inplace=True)                             # Eliminar las filas guardadas en 'drop_list' del DataFrame original\n",
    "\n",
    "# Eliminar columnas:                                      \n",
    "if missing_count_col.index[-1] > 0:                                     # Calcular la cantidad máxima de valores nulos por columna\n",
    "    mask_toDrop = missing_values_per_column >= missing_count_col.index[-1]  # Filtro que busca las filas con el número de valores perdidos máximo\n",
    "    drop_list_col = missing_values_per_column[mask_toDrop].index.tolist()   # Crea una lista de índices de las columnas que cumplen con la condición\n",
    "    train_cod.drop(drop_list_col, inplace=True)                             # Eliminar las columnas guardadas en 'drop_list' del DataFrame original, al usar implace no hace falta poner 'df = ...'\n",
    "\n",
    "# Tamaño del DataFrame redimensionado:\n",
    "train_cod.shape"
   ]
  },
  {
   "cell_type": "code",
   "execution_count": null,
   "metadata": {},
   "outputs": [],
   "source": [
    "### Imputación univariada de los datos NaN: ###\n",
    "\n",
    "train_cod.fillna(train_cod.median(axis=0), inplace=True)    # Sustituye los valores NaN por el valore de la mediana\n",
    "train_cod.shape\n",
    "# Se pueden sustituir por la media o el valor más repetido (moda)\n",
    "# El problema de esta técnica es que puede crear ejemplos imposibles como decir que un hombre está embarazado"
   ]
  },
  {
   "cell_type": "code",
   "execution_count": null,
   "metadata": {},
   "outputs": [],
   "source": [
    "### Imputación multivariante de los datos NaN: ###\n",
    "\n",
    "imputer = IterativeImputer()\n",
    "train_imputed = imputer.fit_transform(train_cod)\n",
    "\n",
    "# Convertir de nuevo a DataFrame\n",
    "train_imputed = pd.DataFrame(train_imputed, columns=train_cod.columns)\n",
    "\n",
    "# Recuento de NaN:\n",
    "train_imputed.isna().sum()"
   ]
  },
  {
   "cell_type": "markdown",
   "metadata": {},
   "source": [
    "### Ingeniería de características:"
   ]
  },
  {
   "cell_type": "code",
   "execution_count": 13,
   "metadata": {},
   "outputs": [],
   "source": [
    "# Aumento de la dimensionalidad de la tabla:\n",
    "train_dim = train_cod\n",
    "degree = 2\n",
    "interaction_only = True\n",
    "\n",
    "polyf = PolynomialFeatures(degree=degree, interaction_only=interaction_only, include_bias=False)    # include_bias es una columna de sesgo (todo 1)\n",
    "polyf.set_output(transform=\"pandas\")\n",
    "\n",
    "# No se puede hacer esta línea de comando con el test NUNCA:\n",
    "polyf.fit(train_dim)\n",
    "# Adapta los datos a las nuevas características:\n",
    "train_dim = polyf.transform(train_dim)"
   ]
  },
  {
   "cell_type": "code",
   "execution_count": 43,
   "metadata": {},
   "outputs": [
    {
     "name": "stdout",
     "output_type": "stream",
     "text": [
      "Info. Dataframe aumentado:\n",
      "\n",
      "<class 'pandas.core.frame.DataFrame'>\n",
      "Int64Index: 120 entries, 17 to 119\n",
      "Data columns (total 15 columns):\n",
      " #   Column                               Non-Null Count  Dtype  \n",
      "---  ------                               --------------  -----  \n",
      " 0   sepal length (cm)                    120 non-null    float64\n",
      " 1   sepal width (cm)                     120 non-null    float64\n",
      " 2   petal length (cm)                    120 non-null    float64\n",
      " 3   petal width (cm)                     120 non-null    float64\n",
      " 4   species                              120 non-null    float64\n",
      " 5   sepal length (cm) sepal width (cm)   120 non-null    float64\n",
      " 6   sepal length (cm) petal length (cm)  120 non-null    float64\n",
      " 7   sepal length (cm) petal width (cm)   120 non-null    float64\n",
      " 8   sepal length (cm) species            120 non-null    float64\n",
      " 9   sepal width (cm) petal length (cm)   120 non-null    float64\n",
      " 10  sepal width (cm) petal width (cm)    120 non-null    float64\n",
      " 11  sepal width (cm) species             120 non-null    float64\n",
      " 12  petal length (cm) petal width (cm)   120 non-null    float64\n",
      " 13  petal length (cm) species            120 non-null    float64\n",
      " 14  petal width (cm) species             120 non-null    float64\n",
      "dtypes: float64(15)\n",
      "memory usage: 15.0 KB\n"
     ]
    }
   ],
   "source": [
    "print(f'Info. Dataframe aumentado:\\n')\n",
    "train_dim.info()"
   ]
  },
  {
   "cell_type": "code",
   "execution_count": 34,
   "metadata": {},
   "outputs": [],
   "source": [
    "### Transformaciones sin modificar la dimensionalidad ###\n",
    "\n",
    "# Escalado al intervalo unidad:\n",
    "train_MinMaxScaler = train_dim\n",
    "\n",
    "scaler = MinMaxScaler()\n",
    "scaler.fit(train_MinMaxScaler)\n",
    "train_MinMaxScaler = scaler.transform(train_MinMaxScaler)\n",
    "\n",
    "# Esclalado al máximo en valor absoluto:\n",
    "train_MaxAbScaler = train_dim\n",
    "\n",
    "scaler = MaxAbsScaler()\n",
    "scaler.fit(train_MaxAbScaler)\n",
    "train_MaxAbScaler = scaler.transform(train_MaxAbScaler)\n",
    "\n",
    "# Estandarización:\n",
    "train_Standar = train_dim\n",
    "\n",
    "scaler = StandardScaler()\n",
    "scaler.fit(train_Standar)\n",
    "train_Standar = scaler.transform(train_Standar)"
   ]
  },
  {
   "cell_type": "code",
   "execution_count": null,
   "metadata": {},
   "outputs": [],
   "source": [
    "# Dibujo de la tabla de correlación de los diferentes atributos:\n",
    "\n",
    "corr_matrix = train_dim.corr()\n",
    "\n",
    "fig, ax = plt.subplots(figsize=(10,8))          # Tamaño de la figura\n",
    "cax = ax.matshow(corr_matrix, cmap='coolwarm')  # Dibujar el mapa de calor\n",
    "\n",
    "fig.colorbar(cax, label='Correlación')\n",
    "plt.title('Mapa de calor de la matriz de correlación')\n",
    "ax.set_yticks(np.arange(len(corr_matrix.columns)))\n",
    "ax.set_yticklabels(corr_matrix.columns)\n",
    "\n",
    "plt.show()"
   ]
  }
 ],
 "metadata": {
  "kernelspec": {
   "display_name": "Python 3",
   "language": "python",
   "name": "python3"
  },
  "language_info": {
   "codemirror_mode": {
    "name": "ipython",
    "version": 3
   },
   "file_extension": ".py",
   "mimetype": "text/x-python",
   "name": "python",
   "nbconvert_exporter": "python",
   "pygments_lexer": "ipython3",
   "version": "3.10.11"
  }
 },
 "nbformat": 4,
 "nbformat_minor": 2
}
