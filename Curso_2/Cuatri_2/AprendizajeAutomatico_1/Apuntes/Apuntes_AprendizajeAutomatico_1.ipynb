{
 "cells": [
  {
   "cell_type": "markdown",
   "metadata": {},
   "source": [
    "# APRENDIZAJE AUTOMÁTICO 1"
   ]
  },
  {
   "cell_type": "markdown",
   "metadata": {},
   "source": [
    "Los datos más usados son los `datos tabulados` que se representan en tablas:\n",
    "- cada **fila** es un **ejemplo**\n",
    "- cada **columna** sin tratar es un **atributo** $\\rightarrow$ *datos en crudo*\n",
    "- cada **columna** tratada es una **serie**"
   ]
  },
  {
   "cell_type": "markdown",
   "metadata": {},
   "source": [
    "## Tipos de datos:"
   ]
  },
  {
   "cell_type": "markdown",
   "metadata": {},
   "source": [
    "Cada columna puede tener tipos de datos diferentes:\n",
    "- atributos continuos $\\rightarrow$ Son aquellos atributos que pueden tomar cualquier valor en un intervalo de $\\mathbb R$.\n",
    "- atrubutos discretos $\\rightarrow$ Son aquellos atributos que pueden tomar solo un número finito de valores dentro de un intervalo $(a,b)$.\n",
    "- atributos categóricos $\\rightarrow$ Son aquellos atributos que pueden tomar sólo un número finito de valores dentro de un conjunto que puede no tener una relación de orden entre sus miembros.\n",
    "\n",
    "Los `dtypes` de un dataframe pueden ser:\n",
    "- `int64`: Números enteros\n",
    "- `float64`: Números de punto flotante\n",
    "- `object`: Tipo general para texto, o columnas mixtas de números y texto\n",
    "- `bool`: Valores booleanos: True/False\n",
    "- `datetime64`: Fecha y hora\n",
    "- `timedelta[ns]`: Diferencias entre dos datetimes\n",
    "- `category`: Lista finita de valores de texto"
   ]
  },
  {
   "cell_type": "markdown",
   "metadata": {},
   "source": [
    "## Pasos a realizar para limpiar el `df`:"
   ]
  },
  {
   "cell_type": "markdown",
   "metadata": {},
   "source": [
    "#### 1. Importar las librerías que se van a utilizar:"
   ]
  },
  {
   "cell_type": "code",
   "execution_count": null,
   "metadata": {},
   "outputs": [],
   "source": [
    "import pandas as pd             # Manejo de datos\n",
    "import numpy as np              # Manejo de arrays n-dimensionales y func. matemáticas\n",
    "import scipy                    # Manejo de func. matemáticas y distrib. de probabilidad\n",
    "#import sklearn                 # Biblioteca de ML\n",
    "from sklearn.preprocessing import PolynomialFeatures\n",
    "from sklearn.preprocessing import MinMaxScaler, MaxAbsScaler, StandardScaler\n",
    "from sklearn.feature_selection import VarianceThreshold\n",
    "from sklearn.datasets import load_iris\n",
    "import random                   # Generación aleatoria\n",
    "import matplotlib.pyplot as plt # Generación de gráficos"
   ]
  },
  {
   "cell_type": "markdown",
   "metadata": {},
   "source": [
    "#### 2. Abrir la `BD`"
   ]
  },
  {
   "cell_type": "code",
   "execution_count": null,
   "metadata": {},
   "outputs": [],
   "source": [
    "fullSet = pd.read_csv('folder_name + file_name')\n",
    "# fullSet = pd.read_csv('sample_data/california_housing_train.csv')"
   ]
  },
  {
   "cell_type": "markdown",
   "metadata": {},
   "source": [
    "#### 3. Dividir la `BD` en `train` y `test` \n",
    "> _MUY IMPORTANTE NO TOCAR EL TEST UNA VEZ CREADO_"
   ]
  },
  {
   "cell_type": "markdown",
   "metadata": {},
   "source": [
    "##### 3.1 Guardar el número de filas (`N`) y columnas (`D`) en variables"
   ]
  },
  {
   "cell_type": "code",
   "execution_count": null,
   "metadata": {},
   "outputs": [],
   "source": [
    "N,D = fullSet.shape"
   ]
  },
  {
   "cell_type": "markdown",
   "metadata": {},
   "source": [
    "##### 3.2 Hacer la división del `df` en `train` y `test` indicando el porcentaje de cada uno"
   ]
  },
  {
   "cell_type": "markdown",
   "metadata": {},
   "source": [
    "> _En este caso va a ser 20% `test` y 80% `train`_"
   ]
  },
  {
   "cell_type": "code",
   "execution_count": null,
   "metadata": {},
   "outputs": [],
   "source": [
    "fraction_test = 0.2                   # El 0.2 de las filas del df va a ser del test\n",
    "\n",
    "idx = fullSet.index.tolist()          # Mete todos los índices del df en una lista\n",
    "random.shuffle(idx)                   # Mezcla la lista con los índices del df antes de hacer la división para que sea más homogénea\n",
    "\n",
    "N_test = int(N*fraction_test)         # Calcula el número de filas que se van a guardar en el conjunto de 'test'\n",
    "testSet = fullSet.iloc[idx[:N_test]]\n",
    "trainSet = fullSet.iloc[idx[N_test:]]"
   ]
  },
  {
   "cell_type": "markdown",
   "metadata": {},
   "source": [
    "##### 3.3 Muestra el tamaño de cada muestra y guarda cada uno de los nuevos df en archivos diferentes"
   ]
  },
  {
   "cell_type": "code",
   "execution_count": null,
   "metadata": {},
   "outputs": [],
   "source": [
    "print(f'El tamaño del conj. de entrenamiento es: ',trainSet.shape)\n",
    "print(f'El tamaño del conj. de test es: ',testSet.shape)"
   ]
  },
  {
   "cell_type": "markdown",
   "metadata": {},
   "source": [
    "Guardar los datos de entrenamiento:"
   ]
  },
  {
   "cell_type": "code",
   "execution_count": null,
   "metadata": {},
   "outputs": [],
   "source": [
    "flag_save_test = True          # Guarda para el bucle de la división\n",
    "if flag_save_test:\n",
    "  train_folder = \".....\" #<- ruta de la carpeta, por ejemplo \"sample_data/\"\n",
    "  train_name   = \".....\" #<- nombre del CSV donde guardamos testSet\n",
    "  trainSet.to_csv(train_folder + train_name, dec='.', sep=';', header=True)"
   ]
  },
  {
   "cell_type": "markdown",
   "metadata": {},
   "source": [
    "Guardar los datos de test:"
   ]
  },
  {
   "cell_type": "code",
   "execution_count": null,
   "metadata": {},
   "outputs": [],
   "source": [
    "flag_save_test = True          # Guarda para el bucle de la división\n",
    "if flag_save_test:\n",
    "  test_folder = \".....\" #<- ruta de la carpeta, por ejemplo \"sample_data/\"\n",
    "  test_name   = \".....\" #<- nombre del CSV donde guardamos testSet\n",
    "  testSet.to_csv(test_folder + test_name, dec='.', sep=';', header=True)"
   ]
  },
  {
   "cell_type": "markdown",
   "metadata": {},
   "source": [
    "#### 4. Codificación de los datos categóricos"
   ]
  },
  {
   "cell_type": "markdown",
   "metadata": {},
   "source": [
    "##### _Creación del dataframe de ejemplo:_"
   ]
  },
  {
   "cell_type": "code",
   "execution_count": null,
   "metadata": {},
   "outputs": [],
   "source": [
    "N = 10\n",
    "df_categorico = pd.DataFrame({\n",
    "    'Atributo 1': [random.choice(['hombre', 'mujer']) for _ in range(N)],\n",
    "    'Atributo 2': [random.choice(['rojo', 'verde', 'azul']) for _ in range(N)],\n",
    "}, dtype=\"category\")\n",
    "\n",
    "print(df_categorico)"
   ]
  },
  {
   "cell_type": "markdown",
   "metadata": {},
   "source": [
    "##### 4.1 Asignación automática por Python"
   ]
  },
  {
   "cell_type": "markdown",
   "metadata": {},
   "source": [
    "Los datos categóricos se tienen que cambiar a valores numéricos para poder trabajar con ellos de forma más cómoda.\n",
    "\n",
    "Pandas permite codificar con enteros una Serie.<br>\n",
    "Por ejemplo:  `df_categorico['Atributo 1'].cat.codes`\n",
    "\n",
    "Si queremos codificar todos los atributos categóricos de un DataFrame debemos recorrer sus columnas ejecutando `cat.codes`.\n",
    "\n",
    "Para saber a qué categoría se corresponde cada entero lo mejor es ir creando un diccionario al mismo tiempo. Para ello juntaremos códigos y categorías en la estructura de datos `dict` de Python."
   ]
  },
  {
   "cell_type": "code",
   "execution_count": null,
   "metadata": {},
   "outputs": [],
   "source": [
    "codes1 = df_categorico['Atributo 1'].cat.codes                  # Codifica cada valor de la serie 'Atributo 1'\n",
    "code_to_categ1 = dict(zip(codes1,df_categorico['Atributo 1']))  # Recupera la categoría a partir del código asignado\n",
    "\n",
    "codes2 = df_categorico['Atributo 2'].cat.codes                  # Codifica cada valor de la serie 'Atributo 2'\n",
    "code_to_categ2 = dict(zip(codes2,df_categorico['Atributo 2']))  # Recupera la categoría a partir del código asignado"
   ]
  },
  {
   "cell_type": "code",
   "execution_count": null,
   "metadata": {},
   "outputs": [],
   "source": [
    "print('Diccionario código->categoría: ',code_to_categ1)\n",
    "print('Diccionario código->categoría: ',code_to_categ2)"
   ]
  },
  {
   "cell_type": "markdown",
   "metadata": {},
   "source": [
    "##### 4.2 Asignación manual"
   ]
  },
  {
   "cell_type": "code",
   "execution_count": null,
   "metadata": {},
   "outputs": [],
   "source": [
    "categorias1 = df_categorico['Atributo 1'].unique()                                                          # Indica cuántas categ. diferentes y cuáles hay en el df con '.unique'\n",
    "categ_to_code1= {string: i for i, string in enumerate(categorias1)}                                         # Crea el diccionario con las relaciones de valores\n",
    "categ1 = df_categorico['Atributo 1'].map(categ_to_code1)                                                    # Aplica el cambio de valor al df\n",
    "\n",
    "categorias2 = ['blanco','amarillo','verde','cian','rosa','azul','morado','rojo','marrón','gris','negro']    # Lista de posibles dibujos que pueden aparecer\n",
    "categ_to_code2= {string: i for i, string in enumerate(categorias2)}                                         # Recorre la lista y asocia un número a cada color y lo guarda en un diccionario\n",
    "categ2 = df_categorico['Atributo 2'].map(categ_to_code2)                                                    # Aplica el cambio de valor al df"
   ]
  },
  {
   "cell_type": "code",
   "execution_count": null,
   "metadata": {},
   "outputs": [],
   "source": [
    "print('Diccionario categoría->código: ',categ_to_code1)\n",
    "print(categ1, \"\\n\")\n",
    "\n",
    "print('Diccionario categoría->código: ',categ_to_code2,)\n",
    "print(categ2)"
   ]
  },
  {
   "cell_type": "markdown",
   "metadata": {},
   "source": [
    "##### 4.3 Automatización"
   ]
  },
  {
   "cell_type": "markdown",
   "metadata": {},
   "source": [
    "Estos métodos están orientados a Series, es decir a columnas. <br>\n",
    "Si queremos cambiar todas las columnas categóricas por un código debemos hacerlo en un bucle PERO primero hay que identificar en cuales hay que actuar."
   ]
  },
  {
   "cell_type": "code",
   "execution_count": null,
   "metadata": {},
   "outputs": [],
   "source": [
    "# 1) averiguamos las columnas categóricas\n",
    "cat_cols = df_categorico.select_dtypes(include='category').columns.tolist()\n",
    "# 2) creamos un dataframe con las columnas categóricas pero sin filas\n",
    "df_cat_coded = pd.DataFrame(columns=cat_cols)\n",
    "# 3) creamos un bucle que las recorra y las codifique, a la vez que creamos una diccionario de diccionarios para descodificar en el futuro\n",
    "dict_decode={}\n",
    "for col in cat_cols:\n",
    "  codes = df_categorico[col].cat.codes\n",
    "  code_to_categ = dict(zip(codes,df_categorico[col]))\n",
    "  df_cat_coded[col] = codes\n",
    "  dict_decode[col] = code_to_categ"
   ]
  },
  {
   "cell_type": "code",
   "execution_count": null,
   "metadata": {},
   "outputs": [],
   "source": [
    "print(df_cat_coded)\n",
    "print(dict_decode)"
   ]
  },
  {
   "cell_type": "markdown",
   "metadata": {},
   "source": [
    "##### 4.4 Codificación _One-hot_"
   ]
  },
  {
   "cell_type": "markdown",
   "metadata": {},
   "source": [
    "En esta codificación se crea una columna extra por cada categoría e indica con `1` en aquel valor que sí lo cumple y con `0` el que no.\n",
    "\n",
    "<u>_Ejemplo:_</u><br> Para el atributo \"Color\" con tres categorías _{Rojo, Verde, Azul}_ se crearían 3 columnas: \"Rojo\", \"Verde\" y \"Azul\"."
   ]
  },
  {
   "cell_type": "code",
   "execution_count": null,
   "metadata": {},
   "outputs": [],
   "source": [
    "one_hot = pd.get_dummies(df_categorico['Atributo 1'])   #Crear un df nuevo únicamente con las nuevas series de datos\n",
    "df = pd.concat([df_categorico, one_hot], axis=1)        # Unir el dataframe original con el dataframe codificado\n",
    "df"
   ]
  },
  {
   "cell_type": "markdown",
   "metadata": {},
   "source": [
    "##### 4.5 Librerías de codificación"
   ]
  },
  {
   "cell_type": "markdown",
   "metadata": {},
   "source": [
    "En particular, en La biblioteca **SciKit-Learn** de Python podemos encontrar algunos métodos de codificación similares a los que hemos visto en Pandas. <br>\n",
    "Conviene conocerlos pero no los utilizaremos hasta que no empezemos a aprender modelos.\n",
    "\n",
    "| | |\n",
    "|----|----|\n",
    "| `preprocessing.LabelEncoder` | Encode target labels with value between 0 and n_classes-1 |\n",
    "| `preprocessing.OneHotEncoder` | Encode categorical features as a one-hot numeric array |\n",
    "| `preprocessing.OrdinalEncoder` | Encode categorical features as an integer array. |\n",
    "| `preprocessing.TargetEncoder` |  \tTarget Encoder for regression and classification targets |"
   ]
  },
  {
   "cell_type": "markdown",
   "metadata": {},
   "source": [
    "#### 5. Exploración de los datos (`INFO`)"
   ]
  },
  {
   "cell_type": "markdown",
   "metadata": {},
   "source": [
    "##### 5.1 Descripción estadística básica:\n",
    "- Tamaño del conjunto de datos (número de ejemplos (`filas`) y dimensionalidad (`columnas`)): $N=?, D=?$\n",
    "- Localizar atributos **NO** numéricos y convertirlos\n",
    "- Media y desviación estandard de cada atributo: $\\mu(x_i)=?$, $\\sigma_i(x_i)=?$ , para $i=1\\ldots D$.\n",
    "- Mediana de cada atributo: $Q_{50}(x_i)=?$\n",
    "- Moda de cada atributo: $\\text{Moda}(x_i) = ?$\n",
    "- Máx. y mín. de cada atributo: $\\max(x_i)= ?$  , $\\min(x_i)= ?$"
   ]
  },
  {
   "cell_type": "markdown",
   "metadata": {},
   "source": [
    "Opción 1: ir  viendo los datos de cada atributo por separado y guardándolos en variables diferentes"
   ]
  },
  {
   "cell_type": "code",
   "execution_count": null,
   "metadata": {},
   "outputs": [],
   "source": [
    "N,D = trainSet.shape                                # Tamaño del df\n",
    "trainSet.dtypes                                     # Tipo de dato de cada atributo\n",
    "media = trainSet['atributo'].mean()                 # Media\n",
    "desviacion_estandar = trainSet['atributo'].std()    # Desviación estandar\n",
    "mediana = trainSet['atributo'].median()             # Mediana\n",
    "moda = trainSet['atributo'].mode()[0]               # mode() devuelve una serie porque puede tener más de una moda, así que tomamos el primer elemento (Pero también se puede guardar toda la lista)\n",
    "maximo = trainSet['atributo'].max()                 # Máximo\n",
    "minimo = trainSet['atributo'].min()                 # Mínimo"
   ]
  },
  {
   "cell_type": "markdown",
   "metadata": {},
   "source": [
    "Opción 2: ver toda la información diréctamente sin guardar cada dato"
   ]
  },
  {
   "cell_type": "code",
   "execution_count": null,
   "metadata": {},
   "outputs": [],
   "source": [
    "print(trainSet.info())              # Indica el tamaño, los tipos de datos y cuántos son 'Na' de cada atributo\n",
    "trainSet.describe()                 # Indica la descripción estadística básica excepto la moda de cada atributo en forma de tabla\n",
    "trainSet.mode(axis=0, dropna=False) # Devuelve una tabla con las modas de cada atributo"
   ]
  },
  {
   "cell_type": "markdown",
   "metadata": {},
   "source": [
    "##### 5.2 Visualización de la distribución de los datos (`Cuidado`)"
   ]
  },
  {
   "cell_type": "markdown",
   "metadata": {},
   "source": [
    "> Hay que intentar `realizar los ejercicios sin visualizar los datos` porque va a haber ocasiones que nuestra `base de datos` sea tan `grande` que sea imposible abarcarlo todo\n",
    "\n",
    "Pero para `algunos casos` viene `bien` visualizar los datos, es por ello que hacemos uso de las gráficas.\n",
    "El siguiente código compara cada una de los atributos de la tabla con el resto."
   ]
  },
  {
   "cell_type": "code",
   "execution_count": null,
   "metadata": {},
   "outputs": [],
   "source": [
    "pd.plotting.scatter_matrix(trainSet, alpha=0.1)"
   ]
  },
  {
   "cell_type": "markdown",
   "metadata": {},
   "source": [
    "#### 6. Procesado de datos: Tratamiento de valores perdidos (`Na`)"
   ]
  },
  {
   "cell_type": "markdown",
   "metadata": {},
   "source": [
    "Para tratar los valores perdidos debemos:\n",
    "1. Averiguar dónde están\n",
    "2. Valorar si rellenamos los huecos (imputación de valores perdidos) <br>\n",
    "o tomamos otra decisión como eliminar el ejemplo el atributo.\n",
    "3. Opcionalmente se puede añadir un nueva columna a la derecha de aquella donde se hayan imputado valores, marcando las celdas donde ha habido imputación como muestra la figura de abajo.\n",
    "\n",
    "![image.png](data:image/png;base64,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)"
   ]
  },
  {
   "cell_type": "markdown",
   "metadata": {},
   "source": [
    "##### 6.1 Localización de valores perdidos (NA):"
   ]
  },
  {
   "cell_type": "markdown",
   "metadata": {},
   "source": [
    "`Si los valores nulos (NA) no están indicados como tal se puede usar el siguiente comando para cambiarlos a NA.`<br>\n",
    "En el siguiente caso los valores se indican como `'?'`"
   ]
  },
  {
   "cell_type": "code",
   "execution_count": null,
   "metadata": {},
   "outputs": [],
   "source": [
    "trainSet = trainSet.replace('?', pd.NA)"
   ]
  },
  {
   "cell_type": "markdown",
   "metadata": {},
   "source": [
    "Los métodos `isnull()` e `isna()` de la librería Pandas devuelven un booleano (True o False) por cada celda del dataframe con un valor 'NA'.\n",
    "- No existe ninguna diferencia entre ambos métodos. Son idénticos."
   ]
  },
  {
   "cell_type": "code",
   "execution_count": null,
   "metadata": {},
   "outputs": [],
   "source": [
    "missing_data = trainSet.isna()"
   ]
  },
  {
   "cell_type": "markdown",
   "metadata": {},
   "source": [
    "Ahora hay que ver cuántos valores 'NA' faltan en cada columna y cada fila:"
   ]
  },
  {
   "cell_type": "code",
   "execution_count": null,
   "metadata": {},
   "outputs": [],
   "source": [
    "missing_values_per_column = missing_data.sum(axis=0)    # 'NA' por cada columna\n",
    "missing_values_per_row = missing_data.sum(axis=1)       # 'NA' por cada fila\n",
    "\n",
    "mask_mayorq0 = missing_values_per_column > 0            # Crea una máscara de Pandas para indicar si hay columnas con NA\n",
    "mask_mayorq1 = missing_values_per_row > 0               # Crea una máscara de Pandas para indicar si hay filas con NA\n",
    "\n",
    "print('Columnas con valores nulos', missing_values_per_column[mask_mayorq0], '\\n')\n",
    "print('Columnas con valores nulos', missing_values_per_row[mask_mayorq1], '\\n')"
   ]
  },
  {
   "cell_type": "markdown",
   "metadata": {},
   "source": [
    "Para ver mejor cuantos valores faltantes hay en cada fila podemos ejecutar el siguiente código que nos indicará cuantos atributos faltantes (columna de la izquierda) tienen _tantos núm._ de filas (columnas de la derecha):"
   ]
  },
  {
   "cell_type": "code",
   "execution_count": null,
   "metadata": {},
   "outputs": [],
   "source": [
    "missing_count = missing_values_per_row.value_counts().sort_index()\n",
    "print(missing_count)"
   ]
  },
  {
   "cell_type": "markdown",
   "metadata": {},
   "source": [
    "##### 6.2 Eliminación de filas y columnas con número `excesivo` de atributos perdidos:"
   ]
  },
  {
   "cell_type": "markdown",
   "metadata": {},
   "source": [
    "> Eliminación de filas con número `excesivo` de atributos perdidos:"
   ]
  },
  {
   "cell_type": "code",
   "execution_count": null,
   "metadata": {},
   "outputs": [],
   "source": [
    "missing_count.index[-1]                                             # Calcular la cantidad máxima de valores nulos por fila\n",
    "mask_toDrop = missing_values_per_row >= missing_count.index[-1]     # Filtro que busca las filas con el número de valores perdidos máximo\n",
    "drop_list = missing_values_per_row[mask_toDrop].index.tolist()      # Crea una lista de índices de las filas que cumplen con la condición\n",
    "df.drop(drop_list, inplace=True)                                    # Eliminar las filas guardadas en 'drop_list' del DataFrame original\n",
    "\n",
    "print(f'Tras eliminar las filas con más NaN, tenemos una tabla de tamaño:', df.shape)"
   ]
  },
  {
   "cell_type": "markdown",
   "metadata": {},
   "source": [
    "> 6.2.2 Eliminación de columnas con número `excesivo` de atributos perdidos:"
   ]
  },
  {
   "cell_type": "code",
   "execution_count": null,
   "metadata": {},
   "outputs": [],
   "source": [
    "missing_count = missing_values_per_column.value_counts().sort_index()\n",
    "print(missing_count)                                                    # Visualización de cantidad de datos perdidos por columna\n",
    "\n",
    "missing_count.index[-1]                                                 # Calcular la cantidad máxima de valores nulos por fila\n",
    "mask_toDrop = missing_values_per_column >= missing_count.index[-1]      # Filtro que busca las filas con el número de valores perdidos máximo\n",
    "drop_list = missing_values_per_column[mask_toDrop].index.tolist()       # Crea una lista de índices de las filas que cumplen con la condición\n",
    "df.drop(drop_list, inplace=True)                                        # Eliminar las filas guardadas en 'drop_list' del DataFrame original, al usar implace no hace falta poner 'df = ...'\n",
    "\n",
    "print(f'Tras eliminar las filas con más NaN, tenemos una tabla de tamaño:', df.shape)"
   ]
  },
  {
   "cell_type": "markdown",
   "metadata": {},
   "source": [
    "##### 6.3 `IMPUTACIÓN UNIVARIADA`"
   ]
  },
  {
   "cell_type": "markdown",
   "metadata": {},
   "source": [
    "Añadir un valor al NA en función del resto de valores de la lista:<br>\n",
    "(se puede añadir una columna indicando si se ha modificado el dato o no)\n",
    "\n",
    "Este estadístico puede ser:\n",
    "- la **media**, si los valores de ese atributo están distribuidos según una normal.\n",
    "- la **mediana**, si no lo están. `Además la mediana es mejor opción si hubiera valores muy extremos dentro de esa columna` (valores *outliers*).\n",
    "- el **valor más repetido** (moda), si se trata de una columna de valores categóricos.\n",
    "\n",
    "En el siguiente código puedes ver un ejemplo de cómo funciona:"
   ]
  },
  {
   "cell_type": "code",
   "execution_count": null,
   "metadata": {},
   "outputs": [],
   "source": [
    "df = pd.DataFrame({'A': [1, 2, None, 4], 'B': [None, 6, 7, 8]})         # Crea un nuevo data frame con valores faltantes\n",
    "df.fillna(df.median(axis=0),inplace=True)                               # A los valores faltantes les dá el valor de la mediana\n",
    "df"
   ]
  },
  {
   "cell_type": "markdown",
   "metadata": {},
   "source": [
    "Posibles problemas:\n",
    "- Si el valor depende del tiempo (el pulso por ejemplo $\\rightarrow$ función continua) se puede usar la función `interpolate()` que rellena el dato según los que tenga a su alrededor, para no tener saltos en la función de datos.\n",
    "\n",
    "- Si un dato depende del resto: falta el género del paciente, si se pone el más repetido (mujer) y se va a operar de fimosis es imposible."
   ]
  },
  {
   "cell_type": "markdown",
   "metadata": {},
   "source": [
    "##### 6.4 `IMPUTACIÓN MULTIVARIADA`"
   ]
  },
  {
   "cell_type": "markdown",
   "metadata": {},
   "source": [
    "Calcula el valor imputado en función del resto de atributos. Estima el valor perdido mediante una regresión (técnica de machine learning supervisada)"
   ]
  },
  {
   "cell_type": "markdown",
   "metadata": {},
   "source": [
    "#### 7. Ingeniaría de características"
   ]
  },
  {
   "cell_type": "markdown",
   "metadata": {},
   "source": [
    "Lo que se hace es relacionar columnas entre sí, haciendo crecer el `df` en columnas. Al aumentar el número de dimensiones (columnas) es más fácil crear una línea recta que divida el conjunto de datos."
   ]
  }
 ],
 "metadata": {
  "kernelspec": {
   "display_name": "Python 3",
   "language": "python",
   "name": "python3"
  },
  "language_info": {
   "codemirror_mode": {
    "name": "ipython",
    "version": 3
   },
   "file_extension": ".py",
   "mimetype": "text/x-python",
   "name": "python",
   "nbconvert_exporter": "python",
   "pygments_lexer": "ipython3",
   "version": "3.10.11"
  }
 },
 "nbformat": 4,
 "nbformat_minor": 2
}
