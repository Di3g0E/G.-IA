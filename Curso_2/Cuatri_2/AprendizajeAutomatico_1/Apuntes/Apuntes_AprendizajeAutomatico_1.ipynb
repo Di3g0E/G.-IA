{
 "cells": [
  {
   "cell_type": "markdown",
   "metadata": {},
   "source": [
    "# APRENDIZAJE AUTOMÁTICO 1"
   ]
  },
  {
   "cell_type": "markdown",
   "metadata": {},
   "source": [
    "Los datos más usados son los `datos tabulados` que se representan en tablas:\n",
    "- cada **fila** es un **ejemplo**\n",
    "- cada **columna** sin tratar es un **atributo** $\\rightarrow$ *datos en crudo*\n",
    "- cada **columna** tratada es una **serie**"
   ]
  },
  {
   "cell_type": "markdown",
   "metadata": {},
   "source": [
    "#### Descargar base de datos:"
   ]
  },
  {
   "cell_type": "code",
   "execution_count": null,
   "metadata": {},
   "outputs": [],
   "source": [
    "from sklearn.datasets import load_iris\n",
    "import pandas as pd\n",
    "\n",
    "data = load_iris()\n",
    "df = pd.DataFrame(data.data, columns = data.feature_names)\n",
    "df['species'] = pd.Categorical.from_codes(data.target, data.target_names)\n",
    "\n",
    "# bd = pd.read_csv('C:--direccion--/datos.csv', sep=',', decimal='.', header=0, index_col='id')"
   ]
  },
  {
   "cell_type": "markdown",
   "metadata": {},
   "source": [
    "## 01_Tipos de datos:"
   ]
  },
  {
   "cell_type": "markdown",
   "metadata": {},
   "source": [
    "### Tipos de datos: (`continuos`, `discretos` y `categóricos`)"
   ]
  },
  {
   "cell_type": "markdown",
   "metadata": {},
   "source": [
    "Cada columna puede tener tipos de datos diferentes:\n",
    "- atributos continuos $\\rightarrow$ Son aquellos atributos que pueden tomar cualquier valor en un intervalo de $\\mathbb R$.\n",
    "- atrubutos discretos $\\rightarrow$ Son aquellos atributos que pueden tomar solo un número finito de valores dentro de un intervalo $(a,b)$.\n",
    "- atributos categóricos $\\rightarrow$ Son aquellos atributos que pueden tomar sólo un número finito de valores dentro de un conjunto que puede no tener una relación de orden entre sus miembros."
   ]
  },
  {
   "cell_type": "markdown",
   "metadata": {},
   "source": [
    "Los `dtypes` de un dataframe pueden ser:\n",
    "- `int64`: Números enteros\n",
    "- `float64`: Números de punto flotante\n",
    "- `object`: Tipo general para texto, o columnas mixtas de números y texto\n",
    "- `bool`: Valores booleanos: True/False\n",
    "- `datetime64`: Fecha y hora\n",
    "- `timedelta[ns]`: Diferencias entre dos datetimes\n",
    "- `category`: Lista finita de valores de texto"
   ]
  },
  {
   "cell_type": "markdown",
   "metadata": {},
   "source": [
    "### Codificación de valores categóricos:"
   ]
  },
  {
   "cell_type": "markdown",
   "metadata": {},
   "source": [
    "- Codificación a valores enteros $\\rightarrow$ cada categoría se corresponde con un número\n",
    "- Codificación One-Hot $\\rightarrow$ se crea una columna por cada categoría y se indica con 0 o 1 si se pertenece a esa categoría"
   ]
  },
  {
   "cell_type": "markdown",
   "metadata": {},
   "source": [
    "### Ejemplos:"
   ]
  },
  {
   "cell_type": "code",
   "execution_count": null,
   "metadata": {},
   "outputs": [],
   "source": [
    "# Tipos de datos:\n",
    "df.info()\n",
    "N, D = df.shape"
   ]
  },
  {
   "cell_type": "code",
   "execution_count": null,
   "metadata": {},
   "outputs": [],
   "source": [
    "# Codificación a enteros:\n",
    "df_code = df.copy()\n",
    "codes = df_code['species'].cat.codes\n",
    "code_to_categ = dict(zip(codes, df_code['species']))\n",
    "df_code['species'] = codes\n",
    "\n",
    "df_code['species'].value_counts()"
   ]
  },
  {
   "cell_type": "code",
   "execution_count": null,
   "metadata": {},
   "outputs": [],
   "source": [
    "# Codificación One-Hot:\n",
    "df_OneHot = df.copy()\n",
    "OneHot = pd.get_dummies(df_OneHot['species'])\n",
    "df_OneHot = pd.concat([df_OneHot, OneHot], axis = 1)\n",
    "\n",
    "df_OneHot.head(3)"
   ]
  },
  {
   "cell_type": "code",
   "execution_count": null,
   "metadata": {},
   "outputs": [],
   "source": [
    "# Otras opciones de codificación:\n",
    "df_code_2 = df.copy()\n",
    "df_code_2['species'] = pd.DataFrame(pd.factorize(df_code_2['species'])[0])\n",
    "df_code_2['species'].value_counts()"
   ]
  },
  {
   "cell_type": "markdown",
   "metadata": {},
   "source": [
    "## 02_Separar explorar y rellenar:"
   ]
  },
  {
   "cell_type": "markdown",
   "metadata": {},
   "source": [
    "`IMPORTANTE`: Realizar este paso antes de codificar los datos categóricos del __df__ para no modificar el __test__"
   ]
  },
  {
   "cell_type": "markdown",
   "metadata": {},
   "source": [
    "### Separación de datos: "
   ]
  },
  {
   "cell_type": "markdown",
   "metadata": {},
   "source": [
    "Es MUY importante separar los datos en `train` y `test` y no mezclar los datos hasta entonces para poder enntrenar bien el modelo."
   ]
  },
  {
   "cell_type": "markdown",
   "metadata": {},
   "source": [
    "### Exploración de datos:"
   ]
  },
  {
   "cell_type": "markdown",
   "metadata": {},
   "source": [
    "Descripción estadística: nos sirve para saber los información importante de los datos con los que vamos a trabajar y hacernos una idea de cómo están descritos."
   ]
  },
  {
   "cell_type": "markdown",
   "metadata": {},
   "source": [
    "### Visualización de la distribución:"
   ]
  },
  {
   "cell_type": "markdown",
   "metadata": {},
   "source": [
    "No siempre vamos a poder visualizar los datos por tener demasiados. Pero si tenemos 'pocos' datos los podemos ver de la siguiente forma:"
   ]
  },
  {
   "cell_type": "code",
   "execution_count": null,
   "metadata": {},
   "outputs": [],
   "source": [
    "pd.plotting.scatter_matrix(df_code, alpha=0.1)"
   ]
  },
  {
   "cell_type": "markdown",
   "metadata": {},
   "source": [
    "### Tratamiento de valores perdidos:"
   ]
  },
  {
   "cell_type": "markdown",
   "metadata": {},
   "source": [
    "1) Averiguar dónde están\n",
    "2) Valorar si __sustituirlos__ (imputación de los valores perdidos) o __eliminar__ el atributo o ejemplo por exceso de valores perdidos\n",
    "3) Opcionalmente se puede añadir una columna para indicar los valores que han sido sustituidos y los que no"
   ]
  },
  {
   "cell_type": "markdown",
   "metadata": {},
   "source": [
    "__Imputación Univariada__: consiste en sustituir los valores perdidos por un estadístico de la columna (media, mediana o moda). Lo malo de esta técnica es que puede crear ejemplos imposibles como por ejemplo asignar a una mujer cáncer de próstata.\n",
    "\n",
    "__Imputación Multivariada__: estima el valor perdido en función del resto de atrubutos del ejemplo.\n"
   ]
  },
  {
   "cell_type": "markdown",
   "metadata": {},
   "source": [
    "### Ejemplos:"
   ]
  },
  {
   "cell_type": "code",
   "execution_count": null,
   "metadata": {},
   "outputs": [],
   "source": [
    "# Librerías:\n",
    "import random\n",
    "from sklearn.experimental import enable_iterative_imputer\n",
    "from sklearn.impute import IterativeImputer\n"
   ]
  },
  {
   "cell_type": "code",
   "execution_count": null,
   "metadata": {},
   "outputs": [],
   "source": [
    "# Separación de datos en train-test automático:\n",
    "from sklearn.model_selection import train_test_split\n",
    "\n",
    "train_df, test_df = train_test_split(df, test_size= 0.15, random_state= 8)"
   ]
  },
  {
   "cell_type": "code",
   "execution_count": null,
   "metadata": {},
   "outputs": [],
   "source": [
    "# # Separación de datos en train-test manual:\n",
    "# fraction_test = 0.2\n",
    "\n",
    "# ind = df.index.tolist()             # Crea una lista con los índices de la bd\n",
    "# random.shuffle(ind)                 # Desordena los índices\n",
    "\n",
    "# N_test = int(N * fraction_test)     # Calcula la cantidad de ejemplos que se guardan en test\n",
    "\n",
    "# # Divide los datos:\n",
    "# test_df = df.iloc[ind[:N_test]]\n",
    "# train_df = df.iloc[ind[N_test:]]"
   ]
  },
  {
   "cell_type": "code",
   "execution_count": null,
   "metadata": {},
   "outputs": [],
   "source": [
    "# Exploración de los datos:\n",
    "print(train_df.info())              # Indica el tamaño, los tipos de datos y cuántos son 'Na' de cada atributo\n",
    "print('\\nLas modas son: \\n', train_df.mode(axis=0, dropna=False)) # Devuelve una tabla con las modas de cada atributo\n",
    "train_df.describe()                 # Indica la descripción estadística básica excepto la moda de cada atributo en forma de tabla"
   ]
  },
  {
   "cell_type": "code",
   "execution_count": null,
   "metadata": {},
   "outputs": [],
   "source": [
    "# Tratamiento de valores perdidos:\n",
    "missing_data = train_df.isna()\n",
    "missing_data.sum()\n",
    "\n",
    "missing_values_per_column = missing_data.sum(axis=0)    # 'NA' por cada columna\n",
    "missing_values_per_row = missing_data.sum(axis=1)       # 'NA' por cada fila\n",
    "\n",
    "mask_mayorq0 = missing_values_per_column > 0            # Crea una máscara de Pandas para indicar si hay columnas con NA\n",
    "mask_mayorq1 = missing_values_per_row > 0               # Crea una máscara de Pandas para indicar si hay filas con NA\n",
    "\n",
    "print(f'Columnas con valores nulos:\\n{missing_values_per_column[mask_mayorq0]}\\n')\n",
    "print(f'Filas con valores nulos:\\n{missing_values_per_row[mask_mayorq1]}\\n')\n",
    "\n",
    "missing_count_row = missing_values_per_row.value_counts().sort_index()\n",
    "print(f'Valores NaN en cada fila:\\n{missing_count_row}')\n",
    "missing_count_col = missing_values_per_column.value_counts().sort_index()\n",
    "print(f'Valores  NaN en cada columna:\\n{missing_count_col}')"
   ]
  },
  {
   "cell_type": "code",
   "execution_count": null,
   "metadata": {},
   "outputs": [],
   "source": [
    "# # Elegir una de las siguientes opciones para tratar los valores perdidos:\n",
    "\n",
    "# # Eliminar filas:\n",
    "# if missing_count_row.index[-1] > 0:                                         # Calcular la cantidad máxima de valores nulos por fila\n",
    "#     mask_toDrop = missing_values_per_row >= missing_count_row.index[-1]     # Filtro que busca las filas con el número de valores perdidos máximo\n",
    "#     drop_list_row = missing_values_per_row[mask_toDrop].index.tolist()      # Crea una lista de índices de las filas que cumplen con la condición\n",
    "#     train_df.drop(drop_list_row, axis=0, inplace=True)                              # Eliminar las filas guardadas en 'drop_list' del DataFrame original\n",
    "# # Eliminar columnas:                                      \n",
    "# if missing_count_col.index[-1] > 0:                                         # Calcular la cantidad máxima de valores nulos por columna\n",
    "#     mask_toDrop = missing_values_per_column >= missing_count_col.index[-1]  # Filtro que busca las filas con el número de valores perdidos máximo\n",
    "#     drop_list_col = missing_values_per_column[mask_toDrop].index.tolist()   # Crea una lista de índices de las columnas que cumplen con la condición\n",
    "#     train_df.drop(drop_list_col, axis=1, inplace=True)                              # Eliminar las columnas guardadas en 'drop_list' del DataFrame original, al usar implace no hace falta poner 'df = ...'\n",
    "# # Tamaño del DataFrame redimensionado:\n",
    "# train_df.shape\n",
    "\n",
    "\n",
    "# # Imputación univariada de los datos NaN:\n",
    "# train_df.fillna(train_df.median(axis=0), inplace=True)    # Sustituye los valores NaN por el valore de la mediana\n",
    "# train_df.shape\n",
    "# # Se pueden sustituir por la media o el valor más repetido (moda)\n",
    "\n",
    "\n",
    "# # Imputación multivariante de los datos NaN:\n",
    "# imputer = IterativeImputer()\n",
    "# train_imputed = imputer.fit_transform(train_df)\n",
    "# train_imputed = pd.DataFrame(train_imputed, columns=train_df.columns)       # Convertir de nuevo a DataFrame\n",
    "# train_imputed.isna().sum()                                                  # Recuento de NaN"
   ]
  },
  {
   "cell_type": "markdown",
   "metadata": {},
   "source": [
    "## 03_Ingeniería_características:"
   ]
  },
  {
   "cell_type": "markdown",
   "metadata": {},
   "source": [
    "La tabla de datos de la que aprende nuestro modelo se divide en filas (ejemplos) y columnas (atributos). \n",
    "\n",
    "En ocasiones estos atributos son suficientes para entrenarlo (sin modificaciones) pero otras muchas no. Llamaremos __vector de características__ al vector con el que describimos a cada ejemplo a la hora de realizar el entrenamiento.\n",
    "\n",
    "El vector de características puede ser:\n",
    "- __Menor__: si hemos eliminado atriburos porque no eran útiles\n",
    "- __Mayor__: si hemos añadido nuevas columnas a las que ya había inicialmente\n",
    "- __Igual__: si nos quedamos con el mísmo número de atributos con los que empezamos al principio"
   ]
  },
  {
   "cell_type": "markdown",
   "metadata": {},
   "source": [
    "### Aumento de la dimensionalidad:"
   ]
  },
  {
   "cell_type": "markdown",
   "metadata": {},
   "source": [
    "Añadimos nuevas características a partir de las que temenos. Por ejemplo, el número de habitantes de una población y la superficie de un país no nos aporta tanta información por separado como nos podría aportar la densidad de población de ese país.\n",
    "\n",
    "$$\\text{Densidad de población} = \\frac{\\text{Población}}{\\text{Superficie}}$$\n",
    "\n",
    "Esto es complicado hacerlo si tenemos demasiados atributos como para poder verlos todos, por lo que una posible solución es lanzar una batería de transformaciones de cierto grado polinómico (a nuestra elección) para luego eliminar las que no tengan relevancia en el modelo."
   ]
  },
  {
   "cell_type": "markdown",
   "metadata": {},
   "source": [
    "### Reducción de la dimensionalidad:"
   ]
  },
  {
   "cell_type": "markdown",
   "metadata": {},
   "source": [
    "Los siguientes `temas` están íntegramente dedicados a estas técnicas."
   ]
  },
  {
   "cell_type": "markdown",
   "metadata": {},
   "source": [
    "### Transformaciones sin modificar la dimensionalidad:"
   ]
  },
  {
   "cell_type": "markdown",
   "metadata": {},
   "source": [
    "También podemos considerar modificar un atributo aunque no se cree otro nuevo.\n",
    "\n",
    "Vamos a ver transformaciones lineales (`escalados`):\n",
    "1) Intervalo unidad\n",
    "2) Máximo en valor absoluto\n",
    "3) Estandarización"
   ]
  },
  {
   "cell_type": "markdown",
   "metadata": {},
   "source": [
    "#### 1. Escalado al intervalo unidad:"
   ]
  },
  {
   "cell_type": "markdown",
   "metadata": {},
   "source": [
    "Podemos modificar todos los valores de cada atributo y reescribirlos en una escala $[0, 1]$ en la que 0 será el $x_{min}$ y 1 será $x_{max}$.\n",
    "\n",
    "`IMPORTANTE`: este escalado hay que realizarlo columna a columna debido a que cada una tiene un valor máx. y mín. diferente. <br>\n",
    "`IMPORTANTE`: Es sensible a valores atípicos. Útil si se manejan datos muy diferentes y se quiere conservar la estructura de los datos originales.\n",
    "\n",
    "La fórmula para realizar esto sería:\n",
    "$$x_{esc} = \\frac{x - x_{min}}{x_{max} - x_{min}}$$\n",
    "Aunque podemos utilizar `sklearn.preprocessing.MinMaxScaler`"
   ]
  },
  {
   "cell_type": "markdown",
   "metadata": {},
   "source": [
    "#### 2. Escalado al máximo en valor absoluto:"
   ]
  },
  {
   "cell_type": "markdown",
   "metadata": {},
   "source": [
    "Podemos modificar todos los valores de cada atributo y reescribirlos en una escala $[-1, 1]$ en la que el $-1$ será el $x_{min}$ y 1 $x_{max}$.\n",
    "\n",
    "`IMPORTANTE`: este escalado también hay que hacerlo columna a columna ya que el valor máx. y mín. es diferente para cada una. <br>\n",
    "`IMPORTANTE`: útil cuando los datos pueden tener tanto valores positivos como negativos y se quiere mantener esta característica en los datos escalados.\n",
    "\n",
    "La fórmula para realizar esto sería:\n",
    "$$x_{esc} = \\frac{x}{max(|x|)}$$\n",
    "Aunque podemos utilizar `sklearn.preprocessing.MaxAbsScaler`"
   ]
  },
  {
   "cell_type": "markdown",
   "metadata": {},
   "source": [
    "#### 3. Estandarización:"
   ]
  },
  {
   "cell_type": "markdown",
   "metadata": {},
   "source": [
    "Dada una columna $x$, con media $\\mu$ y desviación $\\sigma$, entonces la siguiente fórmula *estandariza* todos los valores de dicha columna consiguiendo media 0 y desviación típica 1.\n",
    "$$x_{\\rm std} = \\frac{x - \\mu}{\\sigma}$$\n",
    "Podemos utilizar `sklearn.preprocessing.StandardScaler`\n",
    "\n",
    "Esta _estandarización_ permite poder comparar y analizar atributos de forma precisa debido a que coloca los atributos en una escala común. <br>\n",
    "__Esta técnica es menos sensible a valores atípicos que las vistas anteriormente, por lo que es una buena opción si los datos tienen muchos valores atípicos.__\n",
    "\n",
    "Esta técnica se suele usar en __Análisis de componentes principales (PCA)__, __Análisis discriminante lineal (LDA)__ y ayuda en el cálculo de algoritmos como pueden ser __regresión logística__ o __análisis de conglomerados (clustering)__ entre otros."
   ]
  },
  {
   "cell_type": "markdown",
   "metadata": {},
   "source": [
    "### Ejemplos:"
   ]
  },
  {
   "cell_type": "code",
   "execution_count": null,
   "metadata": {},
   "outputs": [],
   "source": [
    "# Librerías:\n",
    "from sklearn.preprocessing import PolynomialFeatures\n",
    "from sklearn.preprocessing import MinMaxScaler, MaxAbsScaler, StandardScaler"
   ]
  },
  {
   "cell_type": "code",
   "execution_count": null,
   "metadata": {},
   "outputs": [],
   "source": [
    "# Aumento de la dimensionalidad:\n",
    "degree = 2\n",
    "interaction_only = True    # Si es 'True' sólo calcula las interacciones entre coumnas diferentes\n",
    "\n",
    "polyf = PolynomialFeatures(degree= degree, interaction_only= interaction_only)\n",
    "polyf.set_output(transform= \"pandas\")\n",
    "\n",
    "polyf.fit(df_code)                         # NO EJECUTAR ESTA LÍNEA CON EL TEST NUNCA. Ya que es el comando de aprendizaje.\n",
    "df_code_dim = polyf.transform(df_code)    # Adapta todos los datos a las nuevas características\n",
    "\n",
    "print('DataFrame sin dimensionar:\\n', df_code.head(), '\\n\\n')\n",
    "print('DataFrame dimensionado:')\n",
    "df_code_dim.head()"
   ]
  },
  {
   "cell_type": "code",
   "execution_count": null,
   "metadata": {},
   "outputs": [],
   "source": [
    "# Esclalado al intervalo unidad [0, 1]:\n",
    "train_df_scalerUnit = MinMaxScaler()#.ser_output(transform=\"pandas\")\n",
    "train_df_scalerUnit.fit(df_code_dim)   # Almacena el mín y máx de cada columna\n",
    "train_df_scalerUnit = train_df_scalerUnit.transform(df_code_dim)\n",
    "\n",
    "print(f'\\n---Tras el escalado a [0,1] de cada columna----')\n",
    "print(train_df_scalerUnit)\n",
    "\n",
    "# Escalado al máximo de los valores absolutos:\n",
    "train_df_scalerMaxAbs = MaxAbsScaler()#.ser_output(transform= \"pandas\")\n",
    "train_df_scalerMaxAbs.fit(df_code_dim) # Almacena el valor max de cada columna\n",
    "train_df_scalerMaxAbs = train_df_scalerMaxAbs.transform(df_code_dim)\n",
    "\n",
    "print(f'\\n---Tras el escalado al maximo de los valores absolutos de cada columna----')\n",
    "print(train_df_scalerMaxAbs)\n",
    "\n",
    "# Estandarización:\n",
    "train_df_scalerStd = StandardScaler()#.ser_output(transform= \"pandas\")\n",
    "train_df_scalerStd.fit(df_code_dim)    # Estandariza los datos para que la media sea 0 y la desviación típica 1 (o valores aprox)\n",
    "train_df_scalerStd = train_df_scalerStd.transform(df_code_dim)\n",
    "\n",
    "print(f'\\n---Tras la estandarización de cada columna----')\n",
    "print(train_df_scalerStd)"
   ]
  },
  {
   "cell_type": "markdown",
   "metadata": {},
   "source": [
    "## 04_Reducción_filtrado:"
   ]
  },
  {
   "cell_type": "markdown",
   "metadata": {},
   "source": [
    "En este tema se explican métodos de filtrado univariados.\n",
    "\n",
    "Esto significa que para cada característica de la tabla se calcula una puntuación (_score_) de cuánta relevancia tiene. Se eliminan todas aquellas características cuya puntuación no supera un umbral (_threshold_) elegido por nosotros. Por este motivo también se dice que son __técnicas de selección de características.__\n",
    "\n",
    "Vamos a aprender a filtrar por:\n",
    "- Varianza\n",
    "- Correlación\n",
    "- Información mutua"
   ]
  },
  {
   "cell_type": "markdown",
   "metadata": {},
   "source": [
    "### Filtrado por Varianza:"
   ]
  },
  {
   "cell_type": "markdown",
   "metadata": {},
   "source": [
    "La varianza es el promedio de las diferencias con la media elevadas al cuadrado.<br> Y la desviación estandar es la raíz cuadrada de la varianza.\n",
    "$${\\rm Var}(x) = \\frac{1}{N} \\sum\\limits_{k=1}^N\\left(\\mu - x_k\\right)^2.$$\n",
    "<br>\n",
    "\n",
    "__El filtrado por varianza consiste en eliminar todas aquellas columnas cuya varianza no supere un cierto umbral.__ Cuanto más separados estén los datos mejor. "
   ]
  },
  {
   "cell_type": "markdown",
   "metadata": {},
   "source": [
    "__¿Qué ocurre si una característica tiene una varianza pequeña?__\n",
    "\n",
    "En el caso extremo en el que ${\\rm Var}(x) = 0$ (ya no puede ser más pequeña), la culumna NO está aportando nada devido a que todos los valores de la columna son idénticos."
   ]
  },
  {
   "cell_type": "markdown",
   "metadata": {},
   "source": [
    "__Beneficios de la varianza:__\n",
    "1. __Información:__ Los datos con mayor varianza suelen contener más información y detalles. Si todos los datos son muy similares (baja varianza), entonces no hay mucho que aprender de ellos.\n",
    "\n",
    "2. __Rendimiento del modelo:__ Muchos modelos de aprendizaje automático asumen que todas las características son igualmente importantes. Si una característica tiene una varianza muy baja (es decir, los valores son casi iguales para todas las muestras), entonces esa característica puede no aportar mucha información útil para el modelo, y puede ser ignorada por el modelo.\n",
    "\n",
    "3. __Detección de valores atípicos:__ La varianza puede ayudar a detectar valores atípicos en los datos. Los valores atípicos son observaciones que se desvían significativamente de las otras observaciones. Son importantes porque pueden indicar variabilidad en los datos, errores de medición, o áreas interesantes para futuras investigaciones.\n",
    "\n",
    "4. __Evitar el sobreajuste:__ Si los datos tienen poca varianza, un modelo puede sobreajustarse a los datos de entrenamiento y tener un rendimiento deficiente en los datos de prueba. La varianza puede ayudar a evitar el sobreajuste al proporcionar una gama más amplia de valores para el modelo para aprender."
   ]
  },
  {
   "cell_type": "markdown",
   "metadata": {},
   "source": [
    "__`Atención:`__\n",
    "\n",
    "La varianza es **sensible** al orden de magnitud de los datos, por lo que si escalamos los datos al intervalo unidad, estaremos cambiando su varianza.\n",
    "\n",
    "Esto puede venir bien si la varianza de los datos es en un principio demasiado pequeña pero al cambiar los datos al intervalo unidad las varianzas tienen mayor valor. "
   ]
  },
  {
   "cell_type": "markdown",
   "metadata": {},
   "source": [
    "### Filtrado por correlación:"
   ]
  },
  {
   "cell_type": "markdown",
   "metadata": {},
   "source": [
    "Si dos características están correlacionadas significa que entre ambas existe una relación lineal. Por lo que si una crece o decrece, la otra lo hace proporcionalmente.<br>\n",
    "Por lo tanto no necesitamos ambas ya que una nos aporta exáctamente la misma información que la otra, salvo por una escala y, quizás, un desplazamiento.\n",
    "\n",
    "Pero esto sólo ocurre si la correlación entre ambas es de $+1$ o $-1$. Cuanto más cerca a los extremos, mayor correlación.\n",
    "\n",
    "Así que otro modo de filtrar características es obtener la matriz de correlación y buscar las celdas de la matriz próximas a $+1$ y $-1$."
   ]
  },
  {
   "cell_type": "markdown",
   "metadata": {},
   "source": [
    "__El filtrado por correlación tiene DOS características importantes:__\n",
    "\n",
    "- No se ve afectado por la escala\n",
    "- `Es más eficiente en problemas de regresión que en problemas de clasificación`"
   ]
  },
  {
   "cell_type": "markdown",
   "metadata": {},
   "source": [
    "### Ejemplo:"
   ]
  },
  {
   "cell_type": "code",
   "execution_count": null,
   "metadata": {},
   "outputs": [],
   "source": [
    "# Librerías:\n",
    "from sklearn.feature_selection import VarianceThreshold"
   ]
  },
  {
   "cell_type": "code",
   "execution_count": null,
   "metadata": {},
   "outputs": [],
   "source": [
    "# Filtrado por varianza:\n",
    "selector = VarianceThreshold(threshold=0.1)     # 'threshold=0.1' indica el mínimo valor que debe tener la varianza\n",
    "selector.set_output(transform='pandas')\n",
    "\n",
    "selector.fit(df_code_dim)\n",
    "df_filtered = selector.transform(df_code_dim)\n",
    "\n",
    "print('Tamaño del df original: ', df_code_dim.shape)\n",
    "print('Tamaño del df filtrado: ', df_filtered.shape)\n",
    "\n",
    "# repetimos el ejemplo pero escalando al intervalo unidad antes del filtrado\n",
    "selector.fit(train_df_scalerMaxAbs)\n",
    "df_filtered_2 = selector.transform(train_df_scalerMaxAbs)\n",
    "\n",
    "print('Tamaño del df escalado y filtrado: ', df_filtered_2.shape)"
   ]
  },
  {
   "cell_type": "code",
   "execution_count": null,
   "metadata": {},
   "outputs": [],
   "source": [
    "# matriz de correlación\n",
    "correlation_matrix = df_filtered.corr()\n",
    "correlation_matrix['species']"
   ]
  },
  {
   "cell_type": "code",
   "execution_count": null,
   "metadata": {},
   "outputs": [],
   "source": [
    "# Especificar la columna de interés\n",
    "columna_interes = 'species'\n",
    "\n",
    "# Lista de características con correlación > 0.94 respecto a la columna de interés:\n",
    "caracteristicas_correlacionadas = correlation_matrix.index[correlation_matrix[columna_interes].abs() > 0.94].tolist()\n",
    "\n",
    "# Obtener la correlación máx de las correlaciones:\n",
    "correlaciones = correlation_matrix[columna_interes].drop(columna_interes)\n",
    "max_correlation = correlaciones.abs().max()\n",
    "\n",
    "# Excluir la característica más alta y la de interés:\n",
    "caracteristicas_correlacionadas.remove(correlaciones[correlaciones.abs() == max_correlation].index[0])\n",
    "correlaciones = caracteristicas_correlacionadas.remove(columna_interes)\n",
    "\n",
    "# Eliminar las características correlacionadas del DataFrame\n",
    "df_filtered.drop(columns=caracteristicas_correlacionadas, inplace=True)\n",
    "print('\\n\\nTamaño del df filtrado: ', df_filtered.shape)"
   ]
  },
  {
   "cell_type": "markdown",
   "metadata": {},
   "source": [
    "## 05_PCA: *Análisis de componentes principales*"
   ]
  },
  {
   "cell_type": "markdown",
   "metadata": {},
   "source": [
    "`Primero se estandariza (la media de cada columna sea 0 y desviación típica 1) y luego se aplica el PCA`"
   ]
  },
  {
   "cell_type": "markdown",
   "metadata": {},
   "source": [
    "__PCA__ es una técnica para sustituir con nuevas características calculadas mediante combinaciones lineales las que teníamos inicialmente. Al ser una técnica de reducción de dimensón las nuevas características que sustituyen a las originales son (en total) menos.\n",
    "\n",
    "El problema que tenemos que resolver es __cómo caluclar los coeficientes__"
   ]
  },
  {
   "cell_type": "markdown",
   "metadata": {},
   "source": [
    "Al aplicar PCA reducimos el número de columas de la tabla de datos, de $D$ a $d$ ($~d\\le D.$).<br>\n",
    "Las columnas del conjunto de datos original son \"características\" y por tanto se representan por la letra $x$.<br>\n",
    "Las columnas del conjunto reducido son \"componentes principales\" y se representan por la letra $z$."
   ]
  },
  {
   "cell_type": "markdown",
   "metadata": {},
   "source": [
    "__`Autovector:`__ Un autovector de una matriz es un vector que, cuando se multiplica por la matriz, da como resultado el mismo vector multiplicado por un escalar. En PCA, cada autovector representa una dirección en el espacio de características. Los autovectores se utilizan para definir los nuevos ejes del sistema transformado.\n",
    "\n",
    "__`Autovalor:`__ Un autovalor es el escalar por el cual se multiplica un autovector cuando se multiplica por la matriz. En PCA, cada autovalor representa la varianza de los datos a lo largo del autovector correspondiente. Los autovalores indican la “importancia” de los respectivos autovectores en la representación de la estructura de los datos. Un autovalor grande significa que la dirección del autovector correspondiente es importante para describir la distribución de los datos.\n",
    "\n",
    "En PCA, se calculan los autovectores y autovalores de la matriz de covarianza de los datos. Luego, se ordenan los autovectores en función de sus autovalores correspondientes, de mayor a menor. Esto proporciona las direcciones (componentes principales) en las que los datos varían más. Al proyectar los datos en estas direcciones, __PCA logra reducir la dimensionalidad de los datos mientras conserva la mayor cantidad de varianza posible__."
   ]
  },
  {
   "cell_type": "markdown",
   "metadata": {},
   "source": [
    "*Propiedades**\n",
    ">- Una matriz cuadrada ${\\bf A} \\in \\mathbb R ^{n\\times n}$ tiene $~n~$ autovalores sólo si su determinante $|{\\bf A}|\\neq 0$.<br>\n",
    "<small>Si la matriz no es cuadrada o no tiene determinante distinto de cero entonces **no** tiene autovalores.</small>\n",
    "- Los autovalores no tienen por qué ser todos distintos.\n",
    "- Sea ${\\bf X} \\in \\mathbb R ^{n\\times m}$ (por tanto NO cuadrada),\n",
    "si $\\lambda$ es autovalor de ${\\bf X}^\\top\n",
    "{\\bf X}$ también lo es de ${\\bf X}\n",
    "{\\bf X}^\\top$ "
   ]
  },
  {
   "cell_type": "markdown",
   "metadata": {},
   "source": [
    "### Ejemplo:"
   ]
  },
  {
   "cell_type": "code",
   "execution_count": null,
   "metadata": {},
   "outputs": [],
   "source": [
    "# Librerías:\n",
    "from sklearn.decomposition import PCA\n",
    "import matplotlib.pyplot as plt"
   ]
  },
  {
   "cell_type": "code",
   "execution_count": null,
   "metadata": {},
   "outputs": [],
   "source": [
    "# Estandarizamos primero:\n",
    "print('Tamaño del DataFrame original: ', df_code_dim.shape)\n",
    "\n",
    "scaler = StandardScaler().set_output(transform=\"pandas\")\n",
    "scaler.fit(df_code_dim)\n",
    "df_code_dim_std = scaler.transform(df_code_dim)\n",
    "\n",
    "# PCA seleccionando diréctamente el número de componentes o un porcentaje de información que queremos mantener:\n",
    "n_components = 0.95 # si se pone un núm. entero (3) sería el núm. de columnas que mantendríamos\n",
    "\n",
    "pca = PCA(n_components= n_components).set_output(transform='pandas')\n",
    "pca.fit(df_code_dim_std)\n",
    "df_pca = pca.transform(df_code_dim_std)\n",
    "\n",
    "print('Tamaño del nuevo DataFrame: ', df_pca.shape, f'\\n\\nTabla con los componentes principales hasta explicar el {n_components*100}% de la varianza')\n",
    "print(df_pca.head())"
   ]
  },
  {
   "cell_type": "code",
   "execution_count": null,
   "metadata": {},
   "outputs": [],
   "source": [
    "# Visualización del peso de cada columna calculada:\n",
    "\n",
    "def plot_PCA(pca):\n",
    "  plt.stem(pca.explained_variance_ratio_.cumsum(),'b')\n",
    "  plt.stem(pca.explained_variance_ratio_,'r')\n",
    "\n",
    "  titleStr = 'Varianza explicada por cada componente principal (rojo)'\n",
    "  titleStr = titleStr+'\\n'\n",
    "  titleStr = titleStr+'Varianza explicada acumulada con cada componente principal (azul)'\n",
    "  plt.title(titleStr, fontsize=10)\n",
    "  ax = plt.gca()\n",
    "  ax.axis([-0.1,1.1,0,1])\n",
    "  ax.set_xticks([i for i in range(pca.n_components_)])\n",
    "  ax.set_xticklabels([\"pca\"+str(i) for i in range(pca.n_components_)])\n",
    "\n",
    "  fig = plt.gcf()\n",
    "  fig.set_size_inches(6,2)\n",
    "\n",
    "  plt.show()\n",
    "\n",
    "plot_PCA(pca)"
   ]
  },
  {
   "cell_type": "markdown",
   "metadata": {},
   "source": [
    "## 06_Visualizar_elementos_básicos: (`TEMA Casi-Irrelevante`)"
   ]
  },
  {
   "cell_type": "markdown",
   "metadata": {},
   "source": [
    "__Puntos, rectas, planos e hiperplanos__\n",
    "\n",
    "Al terminar este cuaderno habremos repasado algunos conceptos de geometría que serán imprescindibles de aquí en adelante.<br>\n",
    "El más importante de todos es posiblemente el hecho de que:\n",
    "- un hiperplano es una combinación lineal de variables que da como resultado 0,\n",
    "- y modificando su vector característico modificamos todo el hiperplano.\n",
    "\n",
    "De paso veremos _trucos_ de código para representar conjuntos de datos e incluso clasificadores."
   ]
  },
  {
   "cell_type": "code",
   "execution_count": null,
   "metadata": {},
   "outputs": [],
   "source": [
    "# Librerías:\n",
    "import pandas as pd\n",
    "import numpy as np"
   ]
  },
  {
   "cell_type": "markdown",
   "metadata": {},
   "source": [
    "### Puntos:"
   ]
  },
  {
   "cell_type": "markdown",
   "metadata": {},
   "source": [
    "Si vamos a representar puntos en un plano estamos asumiendo que tienen 2 coordenadas."
   ]
  },
  {
   "cell_type": "code",
   "execution_count": null,
   "metadata": {},
   "outputs": [],
   "source": [
    "# Representación de puntos en un plano:\n",
    "\n",
    "x_feature = 'petal length (cm)'\n",
    "y_feature = 'sepal length (cm) petal width (cm)'\n",
    "mark_size = 10\n",
    "alpha = 0.4\n",
    "\n",
    "df_code_dim.plot.scatter(x=x_feature, y=y_feature, s=mark_size, alpha=alpha)"
   ]
  },
  {
   "cell_type": "code",
   "execution_count": null,
   "metadata": {},
   "outputs": [],
   "source": [
    "# Representación de puntos en un espacio 3D:\n",
    "\n",
    "x_feature = 'petal length (cm)'\n",
    "y_feature = 'sepal length (cm) petal width (cm)'\n",
    "z_feature = 'species'\n",
    "mark_size = 10\n",
    "alpha = 0.4\n",
    "\n",
    "fig = plt.figure()\n",
    "ax = fig.add_subplot(111, projection='3d')\n",
    "ax.scatter(df_code_dim[x_feature], df_code_dim[y_feature], df_code_dim[z_feature],\n",
    "           s=mark_size, alpha = alpha)\n",
    "ax.set_xlabel(x_feature)\n",
    "ax.set_ylabel(y_feature)\n",
    "ax.set_zlabel(z_feature)\n",
    "\n",
    "plt.show()"
   ]
  },
  {
   "cell_type": "markdown",
   "metadata": {},
   "source": [
    "Tambień es posible mostrar puntos de hasta 6 dimensiones un plano utilizando _trucos_ como cambiar el tamaño del marcador, el color, etc."
   ]
  },
  {
   "cell_type": "markdown",
   "metadata": {},
   "source": [
    "### Rectas:"
   ]
  },
  {
   "cell_type": "markdown",
   "metadata": {},
   "source": [
    "Una recta se define a partir de un punto que se traslada en una dirección marcada por un vecotr director __V__.\n",
    "\n",
    "Para mostrar una recta necesitamos un espacio de dimensión $D \\ge 2$. Cuando $D = 2$ podemos dar su expresión matemática con una ecuación implícita y/o explícita.\n",
    "\n",
    "__Ecuación implícita:__ La recta pasa por el punto $(a, b)$ y el vector director __v__ = $(v_1, v_2)^T$ Todos los punto del espacio $x = (x_1, x_2) \\in\\mathbb R ^2$ contenidos en la recta que satisfacen:\n",
    "$$\n",
    "w_0 + w_1x_1 + w_2x_2 = 0, \\\\\\text{tal que} \\left\\lbrace\n",
    "  \\begin{array}{l}\n",
    "  w_0=a\\frac{v_2}{v_1} - b \\\\\n",
    "  w_1=-\\frac{v_2}{v_1} \\\\\n",
    "  w_2=1\\\\\n",
    "  \\end{array}\n",
    "\\right.\n",
    "$$\n",
    "*(Donde $w_0$ es $(0, b)$ y el vector es $(w_1, w_2)$)\n",
    "\n",
    "__Ecuación explícita:__ Si colocaos $x_1$ en el eje horizontal y $x_2$ en el eje vertical podemos generar puntos de la recta dando valores a $x_1 \\in\\mathbb R$ y obteniendo $x_2$ mediante la ecuación:\n",
    "$$\n",
    "x_2 = \\left(\\frac{v_2}{v_1}\\right)x_1 + \\left(b-a\\frac{v_2}{v_1}\\right),\n",
    "$$\n",
    "o como se suele ver: <br>\n",
    "$$x_2 = mx_1 + x_0,$$\n",
    "donde $x_0$ es el **punto de intercepción** de la recta con el eje vertical: $x_0 \\Rightarrow (0, x_2)$\n",
    "\n",
    "__Vector característico:__ Es el vector perpendicular al vector director y se define: $$c = (c_1, c_2)^T$$"
   ]
  },
  {
   "cell_type": "code",
   "execution_count": null,
   "metadata": {},
   "outputs": [],
   "source": [
    "# Ejemplo de recta con vector director 'v' y un punto de intercepción 'x0':\n",
    "\n",
    "x0 = 3\n",
    "v = [-1., -2.]\n",
    "\n",
    "m = v[1]/v[0]\n",
    "x1 = np.linspace(-3,3,10)\n",
    "x2 = x0 + m*x1\n",
    "\n",
    "# recta\n",
    "plt.plot(x1,x2,'b', alpha=0.4)\n",
    "# punto de intercepción\n",
    "plt.scatter(0,x0,c='k',s=30)\n",
    "plt.text( 0,x0, ' $x_0$', fontsize=12, color='black')\n",
    "# origen de coordenadas\n",
    "plt.scatter(0, 0,  s=60, marker='+', c='k')\n",
    "# vector director v\n",
    "plt.arrow(0, 0, v[0], v[1], head_width=0.2, head_length=0.3, fc='black', ec='black')\n",
    "plt.text( v[0], v[1], ' v', fontsize=12, color='black')\n",
    "# vector característico c\n",
    "plt.arrow(0,0, -m, 1., head_width=0.2, head_length=0.3, fc='red', ec='red')\n",
    "plt.text( -m, 1., ' c', fontsize=12, color='red')\n",
    "\n",
    "plt.grid()\n",
    "plt.xlabel('x1')\n",
    "plt.ylabel('x2')\n",
    "plt.axis('equal')\n",
    "plt.show()"
   ]
  },
  {
   "cell_type": "markdown",
   "metadata": {},
   "source": [
    "### Planos:"
   ]
  },
  {
   "cell_type": "markdown",
   "metadata": {},
   "source": [
    "Una plano  se define a partir de un punto que se traslada por la superficie perpendicular al vector _característico_ $\\bf c$.\n",
    "\n",
    "> En un plano **no** podemos hablar de un vector director.<br> En todo caso sería de dos vectores generadores $~{\\bf u}_1~$ y $~{\\bf u}_2~$ tal que $~{\\bf c} = {\\bf u_1}\\wedge {\\bf u_2},~$ donde $\\wedge$ es el producto vectorial.\n",
    "\n",
    "Para mostrar una plano necesitamos un espacio de dimension $D\\ge 3$.\n",
    "\n",
    "**Ecuación implícita**$\\quad$\n",
    "La plano que pasa por el punto $(p,q,r)$ y tiene vector característico ${\\bf c} = (c_1, c_2, c_3)^\\top $ son todos aquellos puntos del espacio $x=(x_1, x_2, x_3)\\in\\mathbb R ^2$ que satisfacen:\n",
    "$$\n",
    "c_0 + c_1x_1 + c_2x_2 + c_3x_3= 0, \\\\\\text{tal que }\n",
    "  \\begin{array}{l}\n",
    "  c_0=-\\big(pc_1 + qc_2 + rc_3\\big)\\\\\n",
    "  \\end{array}\n",
    "$$\n",
    "\n",
    "Es frecuente simplificar eligiendo directamente el valor del **término independiente** $~c_0.~$\n",
    "\n",
    "**Ecuación explícita**$\\quad$ Si colocamos $x_1$ en un eje horizontal y $x_2$ en el otro eje horizontal podemos generar puntos del plano dando pares $(x_1, x_2)\\in \\mathbb R^2$ y obteniendo $x_3$ en el eje vertical simplemente despejandolo\n",
    "$$\n",
    "x_3 = \\left(-\\frac{c_1}{c_3}\\right)x_1\n",
    "    + \\left(-\\frac{c_2}{c_3}\\right)x_2\n",
    "    + \\left(-\\frac{c_0}{c_3}\\right)\n",
    "$$\n",
    "A partir de esta ecuación es fácil obtener el punto de intercepción del plano con el eje vertical. <br>Basta con hacer $~x_1=x_2=0.$"
   ]
  },
  {
   "cell_type": "code",
   "execution_count": null,
   "metadata": {},
   "outputs": [],
   "source": [
    "# Ejemplo de recta con vector director 'c' y término independiente 'c_0'\n",
    "\n",
    "c0 = 3\n",
    "c = [2,.3,1]\n",
    "\n",
    "x1 = np.linspace(-5,5,5)\n",
    "x2 = np.linspace(-5,5,5)\n",
    "xx1,xx2 = np.meshgrid(x1,x2)\n",
    "\n",
    "intercep = (-c0/c[2])\n",
    "x3 = intercep + (-c[0]/c[2])*xx1 + (-c[1]/c[2])*xx2\n",
    "\n",
    "fig = plt.figure()\n",
    "ax = fig.add_subplot(projection='3d')\n",
    "# recta\n",
    "surf = ax.plot_surface(xx1,xx2,x3, cmap='jet', alpha=0.5,\n",
    "                       linewidth=0, antialiased=False)\n",
    "# punto de intercepción\n",
    "ax.scatter(0,0,intercep,c='k',s=30)\n",
    "ax.text( 0, 0, intercep, ' $x_0$', fontsize=12, color='black')\n",
    "# origen de coordenadas\n",
    "ax.scatter(0, 0, 0, s=60, marker='+', c='k')\n",
    "# vector director c\n",
    "ax.quiver(0, 0, 0, c[0], c[1], c[2])\n",
    "ax.text( c[0], c[1], c[2], ' c', fontsize=12, color='black')\n",
    "\n",
    "ax.grid()\n",
    "ax.set_xlabel('x1')\n",
    "ax.set_ylabel('x2')\n",
    "ax.set_zlabel('x3')\n",
    "ax.axes.set_xlim3d(-5, 5)\n",
    "ax.axes.set_ylim3d(-5, 5)\n",
    "ax.axes.set_zlim3d(-5, 5)\n",
    "ax.set_box_aspect([1.0, 1.0, 1.0])\n",
    "plt.show()"
   ]
  },
  {
   "cell_type": "markdown",
   "metadata": {},
   "source": [
    "### Hiperplanos:"
   ]
  },
  {
   "cell_type": "markdown",
   "metadata": {},
   "source": [
    "Una hiperplano en la generalización a $D$ dimensiones de un plano.\n",
    "\n",
    "Viene definido por un vector característico ${\\bf c}=(c_1,\\ldots,c_D)^\\top$ y un término independiente $c_0$; <br> y su ecuación implícita es\n",
    "$$\n",
    "c_0 + c_1x_1 + \\cdots + c_Dx_D =  0,\n",
    "$$\n",
    "que se suele simplificar utilizando el producto escalar del vector característico por un vector de variables ${\\bf x} = (x_1,\\ldots,x_D)^\\top$; <br>\n",
    "es decir\n",
    "$$\n",
    "c_0 + {\\bf c}^\\top {\\bf x} = 0\n",
    "$$\n",
    "\n",
    "Evidentemente, ya no podemos representarlo en una pantalla.\n",
    "\n",
    "Como podemos ver, la ecuación implícita del hiperplano, y de todos los demás elementos que hemos visto de dimensión menor, es la **combinación lineal** de las variables, donde los coeficientes son precisamente el  vector característico.\n",
    "<br>\n",
    "Los puntos del hiperplano son aquellos que satisfacen la ecuación, es decir que al evaluarlos dan 0.\n",
    "\n",
    "<u>¿ Y el término independiente ?</u>\n",
    "\n",
    "A veces se añade una variable _dummy_ para \"eliminarlo\" de la expresión.\n",
    "\n",
    "Una variable _dummy_ es una variable fija a 1, de manera que el vector de variables pasa a ser $~{\\bf x} = (1, x_1, x_2, \\ldots, x_D)^\\top.$\n",
    "\n",
    "Entonces la ecuación implícita del hiperplano queda simplemente:\n",
    "$$\n",
    "{\\bf c}^\\top {\\bf x} = 0,\n",
    "$$\n",
    "donde ahora ${\\bf c} = (c_0, c_1, \\ldots, c_D)^\\top.$"
   ]
  },
  {
   "cell_type": "markdown",
   "metadata": {},
   "source": [
    "## 07_Modelos_lineales:"
   ]
  },
  {
   "cell_type": "markdown",
   "metadata": {},
   "source": [
    "Existen dos grandes problemas de __aprendizaje supervisado__:\n",
    "- Regresión\n",
    "- Clasificación\n",
    "\n",
    "*(aunque realmente son el mismo ya que una regresión es lo mismo que una clasificación con infinitas clases)"
   ]
  },
  {
   "cell_type": "markdown",
   "metadata": {},
   "source": [
    "### Regresión:"
   ]
  },
  {
   "cell_type": "markdown",
   "metadata": {},
   "source": [
    "Consiste en aprender a emparejar los ejemplos dados con un valor objetivo o *target* que toma valores en un intervalo continuo.\n",
    "> Ejemplos:\n",
    "- Estimar el precio de una casa en función de una serie de características\n",
    "- Estimar la probabilidad de que un paciente desarrolle una enfermedad a partir de su historial\n",
    "- ..."
   ]
  },
  {
   "cell_type": "markdown",
   "metadata": {},
   "source": [
    "### Clasificación:"
   ]
  },
  {
   "cell_type": "markdown",
   "metadata": {},
   "source": [
    "Consiste en aprender a emparejar los ejemplos dados con un valor discreto, denominado **etiqueta, clase** o *label*. A veces toma valores dentro de un conjunto de categorías, por ejemplo *{rojo, verde azul}*. En ese caso se hace una codificación con entero o una *One-Hot*.\n",
    "\n",
    "Cuando sólo hay dos clases se dice que es binario o de clasificación binaria. \n",
    "\n",
    "> Ejemplos\n",
    "- Estimar la enfermedad dado un conjunto de síntomas.\n",
    "- Estimar si un correo electrónico entrante es o no _spam_\n",
    "- ..."
   ]
  },
  {
   "cell_type": "markdown",
   "metadata": {},
   "source": [
    "### En ambos casos:"
   ]
  },
  {
   "cell_type": "markdown",
   "metadata": {},
   "source": [
    "\n",
    "En problemas supervisados **siempre** tendremos:\n",
    "- Un conjunto de datos que consiste en:\n",
    "    - $N$ ejemplos $D$ dimensionales\n",
    "    - tal que cada ejemplo está emparejado con su valor objetivo\n",
    "- y un modelo para aprender a emparejar cada ejemplo con su valor objetivo (para regresión) su etiqueta (para clasificación).\n",
    "\n",
    "Y en ambos casos también nuestro objetivo es **ESTIMAR** con la mayor tasa de acierto posible el valor objetivo o la etiqueta de los ejemplos **nuevos** que lleguen a partir del momento en el que pongamos nuestro sistema a funcionar."
   ]
  },
  {
   "cell_type": "markdown",
   "metadata": {},
   "source": [
    "### Modelo lineal:\n",
    "\n",
    "Es aquel en el que la salida del modelo es una combinación lineal de la entrada y los parámetros.\n",
    "Es decir\n",
    "$$\n",
    "f({\\bf x};{\\bf w}) = w_0 + w_1x_1 + \\cdots + w_Dx_D.\n",
    "$$\n",
    "\n",
    "La relación entre un modelo lineal y un hiperplano es evidente.<br>\n",
    "Dado un modelo lineal, existe un hiperplano cuyo vector característico es ${\\bf w} = (w_1,\\ldots,w_D)^\\top$ y término independiente es $w_0$ tal que $~w_0 + {\\bf w}^\\top{\\bf x} = 0.$"
   ]
  },
  {
   "cell_type": "markdown",
   "metadata": {},
   "source": [
    "#### Modelo lineal de regresión:"
   ]
  },
  {
   "cell_type": "markdown",
   "metadata": {},
   "source": [
    "$$\\hat y = w_0 + {\\bf w}^\\top{\\bf x},$$\n",
    "donde $\\hat y$ es la estimación que hace el modelo para el ejemplo $\\bf x$ dado con los parámetros escogidos.\n",
    "\n",
    "El modelo lineal de regresión es lo que obtenemos al **ajustar por mínimos cuadrados** un conjunto de pares de puntos, pero generalizado a $D\\ge 2$ dimensiones.\n",
    "\n",
    "__Desventajas:__<br>\n",
    "Este método es costoso computacionalmente cuando $X$ es muy grande. Existen otros métodos para hacerlo más eficiente, pero la solución más adoptada es utilizar el **descenso de gradiente**"
   ]
  },
  {
   "cell_type": "markdown",
   "metadata": {},
   "source": [
    "### Ejemplo:"
   ]
  },
  {
   "cell_type": "code",
   "execution_count": null,
   "metadata": {},
   "outputs": [],
   "source": [
    "from sklearn import linear_model\n",
    "\n",
    "# Entrenamos el modelo:\n",
    "reg_Tema07 = linear_model.LinearRegression()\n",
    "reg_Tema07.fit(df_pca, df_OneHot['setosa'])\n",
    "prediccion = reg_Tema07.predict(df_pca)"
   ]
  },
  {
   "cell_type": "code",
   "execution_count": null,
   "metadata": {},
   "outputs": [],
   "source": [
    "# Representación gráfica:\n",
    "import seaborn as sns\n",
    "\n",
    "# Graficar datos reales\n",
    "plt.figure(figsize=(10, 6))\n",
    "sns.scatterplot(x=df_pca.iloc[:, 0], y=df_pca.iloc[:, 1], hue=df_OneHot['setosa'], palette='Set1', legend='full')\n",
    "plt.title('Predicción con Regresión Lineal')\n",
    "plt.xlabel('Componente Principal 1')\n",
    "plt.ylabel('Componente Principal 2')\n",
    "plt.legend(title='Especies')\n",
    "plt.show()"
   ]
  },
  {
   "cell_type": "markdown",
   "metadata": {},
   "source": [
    "## 08_Regresión_logística:"
   ]
  },
  {
   "cell_type": "markdown",
   "metadata": {},
   "source": [
    "### Función Logística:"
   ]
  },
  {
   "cell_type": "markdown",
   "metadata": {},
   "source": [
    "Es una función Sigmoide* en particular: *(Sigmoide significa que tiene forma de _S_)\n",
    "$$S(x) = \\frac{1}{1+e^{-x}}$$\n",
    "> donde $x$ hace referencia a la entrada de la función, no a un ejemplo del conjunto de datos.\n",
    "\n",
    "Esta función tiene las siguientes propiedades:\n",
    "- Es continua y siempre creciente\n",
    "- $\\quad \\lim\\limits_{x\\rightarrow -\\infty} S(x) = 0$\n",
    "- $\\quad \\lim\\limits_{x\\rightarrow +\\infty} S(x) = 1$\n",
    "\n",
    "Por tanto **cumple las condiciones para ser una distribución de probabilidad** (_Cumulative Distribution Function_ o CDF)."
   ]
  },
  {
   "cell_type": "code",
   "execution_count": null,
   "metadata": {},
   "outputs": [],
   "source": [
    "#-- Función sigmoide --#\n",
    "# Crear la función logística para un array de Ns elementos\n",
    "def logistic(x):\n",
    "    return 1 / (1 + np.exp(-x))\n",
    "\n",
    "# Generar un rango de valores para x\n",
    "Ns = 100   #<- Número de muestras en el eje horizontal (x)\n",
    "bound = 10 #<- límites de la figura en horizontal: [-bound, +bound]\n",
    "x = np.linspace(-bound, bound, Ns)\n",
    "\n",
    "# Calcular los valores de la función logística para cada valor de x\n",
    "y = logistic(x)\n",
    "\n",
    "# Dibujar\n",
    "plt.plot(x, y)\n",
    "\n",
    "plt.title('Función logística')\n",
    "plt.xlabel('$x$'); plt.ylabel('$S(x)$')\n",
    "plt.grid()\n",
    "plt.show()"
   ]
  },
  {
   "cell_type": "markdown",
   "metadata": {},
   "source": [
    "**¿La regresión logística es un modelo lineal?**\n",
    "\n",
    "La utilización de la función logística, que obviamente es una función NO lineal, da lugar a esta duda.\n",
    "\n",
    "En realidad es un **modelo lineal generalizado** ya que los logits sí se calculan mediante un modelo lineal.\n",
    "\n",
    "La función logística simplemente nos sirve para dar una estimación de la probabilidad de pertenecer a una clase; pero el modelo de los datos sigue siendo un modelo lineal."
   ]
  },
  {
   "cell_type": "markdown",
   "metadata": {},
   "source": [
    "### Regresión logística:"
   ]
  },
  {
   "cell_type": "markdown",
   "metadata": {},
   "source": [
    "En el tema `07_Modelos_lineales` obtuvimos un clasificador mediante regresión, lo que buscamos ahora es dividir con una función sigmoide cada etiqueta.\n",
    "\n",
    "La función sigmoide satura los datos creando mucha separación entre ambas clases para que estas no se mezclen, convirtiéndolo a una medida de la probabilidad de que el ejemplo pertenezca a una de las dos clases.\n",
    "\n",
    "Sea **Logit** el nombre que recibe el resultado de la función lineal $ ~~f({\\bf w},{\\bf x}) = {\\bf w}^\\top{\\bf x}.$\n",
    "\n",
    "Entonces, la función logística aplicada al logit nos devuelve una medida de la probabilidad de que $\\bf x$ pertenezca a la clase \"$+1$\", más exactamente:\n",
    "$$\n",
    " \\Pr(y=+1|\\text{logit}={\\bf w}^\\top{\\bf x}) =\n",
    "\\frac{1}{1+e^{-{\\bf w}^\\top{\\bf x}}}\n",
    "$$"
   ]
  },
  {
   "cell_type": "markdown",
   "metadata": {},
   "source": [
    "### Ejemplo:"
   ]
  },
  {
   "cell_type": "code",
   "execution_count": null,
   "metadata": {},
   "outputs": [],
   "source": [
    "reg = linear_model.LinearRegression()\n",
    "\n",
    "# Creamos una copia de nuestro DataFrame para entrenar el modelo\n",
    "df_lm = df_pca.copy()   # NO ES NECESARIO\n",
    "\n",
    "# Entrenamos el modelo de regresión lineal\n",
    "reg.fit(df_lm, df_OneHot['setosa'])\n",
    "print(f'Los parámetros aprendidos para un modelo lineal son:')\n",
    "print(f' w = {reg.coef_} , w0 = {reg.intercept_:0.2f}')"
   ]
  },
  {
   "cell_type": "code",
   "execution_count": null,
   "metadata": {},
   "outputs": [],
   "source": [
    "# Obtenemos los logits:\n",
    "logit = reg.predict(df_lm)\n",
    "\n",
    "# Convertimos los logits en probabilidad de pertenecer a la clase \"1\":\n",
    "def logistic_fun(x):\n",
    "    return 1 / (1 + np.exp(-x))\n",
    "\n",
    "# Añadimos los logits y la p(y = 1) al DataFrame:\n",
    "df_lm[\"logit\"]=logit\n",
    "df_lm['p(y=1)']=logistic_fun(logit)\n",
    "df_lm.head()"
   ]
  },
  {
   "cell_type": "code",
   "execution_count": null,
   "metadata": {},
   "outputs": [],
   "source": [
    "colors=df_lm['p(y=1)'].copy()\n",
    "colors[colors==1]='b'\n",
    "colors[colors==-1]='r'\n",
    "df_lm.plot.scatter(x='logit', y='p(y=1)', c=colors, s=30, alpha=0.5)\n",
    "range_logit = np.linspace(-5,5,30)\n",
    "plt.plot(range_logit, logistic_fun(range_logit), 'y--')\n",
    "plt.grid()\n",
    "plt.show()"
   ]
  },
  {
   "cell_type": "markdown",
   "metadata": {},
   "source": [
    "**En definitiva**<br>\n",
    "La regresión logística nos devuelve una medida de la probabilidad de que un ejemplo dado pertenezca a una clase y por tanto también una medida de probabilidad de pertenecer al resto de clases (o a la otra clase si solo hay dos)"
   ]
  },
  {
   "cell_type": "markdown",
   "metadata": {},
   "source": [
    "## 09_Descenso_gradiente: `Todo teoría`"
   ]
  },
  {
   "cell_type": "markdown",
   "metadata": {},
   "source": [
    "### Teoría:"
   ]
  },
  {
   "cell_type": "markdown",
   "metadata": {},
   "source": [
    "El término **descenso del gradiente** agrupa un conjunto de métodos de optimización numérica.\n",
    "\n",
    "> **¿Qué es un gradiente?**<br>\n",
    "Es un vector que marca la dirección de máxima pendiente de una función en un punto dado.\n",
    "\n",
    "> **¿Qué requisitos debe haber para tener un gradiente?**<br>\n",
    "La función $\\mathcal L$ debe ser **derivable** en todas las direcciones."
   ]
  },
  {
   "cell_type": "markdown",
   "metadata": {},
   "source": [
    "En la imágen, si seguimos el gradiente (en un punto cualquiera) subimos y subimos sin parar. <br>\n",
    "Pero de una parábola lo interesante es saber en qué punto se encuentra el mínimo $\\rightarrow$ Siguiendo el gradiente NUNCA vamos a llegar a él.\n",
    "\n",
    "Para encontrar el mínimo siguiendo el gradiente debemos **dar la vuelta a la función**"
   ]
  },
  {
   "cell_type": "code",
   "execution_count": null,
   "metadata": {},
   "outputs": [],
   "source": [
    "#-- Dibujo del hiperplano --#\n",
    "# Definir la función de la parábola\n",
    "def fun_L(x, y):\n",
    "    return x**2 + y**2\n",
    "\n",
    "# Definir la función del gradiente\n",
    "def fun_grad_L(x, y):\n",
    "    return np.array([2*x, 2*y])\n",
    "\n",
    "# Hacer un barrido del espacio 2D\n",
    "bound = 4 #<- límites del intervalo en un eje = [-bound, bound]\n",
    "Ns = 12   #<- cuantas muestras tomo en ese intervalo\n",
    "\n",
    "w1 = np.linspace(-bound, bound, Ns)\n",
    "w2 = np.linspace(-bound, bound, Ns)\n",
    "ww1,ww2 = np.meshgrid(w1,w1)\n",
    "\n",
    "# calculo de L y gradiente de L\n",
    "L = fun_L(ww1,ww2)\n",
    "grad_L = fun_grad_L(ww1,ww2)\n",
    "\n",
    "# Dibuja la parabola mediante 25 curvas de nivel\n",
    "ax = plt.axes(projection='3d')\n",
    "ax.contour3D(ww1, ww2, L, 25, cmap='cool')\n",
    "\n",
    "# Proyecta algunas curvas de nivel en el espacio 2D de w=[w1,w2]\n",
    "ax.contour(ww1, ww2, L, levels=[0,2,4,8,16,30], linestyles='--',\n",
    "            zdir='z', offset=0, cmap='cool')\n",
    "\n",
    "# Crear un gráfico de vectores para el gradiente\n",
    "ax.quiver3D(ww1, ww2, np.zeros_like(ww1),\n",
    "            grad_L[0,:,:], grad_L[1,:,:], np.zeros_like(ww1),\n",
    "            length=0.1, arrow_length_ratio=0.3, normalize=False,\n",
    "            colors='gray', alpha=0.5)\n",
    "\n",
    "# Agregar etiquetas y mostrar\n",
    "plt.xlabel('$w_1$')\n",
    "plt.ylabel('$w_2$')\n",
    "plt.axis('tight')\n",
    "plt.show()\n"
   ]
  },
  {
   "cell_type": "markdown",
   "metadata": {},
   "source": [
    "### Algoritmo _Descenso de gradiente_:"
   ]
  },
  {
   "cell_type": "markdown",
   "metadata": {},
   "source": [
    "El _Descenso del gradiente_ es un algoritmo para localizar el mínimo de una función de manera itereativa.<br>\n",
    "\n",
    "En cada iteración nos desplazamos por $\\bf w$ en la dirección que marca el gradiente de $\\mathcal L$. <br>\n",
    "El algoritmo comienza en un punto aleatorio, y el desplazamiento produce un nuevo punto. Este proceso se repite, tomando como punto de partida el punto alcanzado en la iteración anterior, hasta que se cumple una condición de parada.\n",
    "\n",
    "**Condición de parada** (_eval stop_)\n",
    "> El algoritmo se detiene si ocurre alguno de los dos casos siguientes:\n",
    "- El número iteraciones alcanza un tope\n",
    "- El valor de $\\mathcal L~$ ya no decrece más.\n",
    "\n",
    "<br><br>\n",
    "En el descenso de gradiente, se actualizan los parámetros del modelo en la dirección opuesta al gradiente de la función de pérdida. El ratio de aprendizaje determina cuánto avanzamos en la dirección del gradiente. Aquí tienes una representación de cómo se actualiza un parámetro en el descenso de gradiente:\n",
    "$$\\theta = \\theta - \\eta \\cdot \\nabla_{\\theta} J(\\theta)$$\n",
    "\n",
    "Donde:\n",
    "\n",
    "- $θ$ son los parámetros del modelo.\n",
    "- $η$ es el ratio de aprendizaje.\n",
    "- $∇_θ​J(θ)$ es el gradiente de la función de pérdida J con respecto a los parámetros θ.\n",
    "\n",
    "Si el ratio de aprendizaje es muy grande, los pasos serán muy grandes y el algoritmo puede no converger o incluso divergir. Si el ratio de aprendizaje es muy pequeño, los pasos serán muy pequeños y puede que se necesite mucho tiempo para converger, o que el algoritmo se quede atascado en un mínimo local.\n",
    "Por lo tanto, elegir un buen valor para el ratio de aprendizaje es crucial para el rendimiento del algoritmo de descenso de gradiente"
   ]
  },
  {
   "cell_type": "markdown",
   "metadata": {},
   "source": [
    "## 10_Minimizar_perdida: \n",
    "(`Uso del Descenso de gradiente para mejorar el modelo`)"
   ]
  },
  {
   "cell_type": "markdown",
   "metadata": {},
   "source": [
    "`El algoritmo de descenso de gradiente nos permite resolver cualquier problema de optimización de aprendizaje supervisado siempre que tengamos la`*__`función de pérdida`__*"
   ]
  },
  {
   "cell_type": "markdown",
   "metadata": {},
   "source": [
    "### Problema de optimización de aprendizaje supervisado"
   ]
  },
  {
   "cell_type": "markdown",
   "metadata": {},
   "source": [
    "Un problema supervisado es aquel en el que cada ejemplo está emparejado con un valor objetivo o una etiqueta (según se trate de una regresión o una clasificación respectivamente)"
   ]
  },
  {
   "cell_type": "markdown",
   "metadata": {},
   "source": [
    "### Función de pérdida"
   ]
  },
  {
   "cell_type": "markdown",
   "metadata": {},
   "source": [
    "El objetivo es predecir, con la mayor tasa de acierto, el valor objetivo o la etiqueta de los ejemplos que reciba. La **función de pérdida devuelve una medida relacionada con los fallos cometidos por el modelo respecto de los datos reales**.\n",
    "\n",
    "Sea $~\\mathcal L \\big( {\\bf Y}, f({\\bf X};{\\bf w}) \\big)~$ dicha función, si es **derivable en todo punto** ¡ entonces podemos aplicar el **descenso del gradiente** !."
   ]
  },
  {
   "cell_type": "markdown",
   "metadata": {},
   "source": [
    "### Funciones de pérdida para regresión"
   ]
  },
  {
   "cell_type": "markdown",
   "metadata": {},
   "source": [
    "En estos casos\n",
    "$~\n",
    "f({\\bf x};{\\bf w}): (\\mathbb R^{D}; \\mathbb R^{D}) \\rightarrow \\mathbb R,\n",
    "~$\n",
    "y el valor objetivo $y \\in \\mathbb R$ también.\n",
    "\n",
    "Por tanto, una función de pérdida para regresión debe tener las siguientes características:\n",
    "- Calcular $\\delta_{(i)} = \\left(y^{(i)} - f({\\bf x}^{(i)},{\\bf w}) \\right)$ para cada $i = 1,2,\\ldots,N.$\n",
    "- Convertir $\\delta_{(i)}$ en un valor positivo para todo $i$.\n",
    "- Hacer el promedio para todos los ejemplos.\n",
    "\n",
    "Algunas funciones de pérdida con estas características son:\n",
    "\n",
    "**MSE** (_Mean Squared Error_)\n",
    "$$\n",
    " \\mathcal L \\big( {\\bf Y}, f({\\bf X};{\\bf w}) \\big)\n",
    " =\\frac{1}{N}\\sum\\limits_{i=1}^{N}\\left(y^{(i)} - f({\\bf x}^{(i)},{\\bf w})\\right)^2\n",
    "$$\n",
    "\n",
    "**MAE** (_Mean Absolute Error_)\n",
    "$$\n",
    " \\mathcal L \\big( {\\bf Y}, f({\\bf X};{\\bf w}) \\big)\n",
    " =\\frac{1}{N}\\sum\\limits_{i=1}^{N}\\left\\vert y^{(i)} - f({\\bf x}^{(i)},{\\bf w})\\right\\vert\n",
    "$$\n",
    "\n",
    "**Log-cosh**\n",
    "$$\n",
    " \\mathcal L \\big( {\\bf Y}, f({\\bf X};{\\bf w}) \\big)\n",
    " =\\frac{1}{N}\\sum\\limits_{i=1}^{N} \\log\\left(\\cosh\\big( y^{(i)} - f({\\bf x}^{(i)})\\big)\\right)\n",
    "$$"
   ]
  },
  {
   "cell_type": "markdown",
   "metadata": {},
   "source": [
    "### Funciones de pérdida para clasificación"
   ]
  },
  {
   "cell_type": "markdown",
   "metadata": {},
   "source": [
    "A diferencia de la regresión, la clasificación puede tener varias formas.\n",
    "1. Clasificación binaria:<br>\n",
    "_un ejemplo sólo puede pertenecer a 2 clases excluyentes_\n",
    "1. Clasificación multi-clase:<br>\n",
    "_un ejemplo puede pertenecer a varias clases pero excluyentes_\n",
    "1. Clasificación multi-etiqueta:<br>\n",
    "_un ejemplo puede pertenecer a una o varias clases al mismo tiempo_\n",
    "\n",
    "\n",
    "Los tres casos se pueden abordar como un problema de regresión y después utilizar una función discriminante.\n",
    "\n",
    "PERO ya hemos aprendido que la regresión logística es un modo mucho más natural de abordar la clasificación porque incorpora una medida de la probabilidad de pertencer a una cierta clase.\n",
    "\n",
    "Sin embargo, cuando trabajamos con probabilidades las pérdidas citadas arriba **NO** son apropiadas.\n",
    "\n",
    "Esta cuestión es tan importante que merece un cuaderno para ella sola.\n",
    "\n",
    "Por este motivo, **el resto de este tema está dedicado exclusivamente a las pérdidas de REGRESIÓN.**\n",
    "\n"
   ]
  },
  {
   "cell_type": "markdown",
   "metadata": {},
   "source": [
    "### Gradiente de la pérdida MSE"
   ]
  },
  {
   "cell_type": "markdown",
   "metadata": {},
   "source": [
    "$$\n",
    "\\begin{align}\n",
    "  \\nabla_{\\bf w}\\mathcal L &=\n",
    "  \\left[ \\frac{\\partial \\mathcal L}{\\partial w_i}\n",
    "  \\right]_{i=1,\\ldots,D}\n",
    "\\end{align}\n",
    "$$\n",
    "\n",
    "Para calcular la derivada parcial de la pérdida respecto del parámetro $i$-ésimo vamos a reescribir la pérdida del siguiente modo:\n",
    "$$\n",
    "\\mathcal L =\n",
    "\\frac{1}{N}\\sum\\limits_{k=1}^N \\delta_{(k)}^2,\n",
    "$$\n",
    "con\n",
    "$$\\delta_{(k)} = y^{(k)} - f({\\bf x}^{(k)},{\\bf w}),$$\n",
    "y con\n",
    "$$\n",
    "f({\\bf x}^{(k)},{\\bf w}) = x_1^{(k)}w_1 + x_2^{(k)}w_2 + \\cdots + x_D^{(k)}w_D.\n",
    "$$\n",
    "\n",
    "Así podemos aplicar la regla de la cadena de la derivada, de modo que para el ejemplo $k$-ésimo tenemos:\n",
    "\n",
    "$$\n",
    "\\frac{\\partial \\mathcal L}{\\partial w_i} =\n",
    "\\frac{\\partial \\mathcal L}{\\partial \\delta_{(k)}}\\cdot\n",
    "\\frac{\\partial \\delta_{(k)}}{\\partial f}\\cdot\n",
    "\\frac{\\partial \\mathcal f}{\\partial w_i}\n",
    "$$\n",
    "\n",
    ">Estos 3 términos son:\n",
    "$$\n",
    "\\begin{array}{llllll}\n",
    "\\frac{\\partial \\mathcal L}{\\partial \\delta_{(k)}} &= \\frac{1}{N}2\\delta_{(k)}  &,&\n",
    "\\frac{\\partial \\delta^{(k)}}{\\partial f} &= -1  &,&\n",
    "\\frac{\\partial \\mathcal f}{\\partial w_i} &= x_i^{(k)} \\\\\n",
    "\\end{array}\n",
    "$$\n",
    "\n",
    "Juntando todo y recordando que tenemos el sumatorio de $N$ términos $\\delta^2$:\n",
    "$$\n",
    "\\frac{\\partial \\mathcal L}{\\partial w_i} =\n",
    "\\frac{1}{N}\\sum\\limits_{k=1}^{N}\n",
    " 2\\delta_{(k)}(-1)x_i^{(k)} =\n",
    "\\frac{2}{N}\\sum\\limits_{k=1}^{N}\n",
    " \\left( f({\\bf x}^{(k)},{\\bf w}) - y^{(k)} \\right)\\left( x_i^{(k)} \\right),\n",
    "$$\n",
    "que para el caso de modelos lineales es\n",
    "$$\n",
    "\\frac{\\partial \\mathcal L}{\\partial w_i} =\n",
    "\\frac{2}{N}\\sum\\limits_{k=1}^{N}\n",
    " \\left( {\\bf w}^\\top{\\bf x}^{(k)} - y^{(k)} \\right)\\left( x_i^{(k)} \\right)\n",
    "$$"
   ]
  },
  {
   "cell_type": "markdown",
   "metadata": {},
   "source": [
    "#### Regla de actualización de parámetros:"
   ]
  },
  {
   "cell_type": "markdown",
   "metadata": {},
   "source": [
    "Una vez se conoce la expresión del gradiente para todo punto, sólo hay que utilizarla en la regla de actualización del descenso de gradiente."
   ]
  },
  {
   "cell_type": "markdown",
   "metadata": {},
   "source": [
    "#### Modelo"
   ]
  },
  {
   "cell_type": "markdown",
   "metadata": {},
   "source": [
    "Comenzamos creando la clase `F` que contendrá nuestro modelo lineal $f({\\bf x},{\\bf w}) = {\\bf w}^\\top{\\bf x}.$\n",
    "\n",
    "La clase tiene 2 métodos:\n",
    "- `val` devuelve el valor de la función para un vector de parámetros y un ejemplo\n",
    "- `grad_w` devuelve la derivada de $f$ respecto de ${\\bf w}$.\n",
    "\n",
    "Lo interesante es que, cada vez que instanciemos un objeto de esta clase, éste lleva incorporada la derivada respecto de sus parámetros."
   ]
  },
  {
   "cell_type": "code",
   "execution_count": null,
   "metadata": {},
   "outputs": [],
   "source": [
    "class F:\n",
    "    def __init__(self, w):\n",
    "        self.w = w\n",
    "\n",
    "    def val(self, x):\n",
    "        return np.matmul(self.w.T, x).ravel()\n",
    "\n",
    "    def grad_w(self, x):\n",
    "        return x"
   ]
  },
  {
   "cell_type": "markdown",
   "metadata": {},
   "source": [
    "#### Pérdida MSE"
   ]
  },
  {
   "cell_type": "markdown",
   "metadata": {},
   "source": [
    "A continuación creamos la clase `MSE`, que tiene los mismos métodos de la clase del modelo:  `val` y `grad_w`\n",
    "\n",
    "- La clase se instancia para un modelo.\n",
    "- Cuando se ejecuta `val` se invoca el método `val` del modelo.\n",
    "- Cuando se ejecuta `grad_w` se calcula el valor de la predicción con el modelo y se invoca a `grad_w` del modelo.\n",
    "\n",
    "De esta manera, un objeto de esta clase incorpora la derivada respecto del modelo. No necesitamos codificar nada más porque el modelo que le hemos pasado ya lleva sus propias derivadas."
   ]
  },
  {
   "cell_type": "code",
   "execution_count": null,
   "metadata": {},
   "outputs": [],
   "source": [
    "class MSE:\n",
    "    def __init__(self, F):\n",
    "        self.F = F\n",
    "\n",
    "    def val(self, x, ytrue):\n",
    "        return ( ytrue-self.F.val(x) )**2\n",
    "\n",
    "    def grad_w(self, x, ytrue):\n",
    "        yhat = self.F.val(x)\n",
    "        return 2*(yhat-ytrue)*self.F.grad_w(x)"
   ]
  },
  {
   "cell_type": "markdown",
   "metadata": {},
   "source": [
    "#### Descenso de gradiente"
   ]
  },
  {
   "cell_type": "markdown",
   "metadata": {},
   "source": [
    "Creamos una clase para encapsular el algoritmo de descenso de gradiente.\n",
    "\n",
    "- El constructor recibe la función de pérdida que queremos utilizar y opciones de configuración (_learning rate_ y número de iteraciones)\n",
    "- El método `update` implementa la regla de actualización\n",
    "- El método `fit` ejecuta el algoritmo para un ejemplo `x` emparejado con su valor objetivo `ytrue`."
   ]
  },
  {
   "cell_type": "code",
   "execution_count": null,
   "metadata": {},
   "outputs": [],
   "source": [
    "class GradientDescent:\n",
    "    def __init__(self, loss, lr = 0.1, Niter = 10):\n",
    "        self.loss = loss\n",
    "        self.lr = lr\n",
    "        self.Niter = Niter\n",
    "\n",
    "    def update(self,x,ytrue):\n",
    "        self.loss.F.w = self.loss.F.w - ( self.lr * self.loss.grad_w(x,ytrue) )\n",
    "\n",
    "    def fit(self,x,ytrue):\n",
    "        steps = [self.loss.F.w]\n",
    "        for k in range(self.Niter):\n",
    "            self.update(x,ytrue)\n",
    "            steps.append(self.loss.F.w)\n",
    "        return steps"
   ]
  },
  {
   "cell_type": "markdown",
   "metadata": {},
   "source": [
    "### Explicación del proceso:"
   ]
  },
  {
   "cell_type": "markdown",
   "metadata": {},
   "source": [
    "Primero se calcula la pérdida MSE (Mean Squared Error o Error Cuadrático Medio) y luego se realiza el cálculo del Descenso de Gradiente. Aquí te dejo un resumen del proceso:\n",
    "\n",
    "1. __Cálculo de la pérdida MSE:__ Primero, se utiliza el modelo actual (con sus parámetros actuales) para hacer predicciones en los datos de entrenamiento. Luego, se compara estas predicciones con los valores reales utilizando la función de pérdida MSE. La pérdida MSE es la media de las diferencias cuadradas entre las predicciones del modelo y los valores reales.\n",
    "2. __Cálculo del Descenso de Gradiente:__ Una vez que se ha calculado la pérdida, se utiliza el Descenso de Gradiente para actualizar los parámetros del modelo. El Descenso de Gradiente calcula el gradiente de la función de pérdida con respecto a los parámetros del modelo, y luego ajusta los parámetros en la dirección que reduce la pérdida.\n",
    "\n",
    "Este proceso se repite hasta que el modelo converge, es decir, hasta que los cambios en los parámetros del modelo ya no reducen significativamente la función de pérdida, o hasta que se alcanza un número máximo de iteraciones. En cada iteración, primero se calcula la pérdida y luego se utiliza el Descenso de Gradiente para actualizar los parámetros."
   ]
  },
  {
   "cell_type": "markdown",
   "metadata": {},
   "source": [
    "## 11_Regularización_solución:"
   ]
  },
  {
   "cell_type": "markdown",
   "metadata": {},
   "source": [
    "### Regularización"
   ]
  },
  {
   "cell_type": "markdown",
   "metadata": {},
   "source": [
    "La función de pérdida tiene la siguiente expresión general\n",
    "$$\n",
    "\\mathcal L \\big( {\\bf Y}, f({\\bf X};{\\bf w}) \\big),\n",
    "$$\n",
    "tal que\n",
    "- $\\bf Y$ es el _ground truth_\n",
    "- $\\bf X$ es el conjunto de datos de entrenamiento, después de haber sido convenientemente preprocesado\n",
    "- $f({\\bf X},{\\bf w})$ es el modelo paramétrico, cuyo conjunto de parámetros es $\\bf w$.\n",
    "\n",
    "De este modo, la función de pérdida evalúa la discrepancia entre los valores del _ground truth_ y los valores estimados por el modelo.\n",
    "\n",
    "La **regularización** consiste en AÑADIR más reglas.\n",
    "\n",
    "Puesto que tanto $\\bf X$ como $\\bf Y$ vienen dados por el \"cliente\", lo único sobre lo que podemos imponer reglas es sobre los pesos. <br>\n",
    "Es decir, en vez de viajar libremente por el espacio de $\\bf w$  buscando el punto $\\bf w^*$ donde se alcanza el mínimo de la pérdida, añadimos términos que restringen \"el viaje\".\n",
    "\n",
    "De esta manera la función objetivo del problema de optimización se convierte en:\n",
    "$$\n",
    "\\mathcal L \\big( {\\bf Y}, f({\\bf X};{\\bf w}) \\big) +\n",
    "\\mathcal R \\big( {\\bf w} \\big)\n",
    "$$\n",
    "\n",
    "Vamos a estudiar 3 métodos de regularización, todos ellos sobre el problema de regresión lineal:\n",
    "- Lasso\n",
    "- Ridge\n",
    "- Elastic Net"
   ]
  },
  {
   "cell_type": "markdown",
   "metadata": {},
   "source": [
    "### Regularización _Lasso_"
   ]
  },
  {
   "cell_type": "markdown",
   "metadata": {},
   "source": [
    "Consiste en añadir el término\n",
    "$$\n",
    "\\mathcal R_{L} = \\alpha \\sum\\limits_{i=1}^{D} \\vert w_i\\vert\n",
    "$$\n",
    "a la función de pérdida; donde $\\alpha\\ge 0$ es un valor que elegimos nosotros para controlar su efecto.\n",
    "- $\\alpha \\rightarrow 0:\\quad$\n",
    "  Obtenemos el mismo $\\bf w^*$ que con la regresión lineal, es decir desaparece el término de regularización.\n",
    "- $\\alpha > 0:\\quad$\n",
    "  Algunos parámetros tenderán a ir hacia 0\n",
    "- $\\alpha \\rightarrow \\infty:~~$\n",
    "  Todos los parámetros se anulan.\n",
    "\n",
    "En definitiva, quitando los dos casos extremos, el efecto de este regularizador es lograr que haya menos parámetros, porque muchos de ellos tenderán hacia 0.\n",
    "\n",
    "- El nombre proviene de _Least Absolute Shrinkage and Selection Operator_, precisamente por la propiedad de seleccionar y reducir el número de parámetros.\n",
    "- La clase `sklearn.linear_model.Lasso` implementa la pérdida con esta regularización para el modelo lineal.\n",
    "<BR> También se puede usar en otros modelos que ofrecen la opción `penalty = \"l1\"`."
   ]
  },
  {
   "cell_type": "markdown",
   "metadata": {},
   "source": [
    "### Regularización _Ridge_"
   ]
  },
  {
   "cell_type": "markdown",
   "metadata": {},
   "source": [
    "Consiste en añadir el término\n",
    "$$\n",
    "\\mathcal R_{R} = \\frac{\\alpha}{2} \\sum\\limits_{i=1}^{D} ( w_i )^2\n",
    "$$\n",
    "a la función de pérdida; donde $\\alpha\\ge 0$ es un valor que elegimos nosotros para contralar su efecto.\n",
    "- $\\alpha \\rightarrow 0:\\quad$\n",
    "  Obtenemos el mismo $\\bf w^*$ que con la regresión lineal, es decir desaparece el término de regularización, igual que con _Lasso_,\n",
    "- $\\alpha > 0:\\quad$\n",
    "  Impide que los parámetros se separen mucho o que alguno crezca demasiado.<br>\n",
    "- $\\alpha \\rightarrow \\infty:~~$\n",
    "  Todos los parámetros se anulan, igual que con _Lasso_.\n",
    "\n",
    "En definitiva, quitando los dos casos extremos, el efecto de este regularizador es lograr que todos los parámtros tengan valores pequeños, pero no necesariamente nulos.\n",
    "\n",
    "- La clase `sklearn.linear_model.Ridge` implementa la pérdida con esta regularización para el modelo lineal.\n",
    "<BR> También se puede usar en otros modelos que ofrecen la opción `penalty = \"l2\"`."
   ]
  },
  {
   "cell_type": "markdown",
   "metadata": {},
   "source": [
    "### Regularización _Elastic Net_"
   ]
  },
  {
   "cell_type": "markdown",
   "metadata": {},
   "source": [
    "Consiste en añadir una combinación lineal de ambos\n",
    "$$\n",
    "\\mathcal R_{E} = \\alpha_1 \\mathcal R_{L} + \\alpha_2 \\mathcal R_{R}\n",
    "= \\alpha_1 \\Vert{\\bf w}\\Vert_1 + \\frac{\\alpha_2}{2} \\Vert{\\bf w}\\Vert_2^2.\n",
    "$$\n",
    "Esta regularización causa un doble reducción de los parámetros: la que provoca Lasso y la de Ridge. Para tener más control y además una interpretación de $\\alpha_1$ y $\\alpha_2$ es más frecuente utilizar una combinación lineal convexa de ambos términos de regularización. Es decir:\n",
    "$$\n",
    "\\mathcal R_{E} = \\alpha \\big( r \\cdot \\mathcal R_{L} + (1-r)  \\cdot \\mathcal R_{R} \\big),\n",
    "$$\n",
    "donde $r$ es el porcentaje o ratio de regularización Lasso que aplicamos; y por tanto el porcentaje complementario hasta llegar a 100% es de regularización Ridge; y $\\alpha$ es un multiplicador para dar más o menos peso al termino.\n",
    "\n",
    ">- La clase `sklearn.linear_model.ElasticNet` implementa la pérdida con esta regularización para el modelo lineal.\n",
    "<BR> También se puede usar en otros modelos que ofrecen la opción `penalty = \"elasticnet\"`."
   ]
  },
  {
   "cell_type": "markdown",
   "metadata": {},
   "source": [
    "### Hiperparámetros"
   ]
  },
  {
   "cell_type": "markdown",
   "metadata": {},
   "source": [
    "Con los términos de regularización aparece un término nuevo muy-muy importante: **hiperparámetro**.\n",
    "\n",
    "Los parámetros son aquellos elementos que podemos utilizar para ajustar un modelo a un conjunto de datos supervisado, <br>\n",
    "mientras que los **hiperparámetros** son aquellos elementos que se han añadido al modelo o al algoritmo para controlar la ejecución."
   ]
  },
  {
   "cell_type": "markdown",
   "metadata": {},
   "source": [
    "### Ejemplo:"
   ]
  },
  {
   "cell_type": "code",
   "execution_count": null,
   "metadata": {},
   "outputs": [],
   "source": [
    "# Librerías\n",
    "from sklearn import linear_model\n",
    "\n",
    "# Instanciar los modelos lineales regularizados\n",
    "linear = linear_model.LinearRegression()\n",
    "lasso  = linear_model.Lasso(alpha=0.2)                   #<-| poner alphas\n",
    "ridge  = linear_model.Ridge(alpha=0.2)                    #<-| diferentes para\n",
    "elasnet= linear_model.ElasticNet(alpha=0.2, l1_ratio=0.5) #<-| ver su efecto\n",
    "\n",
    "# Entrenar los modelos\n",
    "linear.fit(df_pca, df_OneHot['setosa'])\n",
    "lasso.fit(df_pca, df_OneHot['setosa'])\n",
    "ridge.fit(df_pca, df_OneHot['setosa'])\n",
    "elasnet.fit(df_pca, df_OneHot['setosa'])\n",
    "\n",
    "# Hacer predicciones con cada modelo\n",
    "pred_linear = linear.predict(df_pca)\n",
    "pred_lasso = lasso.predict(df_pca)\n",
    "pred_ridge = ridge.predict(df_pca)\n",
    "pred_elasnet = elasnet.predict(df_pca)"
   ]
  },
  {
   "cell_type": "code",
   "execution_count": null,
   "metadata": {},
   "outputs": [],
   "source": [
    "# Mostrar los resultados\n",
    "# Crear una figura y ejes para la gráfica\n",
    "fig, axs = plt.subplots(2, 2, figsize=(12, 8))\n",
    "\n",
    "# Gráfico para el modelo lineal\n",
    "axs[0, 0].scatter(df_OneHot['setosa'], pred_linear)\n",
    "axs[0, 0].plot([df_OneHot['setosa'].min(), df_OneHot['setosa'].max()], \n",
    "               [df_OneHot['setosa'].min(), df_OneHot['setosa'].max()], \n",
    "               color='red', linestyle='--')\n",
    "axs[0, 0].set_title('Linear Regression')\n",
    "\n",
    "# Gráfico para el modelo Lasso\n",
    "axs[0, 1].scatter(df_OneHot['setosa'], pred_lasso)\n",
    "axs[0, 1].plot([df_OneHot['setosa'].min(), df_OneHot['setosa'].max()], \n",
    "               [df_OneHot['setosa'].min(), df_OneHot['setosa'].max()], \n",
    "               color='red', linestyle='--')\n",
    "axs[0, 1].set_title('Lasso Regression')\n",
    "\n",
    "# Gráfico para el modelo Ridge\n",
    "axs[1, 0].scatter(df_OneHot['setosa'], pred_ridge)\n",
    "axs[1, 0].plot([df_OneHot['setosa'].min(), df_OneHot['setosa'].max()], \n",
    "               [df_OneHot['setosa'].min(), df_OneHot['setosa'].max()], \n",
    "               color='red', linestyle='--')\n",
    "axs[1, 0].set_title('Ridge Regression')\n",
    "\n",
    "# Gráfico para el modelo ElasticNet\n",
    "axs[1, 1].scatter(df_OneHot['setosa'], pred_elasnet)\n",
    "axs[1, 1].plot([df_OneHot['setosa'].min(), df_OneHot['setosa'].max()], \n",
    "               [df_OneHot['setosa'].min(), df_OneHot['setosa'].max()], \n",
    "               color='red', linestyle='--')\n",
    "axs[1, 1].set_title('ElasticNet Regression')\n",
    "\n",
    "# Ajustar espacios entre subgráficos\n",
    "plt.tight_layout()\n",
    "plt.show()"
   ]
  },
  {
   "cell_type": "markdown",
   "metadata": {},
   "source": [
    "## 12_Evaluación_modelos:"
   ]
  },
  {
   "cell_type": "markdown",
   "metadata": {},
   "source": [
    "Una vez tenemos un modelo, ya sea para regresión o clasificación debemos conocer su calidad. Sobre todo en el caso de haber entrenado diferentes modelos, para así quedarnos con el mejor."
   ]
  },
  {
   "cell_type": "markdown",
   "metadata": {},
   "source": [
    "### Calidad de los modelos de regresión:"
   ]
  },
  {
   "cell_type": "markdown",
   "metadata": {},
   "source": [
    "La métrica que se suele utilizar en regresión es el valor $R^2$ (o R2):\n",
    "$$R^2(y, \\hat{y}) = 1 - \\frac{\\sum_{i=1}^{N} (y^{(i)} - \\hat{y}^{(i)})^2}{\\sum_{i=1}^{N} (y^{(i)} - \\bar{y})^2}$$\n",
    "\n",
    "donde $\\bar{y}$ es la media de los valores de $y$; y (como siempre) $\\hat y^{(i)}$ es la estimación del modelo para el ejemplo $i$-ésimo.\n",
    "\n",
    "A la diferencia $(y^{(i)} - \\hat{y}^{(i)})$ se le suele llamar **residuo**.\n",
    "\n",
    "Si dividimos la expresión de R2 arriba y abajo por $N$ entonces el numerador es el promedio de los residuos y el denominador es la varianza del valor _target_.\n",
    "\n",
    "Por tanto, con esa división estamos comparando el cuadrado de los residuos (los errores que cometemos al predecir el _target_ de cada ejemplo) con la dispersión de los _targets_ respecto de su media.\n",
    "\n",
    "> $R^2 = 1$ sólo si todos los residuos son 0. Por tanto, cuanto más cercano a 1, mejor es nuestro modelo. <br><br>\n",
    "Se encuentra implementado en `sklearn.metrics.r2_score`.\n",
    "\n",
    "TAMBIÉN se puede utilizar la propia función de pérdida para estimar la calidad del modelo. <br>\n",
    "El \"problema\" es que NO devuelven un valor acotado; su valor depende de los datos."
   ]
  },
  {
   "cell_type": "markdown",
   "metadata": {},
   "source": [
    "### Calidad de los modelos de clasificación binaria:"
   ]
  },
  {
   "cell_type": "markdown",
   "metadata": {},
   "source": [
    "En la clasificación binaria se puede acertar y fallar de dos maneras:\n",
    "\n",
    "- Aciertos:\n",
    "    - **Verdadero positivo**\n",
    "    - **Verdadero negativo**\n",
    "- Fallos:\n",
    "    - **Falso positivo**\n",
    "    - **Falso negativo**\n",
    "\n",
    "El recuento de todos los casos lo podemos ver en la **matriz de confusión**."
   ]
  },
  {
   "cell_type": "markdown",
   "metadata": {},
   "source": [
    "\n",
    "![image.png](data:image/png;base64,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)"
   ]
  },
  {
   "cell_type": "markdown",
   "metadata": {},
   "source": [
    "De la matriz de confusión se pueden sacar medidas derivadas.\n",
    "\n",
    "Las más frecuentes son:\n",
    "- **Precision**: <br>\n",
    "_Precision_=1 significa que todos los ejemplo estimados como positivos efectivamente lo eran.<br> Es la proporción de verdaderos positivos (TP) sobre la suma de verdaderos positivos y falsos positivos (FP). Se calcula como: \n",
    "    $$Precision = \\frac{TP}{TP + FP}$$\n",
    "\n",
    "- **Recall**: <bR>\n",
    "_Recall_=1 significa que todos los ejemplos positivos han sido estimados correctamente. <br> Es la proporción de verdaderos positivos sobre la suma de verdaderos positivos y falsos negativos (FN). Se calcula como: \n",
    "    $$Recall = \\frac{TP}{TP + FN}$$\n",
    "\n",
    "- **F1-score**: Es la media armónica entre Precision y Recall. Se calcula como: \n",
    "    $$F1 = 2 \\cdot \\frac{Precision \\cdot Recall}{Precision + Recall}$$\n",
    "\n",
    "- **Accuracy**: Es el porcentaje total de aciertos. Se calcula como: \n",
    "    $$Accuracy = \\frac{TP + TN}{TP + TN + FP + FN}$$"
   ]
  },
  {
   "cell_type": "markdown",
   "metadata": {},
   "source": [
    "### Curva ROC y AUROC"
   ]
  },
  {
   "cell_type": "markdown",
   "metadata": {},
   "source": [
    "La curva ROC es diferente a la matriz de confusión porque se calucla para todo el rango que posibles umbrales $\\theta$, mientras que la matriz de confusión ya asume un $\\theta$ fijado, y eso no permite ver como se comporta el modelo con diferentes cantidades de datos.\n",
    "\n",
    "Modiendo el área bajo la curva ROC (_Area Under ROC_, AUROC) podemos comparar modelos. `Cuanto MAYOR sea AUROC, mejor es el modelo`"
   ]
  },
  {
   "cell_type": "markdown",
   "metadata": {},
   "source": [
    "### Matriz de Confusión:"
   ]
  },
  {
   "cell_type": "markdown",
   "metadata": {},
   "source": [
    "La matriz de confusión muestra en la diagonal principal los Verdaderos positivos y negativos y en la segunda diagonal los falsos negativos y positivos en un umbral específico indicado.\n",
    "$$\n",
    "\\begin{bmatrix}\n",
    "\\text{True Positive} & \\text{False Negative} \\\\\n",
    "\\text{False Positive} & \\text{True Negative}\n",
    "\\end{bmatrix}\n",
    "$$"
   ]
  },
  {
   "cell_type": "markdown",
   "metadata": {},
   "source": [
    "### Ejemplo:"
   ]
  },
  {
   "cell_type": "code",
   "execution_count": null,
   "metadata": {},
   "outputs": [],
   "source": [
    "from sklearn.metrics import roc_curve, auc, confusion_matrix\n",
    "from sklearn.linear_model import LogisticRegression\n"
   ]
  },
  {
   "cell_type": "code",
   "execution_count": null,
   "metadata": {},
   "outputs": [],
   "source": [
    "# Entrenamiento del modelo de regresión logística\n",
    "model = LogisticRegression()\n",
    "model.fit(df_pca, df_OneHot['versicolor'])\n",
    "\n",
    "# Cálculo de las probabilidades\n",
    "y_score = model.predict_proba(df_pca)[:, 1]\n",
    "\n",
    "# Cálculo de la curva ROC y AUC\n",
    "fpr, tpr, thresholds = roc_curve(df_OneHot['versicolor'], y_score)\n",
    "roc_auc = auc(fpr, tpr)"
   ]
  },
  {
   "cell_type": "code",
   "execution_count": null,
   "metadata": {},
   "outputs": [],
   "source": [
    "# Visualización de la curva ROC\n",
    "plt.plot(fpr, tpr)\n",
    "plt.xlabel('False Positive Rate')\n",
    "plt.ylabel('True Positive Rate')\n",
    "\n",
    "# Mostrar resultados\n",
    "# print('\\n',\n",
    "#       pd.DataFrame({'fpr':fpr,            # Valor False Positive Rate\n",
    "#                     'tpr':tpr,            # Valor True Positive Rate\n",
    "#                     'th':thresholds}))    # Valor del Umbral de Decisión\n",
    "\n",
    "print(f'\\nAUROC {roc_auc:0.3f}')"
   ]
  },
  {
   "cell_type": "markdown",
   "metadata": {},
   "source": [
    "El motivo de que la curva tenga ese aspecto de escalera es que se ha calculado sobre los ejemplos de test, que son \"pocos\" (6 ejemplos para setosa, 37 si se prueba con veriscolor).\n",
    "\n",
    "Al ver `y_score` ordenado nos damos cuenta de que, si comenzamos con un umbral = 0 tenemos un TPR del 100%.<br> En el `eje x` se va disminuyendo el umbral de decisión, al comenzar con el umbral más alto es muy dificil que los ejemplos lo pasen y por eso comienza con valores tan bajos, en cambio, a medida que vamos disminuyendo el valor del umbral vamos aceptando más datos y el área bajo la curva crece.\n",
    "\n",
    "Una vez seleccionamos un umbral de probabilidad, podemos estimar las etiquetas de los ejemplos de test y escribir la matriz de confusión."
   ]
  },
  {
   "cell_type": "code",
   "execution_count": null,
   "metadata": {},
   "outputs": [],
   "source": [
    "#Matriz de confusión:\n",
    "\n",
    "from sklearn.metrics import confusion_matrix\n",
    "\n",
    "# Definición del umbral\n",
    "umbral = 0.2596  # puedes cambiar este valor\n",
    "\n",
    "# Predicciones del modelo con el umbral definido\n",
    "y_pred = [1 if prob > umbral else 0 for prob in y_score]\n",
    "\n",
    "# Cálculo de la matriz de confusión\n",
    "confusion_mat = confusion_matrix(df_OneHot['versicolor'], y_pred)\n",
    "\n",
    "print(f'Matriz de confusión:\\n{pd.DataFrame(confusion_mat)}')\n"
   ]
  },
  {
   "cell_type": "markdown",
   "metadata": {},
   "source": [
    "## 13_SVM: (`Teoría`)"
   ]
  },
  {
   "cell_type": "markdown",
   "metadata": {},
   "source": [
    "### Máquinas de vectores soporte (`Introducción`)"
   ]
  },
  {
   "cell_type": "markdown",
   "metadata": {},
   "source": [
    "Las máquinas de vectores soporte son un modelo que se aprende con una función de pérdida totalmente diferente a lo que hemos visto hasta ahora.\n",
    "\n",
    "Además introducen un concepto muy potente e importante en ML: las máquinas _Kernel_.\n",
    "\n",
    "La expresión final con la que se calculan los parámetros óptimos del modelo se obtiene tras mucha manipulación matemática en la que NO vamos a profundizar en tu totalidad, pero sí hasta un punto bastante avanzado.\n",
    "\n",
    "En concreto, aprenderemos el planteamiento del problema de optimización y como se convierte en otro (_dual_) que es más asequible y que, además, hace posible la utilización de _Kernels_ (de ahí su nombre).\n",
    "\n",
    "La estructura de este tema es la siguiente:\n",
    "1. Modelo lineal con márgenes rígidos (_hard_)\n",
    "2. Modelo lineal con márgenes laxos   (_soft_)\n",
    "3. Modelo no lineal = máquinas kernel"
   ]
  },
  {
   "cell_type": "code",
   "execution_count": null,
   "metadata": {},
   "outputs": [],
   "source": [
    "#-- Visualización de diferentes modelos --#\n",
    "from sklearn.datasets import make_blobs\n",
    "import matplotlib.pyplot as plt\n",
    "\n",
    "def plot_dataset(X,y):\n",
    "  plt.scatter(X[y == 0, 0], X[y == 0, 1],\n",
    "              c='red', marker='o', s=15, label='Clase 0')\n",
    "  plt.scatter(X[y == 1, 0], X[y == 1, 1],\n",
    "              color='blue', marker='+', s=30, label='Clase 1')\n",
    "  plt.xlabel('$x_1$')\n",
    "  plt.ylabel('$x_2$')\n",
    "\n",
    "def plot_clf1(X):\n",
    "  m = -1.\n",
    "  b = 2.3\n",
    "  rangeX = np.linspace(X[:,0].min(),X[:,0].max(),6)\n",
    "  y = m*rangeX + b\n",
    "  plt.plot(rangeX,y,'k:')\n",
    "\n",
    "def plot_clf2(X):\n",
    "  m = -1.\n",
    "  b = -0.4\n",
    "  rangeX = np.linspace(X[:,0].min(),X[:,0].max(),6)\n",
    "  y = m*rangeX + b\n",
    "  plt.plot(rangeX,y,'k--')\n",
    "\n",
    "def plot_clf3(X):\n",
    "  m = -4\n",
    "  b = 2\n",
    "  rangeX = np.linspace(X[:,0].min(),X[:,0].max(),6)\n",
    "  y = m*rangeX + b\n",
    "  plt.plot(rangeX,y,'k-.')\n",
    "\n",
    "def plot_clf4(X):\n",
    "  m = -1\n",
    "  b = 1\n",
    "  rangeX = np.linspace(X[:,0].min(),X[:,0].max(),6)\n",
    "  y = m*rangeX + b\n",
    "  plt.plot(rangeX,y,'k')\n",
    "\n",
    "#- Script de ejecución\n",
    "n_samples=200\n",
    "centers = [[-4,-4],[4,4]]\n",
    "cluster_std = [2,2]\n",
    "n_features = 2\n",
    "\n",
    "X, y = make_blobs(n_samples=n_samples,\n",
    "                  centers=centers,\n",
    "                  cluster_std=cluster_std,\n",
    "                  n_features=2,\n",
    "                  random_state=1460)\n",
    "plot_dataset(X,y)\n",
    "plot_clf1(X); plot_clf2(X); plot_clf3(X); plot_clf4(X)\n",
    "plt.axis([-10,10,-10,10]); plt.show()"
   ]
  },
  {
   "cell_type": "markdown",
   "metadata": {},
   "source": [
    "Cada línea que vemos en la imagen de arriba representa la separación que realiza un modelo diferente.\n",
    "\n",
    "En este caso, el modelo representado con una línea continua es el mejor debido a que es el que tiene mayor margen respecto a los datos. \n",
    "\n",
    "Esto es lo que se busca en SVM, aumentar el margen aunque nos comamos con eso algunos errores de datos mal clasificados."
   ]
  },
  {
   "cell_type": "markdown",
   "metadata": {},
   "source": [
    "### Explicación teórica:"
   ]
  },
  {
   "cell_type": "markdown",
   "metadata": {},
   "source": [
    "El plano separador son todos aquellos puntos que satisfacen la ecuación $w_0 + {\\bf w}^\\top{\\bf x} = 0,~$ que para el caso particular de esta explicación queda:\n",
    "$$\n",
    "w_0 + w_1x_1 + w_2x_2 = 0.\n",
    "$$\n",
    "\n",
    "Por otro lado, podemos definir el plano separador sobre el plano $\\overline{X_1X_2}$ a partir de un punto $(0,b)$ y un vector director $(v_1, v_2)$ con la ecuación\n",
    "$$\n",
    "x_2 = \\left(\\frac{v_2}{v_1}\\right)x_1 + b\n",
    "$$\n",
    "\n",
    "De las dos expresiones se deduce que:\n",
    "$$\n",
    "\\left(-b\\right) + \\left(-\\frac{v_2}{v_1}\\right)x_1 + \\left(1\\right)x_2 = 0,\n",
    "\\quad\\text{ pero también que}\\quad\n",
    "\\left(b\\right) + \\left(\\frac{v_2}{v_1}\\right)x_1 + \\left(-1\\right)x_2 = 0.\n",
    "$$\n",
    "De los dos, elegimos el de la izquierda. El motivo se muestra un poco más abajo.\n",
    "\n",
    "Por último, recordamos que el vector característico del plano separador son los coeficientes $(w_1, w_2).$"
   ]
  },
  {
   "cell_type": "code",
   "execution_count": null,
   "metadata": {},
   "outputs": [],
   "source": [
    "#-- Representación de los vectores --#\n",
    "def hiperplane(X, v, b):\n",
    "    return b + (v[1]/v[0])*X\n",
    "\n",
    "bound = 5\n",
    "Ns = 6\n",
    "v = [0.5, -1.]\n",
    "b = 2\n",
    "\n",
    "#- obtención de los pares (x_1,x_2) que pertenecen al hiperplano\n",
    "v = np.expand_dims(v , axis=1) #<- conversión a vector columna\n",
    "x1_clf = np.linspace(-bound,bound,Ns)\n",
    "x2_clf = hiperplane(x1_clf, v, b)\n",
    "\n",
    "#- cálculo del vector característico\n",
    "m = v[1]/v[0]\n",
    "w = [-b, -m[0], 1.]\n",
    "w = np.expand_dims(w , axis=1) #<- conversión a vector columna\n",
    "\n",
    "#- comentario en pantalla\n",
    "print(f'El vector director V es: {v.T}')\n",
    "print(f'El vector perpendicular a V es: W = {w[1:].T}')\n",
    "print(f'El punto de intercepción b = {b}, que da lugar a término independiente w_0 = {w[0]}')\n",
    "\n",
    "#- figura\n",
    "plt.plot(x1_clf, x2_clf, 'k');\n",
    "plt.scatter(0,b,c='k')\n",
    "plt.arrow(0, b, float(v[0]), float(v[1]),\n",
    "              width=.1, head_length=.4, alpha=0.8, color='r' )\n",
    "plt.arrow(0, b, float(w[1]), float(w[2]),\n",
    "              width=.1, head_length=.4, alpha=0.8, color='b' )\n",
    "plt.arrow(0, 0, float(v[0]), float(v[1]),\n",
    "              width=.1, head_length=.4, alpha=0.3, color='r' )\n",
    "plt.arrow(0, 0, float(w[1]), float(w[2]),\n",
    "              width=.1, head_length=.4, alpha=0.3, color='b' )\n",
    "\n",
    "plt.text(0, b, f'b={b}  ', horizontalalignment='right')\n",
    "plt.text(v[0], v[1], f'  vector\\n  director\\n  $(v_1,v_2)$', c='red')\n",
    "plt.text(w[1], w[2], f'  vector\\n  caracteristico\\n   $(w_1,w_2)$', c='blue')\n",
    "\n",
    "plt.xlabel('$x_1$'); plt.ylabel('$x_2$'); plt.title('hiperplano en $X_1X_2$')\n",
    "plt.axis([-bound,bound,-bound,bound]); plt.grid(); plt.show()"
   ]
  },
  {
   "cell_type": "markdown",
   "metadata": {},
   "source": [
    "Como sabemos, la clase $+$ se asigna a un ejemplo $\\bf x$ cuando $f({\\bf x},{\\bf w}) = w_0 + w_1x_1 + w_2x_2 > 0$.\n",
    "\n",
    "Entonces, de las dos posibilidades, elegimos aquella que deje la clase $+$ \"encima\" del hiperplano clasificador. <br>\n",
    "Esto ocurre en la que estaba más a la izquierda, o sea\n",
    "$$\n",
    "w_0 = -b \\quad,\\quad  w_1 = -\\frac{v_2}{v_1} \\quad,\\quad  w_2 = 1\n",
    "$$\n",
    "En el siguiente código se muestra que, efectivamente, la clase positiva es la que queda por \"encima\" del plano separador.\n",
    "\n",
    "También podemos ver que el vector característico \"apunta\" hacia la clase $+$.\n",
    "\n",
    "El código además muestra otros dos planos paralelos, uno por encima, que corta en $~(b+1)~$ y otro por debajo, que corta en $~(b-1)~$. <br>\n",
    "Estos planos extra definirán nuestro **margen** en breve. `Esto es a lo que nos referíamos antes de dejar un margen`"
   ]
  },
  {
   "cell_type": "code",
   "execution_count": null,
   "metadata": {},
   "outputs": [],
   "source": [
    "#-- Visualización del margen con respecto al plano --#\n",
    "def classifier(X, w):\n",
    "    return np.matmul(w[1:].T, X) + w[0]\n",
    "\n",
    "#- hacemos un barrido del espacio X y probamos con cada par de puntos\n",
    "#  si el resultado está por encima o por debajo del plano separador\n",
    "Ns = 15\n",
    "rangeX0 = np.linspace(-bound, bound, Ns)\n",
    "rangeX1 = np.linspace(-bound, bound, Ns)\n",
    "[XX0, XX1] = np.meshgrid(rangeX0, rangeX1)\n",
    "X0 = np.expand_dims(XX0.ravel(), axis=0)\n",
    "X1 = np.expand_dims(XX1.ravel(), axis=0)\n",
    "X = np.vstack((X0,X1))\n",
    "\n",
    "yhat = classifier(X, w) #<- clasificamos cada punto del barrido\n",
    "\n",
    "#- Figura\n",
    "flag_arrows  = True\n",
    "flag_margins = True\n",
    "\n",
    "plt.scatter(X0[yhat>0], X1[yhat>0], marker='$+$', s=99, alpha=0.4)\n",
    "plt.scatter(X0[yhat<0], X1[yhat<0], marker='$-$', s=99, alpha=0.4)\n",
    "\n",
    "if flag_arrows:\n",
    "    plt.arrow(0, b, float(v[0]), float(v[1]),\n",
    "              width=.2, head_length=.5, alpha=0.8, color='r' )\n",
    "    plt.arrow(0, b, float(w[1]), float(w[2]),\n",
    "              width=.2, head_length=.5, alpha=0.8, color='b' )\n",
    "\n",
    "if flag_margins:\n",
    "    plt.plot(x1_clf, x2_clf,'k')\n",
    "    plt.plot(rangeX0, hiperplane(rangeX0, v, b+1), '--k')\n",
    "    plt.plot(rangeX0, hiperplane(rangeX0, v, b-1), ':k')\n",
    "    plt.scatter([0, 0, 0] ,[b-1, b, b+1],c='k')\n",
    "\n",
    "plt.xlabel('$x_1$'); plt.ylabel('$x_2$'); plt.title('hiperplano en $X_1X_2$')\n",
    "plt.axis([-bound,bound,-bound,bound]); plt.grid(); plt.show()"
   ]
  },
  {
   "cell_type": "markdown",
   "metadata": {},
   "source": [
    "#### Distancia del hiperplano al origen"
   ]
  },
  {
   "cell_type": "markdown",
   "metadata": {},
   "source": [
    "La distancia del plano separador al origen se calcula geométricamente siguiendo los pasos de la figura de abajo.\n",
    "\n",
    "- Por construcción se deduce que la distancia $~d = b \\sin (\\gamma)$.\n",
    "- Para obtener el $\\sin(\\gamma)$ usamos el vector característico. <br>\n",
    "  - El vector característico se descompone en su componente horizontal y vertical.\n",
    "  - Sabemos que la vertical $~w_2 = 1 = \\Vert {\\bf w} \\Vert \\sin (\\gamma)$.\n",
    "\n",
    "Por tanto $~ d = \\frac{b}{\\Vert {\\bf w} \\Vert}$\n",
    "\n",
    "![image.png](data:image/png;base64,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)"
   ]
  },
  {
   "cell_type": "markdown",
   "metadata": {},
   "source": [
    "**Importante**\n",
    "- La distancia $~d~$ NO depende del tamaño de ${\\bf v}$.\n",
    "> Si multiplicamos por una constante a ${\\bf v}$ cambiará su tamaño pero no su pendiente respecto del eje horizontal $m = v_2/v_1$. <br>\n",
    "Precisamente esa inclinación es (con signo menos) la componente horizontal de ${\\bf w} = w_1$, y la componente vertical está fija en $w_2=1.$\n",
    "\n",
    "El siguiente código muestra la distancia al origen del ejemplo que estamos siguiendo.\n"
   ]
  },
  {
   "cell_type": "code",
   "execution_count": null,
   "metadata": {},
   "outputs": [],
   "source": [
    "#-- Distancia al origien del ejemplo --#\n",
    "print(f'w = {w.T}')\n",
    "norma_w = np.sqrt( np.matmul(w[1:].T,w[1:]) )\n",
    "print(f'norma de w = {norma_w}')\n",
    "d = b/norma_w\n",
    "print(f'distancia al origen d = {d}')"
   ]
  },
  {
   "cell_type": "markdown",
   "metadata": {},
   "source": [
    "### Márgenes:"
   ]
  },
  {
   "cell_type": "markdown",
   "metadata": {},
   "source": [
    "En SVM el **margen** es la zona interior delimitada por dos superficies paralelas a la superficie de decisión, una por encima y otra por debajo.\n",
    "\n",
    "Estamos asumiendo el modelo lineal $w_0 + w_1x_1 + w_2x_2$, cuya superficie de separación pasa por el punto $~(0,b).$\n",
    "\n",
    "Creamos 2 planos paralelos:\n",
    "- uno por encima, que pase por el punto $~(0, b+1),~$\n",
    "cuya  distancia al origen es\n",
    "$d^{(+)} = \\frac{b+1}{\\Vert {\\bf w} \\Vert}$.\n",
    "- otro por debajo, que pase por $~(0, b-1),~$\n",
    "cuya distancia al origen es\n",
    "$d^{(-)} = \\frac{b-1}{\\Vert {\\bf w} \\Vert}$.\n",
    "\n",
    "El **margen** $\\varepsilon~$ es la distancia que hay entre los dos planos paralelos, es decir:\n",
    "$$\n",
    " \\varepsilon = d^{(+)} - d^{(-)} = \\frac{b+1 -(b-1)}{\\Vert {\\bf w}\\Vert} = \\frac{2}{\\Vert{\\bf w}\\Vert}\n",
    "$$\n",
    "\n",
    "\n",
    "El margen $\\varepsilon$ CRECE cuando la norma $\\Vert\\bf w \\Vert$ DECRECE\n",
    "\n",
    "Por tanto, para **maximizar** $\\varepsilon$ tenemos que **minimizar** $\\Vert\\bf w\\Vert$.\n",
    "\n",
    "Y esto implica que el margen depende del modelo, puesto que $~{\\bf w}~$ son sus parámetros.\n",
    "\n",
    "En otras palabras, modificando los parámetros del modelo aumentamos o disminuimos el márgen."
   ]
  },
  {
   "cell_type": "markdown",
   "metadata": {},
   "source": [
    "#### Márgenes laxos"
   ]
  },
  {
   "cell_type": "markdown",
   "metadata": {},
   "source": [
    "`Con márgenes rígidos (_hard_) sólo es posible encontrar solución al problema si el conjunto de datos se puede separar con un clasificador lineal.`\n",
    "\n",
    "`Un solo ejemplo que no cumpla la restricción hace que no haya solución.`\n",
    "\n",
    "Para resolverlo se utilizan márgenes laxos (_soft_), que permiten ejemplos en la \"zona de exclusión\" PERO penalizándolos con un término extra de regularización.\n",
    "\n",
    "En la imagen de abajo se muestra la diferencia entre ambos.<BR>\n",
    " Los ejemplos marcados con un circulo son ejemplos que están penalizados, pero a cambio el margen ha aumentado mucho y el plano clasificador es diferente.\n",
    "\n",
    "\n",
    " ![image.png](data:image/png;base64,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)"
   ]
  },
  {
   "cell_type": "markdown",
   "metadata": {},
   "source": [
    "Los márgenes laxos introducen una variable _**slack**_ $~\\zeta^{(i)}~$ para cada ejemplo, $~i=1,2,\\ldots,N;$ tal que:\n",
    "- $\\zeta^{(i)} = 0~$ si el ejemplo $~{\\bf x}^{(i)}~$ está correctamente clasificado y fuera del margen,\n",
    "- $0 < \\zeta^{(i)} < 1~$ si el ejemplo $~{\\bf x}^{(i)}~$ está correctamente clasificado PERO dentro del margen,\n",
    "- $\\zeta^{(i)} > 1~$ si el ejemplo $~{\\bf x}^{(i)}~$ está mal clasificado.\n",
    "\n",
    "Es decir, la restricción se convierte en:\n",
    "$$\n",
    "(y)\\cdot(w_0 + w_1x_1 + w_2x_2) > 1-\\zeta\n",
    "$$\n",
    "De esta manera $~\\zeta~$ \"afloja\" la restricción cuando el resultado de $~(y)\\cdot(w_0 + w_1x_1 + w_2x_2)~$ no llega a superar 1, bajándolo hasta $1-\\zeta$.\n",
    "\n",
    "|   |\n",
    "|---|\n",
    "| `Algo <i>slack</i> es algo que no está apretado, que está aflojado` |\n",
    "\n",
    "Pero ADEMÁS hay que añadir todos los $~\\zeta^{(i)}~$ al problema de minimización para penalizar aquellos que sean mayores que 0.\n",
    "\n",
    "De esta manera llegamos a la formulación completa del problema de optimización de SVM"
   ]
  },
  {
   "cell_type": "markdown",
   "metadata": {},
   "source": [
    "### Formulación Dual:"
   ]
  },
  {
   "cell_type": "markdown",
   "metadata": {},
   "source": [
    "Comenzamos recopilando la función objetivo que queremos minimizar y las restricciones\n",
    "$$\n",
    "  \\begin{array}{ll}\n",
    "\t\\mathop {\\min }\\limits_{{\\bf w},\\zeta} &\n",
    "\t\\frac{1}{2}{\\bf w}^\\top{\\bf w}  +  C \\sum\\limits_{i=1}^{N} \\zeta^{(i)}, \\\\\n",
    "\t \\text{sujeto a}  &\n",
    "\t \\left\\lbrace\n",
    "\t   \\begin{array}{l}\n",
    "\t    \\left({y^{(i)}}~\\right)\\cdot(w_0 + w_1x_1 + w_2x_2) > 1-\\zeta^{(i)}  \\\\\n",
    "\t    \\zeta^{(i)} \\ge 0  \\\\\n",
    "\t    i = 1,2,\\ldots,N.\n",
    "\t   \\end{array}\n",
    "\t \\right. \\\\\n",
    "  \\end{array}\n",
    "$$\n",
    "\n",
    "Para simplificar las expresiones dejaremos de escribir que las variables _slack_ son no-negativas y que $i$ son enteros desde 1 hasta $N$.\n",
    "\n",
    "A continuación,\n",
    "- reescribimos la restricción\n",
    "$\\quad \\left({y^{(i)}}~\\right)\\cdot(w_0 + w_1x_1 + w_2x_2) -1 +\\zeta^{(i)}  > 0 $\n",
    "- generalizamos a $D$ características, y por tanto $~D+1~$ parámetros $~\\{w_0, w_1, w_2, \\ldots, w_D\\}.~$ De esta manera:\n",
    "\t- el vector ${\\bf w}=[w_1,\\ldots,w_D]^\\top$\n",
    "\t- la restricción se reescribe como\n",
    "\t  $~ \\left({y^{(i)}}~\\right)\\cdot(w_0 + {\\bf w}^\\top{\\bf x}) -1 +\\zeta^{(i)}  > 0 $\n",
    "\n",
    "<u>En definitiva</u>, el problema de optimización que se plantea para clasificadores SVM lineales es:\n",
    "$$\n",
    "  \\begin{array}{ll}\n",
    "\t  \\mathop {\\min }\\limits_{{\\bf w},w_0,\\zeta} &\n",
    "\t  \\frac{1}{2}{\\bf w}^\\top{\\bf w}  +  C \\sum\\limits_{i=1}^{N} \\zeta^{(i)}, \\\\\n",
    "\t  \\text{sujeto a}  & \\left({y^{(i)}}~\\right) \\left(w_0+{\\bf w}^\\top{\\bf x} \\right) - 1 + \\zeta^{(i)} \\ge 0  \n",
    "  \\end{array}\n",
    "$$"
   ]
  },
  {
   "cell_type": "markdown",
   "metadata": {},
   "source": [
    "#### Aplicación de Multiplicadores de Lagrange:"
   ]
  },
  {
   "cell_type": "markdown",
   "metadata": {},
   "source": [
    "Recordamos que este método consiste en añadir (restando) las restricciones a la función objetivo multiplicadas por un factor denominado \"multiplicador de Lagrange\".\n",
    "\n",
    "Como $i=\\{1,2,\\ldots, N\\}, ~$ tenemos $N$ restricciones (una por cada ejemplo de entrenamiento). De esta manera se obtiene el _Lagrangiano_:\n",
    "\n",
    "$$ \\mathcal L =\n",
    "\\frac{1}{2}{\\bf w}^\\top{\\bf w} + C \\sum\\limits_{i=1}^{N}\\zeta^{(i)}\n",
    "-\n",
    "\\sum\\limits_{i=1}^N \\alpha_i\\left((y^{(i)})(w_0+{\\bf w}^\\top {\\bf x}^{(i)} ) – 1 + \\zeta^{(i)}\\right),\n",
    "$$\n",
    "\n",
    "donde $\\alpha_i$ son los multiplicadores de Lagrange.\n",
    "\n",
    "Así que buscamos los parámetros que minimizan el Lagrangiano, es decir\n",
    "$~~\n",
    "\\mathop{\\arg\\min}\\limits_{ {\\bf w}, w_0, \\zeta^{(i)} } \\mathcal L.\n",
    "$\n",
    "\n",
    "Para localizar el mínimo derivamos respecto de las variables e igualamos a cero.\n",
    "\n",
    "$$\n",
    "\\begin{align}\n",
    "\\frac{\\partial \\mathcal L}{ \\partial {\\bf w} } &= 0;\\quad\n",
    "   {\\bf w} - \\sum\\nolimits_{i=1}^N \\alpha_i y^{(i)} {\\bf x}^{(i)} = 0;\\quad\n",
    "   {\\bf w} = \\sum\\nolimits_{i=1}^N \\alpha_i y^{(i)} {\\bf x}^{(i)} \\\\[1em]\n",
    "\\frac{\\partial \\mathcal L}{ \\partial w_0} &= 0;\\quad\n",
    "   \\sum\\nolimits_{i=1}^N \\alpha_i y^{(i)} = 0;\\quad \\\\[1em]\n",
    "\\frac{\\partial \\mathcal L}{ \\partial \\zeta^{(i)}} &= 0;\\quad\n",
    "   C - \\alpha_i = 0.\n",
    "\\end{align}\n",
    "$$\n",
    "y sustituimos las igualdades resultantes en el Lagrangiano."
   ]
  },
  {
   "cell_type": "markdown",
   "metadata": {},
   "source": [
    "![image.png](data:image/png;base64,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)"
   ]
  },
  {
   "cell_type": "markdown",
   "metadata": {},
   "source": [
    "#### Nuevo problema de optimización:"
   ]
  },
  {
   "cell_type": "markdown",
   "metadata": {},
   "source": [
    "En el método de multiplicadores de Lagrange ahora tenemos que maximizar respecto de cada $\\alpha^{(i)}$; es decir\n",
    "$$\n",
    "  \\mathop{\\arg\\max}\\limits_{\\alpha^{(i)}} \\left(\n",
    "  \\sum_{i=1}^{m} \\alpha^{(i)} -\n",
    "\t\\frac{1}{2}\\sum\\limits_{i=1}^{N}\\sum\\limits_{j=1}^{N}\\alpha^{(i)}\\alpha^{(j)}y^{(i)}y^{(j)}{\\bf x}^{(i)\\top}{\\bf x}^{(j)}  \n",
    "  \\right).\n",
    "$$\n",
    "La diferencia es que este problema ahora solo tiene como restricciones que los multiplicadores sean positivos o nulos. Además los multiplicadores son escalares mientras que en el problema orginal buscabamos el vector de parámetros.\n",
    "\n",
    "Este problema es **mucho más** fácil de resolver ya que se puede atacar numéricamente con solución exacta.\n",
    "\n",
    "Una vez resuelto se obtienen dos tipos de multplicadores:\n",
    "$$\n",
    "\\left.\\begin{array}{r}\n",
    "\\alpha = 0 \\\\\n",
    "\\alpha > 0\n",
    "\\end{array}\n",
    "\\right\\rbrace\n",
    "\\rightarrow\n",
    "\\text{¿Qué pasa en cada caso?}\n",
    "$$\n",
    "\n",
    "Recordando que\n",
    "$~{\\bf w} = \\sum\\nolimits_{i=1}^N \\alpha_i y^{(i)} {\\bf x}^{(i)},~$\n",
    "un $\\alpha^{(i)} = 0~$ provoca que el ejemplo $i$-ésimo **NO CONTRIBUYA** al cálculo de los parámetros del modelo.\n",
    "\n",
    "Por el contrario, los $\\alpha^{(i)} > 0~$ indican aquellos ejemplos que **SÍ** se utilizan para el modelo.\n",
    "\n",
    "Es decir, son los ejemplos que **SOPORTAN** la máquina, mientras que los demás no tienen ninguna importancia e incluso se podrían eliminar. <br>\n",
    "<small>_De ahí el nombre de este modelo_.</small>"
   ]
  },
  {
   "cell_type": "markdown",
   "metadata": {},
   "source": [
    "#### Solución para el SVM lineal:"
   ]
  },
  {
   "cell_type": "markdown",
   "metadata": {},
   "source": [
    "El resumen de esta sección es que la máquina SVM lineal tiene como parámetros óptimos:\n",
    "\n",
    "$$\n",
    "\\begin{align}\n",
    " \t{\\bf w}^* &= \\sum_{i=1}^{N}\\alpha^{*(i)}y^{(i)}{\\bf x}^{(i)}\n",
    " \t\\hspace{1em},\n",
    "\\\\\n",
    " \tw_0^* &= \\frac{1}{n_s} \\sum_{i:\\alpha^{*(i)}>0}\\left( (1-y^{(i)})({\\bf w}^{*\\top}{\\bf x}^{(i)})  \\right),\n",
    "\\end{align}\n",
    "$$\n",
    "\n",
    "y, por supuesto, la noción de que los ejemplos asociados a un $\\alpha^{(i)}>0$ son los **vectores soporte.**"
   ]
  },
  {
   "cell_type": "markdown",
   "metadata": {},
   "source": [
    "### El truco del Kernel"
   ]
  },
  {
   "cell_type": "markdown",
   "metadata": {},
   "source": [
    "## 14_Decision_Tree"
   ]
  },
  {
   "cell_type": "markdown",
   "metadata": {},
   "source": [
    "### Entropía de $y$ es:\n",
    "  \n",
    "$$\n",
    "E = \\left(-\\frac{M_0}{M}\\log_2\\frac{M_0}{M} \\right)\n",
    "+  \\left(-\\frac{M_1}{M}\\log_2\\frac{M_1}{M} \\right)\n",
    "$$\n"
   ]
  },
  {
   "cell_type": "markdown",
   "metadata": {},
   "source": [
    "### Índice de Gini\n",
    "Dada una tabla de ejemplos asociada al vector $\\bf y$ que contiene las etiquetas de cada ejemplo, el índice de impureza de Gini se calcula como:\n",
    "$$\n",
    "I = 1- \\sum\\limits_{k=1}^{n_c}p(y=k)^2,\n",
    "$$\n",
    "donde $n_c$ representa el número de clases distintas; y la probabilidad de una clase se aproxima por el número de veces que aparece esa clase entre el total de ejemplos; es decir $~p(y=k) = \\frac{N_{y=k}}{N}$.\n",
    "\n",
    "En el caso particular de clasificación binaria, donde $y\\in\\{0,1\\}$ el índice de impureza de Gini queda:\n",
    "\n",
    "$$\n",
    "I = 1 - \\left( \\frac{N_{y=0}}{N} \\right)^2 - \\left( \\frac{N_{y=1}}{N} \\right)^2\n",
    "$$\n",
    "\n"
   ]
  },
  {
   "cell_type": "markdown",
   "metadata": {},
   "source": [
    "## 17_Naive_Bayes"
   ]
  },
  {
   "cell_type": "markdown",
   "metadata": {},
   "source": [
    "$$\n",
    "\\fbox{$p(y=k|{\\bf x}) = \\frac{p(y = k) \\cdot p({\\bf x}|y = k)}{p({\\bf x})}$}\n",
    "$$\n",
    "\n",
    "- $p(y = k) ~\\rightarrow~$ Probabilidad **a priori** de una clase:\n",
    "> _Cómo de probable es una etiqueta, sin ver los datos._\n",
    "\n",
    "- $p({\\bf x}|y = k)~\\rightarrow~$ Modelo de **verosimilitud** de los ejemplos de una clase\n",
    "> _Cuál es la distribución de los ejemplos de una misma clase._\n",
    "\n",
    "- $p(y=k|{\\bf x})~\\rightarrow~$ Probabilidad **a posteriori** de una clase después de ver los ejemplos\n",
    "> _Cómo de probable es una etiqueta, pero ahora conociendo los datos._\n",
    "\n",
    "- $p({\\bf x})~\\rightarrow~$ Probabilidad **marginal** de los ejemplos\n",
    "> _Esta probabilidad **NO** la usaremos, en seguida comprenderemos por qué._"
   ]
  }
 ],
 "metadata": {
  "kernelspec": {
   "display_name": "Python 3",
   "language": "python",
   "name": "python3"
  },
  "language_info": {
   "codemirror_mode": {
    "name": "ipython",
    "version": 3
   },
   "file_extension": ".py",
   "mimetype": "text/x-python",
   "name": "python",
   "nbconvert_exporter": "python",
   "pygments_lexer": "ipython3",
   "version": "3.10.11"
  }
 },
 "nbformat": 4,
 "nbformat_minor": 2
}
