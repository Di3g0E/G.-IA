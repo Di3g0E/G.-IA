{
 "cells": [
  {
   "cell_type": "markdown",
   "metadata": {},
   "source": [
    "# APRENDIZAJE AUTOMÁTICO 1"
   ]
  },
  {
   "cell_type": "markdown",
   "metadata": {},
   "source": [
    "Los datos más usados son los `datos tabulados` que se representan en tablas:\n",
    "- cada **fila** es un **ejemplo**\n",
    "- cada **columna** sin tratar es un **atributo** $\\rightarrow$ *datos en crudo*\n",
    "- cada **columna** tratada es una **serie**"
   ]
  },
  {
   "cell_type": "markdown",
   "metadata": {},
   "source": [
    "## Tipos de datos:"
   ]
  },
  {
   "cell_type": "markdown",
   "metadata": {},
   "source": [
    "Cada columna puede tener tipos de datos diferentes:\n",
    "- atributos continuos $\\rightarrow$ Son aquellos atributos que pueden tomar cualquier valor en un intervalo de $\\mathbb R$.\n",
    "- atrubutos discretos $\\rightarrow$ Son aquellos atributos que pueden tomar solo un número finito de valores dentro de un intervalo $(a,b)$.\n",
    "- atributos categóricos $\\rightarrow$ Son aquellos atributos que pueden tomar sólo un número finito de valores dentro de un conjunto que puede no tener una relación de orden entre sus miembros.\n",
    "\n",
    "Los `dtypes` de un dataframe pueden ser:\n",
    "- `int64`: Números enteros\n",
    "- `float64`: Números de punto flotante\n",
    "- `object`: Tipo general para texto, o columnas mixtas de números y texto\n",
    "- `bool`: Valores booleanos: True/False\n",
    "- `datetime64`: Fecha y hora\n",
    "- `timedelta[ns]`: Diferencias entre dos datetimes\n",
    "- `category`: Lista finita de valores de texto"
   ]
  },
  {
   "cell_type": "markdown",
   "metadata": {},
   "source": [
    "## Pasos a realizar para limpiar el `df`:"
   ]
  },
  {
   "cell_type": "markdown",
   "metadata": {},
   "source": [
    "#### 1. Importar las librerías que se van a utilizar:"
   ]
  },
  {
   "cell_type": "code",
   "execution_count": 1,
   "metadata": {},
   "outputs": [],
   "source": [
    "import pandas as pd\n",
    "import random"
   ]
  },
  {
   "cell_type": "markdown",
   "metadata": {},
   "source": [
    "#### 2. Abrir la `BD`"
   ]
  },
  {
   "cell_type": "code",
   "execution_count": null,
   "metadata": {},
   "outputs": [],
   "source": [
    "fullSet = pd.read_csv('folder_name + file_name')\n",
    "# fullSet = pd.read_csv('sample_data/california_housing_train.csv')"
   ]
  },
  {
   "cell_type": "markdown",
   "metadata": {},
   "source": [
    "#### 3. Dividir la `BD` en `train` y `test` \n",
    "> _MUY IMPORTANTE NO TOCAR EL TEST UNA VEZ CREADO_"
   ]
  },
  {
   "cell_type": "markdown",
   "metadata": {},
   "source": [
    "##### 3.1 Guardar el número de filas (`N`) y columnas (`D`) en variables"
   ]
  },
  {
   "cell_type": "code",
   "execution_count": null,
   "metadata": {},
   "outputs": [],
   "source": [
    "N,D = fullSet.shape"
   ]
  },
  {
   "cell_type": "markdown",
   "metadata": {},
   "source": [
    "##### 3.2 Hacer la división del `df` en `train` y `test` indicando el porcentaje de cada uno"
   ]
  },
  {
   "cell_type": "markdown",
   "metadata": {},
   "source": [
    "> _En este caso va a ser 20% `test` y 80% `train`_"
   ]
  },
  {
   "cell_type": "code",
   "execution_count": null,
   "metadata": {},
   "outputs": [],
   "source": [
    "fraction_test = 0.2                   # El 0.2 de las filas del df va a ser del test\n",
    "\n",
    "idx = fullSet.index.tolist()          # Mete todos los índices del df en una lista\n",
    "random.shuffle(idx)                   # Mezcla la lista con los índices del df antes de hacer la división para que sea más homogénea\n",
    "\n",
    "N_test = int(N*fraction_test)         # Calcula el número de filas que se van a guardar en el conjunto de 'test'\n",
    "testSet = fullSet.iloc[idx[:N_test]]\n",
    "trainSet = fullSet.iloc[idx[N_test:]]"
   ]
  },
  {
   "cell_type": "markdown",
   "metadata": {},
   "source": [
    "##### 3.3 Muestra el tamaño de cada muestra y guarda cada uno de los nuevos df en archivos diferentes"
   ]
  },
  {
   "cell_type": "code",
   "execution_count": null,
   "metadata": {},
   "outputs": [],
   "source": [
    "print(f'El tamaño del conj. de entrenamiento es: ',trainSet.shape)\n",
    "print(f'El tamaño del conj. de test es: ',testSet.shape)"
   ]
  },
  {
   "cell_type": "code",
   "execution_count": null,
   "metadata": {},
   "outputs": [],
   "source": [
    "# Guardar los datos de entrenamiento:\n",
    "flag_save_test = True          # Guarda para el bucle de la división\n",
    "if flag_save_test:\n",
    "  train_folder = \".....\" #<- ruta de la carpeta, por ejemplo \"sample_data/\"\n",
    "  train_name   = \".....\" #<- nombre del CSV donde guardamos testSet\n",
    "  trainSet.to_csv(train_folder + train_name, dec='.', sep=';', header=True)"
   ]
  },
  {
   "cell_type": "code",
   "execution_count": null,
   "metadata": {},
   "outputs": [],
   "source": [
    "# Guardar los datos de test:\n",
    "flag_save_test = True          # Guarda para el bucle de la división\n",
    "if flag_save_test:\n",
    "  test_folder = \".....\" #<- ruta de la carpeta, por ejemplo \"sample_data/\"\n",
    "  test_name   = \".....\" #<- nombre del CSV donde guardamos testSet\n",
    "  testSet.to_csv(test_folder + test_name, dec='.', sep=';', header=True)"
   ]
  },
  {
   "cell_type": "markdown",
   "metadata": {},
   "source": [
    "#### 4. Exploración de los datos (`INFO`)"
   ]
  },
  {
   "cell_type": "markdown",
   "metadata": {},
   "source": [
    "4.1 Descripción estadística básica:\n",
    "- Tamaño del conjunto de datos (número de ejemplos (`filas`) y dimensionalidad (`columnas`)): $N=?, D=?$\n",
    "- Localizar atributos **NO** numéricos y convertirlos\n",
    "- Media y desviación estandard de cada atributo: $\\mu(x_i)=?$, $\\sigma_i(x_i)=?$ , para $i=1\\ldots D$.\n",
    "- Mediana de cada atributo: $Q_{50}(x_i)=?$\n",
    "- Moda de cada atributo: $\\text{Moda}(x_i) = ?$\n",
    "- Máx. y mín. de cada atributo: $\\max(x_i)= ?$  , $\\min(x_i)= ?$"
   ]
  },
  {
   "cell_type": "markdown",
   "metadata": {},
   "source": [
    "##### Opción 1: ir  viendo los datos de cada atributo por separado y guardándolos en variables diferentes"
   ]
  },
  {
   "cell_type": "code",
   "execution_count": null,
   "metadata": {},
   "outputs": [],
   "source": [
    "N,D = trainSet.shape                                # Tamaño del df\n",
    "trainSet.dtypes                                     # Tipo de dato de cada atributo\n",
    "media = trainSet['atributo'].mean()                 # Media\n",
    "desviacion_estandar = trainSet['atributo'].std()    # Desviación estandar\n",
    "mediana = trainSet['atributo'].median()             # Mediana\n",
    "moda = trainSet['atributo'].mode()[0]               # mode() devuelve una serie porque puede tener más de una moda, así que tomamos el primer elemento (Pero también se puede guardar toda la lista)\n",
    "maximo = trainSet['atributo'].max()                 # Máximo\n",
    "minimo = trainSet['atributo'].min()                 # Mínimo\n"
   ]
  },
  {
   "cell_type": "markdown",
   "metadata": {},
   "source": [
    "##### Opción 2: ver toda la información diréctamente sin guardar cada dato"
   ]
  },
  {
   "cell_type": "code",
   "execution_count": null,
   "metadata": {},
   "outputs": [],
   "source": [
    "print(trainSet.info())              # Indica el tamaño, los tipos de datos y cuántos son 'Na' de cada atributo\n",
    "trainSet.describe()                 # Indica la descripción estadística básica excepto la moda de cada atributo en forma de tabla\n",
    "trainSet.mode(axis=0, dropna=False) # Devuelve una tabla con las modas de cada atributo"
   ]
  }
 ],
 "metadata": {
  "kernelspec": {
   "display_name": "Python 3",
   "language": "python",
   "name": "python3"
  },
  "language_info": {
   "codemirror_mode": {
    "name": "ipython",
    "version": 3
   },
   "file_extension": ".py",
   "mimetype": "text/x-python",
   "name": "python",
   "nbconvert_exporter": "python",
   "pygments_lexer": "ipython3",
   "version": "3.10.11"
  }
 },
 "nbformat": 4,
 "nbformat_minor": 2
}
