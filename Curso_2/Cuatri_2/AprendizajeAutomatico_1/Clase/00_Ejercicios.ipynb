{
 "cells": [
  {
   "cell_type": "markdown",
   "metadata": {},
   "source": [
    "### Importar librerías y df:"
   ]
  },
  {
   "cell_type": "code",
   "execution_count": 43,
   "metadata": {},
   "outputs": [],
   "source": [
    "import pandas as pd\n",
    "import numpy as np"
   ]
  },
  {
   "cell_type": "code",
   "execution_count": 44,
   "metadata": {},
   "outputs": [],
   "source": [
    "from sklearn.datasets import load_iris  # dataset utilizada para los ejercicios\n",
    "\n",
    "# Cargar el conjunto de datos\n",
    "iris = load_iris()\n",
    "\n",
    "# Crear un DataFrame con los datos y las columnas\n",
    "df = pd.DataFrame(iris.data, columns=iris.feature_names)\n",
    "\n",
    "# Añadir la columna de objetivo\n",
    "df['species'] = pd.Categorical.from_codes(iris.target, iris.target_names)"
   ]
  },
  {
   "cell_type": "markdown",
   "metadata": {},
   "source": [
    "### T. 01"
   ]
  },
  {
   "cell_type": "markdown",
   "metadata": {},
   "source": [
    "Utilizar el método `factorize` de Pandas para crear una codificación de un atributo categórico.<br>\n",
    "¿Qué diferencia hay entre `factorize` y los métodos que hemos usado de codificación con enteros?"
   ]
  },
  {
   "cell_type": "code",
   "execution_count": 45,
   "metadata": {},
   "outputs": [
    {
     "name": "stdout",
     "output_type": "stream",
     "text": [
      "<class 'pandas.core.frame.DataFrame'>\n",
      "RangeIndex: 150 entries, 0 to 149\n",
      "Data columns (total 5 columns):\n",
      " #   Column             Non-Null Count  Dtype   \n",
      "---  ------             --------------  -----   \n",
      " 0   sepal length (cm)  150 non-null    float64 \n",
      " 1   sepal width (cm)   150 non-null    float64 \n",
      " 2   petal length (cm)  150 non-null    float64 \n",
      " 3   petal width (cm)   150 non-null    float64 \n",
      " 4   species            150 non-null    category\n",
      "dtypes: category(1), float64(4)\n",
      "memory usage: 5.1 KB\n",
      "None\n"
     ]
    },
    {
     "data": {
      "text/html": [
       "<div>\n",
       "<style scoped>\n",
       "    .dataframe tbody tr th:only-of-type {\n",
       "        vertical-align: middle;\n",
       "    }\n",
       "\n",
       "    .dataframe tbody tr th {\n",
       "        vertical-align: top;\n",
       "    }\n",
       "\n",
       "    .dataframe thead th {\n",
       "        text-align: right;\n",
       "    }\n",
       "</style>\n",
       "<table border=\"1\" class=\"dataframe\">\n",
       "  <thead>\n",
       "    <tr style=\"text-align: right;\">\n",
       "      <th></th>\n",
       "      <th>sepal length (cm)</th>\n",
       "      <th>sepal width (cm)</th>\n",
       "      <th>petal length (cm)</th>\n",
       "      <th>petal width (cm)</th>\n",
       "      <th>species</th>\n",
       "    </tr>\n",
       "  </thead>\n",
       "  <tbody>\n",
       "    <tr>\n",
       "      <th>0</th>\n",
       "      <td>5.1</td>\n",
       "      <td>3.5</td>\n",
       "      <td>1.4</td>\n",
       "      <td>0.2</td>\n",
       "      <td>setosa</td>\n",
       "    </tr>\n",
       "    <tr>\n",
       "      <th>1</th>\n",
       "      <td>4.9</td>\n",
       "      <td>3.0</td>\n",
       "      <td>1.4</td>\n",
       "      <td>0.2</td>\n",
       "      <td>setosa</td>\n",
       "    </tr>\n",
       "    <tr>\n",
       "      <th>2</th>\n",
       "      <td>4.7</td>\n",
       "      <td>3.2</td>\n",
       "      <td>1.3</td>\n",
       "      <td>0.2</td>\n",
       "      <td>setosa</td>\n",
       "    </tr>\n",
       "  </tbody>\n",
       "</table>\n",
       "</div>"
      ],
      "text/plain": [
       "   sepal length (cm)  sepal width (cm)  petal length (cm)  petal width (cm)  \\\n",
       "0                5.1               3.5                1.4               0.2   \n",
       "1                4.9               3.0                1.4               0.2   \n",
       "2                4.7               3.2                1.3               0.2   \n",
       "\n",
       "  species  \n",
       "0  setosa  \n",
       "1  setosa  \n",
       "2  setosa  "
      ]
     },
     "execution_count": 45,
     "metadata": {},
     "output_type": "execute_result"
    }
   ],
   "source": [
    "# Vemos el tipo de datos que tenemos\n",
    "print(df.info())\n",
    "df.head(3)"
   ]
  },
  {
   "cell_type": "code",
   "execution_count": 46,
   "metadata": {},
   "outputs": [],
   "source": [
    "df['species'] = pd.factorize(df['species'])[0]"
   ]
  },
  {
   "cell_type": "markdown",
   "metadata": {},
   "source": [
    "Al utilizar `get_dummies` hemos añadido dos columnas a la tabla, pero ¿cómo se eliminaría la columna \"Atributo 1\"?"
   ]
  },
  {
   "cell_type": "code",
   "execution_count": 47,
   "metadata": {},
   "outputs": [
    {
     "data": {
      "text/html": [
       "<div>\n",
       "<style scoped>\n",
       "    .dataframe tbody tr th:only-of-type {\n",
       "        vertical-align: middle;\n",
       "    }\n",
       "\n",
       "    .dataframe tbody tr th {\n",
       "        vertical-align: top;\n",
       "    }\n",
       "\n",
       "    .dataframe thead th {\n",
       "        text-align: right;\n",
       "    }\n",
       "</style>\n",
       "<table border=\"1\" class=\"dataframe\">\n",
       "  <thead>\n",
       "    <tr style=\"text-align: right;\">\n",
       "      <th></th>\n",
       "      <th>sepal length (cm)</th>\n",
       "      <th>sepal width (cm)</th>\n",
       "      <th>petal length (cm)</th>\n",
       "      <th>petal width (cm)</th>\n",
       "      <th>species_0</th>\n",
       "      <th>species_1</th>\n",
       "      <th>species_2</th>\n",
       "      <th>Atributo 1</th>\n",
       "    </tr>\n",
       "  </thead>\n",
       "  <tbody>\n",
       "    <tr>\n",
       "      <th>0</th>\n",
       "      <td>5.1</td>\n",
       "      <td>3.5</td>\n",
       "      <td>1.4</td>\n",
       "      <td>0.2</td>\n",
       "      <td>1</td>\n",
       "      <td>0</td>\n",
       "      <td>0</td>\n",
       "      <td>atrib</td>\n",
       "    </tr>\n",
       "    <tr>\n",
       "      <th>1</th>\n",
       "      <td>4.9</td>\n",
       "      <td>3.0</td>\n",
       "      <td>1.4</td>\n",
       "      <td>0.2</td>\n",
       "      <td>1</td>\n",
       "      <td>0</td>\n",
       "      <td>0</td>\n",
       "      <td>atrib</td>\n",
       "    </tr>\n",
       "    <tr>\n",
       "      <th>2</th>\n",
       "      <td>4.7</td>\n",
       "      <td>3.2</td>\n",
       "      <td>1.3</td>\n",
       "      <td>0.2</td>\n",
       "      <td>1</td>\n",
       "      <td>0</td>\n",
       "      <td>0</td>\n",
       "      <td>atrib</td>\n",
       "    </tr>\n",
       "  </tbody>\n",
       "</table>\n",
       "</div>"
      ],
      "text/plain": [
       "   sepal length (cm)  sepal width (cm)  petal length (cm)  petal width (cm)  \\\n",
       "0                5.1               3.5                1.4               0.2   \n",
       "1                4.9               3.0                1.4               0.2   \n",
       "2                4.7               3.2                1.3               0.2   \n",
       "\n",
       "   species_0  species_1  species_2 Atributo 1  \n",
       "0          1          0          0      atrib  \n",
       "1          1          0          0      atrib  \n",
       "2          1          0          0      atrib  "
      ]
     },
     "execution_count": 47,
     "metadata": {},
     "output_type": "execute_result"
    }
   ],
   "source": [
    "df = pd.get_dummies(df, columns=['species'])\n",
    "df['Atributo 1'] = ['atrib'] * 150\n",
    "df.head(3)"
   ]
  },
  {
   "cell_type": "code",
   "execution_count": 52,
   "metadata": {},
   "outputs": [
    {
     "data": {
      "text/html": [
       "<div>\n",
       "<style scoped>\n",
       "    .dataframe tbody tr th:only-of-type {\n",
       "        vertical-align: middle;\n",
       "    }\n",
       "\n",
       "    .dataframe tbody tr th {\n",
       "        vertical-align: top;\n",
       "    }\n",
       "\n",
       "    .dataframe thead th {\n",
       "        text-align: right;\n",
       "    }\n",
       "</style>\n",
       "<table border=\"1\" class=\"dataframe\">\n",
       "  <thead>\n",
       "    <tr style=\"text-align: right;\">\n",
       "      <th></th>\n",
       "      <th>sepal length (cm)</th>\n",
       "      <th>sepal width (cm)</th>\n",
       "      <th>petal length (cm)</th>\n",
       "      <th>petal width (cm)</th>\n",
       "      <th>species_0</th>\n",
       "      <th>species_1</th>\n",
       "      <th>species_2</th>\n",
       "    </tr>\n",
       "  </thead>\n",
       "  <tbody>\n",
       "    <tr>\n",
       "      <th>0</th>\n",
       "      <td>5.1</td>\n",
       "      <td>3.5</td>\n",
       "      <td>1.4</td>\n",
       "      <td>0.2</td>\n",
       "      <td>1</td>\n",
       "      <td>0</td>\n",
       "      <td>0</td>\n",
       "    </tr>\n",
       "    <tr>\n",
       "      <th>1</th>\n",
       "      <td>4.9</td>\n",
       "      <td>3.0</td>\n",
       "      <td>1.4</td>\n",
       "      <td>0.2</td>\n",
       "      <td>1</td>\n",
       "      <td>0</td>\n",
       "      <td>0</td>\n",
       "    </tr>\n",
       "    <tr>\n",
       "      <th>2</th>\n",
       "      <td>4.7</td>\n",
       "      <td>3.2</td>\n",
       "      <td>1.3</td>\n",
       "      <td>0.2</td>\n",
       "      <td>1</td>\n",
       "      <td>0</td>\n",
       "      <td>0</td>\n",
       "    </tr>\n",
       "  </tbody>\n",
       "</table>\n",
       "</div>"
      ],
      "text/plain": [
       "   sepal length (cm)  sepal width (cm)  petal length (cm)  petal width (cm)  \\\n",
       "0                5.1               3.5                1.4               0.2   \n",
       "1                4.9               3.0                1.4               0.2   \n",
       "2                4.7               3.2                1.3               0.2   \n",
       "\n",
       "   species_0  species_1  species_2  \n",
       "0          1          0          0  \n",
       "1          1          0          0  \n",
       "2          1          0          0  "
      ]
     },
     "execution_count": 52,
     "metadata": {},
     "output_type": "execute_result"
    }
   ],
   "source": [
    "df.drop(['Atributo 1'], axis=1, inplace=True)\n",
    "df.head(3)"
   ]
  },
  {
   "cell_type": "markdown",
   "metadata": {},
   "source": [
    "### T. 02"
   ]
  },
  {
   "cell_type": "markdown",
   "metadata": {},
   "source": [
    "Crea un dataframe llamado \"decripcion\" que junte el resultado de `describe()` con el resultado de `mode()`"
   ]
  },
  {
   "cell_type": "markdown",
   "metadata": {},
   "source": [
    "### T. 03"
   ]
  },
  {
   "cell_type": "markdown",
   "metadata": {},
   "source": [
    "Crea un dataframe de juguete o utiliza uno que ya tengas con el único requisito de que tenga más de 5 atributos.\n",
    "\n",
    "A continuación añádele dimensiones polinómicas de grado 2 pero SOLO de **tres** columnas que elijas, manteniendo todas las demás."
   ]
  },
  {
   "cell_type": "markdown",
   "metadata": {},
   "source": [
    "Crea características $\\log (\\cdot)~$ de cada una de las características del dataframe resultante del ejercicio anterior.\n",
    "\n",
    "> *Al hacer $\\log~$ estamos convirtiendo en números negativos los valores menores que uno, y en positivos más pequeños, cercanos al orden de magnitud, los valores mayores que uno.*\n",
    "\n",
    "¿Qué problemas puede introducir esta transformación?"
   ]
  },
  {
   "cell_type": "markdown",
   "metadata": {},
   "source": [
    "Crea características $e^{(\\cdot)}~$ de cada una de las características del dataframe resultante del ejercicio anterior.\n",
    "\n",
    "> *Al hacer $\\exp~$ estamos convirtiendo todos los valores en positivos.* <br>\n",
    "*Además todos los que tengan un valor absoluto mayor que uno son agrandados, y los que tiene valor absoluto menor que uno empequeñecidos.*"
   ]
  },
  {
   "cell_type": "markdown",
   "metadata": {},
   "source": [
    "Descarga un dataframe de internet o utiliza uno que ya tengas con el único requisito de que tenga más de 5 atributos.\n",
    "Separalo en dos:\n",
    "- trainDF\n",
    "- testDF\n",
    "\n",
    "A continuación realiza ingeniería de características sobre trainDF.<br>\n",
    "Debe incluir:\n",
    "- Aumento de dimensionalidad, con:\n",
    "  - características creadas por ti,\n",
    "  - características polinómicas de orden 3, pero SOLO de 2 características que elijas y con la opción `interaction_only = True`\n",
    "- Un escalado o una estandarización del dataframe resultante.\n",
    "\n",
    "Desupués aplica esas transformaciones de testDF."
   ]
  },
  {
   "cell_type": "markdown",
   "metadata": {},
   "source": [
    "### T. 04"
   ]
  },
  {
   "cell_type": "markdown",
   "metadata": {},
   "source": [
    "Añadir al dataframe `iris_df` del ejemplo sólo las características polinómicas con interacción y un par de características creadas manualmente. Después hacer un filtrado."
   ]
  },
  {
   "cell_type": "markdown",
   "metadata": {},
   "source": [
    "Repetir el ejercicio anterior pero ANTES del filtrado realiza una estandarización.\n",
    "- ¿Da el mismo resultado?\n",
    "- ¿Por qué?\n",
    "- Como conclusión de este ejercicio responde: ¿cuál de los dos procesos se debería hacer SIEMPRE ANTES que el otro? ¿por qué?"
   ]
  },
  {
   "cell_type": "markdown",
   "metadata": {},
   "source": [
    "Repetir el ejercicio anterior, pero ahora haciendo un escalado al intervalo unidad.\n",
    "\n",
    "Observa los resultados en comparación con el ejemplo de arriba y el ejercicio anterior. ¿Qué conclusiones tienes?"
   ]
  },
  {
   "cell_type": "markdown",
   "metadata": {},
   "source": [
    "Repetir el primer ejercicio pero ahora:\n",
    "- Descarga de internet el conjunto de datos [_Student Performance_](https://archive.ics.uci.edu/static/public/320/student+performance.zip).<br>\n",
    "[Aquí](https://archive.ics.uci.edu/dataset/320/student+performance) puedes encontrar información sobre los datos.\n",
    "- Separa el conjunto de datos en dos (entrenamiento y test)\n",
    "- Sobre el conjunto de entrenamiento:\n",
    "  - Haz un aumento de dimensionalidad creando nuevas características\n",
    "  - Evalua la posibilidad de hacer una selección de características\n",
    "- Transforma del conjunto de test de la misma manera que transformaste el conjunto de entrenamiento."
   ]
  },
  {
   "cell_type": "markdown",
   "metadata": {},
   "source": [
    "### T. 05"
   ]
  },
  {
   "cell_type": "markdown",
   "metadata": {},
   "source": [
    "Realiza los siguientes pasos:\n",
    "1. Separa el conjunto de datos \"load_wine\" en Entrenamiento (90%) y Test (10%)<br>\n",
    "A partir de ese momento utiliza sólo el conjunto de entrenamiento.\n",
    "2. Aumenta la dimensionalidad\n",
    "3. Haz un filtrado de características\n",
    "4. Haz una reducción a 3 componentes principales<br>\n",
    "  ¿Cuál es el ratio de varianza explicada por estos 3 componentes principales?\n"
   ]
  },
  {
   "cell_type": "markdown",
   "metadata": {},
   "source": [
    "Razona la respuesta a la siguiente pregunta. ¿Qué habría que hacer antes: filtrado por varianza o PCA?"
   ]
  },
  {
   "cell_type": "markdown",
   "metadata": {},
   "source": [
    "### T. 06 - No hay"
   ]
  },
  {
   "cell_type": "markdown",
   "metadata": {},
   "source": [
    "### T. 07"
   ]
  },
  {
   "cell_type": "markdown",
   "metadata": {},
   "source": [
    "Con el conjunto de datos \"Iris\" de la biblioteca Scikit-learn, hacer lo siguiente:\n",
    "1. Cargar el conjunto y hacer una exploración sencilla para averiguar:\n",
    "   - cuantas clases diferentes hay\n",
    "   - cuantos ejemplos tiene\n",
    "   - cuantos atributos tiene\n",
    "2. Separar el conjunto de datos original en un conjunto de entrenamiento del 85% para aprender un modelo lineal y el 15% restante para testearlo.\n",
    "<br>\n",
    "--- A partir de ahora el enunciado SIEMPRE se refiere al conjunto de entrenamiento ---\n",
    "3. Transformar el conjunto de datos en otro que tenga sólo los 2 primeros componentes principales.\n",
    "4. Aprender un modelo lineal para discriminar la clase 0 de las otras dos. <br>\n",
    "Aprender otro modelo lineal para discriminar la clase 1 de las otras dos.<br>\n",
    "Aprender un tercer modelo lineal para discriminar la clase 2 de las otras.\n",
    "5. Pintar el conjunto de datos y los tres clasificadores.<br>\n",
    "--- AHORA, Con el conjunto de test ---\n",
    "5. Pintar con cruces los datos del conjunto de test y con circulos las predicciones que hace cada clasificador.<br>\n",
    "Por ejemplo, con el clasificador de la clase 0 frente al resto, pintar solo aquellas predicciones que sean de la clase 0, para poder comparar con las verdaderas, y así con las demás."
   ]
  },
  {
   "cell_type": "markdown",
   "metadata": {},
   "source": [
    "### T. 08"
   ]
  },
  {
   "cell_type": "markdown",
   "metadata": {},
   "source": [
    "Si la función logística es una función de distribución (_Cumulative Distribution Function_ o CDF), escribe el código para pintar su función de densidad de probabilidad (_Probability Density Function_ o PDF)"
   ]
  },
  {
   "cell_type": "markdown",
   "metadata": {},
   "source": [
    "Modifica el código de los ejemplos para el caso de que al conjunto de datos se le añada una característica _dummy_ = 1."
   ]
  },
  {
   "cell_type": "markdown",
   "metadata": {},
   "source": [
    "Modifica los códigos dados para probar diferentes umbrales de probabilidad"
   ]
  },
  {
   "cell_type": "markdown",
   "metadata": {},
   "source": [
    "Repite el ejercicio largo del cuaderno anterior, pero ahora utilizando regresión logística."
   ]
  },
  {
   "cell_type": "markdown",
   "metadata": {},
   "source": [
    "### T. 09"
   ]
  },
  {
   "cell_type": "markdown",
   "metadata": {},
   "source": [
    "Repite los ejemplos pero ahora utiliza la función\n",
    "$\\mathcal L(w_1, w_2) = w_1 e^{(w_1^2 + w_2^2)}$.<br>\n",
    "Utiliza `bound = 2` y `Ns=32`"
   ]
  },
  {
   "cell_type": "markdown",
   "metadata": {},
   "source": [
    "Modificar el último ejemplo para que el algoritmo del descenso del gradiente tenga una condición de parada doble:\n",
    "- alcanzar un número máximo de iteraciones\n",
    "- la diferencia entre el último punto alcanzado y media de los últimos $n$ últimos puntos de la trayectoria no supera un valor de tolerancia."
   ]
  },
  {
   "cell_type": "markdown",
   "metadata": {},
   "source": [
    "Modifica el algoritmo de descenso de gradiente para que empiece con $\\eta = 0.0001$ y cada vez que descienda modifique $\\eta$ multiplicándolo por 1.3.\n",
    "\n",
    "Cuando la función evaluada en el último punto sea MAYOR que la función evaluada en el punto anterior debemos \"resetear\"  $~\\eta = 0.0001.$\n",
    "\n",
    "<small>(Este algoritmo se denomina _Denscenso de gradiente con ratio de aprendizaje variable_.)</small>"
   ]
  },
  {
   "cell_type": "markdown",
   "metadata": {},
   "source": [
    "### T. 10"
   ]
  },
  {
   "cell_type": "markdown",
   "metadata": {},
   "source": [
    "Calcular la regla de actualización de pesos si utilizamos la pérdida MAE"
   ]
  },
  {
   "cell_type": "markdown",
   "metadata": {},
   "source": [
    "Crear una clase MAE que implemente la pérdida MAE y que incorpore el método `grad_w`.\n",
    "\n",
    "Después repetir el ejemplo sencillo con está pérdida."
   ]
  },
  {
   "cell_type": "markdown",
   "metadata": {},
   "source": [
    "Cambiar el código para que se pueda ejecutar sobre un conjunto de datos con $N>1$."
   ]
  }
 ],
 "metadata": {
  "kernelspec": {
   "display_name": "Python 3",
   "language": "python",
   "name": "python3"
  },
  "language_info": {
   "codemirror_mode": {
    "name": "ipython",
    "version": 3
   },
   "file_extension": ".py",
   "mimetype": "text/x-python",
   "name": "python",
   "nbconvert_exporter": "python",
   "pygments_lexer": "ipython3",
   "version": "3.10.11"
  }
 },
 "nbformat": 4,
 "nbformat_minor": 2
}
