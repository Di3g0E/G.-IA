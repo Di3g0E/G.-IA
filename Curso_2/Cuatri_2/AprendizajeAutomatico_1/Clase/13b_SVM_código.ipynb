{
  "cells": [
    {
      "cell_type": "code",
      "execution_count": null,
      "metadata": {
        "id": "-xpe7zXNR_K6"
      },
      "outputs": [],
      "source": [
        "'''\n",
        "URJC / GIA / Aprendizaje Automático 1 / Curso 23-24\n",
        "alfredo.cuesta@urjc.es\n",
        "'''\n",
        "import pandas as pd\n",
        "import numpy as np\n",
        "import matplotlib.pyplot as plt\n",
        "from sklearn.preprocessing import MaxAbsScaler, MinMaxScaler\n",
        "from sklearn.model_selection import train_test_split\n",
        "from sklearn.svm import LinearSVC, SVC\n",
        "from sklearn.metrics import accuracy_score, confusion_matrix\n",
        "\n",
        "plt.rcParams['figure.figsize']=(4,4)\n",
        "np.set_printoptions(precision=2)\n",
        "pd.set_option(\"display.precision\", 4)\n",
        "seed = 1460"
      ]
    },
    {
      "cell_type": "markdown",
      "metadata": {
        "id": "D58vuhRmSbAg"
      },
      "source": [
        "# Ejemplo\n",
        "\n",
        "Utilizando el conjunto de datos **california_housing**, que está en la carpeta *sample_data* de todo Google Colab queremos estimar si los ingresos de esa zona (en mediana) serán superiores o inferiores a 3.5 con un SVM."
      ]
    },
    {
      "cell_type": "markdown",
      "metadata": {
        "id": "01QGOxB-wBF1"
      },
      "source": [
        "## Creación del sistema clasificador\n",
        "\n",
        "1. Cargamos el conjunto de datos de entrenamiento"
      ]
    },
    {
      "cell_type": "code",
      "execution_count": null,
      "metadata": {
        "id": "nthJqCByF7aM"
      },
      "outputs": [],
      "source": [
        "#- cargar data set\n",
        "folder_name = 'sample_data/'\n",
        "file_name = 'california_housing_train.csv'\n",
        "trainSet = pd.read_csv(folder_name+file_name)\n",
        "target = ['median_income']\n",
        "train_target = trainSet[target]\n",
        "trainSet.drop(target, axis=1, inplace=True)\n",
        "features = trainSet.columns"
      ]
    },
    {
      "cell_type": "markdown",
      "metadata": {
        "id": "D8AEw-C2wzb4"
      },
      "source": [
        "2. Obtenemos la etiqueta a partir de la columna \"_median_income_\""
      ]
    },
    {
      "cell_type": "code",
      "execution_count": null,
      "metadata": {
        "id": "Vkb9RyGTk97R"
      },
      "outputs": [],
      "source": [
        "train_target = (train_target > 3.5)*1"
      ]
    },
    {
      "cell_type": "markdown",
      "metadata": {
        "id": "tn42NdLrxDJI"
      },
      "source": [
        "3. Separamos el conjunto de entrenamiento en dos para poder evaluar el modelo\n",
        "  - Entrenamiento = 80%\n",
        "  - Validación = 20%"
      ]
    },
    {
      "cell_type": "code",
      "execution_count": null,
      "metadata": {
        "id": "2-ai7HzolEia"
      },
      "outputs": [],
      "source": [
        "val_size = 0.2\n",
        "\n",
        "X_train, X_val, Y_train, Y_val = train_test_split(trainSet, train_target,\n",
        "                                              stratify=train_target, shuffle=True,\n",
        "                                              random_state=seed)"
      ]
    },
    {
      "cell_type": "markdown",
      "metadata": {
        "id": "97p1FHR3xRxD"
      },
      "source": [
        "4. Con SVM conviene tener las características escaladas al intervalo $[0,1]$ o al $[-1,1]$.\n",
        "\n",
        "  En este caso vamos a utilizar \"_MaxAbsScaler_\"\n",
        "\n",
        "En este ejemplo NO vamos a hacer ningún otro preprocesado."
      ]
    },
    {
      "cell_type": "code",
      "execution_count": null,
      "metadata": {
        "id": "ZKIUno-PlHHK"
      },
      "outputs": [],
      "source": [
        "scaler = MaxAbsScaler().set_output(transform='pandas')\n",
        "\n",
        "scaler.fit(X_train)\n",
        "X_train_scl = scaler.transform(X_train)"
      ]
    },
    {
      "cell_type": "markdown",
      "metadata": {
        "id": "6gA68veIxtbw"
      },
      "source": [
        "5. Entrenar un modelo SVM para clasificación; es decir SVC."
      ]
    },
    {
      "cell_type": "code",
      "execution_count": null,
      "metadata": {
        "colab": {
          "base_uri": "https://localhost:8080/",
          "height": 111
        },
        "id": "uTTgFHGilKkz",
        "outputId": "3c471e55-c019-4593-b502-f25ad0d50704"
      },
      "outputs": [
        {
          "name": "stderr",
          "output_type": "stream",
          "text": [
            "/usr/local/lib/python3.10/dist-packages/sklearn/svm/_base.py:299: ConvergenceWarning: Solver terminated early (max_iter=4096).  Consider pre-processing your data with StandardScaler or MinMaxScaler.\n",
            "  warnings.warn(\n"
          ]
        },
        {
          "data": {
            "text/html": [
              "<style>#sk-container-id-1 {color: black;background-color: white;}#sk-container-id-1 pre{padding: 0;}#sk-container-id-1 div.sk-toggleable {background-color: white;}#sk-container-id-1 label.sk-toggleable__label {cursor: pointer;display: block;width: 100%;margin-bottom: 0;padding: 0.3em;box-sizing: border-box;text-align: center;}#sk-container-id-1 label.sk-toggleable__label-arrow:before {content: \"▸\";float: left;margin-right: 0.25em;color: #696969;}#sk-container-id-1 label.sk-toggleable__label-arrow:hover:before {color: black;}#sk-container-id-1 div.sk-estimator:hover label.sk-toggleable__label-arrow:before {color: black;}#sk-container-id-1 div.sk-toggleable__content {max-height: 0;max-width: 0;overflow: hidden;text-align: left;background-color: #f0f8ff;}#sk-container-id-1 div.sk-toggleable__content pre {margin: 0.2em;color: black;border-radius: 0.25em;background-color: #f0f8ff;}#sk-container-id-1 input.sk-toggleable__control:checked~div.sk-toggleable__content {max-height: 200px;max-width: 100%;overflow: auto;}#sk-container-id-1 input.sk-toggleable__control:checked~label.sk-toggleable__label-arrow:before {content: \"▾\";}#sk-container-id-1 div.sk-estimator input.sk-toggleable__control:checked~label.sk-toggleable__label {background-color: #d4ebff;}#sk-container-id-1 div.sk-label input.sk-toggleable__control:checked~label.sk-toggleable__label {background-color: #d4ebff;}#sk-container-id-1 input.sk-hidden--visually {border: 0;clip: rect(1px 1px 1px 1px);clip: rect(1px, 1px, 1px, 1px);height: 1px;margin: -1px;overflow: hidden;padding: 0;position: absolute;width: 1px;}#sk-container-id-1 div.sk-estimator {font-family: monospace;background-color: #f0f8ff;border: 1px dotted black;border-radius: 0.25em;box-sizing: border-box;margin-bottom: 0.5em;}#sk-container-id-1 div.sk-estimator:hover {background-color: #d4ebff;}#sk-container-id-1 div.sk-parallel-item::after {content: \"\";width: 100%;border-bottom: 1px solid gray;flex-grow: 1;}#sk-container-id-1 div.sk-label:hover label.sk-toggleable__label {background-color: #d4ebff;}#sk-container-id-1 div.sk-serial::before {content: \"\";position: absolute;border-left: 1px solid gray;box-sizing: border-box;top: 0;bottom: 0;left: 50%;z-index: 0;}#sk-container-id-1 div.sk-serial {display: flex;flex-direction: column;align-items: center;background-color: white;padding-right: 0.2em;padding-left: 0.2em;position: relative;}#sk-container-id-1 div.sk-item {position: relative;z-index: 1;}#sk-container-id-1 div.sk-parallel {display: flex;align-items: stretch;justify-content: center;background-color: white;position: relative;}#sk-container-id-1 div.sk-item::before, #sk-container-id-1 div.sk-parallel-item::before {content: \"\";position: absolute;border-left: 1px solid gray;box-sizing: border-box;top: 0;bottom: 0;left: 50%;z-index: -1;}#sk-container-id-1 div.sk-parallel-item {display: flex;flex-direction: column;z-index: 1;position: relative;background-color: white;}#sk-container-id-1 div.sk-parallel-item:first-child::after {align-self: flex-end;width: 50%;}#sk-container-id-1 div.sk-parallel-item:last-child::after {align-self: flex-start;width: 50%;}#sk-container-id-1 div.sk-parallel-item:only-child::after {width: 0;}#sk-container-id-1 div.sk-dashed-wrapped {border: 1px dashed gray;margin: 0 0.4em 0.5em 0.4em;box-sizing: border-box;padding-bottom: 0.4em;background-color: white;}#sk-container-id-1 div.sk-label label {font-family: monospace;font-weight: bold;display: inline-block;line-height: 1.2em;}#sk-container-id-1 div.sk-label-container {text-align: center;}#sk-container-id-1 div.sk-container {/* jupyter's `normalize.less` sets `[hidden] { display: none; }` but bootstrap.min.css set `[hidden] { display: none !important; }` so we also need the `!important` here to be able to override the default hidden behavior on the sphinx rendered scikit-learn.org. See: https://github.com/scikit-learn/scikit-learn/issues/21755 */display: inline-block !important;position: relative;}#sk-container-id-1 div.sk-text-repr-fallback {display: none;}</style><div id=\"sk-container-id-1\" class=\"sk-top-container\"><div class=\"sk-text-repr-fallback\"><pre>SVC(C=16, kernel=&#x27;linear&#x27;, max_iter=4096)</pre><b>In a Jupyter environment, please rerun this cell to show the HTML representation or trust the notebook. <br />On GitHub, the HTML representation is unable to render, please try loading this page with nbviewer.org.</b></div><div class=\"sk-container\" hidden><div class=\"sk-item\"><div class=\"sk-estimator sk-toggleable\"><input class=\"sk-toggleable__control sk-hidden--visually\" id=\"sk-estimator-id-1\" type=\"checkbox\" checked><label for=\"sk-estimator-id-1\" class=\"sk-toggleable__label sk-toggleable__label-arrow\">SVC</label><div class=\"sk-toggleable__content\"><pre>SVC(C=16, kernel=&#x27;linear&#x27;, max_iter=4096)</pre></div></div></div></div></div>"
            ],
            "text/plain": [
              "SVC(C=16, kernel='linear', max_iter=4096)"
            ]
          },
          "execution_count": 6,
          "metadata": {},
          "output_type": "execute_result"
        }
      ],
      "source": [
        "max_iter = 2**12  #<- cambiando el exponente duplicamos\n",
        "C_svc = 2**4      #<- lo mismo\n",
        "kernel = 'linear' #<- linear, rbf, poly, ... ver documentación\n",
        "\n",
        "svc_model = SVC(kernel=kernel, C = C_svc, max_iter=max_iter)\n",
        "svc_model.fit(X_train_scl, Y_train.values.ravel())\n",
        "#- SVM de Scikit-Learn no trabaja bien con Pandas.\n",
        "#  Se le puede pasar Y_train pero devuelve mensajes de aviso ('warnings')\n",
        "#  Por eso se extran los valores y se convierten en un array de un solo eje."
      ]
    },
    {
      "cell_type": "markdown",
      "metadata": {
        "id": "4MRfPvP7y9Bs"
      },
      "source": [
        "6. Una vez aprendido el modelo, vemos que tal funciona con el conjunto de validación; que son ejemplos que NUNCA ha visto el modelo, igual que ocurrirá con el conjunto de test."
      ]
    },
    {
      "cell_type": "code",
      "execution_count": null,
      "metadata": {
        "colab": {
          "base_uri": "https://localhost:8080/"
        },
        "id": "gKAZQpEFlP2p",
        "outputId": "97b400c2-e7ca-41ca-dba2-bdba7f54fdab"
      },
      "outputs": [
        {
          "name": "stdout",
          "output_type": "stream",
          "text": [
            "accuracy = 0.848\n",
            "\n",
            "Matriz de confusion = \n",
            "       0     1\n",
            "0  1766   308\n",
            "1   340  1836\n"
          ]
        }
      ],
      "source": [
        "X_val_scl = scaler.transform(X_val)\n",
        "y_pred = svc_model.predict(X_val_scl)\n",
        "\n",
        "# Calcular la precisión\n",
        "accuracy = accuracy_score(Y_val, y_pred)\n",
        "# Calcular la matriz de confusión\n",
        "cf_mat = confusion_matrix(Y_val, y_pred)\n",
        "\n",
        "print(f'accuracy = {accuracy:0.3f}\\n')\n",
        "print(f'Matriz de confusion = \\n {pd.DataFrame(cf_mat)}')"
      ]
    },
    {
      "cell_type": "markdown",
      "metadata": {
        "id": "9SUzj11hz0JK"
      },
      "source": [
        "7. Hemos obtenido un 84% de _accuracy_. No está mal :)\n",
        "\n",
        "  Vamos a ver el modelo"
      ]
    },
    {
      "cell_type": "code",
      "execution_count": null,
      "metadata": {
        "colab": {
          "base_uri": "https://localhost:8080/"
        },
        "id": "lkJH5JBMlwec",
        "outputId": "eb3b57ee-f096-470a-c4aa-7404acbc0e23"
      },
      "outputs": [
        {
          "data": {
            "text/plain": [
              "{'decision_function_shape': 'ovr',\n",
              " 'break_ties': False,\n",
              " 'kernel': 'linear',\n",
              " 'degree': 3,\n",
              " 'gamma': 'scale',\n",
              " 'coef0': 0.0,\n",
              " 'tol': 0.001,\n",
              " 'C': 16,\n",
              " 'nu': 0.0,\n",
              " 'epsilon': 0.0,\n",
              " 'shrinking': True,\n",
              " 'probability': False,\n",
              " 'cache_size': 200,\n",
              " 'class_weight': None,\n",
              " 'verbose': False,\n",
              " 'max_iter': 4096,\n",
              " 'random_state': None,\n",
              " '_sparse': False,\n",
              " 'feature_names_in_': array(['longitude', 'latitude', 'housing_median_age', 'total_rooms',\n",
              "        'total_bedrooms', 'population', 'households', 'median_house_value'],\n",
              "       dtype=object),\n",
              " 'n_features_in_': 8,\n",
              " 'class_weight_': array([1., 1.]),\n",
              " 'classes_': array([0, 1]),\n",
              " '_gamma': 0.474578582545789,\n",
              " 'support_': array([    2,     3,    20, ..., 12744, 12745, 12748], dtype=int32),\n",
              " 'support_vectors_': array([[-0.94,  0.8 ,  0.25, ...,  0.04,  0.07,  0.18],\n",
              "        [-0.98,  0.88,  0.4 , ...,  0.01,  0.02,  0.33],\n",
              "        [-0.95,  0.81,  0.56, ...,  0.02,  0.07,  0.39],\n",
              "        ...,\n",
              "        [-0.98,  0.89,  0.31, ...,  0.05,  0.14,  0.4 ],\n",
              "        [-0.99,  0.91,  0.5 , ...,  0.03,  0.05,  0.51],\n",
              "        [-0.94,  0.78,  0.17, ...,  0.04,  0.04,  0.32]]),\n",
              " '_n_support': array([2792, 2786], dtype=int32),\n",
              " 'dual_coef_': array([[-16.  , -16.  , -16.  , ...,  16.  ,  12.06,  16.  ]]),\n",
              " 'intercept_': array([-7.95]),\n",
              " '_probA': array([], dtype=float64),\n",
              " '_probB': array([], dtype=float64),\n",
              " 'fit_status_': 1,\n",
              " '_num_iter': array([4096], dtype=int32),\n",
              " 'shape_fit_': (12750, 8),\n",
              " '_intercept_': array([7.95]),\n",
              " '_dual_coef_': array([[ 16.  ,  16.  ,  16.  , ..., -16.  , -12.06, -16.  ]]),\n",
              " 'n_iter_': array([4096], dtype=int32)}"
            ]
          },
          "execution_count": 8,
          "metadata": {},
          "output_type": "execute_result"
        }
      ],
      "source": [
        "svc_model.__dict__"
      ]
    },
    {
      "cell_type": "markdown",
      "metadata": {
        "id": "MOPNaG-Y0FEs"
      },
      "source": [
        "## Inferencia con el sistema clasificador\n",
        "\n",
        "- ¿Qué pasaría si desplegamos este sistema en el destino? <br>\n",
        "Le llegarán ejemplos nuevos y hará estimaciones de su etiqueta.\n",
        "\n",
        "- ¿Qué tal funcionaría?<br>\n",
        "Por \"suerte\" el conjunto de test tiene etiquetas (lo que no pasará cuando de verdad lo pongamos en funcionamiento).\n",
        "\n",
        "Vamos a cargar el conjunto de test y ver qué tal funciona con nuestro sistema."
      ]
    },
    {
      "cell_type": "code",
      "execution_count": null,
      "metadata": {
        "colab": {
          "base_uri": "https://localhost:8080/"
        },
        "id": "4bJ_UsNc03u0",
        "outputId": "be03cc13-e0ad-4c87-bfac-60a2610de2d8"
      },
      "outputs": [
        {
          "name": "stdout",
          "output_type": "stream",
          "text": [
            "accuracy = 0.841\n",
            "\n",
            "Matriz de confusion = \n",
            "       0     1\n",
            "0  1268   240\n",
            "1   236  1256\n"
          ]
        }
      ],
      "source": [
        "#- cargar conjunto de test\n",
        "folder_name = 'sample_data/'\n",
        "file_name = 'california_housing_test.csv'\n",
        "X_test = pd.read_csv(folder_name+file_name)\n",
        "target = ['median_income']\n",
        "Y_test = X_test[target]\n",
        "X_test.drop(target, axis=1, inplace=True)\n",
        "features = X_test.columns\n",
        "\n",
        "#- convertir la etiqueta a 0 y 1\n",
        "Y_test = (Y_test > 3.5)*1\n",
        "\n",
        "#- alimentar los datos al sistema\n",
        "X_test_scl = scaler.transform(X_test)\n",
        "y_hat = svc_model.predict(X_test_scl)\n",
        "\n",
        "#- Calcular la precisión\n",
        "accuracy = accuracy_score(Y_test, y_hat)\n",
        "#- Calcular la matriz de confusión\n",
        "cf_mat = confusion_matrix(Y_test, y_hat)\n",
        "\n",
        "print(f'accuracy = {accuracy:0.3f}\\n')\n",
        "print(f'Matriz de confusion = \\n {pd.DataFrame(cf_mat)}')"
      ]
    },
    {
      "cell_type": "markdown",
      "metadata": {
        "id": "9yuPl7fa0CQj"
      },
      "source": [
        "# Ejercicios"
      ]
    },
    {
      "cell_type": "markdown",
      "metadata": {
        "id": "6bziH2u2lYA6"
      },
      "source": [
        "1. leer la documentaciòn de SVC y modificar el paso 6 para probar otros modelos con otras opciones; por ejemplo otros kernel, diferentes hiperparámetros, etc."
      ]
    },
    {
      "cell_type": "markdown",
      "metadata": {
        "id": "JgCAqLCy334t"
      },
      "source": [
        "2. Probar varios modelos y luego dibujar sus curvas ROC.\n",
        "\n",
        "  ¿Qué modelo es mejor según el área bajo la ROC (AUROC) ?"
      ]
    },
    {
      "cell_type": "markdown",
      "metadata": {
        "id": "mVIaOLkR2UZD"
      },
      "source": [
        "3. Hacer una visualización del conjunto de entrenamiento y el clasificador utilizado. Para ello conviene utilizar PCA por lo que tendrás que repetir el código añadiendo PCA en el preprocesado.\n",
        "\n",
        "  Recuerda que para crear la imagen hay que hacer un barrido del intervalo que vayas a mostrar. En este caso el plano será (pca0, pca1)."
      ]
    },
    {
      "cell_type": "code",
      "execution_count": null,
      "metadata": {
        "id": "E01XzI0_3O42"
      },
      "outputs": [],
      "source": []
    }
  ],
  "metadata": {
    "colab": {
      "provenance": []
    },
    "kernelspec": {
      "display_name": "Python 3",
      "name": "python3"
    },
    "language_info": {
      "name": "python",
      "version": "3.10.11"
    }
  },
  "nbformat": 4,
  "nbformat_minor": 0
}
