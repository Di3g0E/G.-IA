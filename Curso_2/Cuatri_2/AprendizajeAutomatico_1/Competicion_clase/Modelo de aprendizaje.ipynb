{
 "cells": [
  {
   "cell_type": "markdown",
   "metadata": {},
   "source": [
    "# Competición Clase (11 - marzo - 2024)"
   ]
  },
  {
   "cell_type": "code",
   "execution_count": 139,
   "metadata": {},
   "outputs": [],
   "source": [
    "# Librerías:\n",
    "import pandas as pd\n",
    "from sklearn.preprocessing import StandardScaler\n",
    "from sklearn.decomposition import PCA\n",
    "from sklearn.feature_selection import VarianceThreshold\n",
    "import numpy as np\n"
   ]
  },
  {
   "cell_type": "code",
   "execution_count": 140,
   "metadata": {},
   "outputs": [
    {
     "name": "stdout",
     "output_type": "stream",
     "text": [
      "<class 'pandas.core.frame.DataFrame'>\n",
      "RangeIndex: 640 entries, 0 to 639\n",
      "Data columns (total 6 columns):\n",
      " #   Column  Non-Null Count  Dtype  \n",
      "---  ------  --------------  -----  \n",
      " 0   id      640 non-null    int64  \n",
      " 1   x1      640 non-null    float64\n",
      " 2   x2      640 non-null    float64\n",
      " 3   x3      640 non-null    float64\n",
      " 4   x4      640 non-null    int64  \n",
      " 5   x5      640 non-null    int64  \n",
      "dtypes: float64(3), int64(3)\n",
      "memory usage: 30.1 KB\n",
      "None \n",
      "\n",
      "<class 'pandas.core.frame.DataFrame'>\n",
      "RangeIndex: 640 entries, 0 to 639\n",
      "Data columns (total 2 columns):\n",
      " #   Column  Non-Null Count  Dtype \n",
      "---  ------  --------------  ----- \n",
      " 0   id      640 non-null    int64 \n",
      " 1   y       640 non-null    object\n",
      "dtypes: int64(1), object(1)\n",
      "memory usage: 10.1+ KB\n",
      "None\n"
     ]
    }
   ],
   "source": [
    "# Lectura de los datos:\n",
    "df_X = pd.DataFrame(pd.read_csv('C:/Users/Diego/OneDrive - Universidad Rey Juan Carlos/Documentos/GIA_URJC/Curso 2023-24/G.-IA/G.-IA/Curso_2/Cuatri_2/AprendizajeAutomatico_1/Competicion_clase/dataset_cc01/Xtrain.csv', sep = ';'))\n",
    "df_Y = pd.DataFrame(pd.read_csv('C:/Users/Diego/OneDrive - Universidad Rey Juan Carlos/Documentos/GIA_URJC/Curso 2023-24/G.-IA/G.-IA/Curso_2/Cuatri_2/AprendizajeAutomatico_1/Competicion_clase/dataset_cc01/Ytrain.csv', sep = ';'))\n",
    "\n",
    "# Visualización de los datos:\n",
    "print(df_X.info(), '\\n')\n",
    "print(df_Y.info())"
   ]
  },
  {
   "cell_type": "code",
   "execution_count": 141,
   "metadata": {},
   "outputs": [],
   "source": [
    "# # Concatenar los datos:\n",
    "# df_merge = pd.merge(Xtrain_data, Ytrain_data, on='id')\n",
    "\n",
    "# # Información del bd:\n",
    "# print(df_merge.info(), '\\n\\n', df_merge.head())"
   ]
  },
  {
   "cell_type": "code",
   "execution_count": 142,
   "metadata": {},
   "outputs": [
    {
     "name": "stdout",
     "output_type": "stream",
     "text": [
      "    id     glu-t  Hid_to_glu-t  Lip_to_Hid-t  Fumador  Edad\n",
      "0  546  2.181951      3.207904      4.959710        1    65\n",
      "1  505  2.853759      3.136450      4.411881        0    27\n",
      "2   94  3.079104      3.292550      3.409580        0    42\n",
      "3  573  2.659334      4.084357      3.689412        0    53\n",
      "4  104  2.880515      3.254065      3.340403        0    36 \n",
      "\n",
      "     id Prob_hipoglu\n",
      "0  546            r\n",
      "1  505            r\n",
      "2   94            b\n",
      "3  573            r\n",
      "4  104            b\n"
     ]
    }
   ],
   "source": [
    "# Cambio de nombre de los atributos: \n",
    "nuevos_nombres_X = {\n",
    "    'x1': 'glu-t',\n",
    "    'x2': 'Hid_to_glu-t',\n",
    "    'x3': 'Lip_to_Hid-t',\n",
    "    'x4': 'Fumador',\n",
    "    'x5': 'Edad'\n",
    "}\n",
    "nuevos_nombres_Y = {'y': 'Prob_hipoglu'}\n",
    "\n",
    "df_X = df_X.rename(columns=nuevos_nombres_X)\n",
    "df_Y = df_Y.rename(columns=nuevos_nombres_Y)\n",
    "print(df_X.head(), '\\n\\n', df_Y.head())"
   ]
  },
  {
   "cell_type": "code",
   "execution_count": 143,
   "metadata": {},
   "outputs": [
    {
     "data": {
      "text/html": [
       "<div>\n",
       "<style scoped>\n",
       "    .dataframe tbody tr th:only-of-type {\n",
       "        vertical-align: middle;\n",
       "    }\n",
       "\n",
       "    .dataframe tbody tr th {\n",
       "        vertical-align: top;\n",
       "    }\n",
       "\n",
       "    .dataframe thead th {\n",
       "        text-align: right;\n",
       "    }\n",
       "</style>\n",
       "<table border=\"1\" class=\"dataframe\">\n",
       "  <thead>\n",
       "    <tr style=\"text-align: right;\">\n",
       "      <th></th>\n",
       "      <th>id</th>\n",
       "      <th>Prob_hipoglu</th>\n",
       "    </tr>\n",
       "  </thead>\n",
       "  <tbody>\n",
       "    <tr>\n",
       "      <th>0</th>\n",
       "      <td>546</td>\n",
       "      <td>0</td>\n",
       "    </tr>\n",
       "    <tr>\n",
       "      <th>1</th>\n",
       "      <td>505</td>\n",
       "      <td>0</td>\n",
       "    </tr>\n",
       "    <tr>\n",
       "      <th>2</th>\n",
       "      <td>94</td>\n",
       "      <td>1</td>\n",
       "    </tr>\n",
       "    <tr>\n",
       "      <th>3</th>\n",
       "      <td>573</td>\n",
       "      <td>0</td>\n",
       "    </tr>\n",
       "    <tr>\n",
       "      <th>4</th>\n",
       "      <td>104</td>\n",
       "      <td>1</td>\n",
       "    </tr>\n",
       "  </tbody>\n",
       "</table>\n",
       "</div>"
      ],
      "text/plain": [
       "    id  Prob_hipoglu\n",
       "0  546             0\n",
       "1  505             0\n",
       "2   94             1\n",
       "3  573             0\n",
       "4  104             1"
      ]
     },
     "execution_count": 143,
     "metadata": {},
     "output_type": "execute_result"
    }
   ],
   "source": [
    "# Codificación atributo 'Prob_Hipoglu': (r: 0 y b: 1)\n",
    "df_Y['Prob_hipoglu'] = pd.DataFrame(pd.factorize(df_Y['Prob_hipoglu'])[0])\n",
    "df_Y.head()\n"
   ]
  },
  {
   "cell_type": "code",
   "execution_count": 144,
   "metadata": {},
   "outputs": [
    {
     "name": "stdout",
     "output_type": "stream",
     "text": [
      "                    id     glu-t  Hid_to_glu-t  Lip_to_Hid-t   Fumador  \\\n",
      "id            1.000000 -0.729922      0.595264      0.584620  0.014033   \n",
      "glu-t        -0.729922  1.000000     -0.662153     -0.429641 -0.001455   \n",
      "Hid_to_glu-t  0.595264 -0.662153      1.000000     -0.107532 -0.030359   \n",
      "Lip_to_Hid-t  0.584620 -0.429641     -0.107532      1.000000  0.036183   \n",
      "Fumador       0.014033 -0.001455     -0.030359      0.036183  1.000000   \n",
      "Edad         -0.036079 -0.044963      0.007392     -0.010597 -0.051919   \n",
      "\n",
      "                  Edad  \n",
      "id           -0.036079  \n",
      "glu-t        -0.044963  \n",
      "Hid_to_glu-t  0.007392  \n",
      "Lip_to_Hid-t -0.010597  \n",
      "Fumador      -0.051919  \n",
      "Edad          1.000000  \n",
      "\n",
      "Correlación de 'target' con: \n",
      "id             -0.025785\n",
      "glu-t           0.190395\n",
      "Hid_to_glu-t   -0.033298\n",
      "Lip_to_Hid-t   -0.077880\n",
      "Fumador        -0.007279\n",
      "Edad           -0.034256\n",
      "Prob_hipoglu    1.000000\n",
      "Name: Prob_hipoglu, dtype: float64\n"
     ]
    }
   ],
   "source": [
    "print(df_X.corr())\n",
    "\n",
    "df_complete = pd.merge(df_X, df_Y, on='id')\n",
    "corr_mat = df_complete.corr()\n",
    "\n",
    "print(\"\\nCorrelación de 'target' con: \")\n",
    "print(corr_mat[\"Prob_hipoglu\"])\n"
   ]
  },
  {
   "cell_type": "code",
   "execution_count": 145,
   "metadata": {},
   "outputs": [
    {
     "name": "stdout",
     "output_type": "stream",
     "text": [
      "                    id     glu-t  Hid_to_glu-t  Lip_to_Hid-t   Fumador  \\\n",
      "id            1.000000 -0.729922      0.595264      0.584620  0.014033   \n",
      "glu-t        -0.729922  1.000000     -0.662153     -0.429641 -0.001455   \n",
      "Hid_to_glu-t  0.595264 -0.662153      1.000000     -0.107532 -0.030359   \n",
      "Lip_to_Hid-t  0.584620 -0.429641     -0.107532      1.000000  0.036183   \n",
      "Fumador       0.014033 -0.001455     -0.030359      0.036183  1.000000   \n",
      "Edad         -0.036079 -0.044963      0.007392     -0.010597 -0.051919   \n",
      "\n",
      "                  Edad  \n",
      "id           -0.036079  \n",
      "glu-t        -0.044963  \n",
      "Hid_to_glu-t  0.007392  \n",
      "Lip_to_Hid-t -0.010597  \n",
      "Fumador      -0.051919  \n",
      "Edad          1.000000  \n",
      "\n",
      "Correlación de 'target' con: \n",
      "id             -0.025785\n",
      "glu-t           0.190395\n",
      "Hid_to_glu-t   -0.033298\n",
      "Lip_to_Hid-t   -0.077880\n",
      "Fumador        -0.007279\n",
      "Edad           -0.034256\n",
      "Prob_hipoglu    1.000000\n",
      "Name: Prob_hipoglu, dtype: float64\n"
     ]
    }
   ],
   "source": [
    "print(df_X.corr())\n",
    "\n",
    "df_complete = pd.merge(df_X, df_Y, on='id')\n",
    "corr_mat = df_complete.corr()\n",
    "\n",
    "print(\"\\nCorrelación de 'target' con: \")\n",
    "print(corr_mat[\"Prob_hipoglu\"])\n"
   ]
  },
  {
   "cell_type": "code",
   "execution_count": 146,
   "metadata": {},
   "outputs": [
    {
     "name": "stdout",
     "output_type": "stream",
     "text": [
      "Tabla con el 95% de componentes principales:\n"
     ]
    },
    {
     "data": {
      "text/html": [
       "<div>\n",
       "<style scoped>\n",
       "    .dataframe tbody tr th:only-of-type {\n",
       "        vertical-align: middle;\n",
       "    }\n",
       "\n",
       "    .dataframe tbody tr th {\n",
       "        vertical-align: top;\n",
       "    }\n",
       "\n",
       "    .dataframe thead th {\n",
       "        text-align: right;\n",
       "    }\n",
       "</style>\n",
       "<table border=\"1\" class=\"dataframe\">\n",
       "  <thead>\n",
       "    <tr style=\"text-align: right;\">\n",
       "      <th></th>\n",
       "      <th>pca0</th>\n",
       "      <th>pca1</th>\n",
       "      <th>pca2</th>\n",
       "      <th>pca3</th>\n",
       "    </tr>\n",
       "  </thead>\n",
       "  <tbody>\n",
       "    <tr>\n",
       "      <th>0</th>\n",
       "      <td>-1.123099</td>\n",
       "      <td>-1.775416</td>\n",
       "      <td>1.068021</td>\n",
       "      <td>2.187593</td>\n",
       "    </tr>\n",
       "    <tr>\n",
       "      <th>1</th>\n",
       "      <td>0.189047</td>\n",
       "      <td>-1.206520</td>\n",
       "      <td>0.246597</td>\n",
       "      <td>-1.185793</td>\n",
       "    </tr>\n",
       "    <tr>\n",
       "      <th>2</th>\n",
       "      <td>1.923185</td>\n",
       "      <td>0.256539</td>\n",
       "      <td>0.406348</td>\n",
       "      <td>-0.322544</td>\n",
       "    </tr>\n",
       "    <tr>\n",
       "      <th>3</th>\n",
       "      <td>-0.457201</td>\n",
       "      <td>0.639919</td>\n",
       "      <td>0.793099</td>\n",
       "      <td>0.129305</td>\n",
       "    </tr>\n",
       "    <tr>\n",
       "      <th>4</th>\n",
       "      <td>1.696704</td>\n",
       "      <td>0.222597</td>\n",
       "      <td>0.100555</td>\n",
       "      <td>-0.553617</td>\n",
       "    </tr>\n",
       "  </tbody>\n",
       "</table>\n",
       "</div>"
      ],
      "text/plain": [
       "       pca0      pca1      pca2      pca3\n",
       "0 -1.123099 -1.775416  1.068021  2.187593\n",
       "1  0.189047 -1.206520  0.246597 -1.185793\n",
       "2  1.923185  0.256539  0.406348 -0.322544\n",
       "3 -0.457201  0.639919  0.793099  0.129305\n",
       "4  1.696704  0.222597  0.100555 -0.553617"
      ]
     },
     "execution_count": 146,
     "metadata": {},
     "output_type": "execute_result"
    }
   ],
   "source": [
    "# Realizamos PCA:\n",
    "df_X_std = df_X.copy()\n",
    "df_Y_std = df_Y.copy()\n",
    "\n",
    "# Estandarizamos la base de datos en X:\n",
    "scaler = StandardScaler().set_output(transform='pandas')\n",
    "scaler.fit(df_X_std)\n",
    "df_X_std = scaler.transform(df_X_std)\n",
    "\n",
    "# PCA en X:\n",
    "pca = PCA(n_components=0.9).set_output(transform='pandas')\n",
    "pca.fit(df_X_std)\n",
    "df_pca = pca.transform(df_X_std)\n",
    "\n",
    "print('Tabla con el 95% de componentes principales:')\n",
    "df_pca.head()"
   ]
  },
  {
   "cell_type": "code",
   "execution_count": 147,
   "metadata": {},
   "outputs": [
    {
     "data": {
      "image/png": "[encoded data removed]",
      "text/plain": [
       "<Figure size 600x200 with 1 Axes>"
      ]
     },
     "metadata": {},
     "output_type": "display_data"
    }
   ],
   "source": [
    "import matplotlib.pyplot as plt\n",
    "\n",
    "def plot_PCA(pca):\n",
    "  plt.stem(pca.explained_variance_ratio_.cumsum(),'b')\n",
    "  plt.stem(pca.explained_variance_ratio_,'r')\n",
    "\n",
    "  titleStr = 'Varianza explicada por cada componente principal (rojo)'\n",
    "  titleStr = titleStr+'\\n'\n",
    "  titleStr = titleStr+'Varianza explicada acumulada con cada componente principal (azul)'\n",
    "  plt.title(titleStr, fontsize=10)\n",
    "  ax = plt.gca()\n",
    "  ax.axis([-0.1,1.1,0,1])\n",
    "  ax.set_xticks([i for i in range(pca.n_components_)])\n",
    "  ax.set_xticklabels([\"pca\"+str(i) for i in range(pca.n_components_)])\n",
    "\n",
    "  fig = plt.gcf()\n",
    "  fig.set_size_inches(6,2)\n",
    "\n",
    "  plt.show()\n",
    "\n",
    "plot_PCA(pca)"
   ]
  },
  {
   "cell_type": "code",
   "execution_count": 148,
   "metadata": {},
   "outputs": [
    {
     "name": "stdout",
     "output_type": "stream",
     "text": [
      "Los parámetros aprendidos para un modelo lineal son:\n",
      " w = [ 0.03302448  0.00609035 -0.01875086 -0.01545873] , w0 = 0.50\n"
     ]
    }
   ],
   "source": [
    "#-- Aprendizaje del modelo lineal:\n",
    "from sklearn import linear_model\n",
    "\n",
    "X = df_pca[['pca0','pca1', 'pca2', 'pca3']]\n",
    "Y = df_Y['Prob_hipoglu']\n",
    "\n",
    "reg = linear_model.LinearRegression()\n",
    "reg.fit(X,Y)\n",
    "y_hat1 = reg.predict(X)\n",
    "\n",
    "reg.fit(X,Y)\n",
    "print(f'Los parámetros aprendidos para un modelo lineal son:')\n",
    "print(f' w = {reg.coef_} , w0 = {reg.intercept_:0.2f}')"
   ]
  },
  {
   "cell_type": "code",
   "execution_count": 149,
   "metadata": {},
   "outputs": [
    {
     "data": {
      "text/html": [
       "<div>\n",
       "<style scoped>\n",
       "    .dataframe tbody tr th:only-of-type {\n",
       "        vertical-align: middle;\n",
       "    }\n",
       "\n",
       "    .dataframe tbody tr th {\n",
       "        vertical-align: top;\n",
       "    }\n",
       "\n",
       "    .dataframe thead th {\n",
       "        text-align: right;\n",
       "    }\n",
       "</style>\n",
       "<table border=\"1\" class=\"dataframe\">\n",
       "  <thead>\n",
       "    <tr style=\"text-align: right;\">\n",
       "      <th></th>\n",
       "      <th>id</th>\n",
       "      <th>glu-t</th>\n",
       "      <th>Hid_to_glu-t</th>\n",
       "      <th>Lip_to_Hid-t</th>\n",
       "      <th>Fumador</th>\n",
       "      <th>Edad</th>\n",
       "      <th>Prob_hipoglu</th>\n",
       "      <th>logit</th>\n",
       "      <th>p(y=1)</th>\n",
       "    </tr>\n",
       "  </thead>\n",
       "  <tbody>\n",
       "    <tr>\n",
       "      <th>0</th>\n",
       "      <td>546</td>\n",
       "      <td>2.181951</td>\n",
       "      <td>3.207904</td>\n",
       "      <td>4.959710</td>\n",
       "      <td>1</td>\n",
       "      <td>65</td>\n",
       "      <td>0</td>\n",
       "      <td>0.398254</td>\n",
       "      <td>0.598268</td>\n",
       "    </tr>\n",
       "    <tr>\n",
       "      <th>1</th>\n",
       "      <td>505</td>\n",
       "      <td>2.853759</td>\n",
       "      <td>3.136450</td>\n",
       "      <td>4.411881</td>\n",
       "      <td>0</td>\n",
       "      <td>27</td>\n",
       "      <td>0</td>\n",
       "      <td>0.512602</td>\n",
       "      <td>0.625416</td>\n",
       "    </tr>\n",
       "    <tr>\n",
       "      <th>2</th>\n",
       "      <td>94</td>\n",
       "      <td>3.079104</td>\n",
       "      <td>3.292550</td>\n",
       "      <td>3.409580</td>\n",
       "      <td>0</td>\n",
       "      <td>42</td>\n",
       "      <td>1</td>\n",
       "      <td>0.562441</td>\n",
       "      <td>0.637017</td>\n",
       "    </tr>\n",
       "    <tr>\n",
       "      <th>3</th>\n",
       "      <td>573</td>\n",
       "      <td>2.659334</td>\n",
       "      <td>4.084357</td>\n",
       "      <td>3.689412</td>\n",
       "      <td>0</td>\n",
       "      <td>53</td>\n",
       "      <td>0</td>\n",
       "      <td>0.471928</td>\n",
       "      <td>0.615840</td>\n",
       "    </tr>\n",
       "    <tr>\n",
       "      <th>4</th>\n",
       "      <td>104</td>\n",
       "      <td>2.880515</td>\n",
       "      <td>3.254065</td>\n",
       "      <td>3.340403</td>\n",
       "      <td>0</td>\n",
       "      <td>36</td>\n",
       "      <td>1</td>\n",
       "      <td>0.564061</td>\n",
       "      <td>0.637392</td>\n",
       "    </tr>\n",
       "  </tbody>\n",
       "</table>\n",
       "</div>"
      ],
      "text/plain": [
       "    id     glu-t  Hid_to_glu-t  Lip_to_Hid-t  Fumador  Edad  Prob_hipoglu  \\\n",
       "0  546  2.181951      3.207904      4.959710        1    65             0   \n",
       "1  505  2.853759      3.136450      4.411881        0    27             0   \n",
       "2   94  3.079104      3.292550      3.409580        0    42             1   \n",
       "3  573  2.659334      4.084357      3.689412        0    53             0   \n",
       "4  104  2.880515      3.254065      3.340403        0    36             1   \n",
       "\n",
       "      logit    p(y=1)  \n",
       "0  0.398254  0.598268  \n",
       "1  0.512602  0.625416  \n",
       "2  0.562441  0.637017  \n",
       "3  0.471928  0.615840  \n",
       "4  0.564061  0.637392  "
      ]
     },
     "execution_count": 149,
     "metadata": {},
     "output_type": "execute_result"
    }
   ],
   "source": [
    "#-- Obtenemos los logits\n",
    "logit = reg.predict(X)\n",
    "\n",
    "#-- Convertimos los logits en probabilidad de pertenecer a la clase \"1\"\n",
    "def logistic_fun(x):\n",
    "    return 1 / (1 + np.exp(-x))\n",
    "\n",
    "df_complete[\"logit\"]=logit\n",
    "df_complete['p(y=1)']=logistic_fun(logit)\n",
    "df_complete.head()"
   ]
  },
  {
   "cell_type": "code",
   "execution_count": 150,
   "metadata": {},
   "outputs": [
    {
     "data": {
      "image/png": "[encoded data removed]",
      "text/plain": [
       "<Figure size 640x480 with 1 Axes>"
      ]
     },
     "metadata": {},
     "output_type": "display_data"
    }
   ],
   "source": [
    "colors=df_complete['Prob_hipoglu'].copy()\n",
    "colors[colors==1]=1\n",
    "colors[colors==-1]=0\n",
    "df_complete.plot.scatter(x='logit', y='p(y=1)', c=colors, s=30, alpha=0.5)\n",
    "range_logit = np.linspace(-5,5,30)\n",
    "plt.plot(range_logit, logistic_fun(range_logit), 'y--')\n",
    "plt.grid()\n",
    "plt.show()"
   ]
  },
  {
   "cell_type": "code",
   "execution_count": null,
   "metadata": {},
   "outputs": [],
   "source": [
    "test = pd.DataFrame"
   ]
  }
 ],
 "metadata": {
  "kernelspec": {
   "display_name": "Python 3",
   "language": "python",
   "name": "python3"
  },
  "language_info": {
   "codemirror_mode": {
    "name": "ipython",
    "version": 3
   },
   "file_extension": ".py",
   "mimetype": "text/x-python",
   "name": "python",
   "nbconvert_exporter": "python",
   "pygments_lexer": "ipython3",
   "version": "3.10.11"
  }
 },
 "nbformat": 4,
 "nbformat_minor": 2
}
