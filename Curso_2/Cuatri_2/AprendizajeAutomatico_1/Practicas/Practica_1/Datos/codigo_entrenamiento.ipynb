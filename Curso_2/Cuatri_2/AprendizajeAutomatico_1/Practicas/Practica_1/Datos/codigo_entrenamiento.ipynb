{
 "cells": [
  {
   "cell_type": "code",
   "execution_count": 1,
   "metadata": {},
   "outputs": [],
   "source": [
    "# Librerias:\n",
    "import pandas as pd\n",
    "import numpy as np\n",
    "from sklearn.model_selection import train_test_split\n",
    "from sklearn.preprocessing import LabelEncoder\n",
    "import json\n",
    "from sklearn.experimental import enable_iterative_imputer\n",
    "from sklearn.impute import IterativeImputer\n",
    "import pickle\n",
    "from sklearn.preprocessing import PolynomialFeatures\n",
    "from sklearn.preprocessing import MinMaxScaler, MaxAbsScaler, StandardScaler\n",
    "from sklearn.feature_selection import VarianceThreshold\n",
    "from sklearn.decomposition import PCA\n",
    "from sklearn import linear_model\n",
    "\n",
    "import matplotlib.pyplot as plt"
   ]
  },
  {
   "cell_type": "code",
   "execution_count": 2,
   "metadata": {},
   "outputs": [],
   "source": [
    "# Guardar los datos en variables:\n",
    "x_data = pd.read_csv('C:/Users/Diego/OneDrive - Universidad Rey Juan Carlos/Documentos/GIA_URJC/Curso 2023-24/G.-IA/Curso_2/Cuatri_2/AprendizajeAutomatico_1/Practicas/Practica_1/Datos/trainX_reto1.csv', sep=';', decimal='.', index_col=0, na_values='?')\n",
    "y_data = pd.read_csv('C:/Users/Diego/OneDrive - Universidad Rey Juan Carlos/Documentos/GIA_URJC/Curso 2023-24/G.-IA/Curso_2/Cuatri_2/AprendizajeAutomatico_1/Practicas/Practica_1/Datos/trainY_reto1.csv', sep=';', decimal='.', index_col=0, na_values='?')"
   ]
  },
  {
   "cell_type": "code",
   "execution_count": 3,
   "metadata": {},
   "outputs": [],
   "source": [
    "# Separación en train y test:\n",
    "random_state = 15\n",
    "x_train, x_test = train_test_split(x_data, test_size=0.2, random_state=random_state)\n",
    "y_train, y_test = train_test_split(y_data, test_size=0.2, random_state=random_state)\n",
    "\n",
    "# Ordenar los df por id:\n",
    "x_train.sort_index(inplace=True)\n",
    "y_train.sort_index(inplace=True)"
   ]
  },
  {
   "cell_type": "code",
   "execution_count": 4,
   "metadata": {},
   "outputs": [],
   "source": [
    "# Guarda x_test en un archivo CSV\n",
    "x_test.to_csv('x_test.csv', index=True)\n",
    "\n",
    "# Guarda y_test en otro archivo CSV\n",
    "y_test.to_csv('y_test.csv', index=True)"
   ]
  },
  {
   "cell_type": "code",
   "execution_count": 5,
   "metadata": {},
   "outputs": [
    {
     "name": "stdout",
     "output_type": "stream",
     "text": [
      "<class 'pandas.core.frame.DataFrame'>\n",
      "Int64Index: 256 entries, 1 to 399\n",
      "Data columns (total 24 columns):\n",
      " #   Column  Non-Null Count  Dtype  \n",
      "---  ------  --------------  -----  \n",
      " 0   age     249 non-null    float64\n",
      " 1   bp      250 non-null    float64\n",
      " 2   sg      228 non-null    float64\n",
      " 3   al      230 non-null    float64\n",
      " 4   su      229 non-null    float64\n",
      " 5   rbc     156 non-null    object \n",
      " 6   pc      218 non-null    object \n",
      " 7   pcc     255 non-null    object \n",
      " 8   ba      255 non-null    object \n",
      " 9   bgr     225 non-null    float64\n",
      " 10  bu      243 non-null    float64\n",
      " 11  sc      244 non-null    float64\n",
      " 12  sod     199 non-null    float64\n",
      " 13  pot     198 non-null    float64\n",
      " 14  hemo    225 non-null    float64\n",
      " 15  pcv     209 non-null    float64\n",
      " 16  wbcc    188 non-null    float64\n",
      " 17  rbcc    167 non-null    float64\n",
      " 18  htn     254 non-null    object \n",
      " 19  dm      254 non-null    object \n",
      " 20  cad     254 non-null    object \n",
      " 21  appet   255 non-null    object \n",
      " 22  pe      255 non-null    object \n",
      " 23  ane     255 non-null    object \n",
      "dtypes: float64(14), object(10)\n",
      "memory usage: 50.0+ KB\n",
      "None\n",
      "              age          bp          sg          al          su         bgr  \\\n",
      "count  249.000000  250.000000  228.000000  230.000000  229.000000  225.000000   \n",
      "mean    51.771084   75.920000    1.017259    1.139130    0.519651  151.097778   \n",
      "std     17.695447   13.656486    0.005772    1.410423    1.149297   81.330066   \n",
      "min      2.000000   50.000000    1.005000    0.000000    0.000000   70.000000   \n",
      "25%     42.000000   70.000000    1.010000    0.000000    0.000000  100.000000   \n",
      "50%     55.000000   70.000000    1.020000    0.000000    0.000000  124.000000   \n",
      "75%     65.000000   80.000000    1.020000    2.000000    0.000000  169.000000   \n",
      "max     90.000000  180.000000    1.025000    5.000000    5.000000  490.000000   \n",
      "\n",
      "               bu          sc         sod         pot        hemo         pcv  \\\n",
      "count  243.000000  244.000000  199.000000  198.000000  225.000000  209.000000   \n",
      "mean    61.381481    3.457787  136.927136    4.822222   12.254667   38.153110   \n",
      "std     54.601154    6.822721   12.112935    3.963669    2.941891    9.156518   \n",
      "min     10.000000    0.400000    4.500000    2.500000    3.100000    9.000000   \n",
      "25%     27.000000    1.000000  135.000000    3.900000   10.200000   32.000000   \n",
      "50%     46.000000    1.400000  138.000000    4.500000   12.100000   38.000000   \n",
      "75%     72.500000    3.000000  142.000000    4.900000   14.600000   45.000000   \n",
      "max    391.000000   76.000000  163.000000   47.000000   17.800000   54.000000   \n",
      "\n",
      "               wbcc        rbcc  \n",
      "count    188.000000  167.000000  \n",
      "mean    8381.914894    4.620958  \n",
      "std     2885.329396    1.054356  \n",
      "min     2200.000000    2.100000  \n",
      "25%     6400.000000    3.900000  \n",
      "50%     8100.000000    4.700000  \n",
      "75%     9800.000000    5.300000  \n",
      "max    21600.000000    8.000000  \n",
      "\n",
      "Modas:\n",
      "     age    bp    sg   al   su     rbc      pc         pcc          ba  bgr  \\\n",
      "0  60.0  70.0  1.02  0.0  0.0  normal  normal  notpresent  notpresent  NaN   \n",
      "1  65.0  80.0   NaN  NaN  NaN     NaN     NaN         NaN         NaN  NaN   \n",
      "\n",
      "   ...  hemo  pcv  wbcc  rbcc  htn   dm  cad  appet   pe  ane  \n",
      "0  ...   NaN  NaN   NaN   NaN   no   no   no   good   no   no  \n",
      "1  ...   NaN  NaN   NaN   NaN  NaN  NaN  NaN    NaN  NaN  NaN  \n",
      "\n",
      "[2 rows x 24 columns]\n",
      "<class 'pandas.core.frame.DataFrame'>\n",
      "Int64Index: 256 entries, 1 to 399\n",
      "Data columns (total 1 columns):\n",
      " #   Column  Non-Null Count  Dtype \n",
      "---  ------  --------------  ----- \n",
      " 0   class   256 non-null    object\n",
      "dtypes: object(1)\n",
      "memory usage: 4.0+ KB\n",
      "\n",
      "\n",
      " None\n",
      "       class\n",
      "count    256\n",
      "unique     2\n",
      "top      ckd\n",
      "freq     166\n"
     ]
    }
   ],
   "source": [
    "# Exploración de datos:\n",
    "print(x_train.info())\n",
    "print(x_train.describe())\n",
    "print('\\nModas:\\n', x_train.mode(axis=0, dropna=False))\n",
    "N_x, D_x = x_train.shape\n",
    "\n",
    "print('\\n\\n', y_train.info())\n",
    "print(y_train.describe())\n",
    "N_y, D_y = y_train.shape"
   ]
  },
  {
   "cell_type": "code",
   "execution_count": 6,
   "metadata": {},
   "outputs": [
    {
     "name": "stdout",
     "output_type": "stream",
     "text": [
      "Dicc. encoding_dict_x:  {'rbc': {'abnormal': 0, 'normal': 1}, 'pc': {'abnormal': 0, 'normal': 1}, 'pcc': {'notpresent': 0, 'present': 1}, 'ba': {'notpresent': 0, 'present': 1}, 'htn': {'no': 0, 'yes': 1}, 'dm': {'no': 0, 'yes': 1}, 'cad': {'no': 0, 'yes': 1}, 'appet': {'good': 0, 'poor': 1}, 'pe': {'no': 0, 'yes': 1}, 'ane': {'no': 0, 'yes': 1}}\n",
      "Dicc. encoding_dict_y:  {'class': {'ckd': 0, 'notckd': 1}}\n"
     ]
    }
   ],
   "source": [
    "#-- CODIFICACIÓN DE LOS DATOS --#\n",
    "\n",
    "# Creas una copia del DataFrame original:\n",
    "x_train_copy = x_train.copy()\n",
    "y_train_copy = y_train.copy()\n",
    "\n",
    "def encode_col(df):\n",
    "    le = LabelEncoder()  # Inicializa un LabelEncoder\n",
    "    encoding_dict = {}  # Inicializa un diccionario para guardar los mapeos\n",
    "\n",
    "    # Itera sobre cada columna en el DataFrame\n",
    "    for col in df.columns:\n",
    "        if df[col].dtype == 'object':  # Verifica si la columna es de tipo 'object'\n",
    "            non_nan_values = df[col].dropna()  # Elimina los valores NaN de la columna\n",
    "            if non_nan_values.empty:\n",
    "                continue  # Si no hay valores no nulos en la columna, continúa con la siguiente columna\n",
    "            df[col] = df[col].map(lambda x: le.fit(non_nan_values).transform([x])[0] if pd.notnull(x) else np.nan)  # Ajusta el LabelEncoder y transforma la columna\n",
    "            encoding_dict[col] = dict(zip(le.classes_, le.transform(le.classes_)))  # Guarda el mapeo de la columna en el diccionario\n",
    "    \n",
    "    return df, encoding_dict\n",
    "\n",
    "\n",
    "x_train_df, encoding_dict_x = encode_col(x_train_copy)\n",
    "y_train_df, encoding_dict_y = encode_col(y_train_copy)\n",
    "\n",
    "print('Dicc. encoding_dict_x: ', encoding_dict_x)\n",
    "print('Dicc. encoding_dict_y: ', encoding_dict_y)"
   ]
  },
  {
   "cell_type": "code",
   "execution_count": 7,
   "metadata": {},
   "outputs": [],
   "source": [
    "# Convierte los valores de los diccionarios a tipos de datos nativos\n",
    "encoding_dict_x_serializable = {col: {str(k): int(v) for k, v in mapping.items()} for col, mapping in encoding_dict_x.items()}\n",
    "encoding_dict_y_serializable = {col: {str(k): int(v) for k, v in mapping.items()} for col, mapping in encoding_dict_y.items()}\n",
    "\n",
    "# Guarda encoding_dict_x en un archivo JSON\n",
    "with open('encoding_dict_x.json', 'w') as file:\n",
    "    json.dump(encoding_dict_x_serializable, file)\n",
    "\n",
    "# Guarda encoding_dict_y en otro archivo JSON\n",
    "with open('encoding_dict_y.json', 'w') as file:\n",
    "    json.dump(encoding_dict_y_serializable, file)"
   ]
  },
  {
   "cell_type": "code",
   "execution_count": 8,
   "metadata": {},
   "outputs": [
    {
     "name": "stdout",
     "output_type": "stream",
     "text": [
      "Columnas con valores nulos:\n",
      "age        7\n",
      "bp         6\n",
      "sg        28\n",
      "al        26\n",
      "su        27\n",
      "rbc      100\n",
      "pc        38\n",
      "pcc        1\n",
      "ba         1\n",
      "bgr       31\n",
      "bu        13\n",
      "sc        12\n",
      "sod       57\n",
      "pot       58\n",
      "hemo      31\n",
      "pcv       47\n",
      "wbcc      68\n",
      "rbcc      89\n",
      "htn        2\n",
      "dm         2\n",
      "cad        2\n",
      "appet      1\n",
      "pe         1\n",
      "ane        1\n",
      "dtype: int64\n",
      "\n",
      "Filas con valores nulos:\n",
      "1      5\n",
      "2      3\n",
      "4      2\n",
      "6      3\n",
      "7      3\n",
      "      ..\n",
      "349    2\n",
      "350    2\n",
      "365    2\n",
      "378    2\n",
      "381    2\n",
      "Length: 156, dtype: int64\n",
      "\n",
      "Valores NaN en cada fila:\n",
      "0     100\n",
      "1      31\n",
      "2      25\n",
      "3      20\n",
      "4      21\n",
      "5      20\n",
      "6       5\n",
      "7      12\n",
      "8       4\n",
      "9       8\n",
      "10      4\n",
      "11      6\n",
      "dtype: int64\n",
      "Valores NaN en cada columna:\n",
      "1      5\n",
      "2      3\n",
      "6      1\n",
      "7      1\n",
      "12     1\n",
      "13     1\n",
      "26     1\n",
      "27     1\n",
      "28     1\n",
      "31     2\n",
      "38     1\n",
      "47     1\n",
      "57     1\n",
      "58     1\n",
      "68     1\n",
      "89     1\n",
      "100    1\n",
      "dtype: int64\n"
     ]
    }
   ],
   "source": [
    "# Visualización de valores NaN:\n",
    "missig_data = x_train_df.isna()\n",
    "\n",
    "missing_values_column = missig_data.sum(axis=0)\n",
    "missing_values_row = missig_data.sum(axis=1)\n",
    "\n",
    "mask_mayorq0 = missing_values_column > 0\n",
    "mask_mayorq1 = missing_values_row > 0\n",
    "\n",
    "print(f'Columnas con valores nulos:\\n{missing_values_column[mask_mayorq0]}\\n')\n",
    "print(f'Filas con valores nulos:\\n{missing_values_row[mask_mayorq1]}\\n')\n",
    "\n",
    "missing_count_row = missing_values_row.value_counts().sort_index()\n",
    "print(f'Valores NaN en cada fila:\\n{missing_count_row}')\n",
    "missing_count_col = missing_values_column.value_counts().sort_index()\n",
    "print(f'Valores NaN en cada columna:\\n{missing_count_col}')"
   ]
  },
  {
   "cell_type": "code",
   "execution_count": 9,
   "metadata": {},
   "outputs": [],
   "source": [
    "# Crear columna dummies valores NaN\n",
    "for col in x_train_df.columns:\n",
    "    x_train_df[col + '_isna'] = x_train_df[col].isna().astype(int)\n",
    "\n",
    "# Sustitución de valores NaN por valor 'mean' columnas 'rbc':\n",
    "mean_rbc = x_train_df['rbc'].mean()\n",
    "x_train_df['rbc'].fillna(mean_rbc, inplace=True)"
   ]
  },
  {
   "cell_type": "code",
   "execution_count": 10,
   "metadata": {},
   "outputs": [
    {
     "name": "stdout",
     "output_type": "stream",
     "text": [
      "age           0\n",
      "bp            0\n",
      "sg            0\n",
      "al            0\n",
      "su            0\n",
      "rbc           0\n",
      "pc            0\n",
      "pcc           0\n",
      "ba            0\n",
      "bgr           0\n",
      "bu            0\n",
      "sc            0\n",
      "sod           0\n",
      "pot           0\n",
      "hemo          0\n",
      "pcv           0\n",
      "wbcc          0\n",
      "rbcc          0\n",
      "htn           0\n",
      "dm            0\n",
      "cad           0\n",
      "appet         0\n",
      "pe            0\n",
      "ane           0\n",
      "age_isna      0\n",
      "bp_isna       0\n",
      "sg_isna       0\n",
      "al_isna       0\n",
      "su_isna       0\n",
      "rbc_isna      0\n",
      "pc_isna       0\n",
      "pcc_isna      0\n",
      "ba_isna       0\n",
      "bgr_isna      0\n",
      "bu_isna       0\n",
      "sc_isna       0\n",
      "sod_isna      0\n",
      "pot_isna      0\n",
      "hemo_isna     0\n",
      "pcv_isna      0\n",
      "wbcc_isna     0\n",
      "rbcc_isna     0\n",
      "htn_isna      0\n",
      "dm_isna       0\n",
      "cad_isna      0\n",
      "appet_isna    0\n",
      "pe_isna       0\n",
      "ane_isna      0\n",
      "dtype: int64\n",
      "\n",
      "Tamaño x_train_df:  (256, 48)\n"
     ]
    }
   ],
   "source": [
    "#-- IMPUTACIÓN MULTIVARIANTE --#\n",
    "\n",
    "# Creas una copia del DataFrame original:\n",
    "x_train_df_copy = x_train_df.copy()\n",
    "\n",
    "# Imputación multivariante de los datos NaN:\n",
    "imputer = IterativeImputer()\n",
    "train_imputed = imputer.fit_transform(x_train_df_copy)\n",
    "x_train_df = pd.DataFrame(train_imputed, columns=x_train_df_copy.columns)              # Convertir de nuevo a DataFrame\n",
    "print(x_train_df.isna().sum())   \n",
    "print('\\nTamaño x_train_df: ', x_train_df.shape)"
   ]
  },
  {
   "cell_type": "code",
   "execution_count": 11,
   "metadata": {},
   "outputs": [],
   "source": [
    "# Guarda el objeto imputer en un archivo pickle\n",
    "with open('imputer.pkl', 'wb') as file:\n",
    "    pickle.dump(imputer, file)"
   ]
  },
  {
   "cell_type": "code",
   "execution_count": 12,
   "metadata": {},
   "outputs": [
    {
     "name": "stdout",
     "output_type": "stream",
     "text": [
      "Tamaño x_train_dim:  (256, 1177)\n"
     ]
    }
   ],
   "source": [
    "# Aumento de dimensionalidad:\n",
    "degree = 2\n",
    "interaction_only = True\n",
    "\n",
    "polyf = PolynomialFeatures(degree=degree, interaction_only=interaction_only)\n",
    "polyf.set_output(transform=\"pandas\")\n",
    "\n",
    "x_train_dim = polyf.fit_transform(x_train_df)\n",
    "print('Tamaño x_train_dim: ',x_train_dim.shape)"
   ]
  },
  {
   "cell_type": "code",
   "execution_count": 13,
   "metadata": {},
   "outputs": [],
   "source": [
    "# Guardamos polyf en un archivo pickle para usarlo en el programa de test:\n",
    "with open('polyf.pkl', 'wb') as file:\n",
    "    pickle.dump(polyf, file)"
   ]
  },
  {
   "cell_type": "code",
   "execution_count": 14,
   "metadata": {},
   "outputs": [],
   "source": [
    "#-- Escalados a intervalos diferentes --#\n",
    "\n",
    "# Escalado a intervalo unidad [0,1]:\n",
    "scalerUnit = MinMaxScaler()\n",
    "x_train_dim_unit = scalerUnit.fit_transform(x_train_dim)\n",
    "\n",
    "# Escalado al máx. de los valores abs.:\n",
    "scalerMaxAbs = MaxAbsScaler()\n",
    "x_train_dim_MaxAbs = scalerMaxAbs.fit_transform(x_train_dim)\n",
    "\n",
    "# Estandarizamos:\n",
    "scalerStd = StandardScaler()\n",
    "x_train_dim_std = scalerStd.fit_transform(x_train_dim)"
   ]
  },
  {
   "cell_type": "code",
   "execution_count": 15,
   "metadata": {},
   "outputs": [],
   "source": [
    "# Guarda scalerUnit en un archivo pickle\n",
    "with open('scalerUnit.pkl', 'wb') as file:\n",
    "    pickle.dump(scalerUnit, file)\n",
    "\n",
    "# Guarda scalerMaxAbs en otro archivo pickle\n",
    "with open('scalerMaxAbs.pkl', 'wb') as file:\n",
    "    pickle.dump(scalerMaxAbs, file)\n",
    "\n",
    "# Guarda scalerStd en otro archivo pickle\n",
    "with open('scalerStd.pkl', 'wb') as file:\n",
    "    pickle.dump(scalerStd, file)"
   ]
  },
  {
   "cell_type": "code",
   "execution_count": 16,
   "metadata": {},
   "outputs": [],
   "source": [
    "#-- FILTRADO --#\n",
    "\n",
    "# Filtrado por varianza:\n",
    "selector_var = VarianceThreshold()\n",
    "selector_var.set_output(transform=\"pandas\")\n",
    "\n",
    "x_train_unit_var = selector_var.fit_transform(x_train_dim_unit)\n",
    "x_train_MaxAbs_var = selector_var.fit_transform(x_train_dim_MaxAbs)\n",
    "x_train_sdt_var = selector_var.fit_transform(x_train_dim_std)\n",
    "\n",
    "# Filtrado por correlación:\n",
    "\n",
    "def drop_highly_correlated_columns(df):\n",
    "    df = pd.DataFrame(df)   # Crea un DataFrame de pandas\n",
    "    df_corr = df.corr().abs()  # Calculas la matriz de correlación\n",
    "    upper = df_corr.where(np.triu(np.ones(df_corr.shape), k=1).astype(bool))    # Seleccionas el triángulo superior de la matriz de correlación\n",
    "    to_drop = [column for column in upper.columns if any(upper[column] > 0.90)]  # Encuentras las columnas con correlación mayor a 0.9 (puedes ajustar este valor a tus necesidades)    to_drop = [column for column in upper.columns if any(upper[column] > 0.9)]\n",
    "    col_dropped = list(to_drop) # Guarda la lista de columnas eliminadas\n",
    "    df_ret = df.drop(col_dropped, axis=1)    # Eliminas las columnas altamente correlacionadas\n",
    "    return df_ret, col_dropped\n",
    "\n",
    "x_train_corr, col_drop_corr = drop_highly_correlated_columns(x_train_dim)\n",
    "x_train_unit_corr, col_drop_unit = drop_highly_correlated_columns(x_train_dim_unit)\n",
    "x_train_MaxAbs_corr, col_drop_MaxAbs = drop_highly_correlated_columns(x_train_dim_MaxAbs)\n",
    "x_train_std_corr, col_drop_std = drop_highly_correlated_columns(x_train_dim_std)"
   ]
  },
  {
   "cell_type": "code",
   "execution_count": 17,
   "metadata": {},
   "outputs": [],
   "source": [
    "# Guarda selector_var en un archivo pickle\n",
    "with open('selector_var.pkl', 'wb') as file:\n",
    "    pickle.dump(selector_var, file)\n",
    "\n",
    "# Guarda las listas de columnas eliminadas en archivos pickle\n",
    "with open('col_drop_corr.pkl', 'wb') as file:\n",
    "    pickle.dump(col_drop_corr, file)\n",
    "\n",
    "with open('col_drop_unit.pkl', 'wb') as file:\n",
    "    pickle.dump(col_drop_unit, file)\n",
    "\n",
    "with open('col_drop_MaxAbs.pkl', 'wb') as file:\n",
    "    pickle.dump(col_drop_MaxAbs, file)\n",
    "\n",
    "with open('col_drop_std.pkl', 'wb') as file:\n",
    "    pickle.dump(col_drop_std, file)"
   ]
  },
  {
   "cell_type": "code",
   "execution_count": 18,
   "metadata": {},
   "outputs": [
    {
     "data": {
      "text/html": [
       "<style>#sk-container-id-1 {color: black;}#sk-container-id-1 pre{padding: 0;}#sk-container-id-1 div.sk-toggleable {background-color: white;}#sk-container-id-1 label.sk-toggleable__label {cursor: pointer;display: block;width: 100%;margin-bottom: 0;padding: 0.3em;box-sizing: border-box;text-align: center;}#sk-container-id-1 label.sk-toggleable__label-arrow:before {content: \"▸\";float: left;margin-right: 0.25em;color: #696969;}#sk-container-id-1 label.sk-toggleable__label-arrow:hover:before {color: black;}#sk-container-id-1 div.sk-estimator:hover label.sk-toggleable__label-arrow:before {color: black;}#sk-container-id-1 div.sk-toggleable__content {max-height: 0;max-width: 0;overflow: hidden;text-align: left;background-color: #f0f8ff;}#sk-container-id-1 div.sk-toggleable__content pre {margin: 0.2em;color: black;border-radius: 0.25em;background-color: #f0f8ff;}#sk-container-id-1 input.sk-toggleable__control:checked~div.sk-toggleable__content {max-height: 200px;max-width: 100%;overflow: auto;}#sk-container-id-1 input.sk-toggleable__control:checked~label.sk-toggleable__label-arrow:before {content: \"▾\";}#sk-container-id-1 div.sk-estimator input.sk-toggleable__control:checked~label.sk-toggleable__label {background-color: #d4ebff;}#sk-container-id-1 div.sk-label input.sk-toggleable__control:checked~label.sk-toggleable__label {background-color: #d4ebff;}#sk-container-id-1 input.sk-hidden--visually {border: 0;clip: rect(1px 1px 1px 1px);clip: rect(1px, 1px, 1px, 1px);height: 1px;margin: -1px;overflow: hidden;padding: 0;position: absolute;width: 1px;}#sk-container-id-1 div.sk-estimator {font-family: monospace;background-color: #f0f8ff;border: 1px dotted black;border-radius: 0.25em;box-sizing: border-box;margin-bottom: 0.5em;}#sk-container-id-1 div.sk-estimator:hover {background-color: #d4ebff;}#sk-container-id-1 div.sk-parallel-item::after {content: \"\";width: 100%;border-bottom: 1px solid gray;flex-grow: 1;}#sk-container-id-1 div.sk-label:hover label.sk-toggleable__label {background-color: #d4ebff;}#sk-container-id-1 div.sk-serial::before {content: \"\";position: absolute;border-left: 1px solid gray;box-sizing: border-box;top: 0;bottom: 0;left: 50%;z-index: 0;}#sk-container-id-1 div.sk-serial {display: flex;flex-direction: column;align-items: center;background-color: white;padding-right: 0.2em;padding-left: 0.2em;position: relative;}#sk-container-id-1 div.sk-item {position: relative;z-index: 1;}#sk-container-id-1 div.sk-parallel {display: flex;align-items: stretch;justify-content: center;background-color: white;position: relative;}#sk-container-id-1 div.sk-item::before, #sk-container-id-1 div.sk-parallel-item::before {content: \"\";position: absolute;border-left: 1px solid gray;box-sizing: border-box;top: 0;bottom: 0;left: 50%;z-index: -1;}#sk-container-id-1 div.sk-parallel-item {display: flex;flex-direction: column;z-index: 1;position: relative;background-color: white;}#sk-container-id-1 div.sk-parallel-item:first-child::after {align-self: flex-end;width: 50%;}#sk-container-id-1 div.sk-parallel-item:last-child::after {align-self: flex-start;width: 50%;}#sk-container-id-1 div.sk-parallel-item:only-child::after {width: 0;}#sk-container-id-1 div.sk-dashed-wrapped {border: 1px dashed gray;margin: 0 0.4em 0.5em 0.4em;box-sizing: border-box;padding-bottom: 0.4em;background-color: white;}#sk-container-id-1 div.sk-label label {font-family: monospace;font-weight: bold;display: inline-block;line-height: 1.2em;}#sk-container-id-1 div.sk-label-container {text-align: center;}#sk-container-id-1 div.sk-container {/* jupyter's `normalize.less` sets `[hidden] { display: none; }` but bootstrap.min.css set `[hidden] { display: none !important; }` so we also need the `!important` here to be able to override the default hidden behavior on the sphinx rendered scikit-learn.org. See: https://github.com/scikit-learn/scikit-learn/issues/21755 */display: inline-block !important;position: relative;}#sk-container-id-1 div.sk-text-repr-fallback {display: none;}</style><div id=\"sk-container-id-1\" class=\"sk-top-container\"><div class=\"sk-text-repr-fallback\"><pre>LinearRegression()</pre><b>In a Jupyter environment, please rerun this cell to show the HTML representation or trust the notebook. <br />On GitHub, the HTML representation is unable to render, please try loading this page with nbviewer.org.</b></div><div class=\"sk-container\" hidden><div class=\"sk-item\"><div class=\"sk-estimator sk-toggleable\"><input class=\"sk-toggleable__control sk-hidden--visually\" id=\"sk-estimator-id-1\" type=\"checkbox\" checked><label for=\"sk-estimator-id-1\" class=\"sk-toggleable__label sk-toggleable__label-arrow\">LinearRegression</label><div class=\"sk-toggleable__content\"><pre>LinearRegression()</pre></div></div></div></div></div>"
      ],
      "text/plain": [
       "LinearRegression()"
      ]
     },
     "execution_count": 18,
     "metadata": {},
     "output_type": "execute_result"
    }
   ],
   "source": [
    "#-- ENTRENAMOS LOS MODELOS LINEALES --#\n",
    "reg_model_unit = linear_model.LinearRegression()\n",
    "reg_model_unit.fit(x_train_unit_var, y_train_df['class'])\n",
    "\n",
    "reg_model_MaxAbs = linear_model.LinearRegression()\n",
    "reg_model_MaxAbs.fit(x_train_MaxAbs_var, y_train_df['class'])\n",
    "\n",
    "reg_model_std = linear_model.LinearRegression()\n",
    "reg_model_std.fit(x_train_sdt_var, y_train_df['class'])\n",
    "\n",
    "reg_model_corr = linear_model.LinearRegression()\n",
    "reg_model_corr.fit(x_train_corr, y_train_df['class'])\n",
    "\n",
    "reg_model_unit_corr = linear_model.LinearRegression()\n",
    "reg_model_unit_corr.fit(x_train_unit_corr, y_train_df['class'])\n",
    "\n",
    "reg_model_MaxAbs_corr = linear_model.LinearRegression()\n",
    "reg_model_MaxAbs_corr.fit(x_train_MaxAbs_corr, y_train_df['class'])\n",
    "\n",
    "reg_model_std_corr = linear_model.LinearRegression()\n",
    "reg_model_std_corr.fit(x_train_std_corr, y_train_df['class'])"
   ]
  },
  {
   "cell_type": "code",
   "execution_count": 19,
   "metadata": {},
   "outputs": [],
   "source": [
    "# Guardar los modelos en archivos pickle\n",
    "with open('reg_model_unit.pkl', 'wb') as file:\n",
    "    pickle.dump(reg_model_unit, file)\n",
    "\n",
    "with open('reg_model_MaxAbs.pkl', 'wb') as file:\n",
    "    pickle.dump(reg_model_MaxAbs, file)\n",
    "\n",
    "with open('reg_model_std.pkl', 'wb') as file:\n",
    "    pickle.dump(reg_model_std, file)\n",
    "\n",
    "with open('reg_model_corr.pkl', 'wb') as file:\n",
    "    pickle.dump(reg_model_corr, file)\n",
    "\n",
    "with open('reg_model_unit_corr.pkl', 'wb') as file:\n",
    "    pickle.dump(reg_model_unit_corr, file)\n",
    "\n",
    "with open('reg_model_MaxAbs_corr.pkl', 'wb') as file:\n",
    "    pickle.dump(reg_model_MaxAbs_corr, file)\n",
    "\n",
    "with open('reg_model_std_corr.pkl', 'wb') as file:\n",
    "    pickle.dump(reg_model_std_corr, file)"
   ]
  },
  {
   "cell_type": "code",
   "execution_count": 20,
   "metadata": {},
   "outputs": [
    {
     "name": "stdout",
     "output_type": "stream",
     "text": [
      "Tamaño del DataFrame original:  (256, 48)\n",
      "Tamaño del nuevo DataFrame:  (256, 23) \n",
      "\n",
      "Tabla con los componentes principales hasta explicar el 90.0% de la varianza\n"
     ]
    },
    {
     "data": {
      "image/png": "[encoded data removed]",
      "text/plain": [
       "<Figure size 600x200 with 1 Axes>"
      ]
     },
     "metadata": {},
     "output_type": "display_data"
    },
    {
     "data": {
      "text/html": [
       "<style>#sk-container-id-2 {color: black;}#sk-container-id-2 pre{padding: 0;}#sk-container-id-2 div.sk-toggleable {background-color: white;}#sk-container-id-2 label.sk-toggleable__label {cursor: pointer;display: block;width: 100%;margin-bottom: 0;padding: 0.3em;box-sizing: border-box;text-align: center;}#sk-container-id-2 label.sk-toggleable__label-arrow:before {content: \"▸\";float: left;margin-right: 0.25em;color: #696969;}#sk-container-id-2 label.sk-toggleable__label-arrow:hover:before {color: black;}#sk-container-id-2 div.sk-estimator:hover label.sk-toggleable__label-arrow:before {color: black;}#sk-container-id-2 div.sk-toggleable__content {max-height: 0;max-width: 0;overflow: hidden;text-align: left;background-color: #f0f8ff;}#sk-container-id-2 div.sk-toggleable__content pre {margin: 0.2em;color: black;border-radius: 0.25em;background-color: #f0f8ff;}#sk-container-id-2 input.sk-toggleable__control:checked~div.sk-toggleable__content {max-height: 200px;max-width: 100%;overflow: auto;}#sk-container-id-2 input.sk-toggleable__control:checked~label.sk-toggleable__label-arrow:before {content: \"▾\";}#sk-container-id-2 div.sk-estimator input.sk-toggleable__control:checked~label.sk-toggleable__label {background-color: #d4ebff;}#sk-container-id-2 div.sk-label input.sk-toggleable__control:checked~label.sk-toggleable__label {background-color: #d4ebff;}#sk-container-id-2 input.sk-hidden--visually {border: 0;clip: rect(1px 1px 1px 1px);clip: rect(1px, 1px, 1px, 1px);height: 1px;margin: -1px;overflow: hidden;padding: 0;position: absolute;width: 1px;}#sk-container-id-2 div.sk-estimator {font-family: monospace;background-color: #f0f8ff;border: 1px dotted black;border-radius: 0.25em;box-sizing: border-box;margin-bottom: 0.5em;}#sk-container-id-2 div.sk-estimator:hover {background-color: #d4ebff;}#sk-container-id-2 div.sk-parallel-item::after {content: \"\";width: 100%;border-bottom: 1px solid gray;flex-grow: 1;}#sk-container-id-2 div.sk-label:hover label.sk-toggleable__label {background-color: #d4ebff;}#sk-container-id-2 div.sk-serial::before {content: \"\";position: absolute;border-left: 1px solid gray;box-sizing: border-box;top: 0;bottom: 0;left: 50%;z-index: 0;}#sk-container-id-2 div.sk-serial {display: flex;flex-direction: column;align-items: center;background-color: white;padding-right: 0.2em;padding-left: 0.2em;position: relative;}#sk-container-id-2 div.sk-item {position: relative;z-index: 1;}#sk-container-id-2 div.sk-parallel {display: flex;align-items: stretch;justify-content: center;background-color: white;position: relative;}#sk-container-id-2 div.sk-item::before, #sk-container-id-2 div.sk-parallel-item::before {content: \"\";position: absolute;border-left: 1px solid gray;box-sizing: border-box;top: 0;bottom: 0;left: 50%;z-index: -1;}#sk-container-id-2 div.sk-parallel-item {display: flex;flex-direction: column;z-index: 1;position: relative;background-color: white;}#sk-container-id-2 div.sk-parallel-item:first-child::after {align-self: flex-end;width: 50%;}#sk-container-id-2 div.sk-parallel-item:last-child::after {align-self: flex-start;width: 50%;}#sk-container-id-2 div.sk-parallel-item:only-child::after {width: 0;}#sk-container-id-2 div.sk-dashed-wrapped {border: 1px dashed gray;margin: 0 0.4em 0.5em 0.4em;box-sizing: border-box;padding-bottom: 0.4em;background-color: white;}#sk-container-id-2 div.sk-label label {font-family: monospace;font-weight: bold;display: inline-block;line-height: 1.2em;}#sk-container-id-2 div.sk-label-container {text-align: center;}#sk-container-id-2 div.sk-container {/* jupyter's `normalize.less` sets `[hidden] { display: none; }` but bootstrap.min.css set `[hidden] { display: none !important; }` so we also need the `!important` here to be able to override the default hidden behavior on the sphinx rendered scikit-learn.org. See: https://github.com/scikit-learn/scikit-learn/issues/21755 */display: inline-block !important;position: relative;}#sk-container-id-2 div.sk-text-repr-fallback {display: none;}</style><div id=\"sk-container-id-2\" class=\"sk-top-container\"><div class=\"sk-text-repr-fallback\"><pre>LinearRegression()</pre><b>In a Jupyter environment, please rerun this cell to show the HTML representation or trust the notebook. <br />On GitHub, the HTML representation is unable to render, please try loading this page with nbviewer.org.</b></div><div class=\"sk-container\" hidden><div class=\"sk-item\"><div class=\"sk-estimator sk-toggleable\"><input class=\"sk-toggleable__control sk-hidden--visually\" id=\"sk-estimator-id-2\" type=\"checkbox\" checked><label for=\"sk-estimator-id-2\" class=\"sk-toggleable__label sk-toggleable__label-arrow\">LinearRegression</label><div class=\"sk-toggleable__content\"><pre>LinearRegression()</pre></div></div></div></div></div>"
      ],
      "text/plain": [
       "LinearRegression()"
      ]
     },
     "execution_count": 20,
     "metadata": {},
     "output_type": "execute_result"
    }
   ],
   "source": [
    "#-- PCA --#\n",
    "\n",
    "# Estandarizamos primero:\n",
    "print('Tamaño del DataFrame original: ', x_train_df.shape)\n",
    "scaler = StandardScaler().set_output(transform=\"pandas\")\n",
    "scaler.fit(x_train_df)\n",
    "x_train_df_std = scaler.transform(x_train_df)\n",
    "\n",
    "# PCA seleccionando diréctamente el número de componentes o un porcentaje de información que queremos mantener:\n",
    "n_components = 0.90 # si se pone un núm. entero (3) sería el núm. de columnas que mantendríamos\n",
    "\n",
    "pca = PCA(n_components= n_components).set_output(transform='pandas')\n",
    "pca.fit(x_train_df_std)\n",
    "x_train_pca = pca.transform(x_train_df_std)\n",
    "\n",
    "print('Tamaño del nuevo DataFrame: ', x_train_pca.shape, f'\\n\\nTabla con los componentes principales hasta explicar el {n_components*100}% de la varianza')\n",
    "\n",
    "# Visualización del peso de cada columna calculada:\n",
    "def plot_PCA(pca):\n",
    "  plt.stem(pca.explained_variance_ratio_.cumsum(),'b')\n",
    "  plt.stem(pca.explained_variance_ratio_,'r')\n",
    "\n",
    "  titleStr = 'Varianza explicada por cada componente principal (rojo)'\n",
    "  titleStr = titleStr+'\\n'\n",
    "  titleStr = titleStr+'Varianza explicada acumulada con cada componente principal (azul)'\n",
    "  plt.title(titleStr, fontsize=10)\n",
    "  ax = plt.gca()\n",
    "  ax.axis([-0.1,1.1,0,1])\n",
    "  ax.set_xticks([i for i in range(pca.n_components_)])\n",
    "  ax.set_xticklabels([\"pca\"+str(i) for i in range(pca.n_components_)])\n",
    "\n",
    "  fig = plt.gcf()\n",
    "  fig.set_size_inches(6,2)\n",
    "\n",
    "  plt.show()\n",
    "\n",
    "plot_PCA(pca)\n",
    "\n",
    "# Entrenamos el modelo con X_train_var_filtered:\n",
    "reg_model_pca = linear_model.LinearRegression()\n",
    "reg_model_pca.fit(x_train_pca, y_train_df['class'])"
   ]
  },
  {
   "cell_type": "code",
   "execution_count": 21,
   "metadata": {},
   "outputs": [],
   "source": [
    "# Guardar los objetos de PCA en archivos pickle:\n",
    "with open('scaler.pkl', 'wb') as file:\n",
    "    pickle.dump(scaler, file)\n",
    "\n",
    "with open('pca.pkl', 'wb') as file:\n",
    "    pickle.dump(pca, file)\n",
    "\n",
    "with open('reg_model_pca.pkl', 'wb') as file:\n",
    "    pickle.dump(reg_model_pca, file)"
   ]
  }
 ],
 "metadata": {
  "kernelspec": {
   "display_name": "Python 3",
   "language": "python",
   "name": "python3"
  },
  "language_info": {
   "codemirror_mode": {
    "name": "ipython",
    "version": 3
   },
   "file_extension": ".py",
   "mimetype": "text/x-python",
   "name": "python",
   "nbconvert_exporter": "python",
   "pygments_lexer": "ipython3",
   "version": "3.10.11"
  }
 },
 "nbformat": 4,
 "nbformat_minor": 2
}
