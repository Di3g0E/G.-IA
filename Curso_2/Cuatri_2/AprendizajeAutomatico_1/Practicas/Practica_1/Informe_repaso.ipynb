{
 "cells": [
  {
   "cell_type": "code",
   "execution_count": 68,
   "metadata": {},
   "outputs": [],
   "source": [
    "# Librerias:\n",
    "import pandas as pd\n",
    "import numpy as np\n",
    "from sklearn.model_selection import train_test_split\n",
    "from sklearn.preprocessing import LabelEncoder\n",
    "from sklearn.experimental import enable_iterative_imputer\n",
    "from sklearn.impute import IterativeImputer\n",
    "from sklearn.preprocessing import PolynomialFeatures\n",
    "from sklearn.preprocessing import MinMaxScaler, MaxAbsScaler, StandardScaler\n",
    "from sklearn.feature_selection import VarianceThreshold\n",
    "from sklearn.decomposition import PCA\n",
    "from sklearn import linear_model\n",
    "from sklearn.metrics import roc_curve, auc, confusion_matrix\n",
    "\n",
    "import matplotlib.pyplot as plt"
   ]
  },
  {
   "cell_type": "code",
   "execution_count": 69,
   "metadata": {},
   "outputs": [],
   "source": [
    "# Guardar los datos en variables:\n",
    "x_data = pd.read_csv('C:/Users/Diego/OneDrive - Universidad Rey Juan Carlos/Documentos/GIA_URJC/Curso 2023-24/G.-IA/Curso_2/Cuatri_2/AprendizajeAutomatico_1/Practicas/Practica_1/Datos/trainX_reto1.csv', sep=';', decimal='.', index_col=0, na_values='?')\n",
    "y_data = pd.read_csv('C:/Users/Diego/OneDrive - Universidad Rey Juan Carlos/Documentos/GIA_URJC/Curso 2023-24/G.-IA/Curso_2/Cuatri_2/AprendizajeAutomatico_1/Practicas/Practica_1/Datos/trainY_reto1.csv', sep=';', decimal='.', index_col=0, na_values='?')"
   ]
  },
  {
   "cell_type": "code",
   "execution_count": 70,
   "metadata": {},
   "outputs": [],
   "source": [
    "# Separación en train y test:\n",
    "random_state = 15\n",
    "x_train, x_test = train_test_split(x_data, test_size=0.2, random_state=random_state)\n",
    "y_train, y_test = train_test_split(y_data, test_size=0.2, random_state=random_state)\n",
    "\n",
    "# Ordenar los df por id:\n",
    "x_train.sort_index(inplace=True)\n",
    "y_train.sort_index(inplace=True)"
   ]
  },
  {
   "cell_type": "markdown",
   "metadata": {},
   "source": [
    "# Limpieza de datos:"
   ]
  },
  {
   "cell_type": "code",
   "execution_count": 71,
   "metadata": {},
   "outputs": [
    {
     "name": "stdout",
     "output_type": "stream",
     "text": [
      "<class 'pandas.core.frame.DataFrame'>\n",
      "Int64Index: 256 entries, 1 to 399\n",
      "Data columns (total 24 columns):\n",
      " #   Column  Non-Null Count  Dtype  \n",
      "---  ------  --------------  -----  \n",
      " 0   age     249 non-null    float64\n",
      " 1   bp      250 non-null    float64\n",
      " 2   sg      228 non-null    float64\n",
      " 3   al      230 non-null    float64\n",
      " 4   su      229 non-null    float64\n",
      " 5   rbc     156 non-null    object \n",
      " 6   pc      218 non-null    object \n",
      " 7   pcc     255 non-null    object \n",
      " 8   ba      255 non-null    object \n",
      " 9   bgr     225 non-null    float64\n",
      " 10  bu      243 non-null    float64\n",
      " 11  sc      244 non-null    float64\n",
      " 12  sod     199 non-null    float64\n",
      " 13  pot     198 non-null    float64\n",
      " 14  hemo    225 non-null    float64\n",
      " 15  pcv     209 non-null    float64\n",
      " 16  wbcc    188 non-null    float64\n",
      " 17  rbcc    167 non-null    float64\n",
      " 18  htn     254 non-null    object \n",
      " 19  dm      254 non-null    object \n",
      " 20  cad     254 non-null    object \n",
      " 21  appet   255 non-null    object \n",
      " 22  pe      255 non-null    object \n",
      " 23  ane     255 non-null    object \n",
      "dtypes: float64(14), object(10)\n",
      "memory usage: 50.0+ KB\n",
      "None\n",
      "              age          bp          sg          al          su         bgr  \\\n",
      "count  249.000000  250.000000  228.000000  230.000000  229.000000  225.000000   \n",
      "mean    51.771084   75.920000    1.017259    1.139130    0.519651  151.097778   \n",
      "std     17.695447   13.656486    0.005772    1.410423    1.149297   81.330066   \n",
      "min      2.000000   50.000000    1.005000    0.000000    0.000000   70.000000   \n",
      "25%     42.000000   70.000000    1.010000    0.000000    0.000000  100.000000   \n",
      "50%     55.000000   70.000000    1.020000    0.000000    0.000000  124.000000   \n",
      "75%     65.000000   80.000000    1.020000    2.000000    0.000000  169.000000   \n",
      "max     90.000000  180.000000    1.025000    5.000000    5.000000  490.000000   \n",
      "\n",
      "               bu          sc         sod         pot        hemo         pcv  \\\n",
      "count  243.000000  244.000000  199.000000  198.000000  225.000000  209.000000   \n",
      "mean    61.381481    3.457787  136.927136    4.822222   12.254667   38.153110   \n",
      "std     54.601154    6.822721   12.112935    3.963669    2.941891    9.156518   \n",
      "min     10.000000    0.400000    4.500000    2.500000    3.100000    9.000000   \n",
      "25%     27.000000    1.000000  135.000000    3.900000   10.200000   32.000000   \n",
      "50%     46.000000    1.400000  138.000000    4.500000   12.100000   38.000000   \n",
      "75%     72.500000    3.000000  142.000000    4.900000   14.600000   45.000000   \n",
      "max    391.000000   76.000000  163.000000   47.000000   17.800000   54.000000   \n",
      "\n",
      "               wbcc        rbcc  \n",
      "count    188.000000  167.000000  \n",
      "mean    8381.914894    4.620958  \n",
      "std     2885.329396    1.054356  \n",
      "min     2200.000000    2.100000  \n",
      "25%     6400.000000    3.900000  \n",
      "50%     8100.000000    4.700000  \n",
      "75%     9800.000000    5.300000  \n",
      "max    21600.000000    8.000000  \n",
      "\n",
      "Modas:\n",
      "     age    bp    sg   al   su     rbc      pc         pcc          ba  bgr  \\\n",
      "0  60.0  70.0  1.02  0.0  0.0  normal  normal  notpresent  notpresent  NaN   \n",
      "1  65.0  80.0   NaN  NaN  NaN     NaN     NaN         NaN         NaN  NaN   \n",
      "\n",
      "   ...  hemo  pcv  wbcc  rbcc  htn   dm  cad  appet   pe  ane  \n",
      "0  ...   NaN  NaN   NaN   NaN   no   no   no   good   no   no  \n",
      "1  ...   NaN  NaN   NaN   NaN  NaN  NaN  NaN    NaN  NaN  NaN  \n",
      "\n",
      "[2 rows x 24 columns]\n",
      "<class 'pandas.core.frame.DataFrame'>\n",
      "Int64Index: 256 entries, 1 to 399\n",
      "Data columns (total 1 columns):\n",
      " #   Column  Non-Null Count  Dtype \n",
      "---  ------  --------------  ----- \n",
      " 0   class   256 non-null    object\n",
      "dtypes: object(1)\n",
      "memory usage: 4.0+ KB\n",
      "\n",
      "\n",
      " None\n",
      "       class\n",
      "count    256\n",
      "unique     2\n",
      "top      ckd\n",
      "freq     166\n"
     ]
    }
   ],
   "source": [
    "# Exploración de datos:\n",
    "print(x_train.info())\n",
    "print(x_train.describe())\n",
    "print('\\nModas:\\n', x_train.mode(axis=0, dropna=False))\n",
    "N_x, D_x = x_train.shape\n",
    "\n",
    "print('\\n\\n', y_train.info())\n",
    "print(y_train.describe())\n",
    "N_y, D_y = y_train.shape"
   ]
  },
  {
   "cell_type": "code",
   "execution_count": 72,
   "metadata": {},
   "outputs": [
    {
     "name": "stdout",
     "output_type": "stream",
     "text": [
      "Dicc. encoding_dict_x:  {'rbc': {'abnormal': 0, 'normal': 1}, 'pc': {'abnormal': 0, 'normal': 1}, 'pcc': {'notpresent': 0, 'present': 1}, 'ba': {'notpresent': 0, 'present': 1}, 'htn': {'no': 0, 'yes': 1}, 'dm': {'no': 0, 'yes': 1}, 'cad': {'no': 0, 'yes': 1}, 'appet': {'good': 0, 'poor': 1}, 'pe': {'no': 0, 'yes': 1}, 'ane': {'no': 0, 'yes': 1}}\n",
      "Dicc. encoding_dict_y:  {'class': {'ckd': 0, 'notckd': 1}}\n"
     ]
    }
   ],
   "source": [
    "#-- CODIFICACIÓN DE LOS DATOS --#\n",
    "\n",
    "# Creas una copia del DataFrame original:\n",
    "x_train_copy = x_train.copy()\n",
    "y_train_copy = y_train.copy()\n",
    "\n",
    "def encode_col(df):\n",
    "    le = LabelEncoder()  # Inicializa un LabelEncoder\n",
    "    encoding_dict = {}  # Inicializa un diccionario para guardar los mapeos\n",
    "\n",
    "    # Itera sobre cada columna en el DataFrame\n",
    "    for col in df.columns:\n",
    "        if df[col].dtype == 'object':  # Verifica si la columna es de tipo 'object'\n",
    "            non_nan_values = df[col].dropna()  # Elimina los valores NaN de la columna\n",
    "            if non_nan_values.empty:\n",
    "                continue  # Si no hay valores no nulos en la columna, continúa con la siguiente columna\n",
    "            df[col] = df[col].map(lambda x: le.fit(non_nan_values).transform([x])[0] if pd.notnull(x) else np.nan)  # Ajusta el LabelEncoder y transforma la columna\n",
    "            encoding_dict[col] = dict(zip(le.classes_, le.transform(le.classes_)))  # Guarda el mapeo de la columna en el diccionario\n",
    "    \n",
    "    return df, encoding_dict\n",
    "\n",
    "\n",
    "x_train_df, encoding_dict_x = encode_col(x_train_copy)\n",
    "y_train_df, encoding_dict_y = encode_col(y_train_copy)\n",
    "\n",
    "print('Dicc. encoding_dict_x: ', encoding_dict_x)\n",
    "print('Dicc. encoding_dict_y: ', encoding_dict_y)"
   ]
  },
  {
   "cell_type": "code",
   "execution_count": 73,
   "metadata": {},
   "outputs": [
    {
     "name": "stdout",
     "output_type": "stream",
     "text": [
      "Columnas con valores nulos:\n",
      "age        7\n",
      "bp         6\n",
      "sg        28\n",
      "al        26\n",
      "su        27\n",
      "rbc      100\n",
      "pc        38\n",
      "pcc        1\n",
      "ba         1\n",
      "bgr       31\n",
      "bu        13\n",
      "sc        12\n",
      "sod       57\n",
      "pot       58\n",
      "hemo      31\n",
      "pcv       47\n",
      "wbcc      68\n",
      "rbcc      89\n",
      "htn        2\n",
      "dm         2\n",
      "cad        2\n",
      "appet      1\n",
      "pe         1\n",
      "ane        1\n",
      "dtype: int64\n",
      "\n",
      "Filas con valores nulos:\n",
      "1      5\n",
      "2      3\n",
      "4      2\n",
      "6      3\n",
      "7      3\n",
      "      ..\n",
      "349    2\n",
      "350    2\n",
      "365    2\n",
      "378    2\n",
      "381    2\n",
      "Length: 156, dtype: int64\n",
      "\n",
      "Valores NaN en cada fila:\n",
      "0     100\n",
      "1      31\n",
      "2      25\n",
      "3      20\n",
      "4      21\n",
      "5      20\n",
      "6       5\n",
      "7      12\n",
      "8       4\n",
      "9       8\n",
      "10      4\n",
      "11      6\n",
      "dtype: int64\n",
      "Valores NaN en cada columna:\n",
      "1      5\n",
      "2      3\n",
      "6      1\n",
      "7      1\n",
      "12     1\n",
      "13     1\n",
      "26     1\n",
      "27     1\n",
      "28     1\n",
      "31     2\n",
      "38     1\n",
      "47     1\n",
      "57     1\n",
      "58     1\n",
      "68     1\n",
      "89     1\n",
      "100    1\n",
      "dtype: int64\n"
     ]
    }
   ],
   "source": [
    "# Visualización de valores NaN:\n",
    "missig_data = x_train_df.isna()\n",
    "\n",
    "missing_values_column = missig_data.sum(axis=0)\n",
    "missing_values_row = missig_data.sum(axis=1)\n",
    "\n",
    "mask_mayorq0 = missing_values_column > 0\n",
    "mask_mayorq1 = missing_values_row > 0\n",
    "\n",
    "print(f'Columnas con valores nulos:\\n{missing_values_column[mask_mayorq0]}\\n')\n",
    "print(f'Filas con valores nulos:\\n{missing_values_row[mask_mayorq1]}\\n')\n",
    "\n",
    "missing_count_row = missing_values_row.value_counts().sort_index()\n",
    "print(f'Valores NaN en cada fila:\\n{missing_count_row}')\n",
    "missing_count_col = missing_values_column.value_counts().sort_index()\n",
    "print(f'Valores NaN en cada columna:\\n{missing_count_col}')"
   ]
  },
  {
   "cell_type": "code",
   "execution_count": 74,
   "metadata": {},
   "outputs": [],
   "source": [
    "# Crear columna dummies valores NaN\n",
    "for col in x_train_df.columns:\n",
    "    x_train_df[col + '_isna'] = x_train_df[col].isna().astype(int)\n",
    "\n",
    "# Sustitución de valores NaN por valor 'mean' columnas 'rbc':\n",
    "mean_rbc = x_train_df['rbc'].mean()\n",
    "x_train_df['rbc'].fillna(mean_rbc, inplace=True)"
   ]
  },
  {
   "cell_type": "code",
   "execution_count": 75,
   "metadata": {},
   "outputs": [
    {
     "name": "stdout",
     "output_type": "stream",
     "text": [
      "age           0\n",
      "bp            0\n",
      "sg            0\n",
      "al            0\n",
      "su            0\n",
      "rbc           0\n",
      "pc            0\n",
      "pcc           0\n",
      "ba            0\n",
      "bgr           0\n",
      "bu            0\n",
      "sc            0\n",
      "sod           0\n",
      "pot           0\n",
      "hemo          0\n",
      "pcv           0\n",
      "wbcc          0\n",
      "rbcc          0\n",
      "htn           0\n",
      "dm            0\n",
      "cad           0\n",
      "appet         0\n",
      "pe            0\n",
      "ane           0\n",
      "age_isna      0\n",
      "bp_isna       0\n",
      "sg_isna       0\n",
      "al_isna       0\n",
      "su_isna       0\n",
      "rbc_isna      0\n",
      "pc_isna       0\n",
      "pcc_isna      0\n",
      "ba_isna       0\n",
      "bgr_isna      0\n",
      "bu_isna       0\n",
      "sc_isna       0\n",
      "sod_isna      0\n",
      "pot_isna      0\n",
      "hemo_isna     0\n",
      "pcv_isna      0\n",
      "wbcc_isna     0\n",
      "rbcc_isna     0\n",
      "htn_isna      0\n",
      "dm_isna       0\n",
      "cad_isna      0\n",
      "appet_isna    0\n",
      "pe_isna       0\n",
      "ane_isna      0\n",
      "dtype: int64\n",
      "\n",
      "Tamaño x_train_df:  (256, 48)\n"
     ]
    }
   ],
   "source": [
    "#-- IMPUTACIÓN MULTIVARIANTE --#\n",
    "\n",
    "# Creas una copia del DataFrame original:\n",
    "x_train_df_copy = x_train_df.copy()\n",
    "\n",
    "# Imputación multivariante de los datos NaN:\n",
    "imputer = IterativeImputer()\n",
    "train_imputed = imputer.fit_transform(x_train_df_copy)\n",
    "x_train_df = pd.DataFrame(train_imputed, columns=x_train_df_copy.columns)              # Convertir de nuevo a DataFrame\n",
    "print(x_train_df.isna().sum())   \n",
    "print('\\nTamaño x_train_df: ', x_train_df.shape)\n"
   ]
  },
  {
   "cell_type": "code",
   "execution_count": 76,
   "metadata": {},
   "outputs": [
    {
     "name": "stdout",
     "output_type": "stream",
     "text": [
      "Tamaño x_train_dim:  (256, 1177)\n"
     ]
    }
   ],
   "source": [
    "# Aumento de dimensionalidad:\n",
    "degree = 2\n",
    "interaction_only = True\n",
    "\n",
    "polyf = PolynomialFeatures(degree=degree, interaction_only=interaction_only)\n",
    "polyf.set_output(transform=\"pandas\")\n",
    "\n",
    "x_train_dim = polyf.fit_transform(x_train_df)\n",
    "print('Tamaño x_train_dim: ',x_train_dim.shape)\n"
   ]
  },
  {
   "cell_type": "code",
   "execution_count": 77,
   "metadata": {},
   "outputs": [],
   "source": [
    "#-- Escalados a intervalos diferentes --#\n",
    "\n",
    "# Escalado a intervalo unidad [0,1]:\n",
    "scalerUnit = MinMaxScaler()\n",
    "x_train_dim_unit = scalerUnit.fit_transform(x_train_dim)\n",
    "\n",
    "# Escalado al máx. de los valores abs.:\n",
    "scalerMaxAbs = MaxAbsScaler()\n",
    "x_train_dim_MaxAbs = scalerMaxAbs.fit_transform(x_train_dim)\n",
    "\n",
    "# Estandarizamos:\n",
    "scalerStd = StandardScaler()\n",
    "x_train_dim_std = scalerStd.fit_transform(x_train_dim)"
   ]
  },
  {
   "cell_type": "code",
   "execution_count": 78,
   "metadata": {},
   "outputs": [],
   "source": [
    "#-- FILTRADO --#\n",
    "\n",
    "# Filtrado por varianza:\n",
    "selector_var = VarianceThreshold()\n",
    "selector_var.set_output(transform=\"pandas\")\n",
    "\n",
    "x_train_unit_var = selector_var.fit_transform(x_train_dim_unit)\n",
    "x_train_MaxAbs_var = selector_var.fit_transform(x_train_dim_MaxAbs)\n",
    "x_train_sdt_var = selector_var.fit_transform(x_train_dim_std)\n",
    "\n",
    "# Filtrado por correlación:\n",
    "\n",
    "def drop_highly_correlated_columns(df):\n",
    "    df = pd.DataFrame(df)   # Crea un DataFrame de pandas\n",
    "    df_corr = df.corr().abs()  # Calculas la matriz de correlación\n",
    "    upper = df_corr.where(np.triu(np.ones(df_corr.shape), k=1).astype(bool))    # Seleccionas el triángulo superior de la matriz de correlación\n",
    "    to_drop = [column for column in upper.columns if any(upper[column] > 0.90)]  # Encuentras las columnas con correlación mayor a 0.9 (puedes ajustar este valor a tus necesidades)    to_drop = [column for column in upper.columns if any(upper[column] > 0.9)]\n",
    "    col_dropped = list(to_drop) # Guarda la lista de columnas eliminadas\n",
    "    df_ret = df.drop(col_dropped, axis=1)    # Eliminas las columnas altamente correlacionadas\n",
    "    return df_ret, col_dropped\n",
    "\n",
    "x_train_corr, col_drop_corr = drop_highly_correlated_columns(x_train_dim)\n",
    "x_train_unit_corr, col_drop_unit = drop_highly_correlated_columns(x_train_dim_unit)\n",
    "x_train_MaxAbs_corr, col_drop_MaxAbs = drop_highly_correlated_columns(x_train_dim_MaxAbs)\n",
    "x_train_std_corr, col_drop_std = drop_highly_correlated_columns(x_train_dim_std)"
   ]
  },
  {
   "cell_type": "code",
   "execution_count": 79,
   "metadata": {},
   "outputs": [
    {
     "data": {
      "text/html": [
       "<style>#sk-container-id-5 {color: black;}#sk-container-id-5 pre{padding: 0;}#sk-container-id-5 div.sk-toggleable {background-color: white;}#sk-container-id-5 label.sk-toggleable__label {cursor: pointer;display: block;width: 100%;margin-bottom: 0;padding: 0.3em;box-sizing: border-box;text-align: center;}#sk-container-id-5 label.sk-toggleable__label-arrow:before {content: \"▸\";float: left;margin-right: 0.25em;color: #696969;}#sk-container-id-5 label.sk-toggleable__label-arrow:hover:before {color: black;}#sk-container-id-5 div.sk-estimator:hover label.sk-toggleable__label-arrow:before {color: black;}#sk-container-id-5 div.sk-toggleable__content {max-height: 0;max-width: 0;overflow: hidden;text-align: left;background-color: #f0f8ff;}#sk-container-id-5 div.sk-toggleable__content pre {margin: 0.2em;color: black;border-radius: 0.25em;background-color: #f0f8ff;}#sk-container-id-5 input.sk-toggleable__control:checked~div.sk-toggleable__content {max-height: 200px;max-width: 100%;overflow: auto;}#sk-container-id-5 input.sk-toggleable__control:checked~label.sk-toggleable__label-arrow:before {content: \"▾\";}#sk-container-id-5 div.sk-estimator input.sk-toggleable__control:checked~label.sk-toggleable__label {background-color: #d4ebff;}#sk-container-id-5 div.sk-label input.sk-toggleable__control:checked~label.sk-toggleable__label {background-color: #d4ebff;}#sk-container-id-5 input.sk-hidden--visually {border: 0;clip: rect(1px 1px 1px 1px);clip: rect(1px, 1px, 1px, 1px);height: 1px;margin: -1px;overflow: hidden;padding: 0;position: absolute;width: 1px;}#sk-container-id-5 div.sk-estimator {font-family: monospace;background-color: #f0f8ff;border: 1px dotted black;border-radius: 0.25em;box-sizing: border-box;margin-bottom: 0.5em;}#sk-container-id-5 div.sk-estimator:hover {background-color: #d4ebff;}#sk-container-id-5 div.sk-parallel-item::after {content: \"\";width: 100%;border-bottom: 1px solid gray;flex-grow: 1;}#sk-container-id-5 div.sk-label:hover label.sk-toggleable__label {background-color: #d4ebff;}#sk-container-id-5 div.sk-serial::before {content: \"\";position: absolute;border-left: 1px solid gray;box-sizing: border-box;top: 0;bottom: 0;left: 50%;z-index: 0;}#sk-container-id-5 div.sk-serial {display: flex;flex-direction: column;align-items: center;background-color: white;padding-right: 0.2em;padding-left: 0.2em;position: relative;}#sk-container-id-5 div.sk-item {position: relative;z-index: 1;}#sk-container-id-5 div.sk-parallel {display: flex;align-items: stretch;justify-content: center;background-color: white;position: relative;}#sk-container-id-5 div.sk-item::before, #sk-container-id-5 div.sk-parallel-item::before {content: \"\";position: absolute;border-left: 1px solid gray;box-sizing: border-box;top: 0;bottom: 0;left: 50%;z-index: -1;}#sk-container-id-5 div.sk-parallel-item {display: flex;flex-direction: column;z-index: 1;position: relative;background-color: white;}#sk-container-id-5 div.sk-parallel-item:first-child::after {align-self: flex-end;width: 50%;}#sk-container-id-5 div.sk-parallel-item:last-child::after {align-self: flex-start;width: 50%;}#sk-container-id-5 div.sk-parallel-item:only-child::after {width: 0;}#sk-container-id-5 div.sk-dashed-wrapped {border: 1px dashed gray;margin: 0 0.4em 0.5em 0.4em;box-sizing: border-box;padding-bottom: 0.4em;background-color: white;}#sk-container-id-5 div.sk-label label {font-family: monospace;font-weight: bold;display: inline-block;line-height: 1.2em;}#sk-container-id-5 div.sk-label-container {text-align: center;}#sk-container-id-5 div.sk-container {/* jupyter's `normalize.less` sets `[hidden] { display: none; }` but bootstrap.min.css set `[hidden] { display: none !important; }` so we also need the `!important` here to be able to override the default hidden behavior on the sphinx rendered scikit-learn.org. See: https://github.com/scikit-learn/scikit-learn/issues/21755 */display: inline-block !important;position: relative;}#sk-container-id-5 div.sk-text-repr-fallback {display: none;}</style><div id=\"sk-container-id-5\" class=\"sk-top-container\"><div class=\"sk-text-repr-fallback\"><pre>LinearRegression()</pre><b>In a Jupyter environment, please rerun this cell to show the HTML representation or trust the notebook. <br />On GitHub, the HTML representation is unable to render, please try loading this page with nbviewer.org.</b></div><div class=\"sk-container\" hidden><div class=\"sk-item\"><div class=\"sk-estimator sk-toggleable\"><input class=\"sk-toggleable__control sk-hidden--visually\" id=\"sk-estimator-id-5\" type=\"checkbox\" checked><label for=\"sk-estimator-id-5\" class=\"sk-toggleable__label sk-toggleable__label-arrow\">LinearRegression</label><div class=\"sk-toggleable__content\"><pre>LinearRegression()</pre></div></div></div></div></div>"
      ],
      "text/plain": [
       "LinearRegression()"
      ]
     },
     "execution_count": 79,
     "metadata": {},
     "output_type": "execute_result"
    }
   ],
   "source": [
    "#-- ENTRENAMOS LOS MODELOS LINEALES --#\n",
    "reg_model_unit = linear_model.LinearRegression()\n",
    "reg_model_unit.fit(x_train_unit_var, y_train_df['class'])\n",
    "\n",
    "reg_model_MaxAbs = linear_model.LinearRegression()\n",
    "reg_model_MaxAbs.fit(x_train_MaxAbs_var, y_train_df['class'])\n",
    "\n",
    "reg_model_std = linear_model.LinearRegression()\n",
    "reg_model_std.fit(x_train_sdt_var, y_train_df['class'])\n",
    "\n",
    "reg_model_corr = linear_model.LinearRegression()\n",
    "reg_model_corr.fit(x_train_corr, y_train_df['class'])\n",
    "\n",
    "reg_model_unit_corr = linear_model.LinearRegression()\n",
    "reg_model_unit_corr.fit(x_train_unit_corr, y_train_df['class'])\n",
    "\n",
    "reg_model_MaxAbs_corr = linear_model.LinearRegression()\n",
    "reg_model_MaxAbs_corr.fit(x_train_MaxAbs_corr, y_train_df['class'])\n",
    "\n",
    "reg_model_std_corr = linear_model.LinearRegression()\n",
    "reg_model_std_corr.fit(x_train_std_corr, y_train_df['class'])"
   ]
  },
  {
   "cell_type": "code",
   "execution_count": 80,
   "metadata": {},
   "outputs": [
    {
     "name": "stdout",
     "output_type": "stream",
     "text": [
      "Tamaño del DataFrame original:  (256, 48)\n",
      "Tamaño del nuevo DataFrame:  (256, 23) \n",
      "\n",
      "Tabla con los componentes principales hasta explicar el 90.0% de la varianza\n"
     ]
    },
    {
     "data": {
      "image/png": "[encoded data removed]",
      "text/plain": [
       "<Figure size 600x200 with 1 Axes>"
      ]
     },
     "metadata": {},
     "output_type": "display_data"
    },
    {
     "data": {
      "text/html": [
       "<style>#sk-container-id-6 {color: black;}#sk-container-id-6 pre{padding: 0;}#sk-container-id-6 div.sk-toggleable {background-color: white;}#sk-container-id-6 label.sk-toggleable__label {cursor: pointer;display: block;width: 100%;margin-bottom: 0;padding: 0.3em;box-sizing: border-box;text-align: center;}#sk-container-id-6 label.sk-toggleable__label-arrow:before {content: \"▸\";float: left;margin-right: 0.25em;color: #696969;}#sk-container-id-6 label.sk-toggleable__label-arrow:hover:before {color: black;}#sk-container-id-6 div.sk-estimator:hover label.sk-toggleable__label-arrow:before {color: black;}#sk-container-id-6 div.sk-toggleable__content {max-height: 0;max-width: 0;overflow: hidden;text-align: left;background-color: #f0f8ff;}#sk-container-id-6 div.sk-toggleable__content pre {margin: 0.2em;color: black;border-radius: 0.25em;background-color: #f0f8ff;}#sk-container-id-6 input.sk-toggleable__control:checked~div.sk-toggleable__content {max-height: 200px;max-width: 100%;overflow: auto;}#sk-container-id-6 input.sk-toggleable__control:checked~label.sk-toggleable__label-arrow:before {content: \"▾\";}#sk-container-id-6 div.sk-estimator input.sk-toggleable__control:checked~label.sk-toggleable__label {background-color: #d4ebff;}#sk-container-id-6 div.sk-label input.sk-toggleable__control:checked~label.sk-toggleable__label {background-color: #d4ebff;}#sk-container-id-6 input.sk-hidden--visually {border: 0;clip: rect(1px 1px 1px 1px);clip: rect(1px, 1px, 1px, 1px);height: 1px;margin: -1px;overflow: hidden;padding: 0;position: absolute;width: 1px;}#sk-container-id-6 div.sk-estimator {font-family: monospace;background-color: #f0f8ff;border: 1px dotted black;border-radius: 0.25em;box-sizing: border-box;margin-bottom: 0.5em;}#sk-container-id-6 div.sk-estimator:hover {background-color: #d4ebff;}#sk-container-id-6 div.sk-parallel-item::after {content: \"\";width: 100%;border-bottom: 1px solid gray;flex-grow: 1;}#sk-container-id-6 div.sk-label:hover label.sk-toggleable__label {background-color: #d4ebff;}#sk-container-id-6 div.sk-serial::before {content: \"\";position: absolute;border-left: 1px solid gray;box-sizing: border-box;top: 0;bottom: 0;left: 50%;z-index: 0;}#sk-container-id-6 div.sk-serial {display: flex;flex-direction: column;align-items: center;background-color: white;padding-right: 0.2em;padding-left: 0.2em;position: relative;}#sk-container-id-6 div.sk-item {position: relative;z-index: 1;}#sk-container-id-6 div.sk-parallel {display: flex;align-items: stretch;justify-content: center;background-color: white;position: relative;}#sk-container-id-6 div.sk-item::before, #sk-container-id-6 div.sk-parallel-item::before {content: \"\";position: absolute;border-left: 1px solid gray;box-sizing: border-box;top: 0;bottom: 0;left: 50%;z-index: -1;}#sk-container-id-6 div.sk-parallel-item {display: flex;flex-direction: column;z-index: 1;position: relative;background-color: white;}#sk-container-id-6 div.sk-parallel-item:first-child::after {align-self: flex-end;width: 50%;}#sk-container-id-6 div.sk-parallel-item:last-child::after {align-self: flex-start;width: 50%;}#sk-container-id-6 div.sk-parallel-item:only-child::after {width: 0;}#sk-container-id-6 div.sk-dashed-wrapped {border: 1px dashed gray;margin: 0 0.4em 0.5em 0.4em;box-sizing: border-box;padding-bottom: 0.4em;background-color: white;}#sk-container-id-6 div.sk-label label {font-family: monospace;font-weight: bold;display: inline-block;line-height: 1.2em;}#sk-container-id-6 div.sk-label-container {text-align: center;}#sk-container-id-6 div.sk-container {/* jupyter's `normalize.less` sets `[hidden] { display: none; }` but bootstrap.min.css set `[hidden] { display: none !important; }` so we also need the `!important` here to be able to override the default hidden behavior on the sphinx rendered scikit-learn.org. See: https://github.com/scikit-learn/scikit-learn/issues/21755 */display: inline-block !important;position: relative;}#sk-container-id-6 div.sk-text-repr-fallback {display: none;}</style><div id=\"sk-container-id-6\" class=\"sk-top-container\"><div class=\"sk-text-repr-fallback\"><pre>LinearRegression()</pre><b>In a Jupyter environment, please rerun this cell to show the HTML representation or trust the notebook. <br />On GitHub, the HTML representation is unable to render, please try loading this page with nbviewer.org.</b></div><div class=\"sk-container\" hidden><div class=\"sk-item\"><div class=\"sk-estimator sk-toggleable\"><input class=\"sk-toggleable__control sk-hidden--visually\" id=\"sk-estimator-id-6\" type=\"checkbox\" checked><label for=\"sk-estimator-id-6\" class=\"sk-toggleable__label sk-toggleable__label-arrow\">LinearRegression</label><div class=\"sk-toggleable__content\"><pre>LinearRegression()</pre></div></div></div></div></div>"
      ],
      "text/plain": [
       "LinearRegression()"
      ]
     },
     "execution_count": 80,
     "metadata": {},
     "output_type": "execute_result"
    }
   ],
   "source": [
    "#-- PCA --#\n",
    "\n",
    "# Estandarizamos primero:\n",
    "print('Tamaño del DataFrame original: ', x_train_df.shape)\n",
    "scaler = StandardScaler().set_output(transform=\"pandas\")\n",
    "scaler.fit(x_train_df)\n",
    "x_train_df_std = scaler.transform(x_train_df)\n",
    "\n",
    "# PCA seleccionando diréctamente el número de componentes o un porcentaje de información que queremos mantener:\n",
    "n_components = 0.90 # si se pone un núm. entero (3) sería el núm. de columnas que mantendríamos\n",
    "\n",
    "pca = PCA(n_components= n_components).set_output(transform='pandas')\n",
    "pca.fit(x_train_df_std)\n",
    "x_train_pca = pca.transform(x_train_df_std)\n",
    "\n",
    "print('Tamaño del nuevo DataFrame: ', x_train_pca.shape, f'\\n\\nTabla con los componentes principales hasta explicar el {n_components*100}% de la varianza')\n",
    "\n",
    "# Visualización del peso de cada columna calculada:\n",
    "def plot_PCA(pca):\n",
    "  plt.stem(pca.explained_variance_ratio_.cumsum(),'b')\n",
    "  plt.stem(pca.explained_variance_ratio_,'r')\n",
    "\n",
    "  titleStr = 'Varianza explicada por cada componente principal (rojo)'\n",
    "  titleStr = titleStr+'\\n'\n",
    "  titleStr = titleStr+'Varianza explicada acumulada con cada componente principal (azul)'\n",
    "  plt.title(titleStr, fontsize=10)\n",
    "  ax = plt.gca()\n",
    "  ax.axis([-0.1,1.1,0,1])\n",
    "  ax.set_xticks([i for i in range(pca.n_components_)])\n",
    "  ax.set_xticklabels([\"pca\"+str(i) for i in range(pca.n_components_)])\n",
    "\n",
    "  fig = plt.gcf()\n",
    "  fig.set_size_inches(6,2)\n",
    "\n",
    "  plt.show()\n",
    "\n",
    "plot_PCA(pca)\n",
    "\n",
    "# Entrenamos el modelo con X_train_var_filtered:\n",
    "reg_model_pca = linear_model.LinearRegression()\n",
    "reg_model_pca.fit(x_train_pca, y_train_df['class'])"
   ]
  },
  {
   "cell_type": "markdown",
   "metadata": {},
   "source": [
    "# Limpiamos el test:"
   ]
  },
  {
   "cell_type": "code",
   "execution_count": 81,
   "metadata": {},
   "outputs": [
    {
     "name": "stdout",
     "output_type": "stream",
     "text": [
      "<class 'pandas.core.frame.DataFrame'>\n",
      "Int64Index: 64 entries, 392 to 110\n",
      "Data columns (total 24 columns):\n",
      " #   Column  Non-Null Count  Dtype  \n",
      "---  ------  --------------  -----  \n",
      " 0   age     64 non-null     float64\n",
      " 1   bp      61 non-null     float64\n",
      " 2   sg      61 non-null     float64\n",
      " 3   al      59 non-null     float64\n",
      " 4   su      58 non-null     float64\n",
      " 5   rbc     44 non-null     object \n",
      " 6   pc      56 non-null     object \n",
      " 7   pcc     62 non-null     object \n",
      " 8   ba      62 non-null     object \n",
      " 9   bgr     59 non-null     float64\n",
      " 10  bu      61 non-null     float64\n",
      " 11  sc      62 non-null     float64\n",
      " 12  sod     51 non-null     float64\n",
      " 13  pot     51 non-null     float64\n",
      " 14  hemo    56 non-null     float64\n",
      " 15  pcv     54 non-null     float64\n",
      " 16  wbcc    49 non-null     float64\n",
      " 17  rbcc    47 non-null     float64\n",
      " 18  htn     64 non-null     object \n",
      " 19  dm      64 non-null     object \n",
      " 20  cad     64 non-null     object \n",
      " 21  appet   64 non-null     object \n",
      " 22  pe      64 non-null     object \n",
      " 23  ane     64 non-null     object \n",
      "dtypes: float64(14), object(10)\n",
      "memory usage: 12.5+ KB\n",
      "None\n",
      "             age          bp         sg         al         su         bgr  \\\n",
      "count  64.000000   61.000000  61.000000  59.000000  58.000000   59.000000   \n",
      "mean   50.218750   79.344262   1.018197   0.644068   0.258621  128.084746   \n",
      "std    16.860274   11.235191   0.005167   1.029943   0.928314   53.779976   \n",
      "min    12.000000   60.000000   1.005000   0.000000   0.000000   22.000000   \n",
      "25%    38.750000   70.000000   1.015000   0.000000   0.000000   94.000000   \n",
      "50%    50.500000   80.000000   1.020000   0.000000   0.000000  113.000000   \n",
      "75%    64.250000   90.000000   1.020000   1.000000   0.000000  132.500000   \n",
      "max    80.000000  100.000000   1.025000   4.000000   5.000000  280.000000   \n",
      "\n",
      "               bu         sc         sod        pot       hemo        pcv  \\\n",
      "count   61.000000  62.000000   51.000000  51.000000  56.000000  54.000000   \n",
      "mean    43.368852   2.195161  141.117647   4.456863  13.703571  41.518519   \n",
      "std     30.136896   2.808385    5.093710   0.761907   2.605377   7.296266   \n",
      "min      1.500000   0.500000  132.000000   2.800000   7.900000  21.000000   \n",
      "25%     25.000000   0.800000  137.000000   3.850000  11.575000  38.250000   \n",
      "50%     36.000000   1.200000  140.000000   4.400000  14.200000  42.500000   \n",
      "75%     49.000000   2.450000  145.000000   5.000000  15.625000  46.000000   \n",
      "max    153.000000  16.900000  150.000000   6.600000  17.800000  54.000000   \n",
      "\n",
      "               wbcc       rbcc  \n",
      "count     49.000000  47.000000  \n",
      "mean    8587.755102   5.070213  \n",
      "std     3239.575117   0.884631  \n",
      "min     4300.000000   3.200000  \n",
      "25%     6800.000000   4.400000  \n",
      "50%     8500.000000   5.200000  \n",
      "75%     9800.000000   5.800000  \n",
      "max    26400.000000   6.500000  \n",
      "\n",
      "Modas:\n",
      "     age    bp    sg   al   su     rbc      pc         pcc          ba  bgr  \\\n",
      "0  63.0  80.0  1.02  0.0  0.0  normal  normal  notpresent  notpresent  NaN   \n",
      "\n",
      "   ...  hemo  pcv  wbcc  rbcc  htn  dm  cad  appet  pe ane  \n",
      "0  ...   NaN  NaN   NaN   NaN   no  no   no   good  no  no  \n",
      "\n",
      "[1 rows x 24 columns]\n",
      "<class 'pandas.core.frame.DataFrame'>\n",
      "Int64Index: 64 entries, 392 to 110\n",
      "Data columns (total 1 columns):\n",
      " #   Column  Non-Null Count  Dtype \n",
      "---  ------  --------------  ----- \n",
      " 0   class   64 non-null     object\n",
      "dtypes: object(1)\n",
      "memory usage: 1.0+ KB\n",
      "\n",
      "\n",
      " None\n",
      "       class\n",
      "count     64\n",
      "unique     2\n",
      "top      ckd\n",
      "freq      34\n"
     ]
    }
   ],
   "source": [
    "# Exploración de datos:\n",
    "print(x_test.info())\n",
    "print(x_test.describe())\n",
    "print('\\nModas:\\n', x_test.mode(axis=0, dropna=False))\n",
    "N_x, D_x = x_test.shape\n",
    "\n",
    "print('\\n\\n', y_test.info())\n",
    "print(y_test.describe())\n",
    "N_y, D_y = y_test.shape"
   ]
  },
  {
   "cell_type": "code",
   "execution_count": 82,
   "metadata": {},
   "outputs": [],
   "source": [
    "# Codificación de los datos:\n",
    "def apply_encoding(df_test, encoding_dict):\n",
    "    for col, mapping in encoding_dict.items():\n",
    "        df_test[col] = df_test[col].map(lambda x: mapping.get(x, x))\n",
    "    return df_test\n",
    "\n",
    "x_test_df = apply_encoding(x_test, encoding_dict_x)\n",
    "y_test_df = apply_encoding(y_test, encoding_dict_y)\n"
   ]
  },
  {
   "cell_type": "code",
   "execution_count": 83,
   "metadata": {},
   "outputs": [
    {
     "name": "stdout",
     "output_type": "stream",
     "text": [
      "Columnas con valores nulos:\n",
      "bp       3\n",
      "sg       3\n",
      "al       5\n",
      "su       6\n",
      "rbc     20\n",
      "pc       8\n",
      "pcc      2\n",
      "ba       2\n",
      "bgr      5\n",
      "bu       3\n",
      "sc       2\n",
      "sod     13\n",
      "pot     13\n",
      "hemo     8\n",
      "pcv     10\n",
      "wbcc    15\n",
      "rbcc    17\n",
      "dtype: int64\n",
      "\n",
      "Filas con valores nulos:\n",
      "219    3\n",
      "328    3\n",
      "173    1\n",
      "201    7\n",
      "232    9\n",
      "134    4\n",
      "13     8\n",
      "105    1\n",
      "336    2\n",
      "216    6\n",
      "69     3\n",
      "287    2\n",
      "293    1\n",
      "233    4\n",
      "0      3\n",
      "54     3\n",
      "8      2\n",
      "295    5\n",
      "164    3\n",
      "156    7\n",
      "221    5\n",
      "199    1\n",
      "316    3\n",
      "65     6\n",
      "239    2\n",
      "332    1\n",
      "53     4\n",
      "363    2\n",
      "194    9\n",
      "83     4\n",
      "136    6\n",
      "129    4\n",
      "217    1\n",
      "124    3\n",
      "178    1\n",
      "60     5\n",
      "110    1\n",
      "dtype: int64\n",
      "\n",
      "Valores NaN en cada fila:\n",
      "0    27\n",
      "1     8\n",
      "2     5\n",
      "3     8\n",
      "4     5\n",
      "5     3\n",
      "6     3\n",
      "7     2\n",
      "8     1\n",
      "9     2\n",
      "dtype: int64\n",
      "Valores NaN en cada columna:\n",
      "0     7\n",
      "2     3\n",
      "3     3\n",
      "5     2\n",
      "6     1\n",
      "8     2\n",
      "10    1\n",
      "13    2\n",
      "15    1\n",
      "17    1\n",
      "20    1\n",
      "dtype: int64\n"
     ]
    }
   ],
   "source": [
    "# Visualización de valores NaN:\n",
    "missig_data = x_test_df.isna()\n",
    "\n",
    "missing_values_column = missig_data.sum(axis=0)\n",
    "missing_values_row = missig_data.sum(axis=1)\n",
    "\n",
    "mask_mayorq0 = missing_values_column > 0\n",
    "mask_mayorq1 = missing_values_row > 0\n",
    "\n",
    "print(f'Columnas con valores nulos:\\n{missing_values_column[mask_mayorq0]}\\n')\n",
    "print(f'Filas con valores nulos:\\n{missing_values_row[mask_mayorq1]}\\n')\n",
    "\n",
    "missing_count_row = missing_values_row.value_counts().sort_index()\n",
    "print(f'Valores NaN en cada fila:\\n{missing_count_row}')\n",
    "missing_count_col = missing_values_column.value_counts().sort_index()\n",
    "print(f'Valores NaN en cada columna:\\n{missing_count_col}')"
   ]
  },
  {
   "cell_type": "code",
   "execution_count": 84,
   "metadata": {},
   "outputs": [
    {
     "name": "stdout",
     "output_type": "stream",
     "text": [
      "age           0\n",
      "bp            0\n",
      "sg            0\n",
      "al            0\n",
      "su            0\n",
      "rbc           0\n",
      "pc            0\n",
      "pcc           0\n",
      "ba            0\n",
      "bgr           0\n",
      "bu            0\n",
      "sc            0\n",
      "sod           0\n",
      "pot           0\n",
      "hemo          0\n",
      "pcv           0\n",
      "wbcc          0\n",
      "rbcc          0\n",
      "htn           0\n",
      "dm            0\n",
      "cad           0\n",
      "appet         0\n",
      "pe            0\n",
      "ane           0\n",
      "age_isna      0\n",
      "bp_isna       0\n",
      "sg_isna       0\n",
      "al_isna       0\n",
      "su_isna       0\n",
      "rbc_isna      0\n",
      "pc_isna       0\n",
      "pcc_isna      0\n",
      "ba_isna       0\n",
      "bgr_isna      0\n",
      "bu_isna       0\n",
      "sc_isna       0\n",
      "sod_isna      0\n",
      "pot_isna      0\n",
      "hemo_isna     0\n",
      "pcv_isna      0\n",
      "wbcc_isna     0\n",
      "rbcc_isna     0\n",
      "htn_isna      0\n",
      "dm_isna       0\n",
      "cad_isna      0\n",
      "appet_isna    0\n",
      "pe_isna       0\n",
      "ane_isna      0\n",
      "dtype: int64\n",
      "\n",
      "Tamaño x_test_df:  (64, 48)\n"
     ]
    }
   ],
   "source": [
    "# Crear columna dummies valores NaN\n",
    "for col in x_test_df.columns:\n",
    "    x_test_df[col + '_isna'] = x_test_df[col].isna().astype(int)\n",
    "\n",
    "# Sustitución de valores NaN por valor 'mean' columnas 'rbc':\n",
    "mean_rbc = x_test_df['rbc'].mean()\n",
    "x_test_df['rbc'].fillna(mean_rbc, inplace=True)\n",
    "\n",
    "#-- IMPUTACIÓN MULTIVARIANTE --#\n",
    "\n",
    "# Creas una copia del DataFrame original:\n",
    "x_test_df_copy = x_test_df.copy()\n",
    "\n",
    "# Imputación multivariante de los datos NaN:\n",
    "test_imputed = imputer.transform(x_test_df_copy)\n",
    "x_test_df = pd.DataFrame(test_imputed, columns=x_test_df_copy.columns)              # Convertir de nuevo a DataFrame\n",
    "print(x_test_df.isna().sum())   \n",
    "print('\\nTamaño x_test_df: ', x_test_df.shape)"
   ]
  },
  {
   "cell_type": "code",
   "execution_count": 85,
   "metadata": {},
   "outputs": [
    {
     "name": "stdout",
     "output_type": "stream",
     "text": [
      "Tamaño x_test_dim:  (64, 1177)\n"
     ]
    }
   ],
   "source": [
    "# Aumento de dimensionalidad:\n",
    "x_test_dim = polyf.transform(x_test_df)\n",
    "print('Tamaño x_test_dim: ',x_test_dim.shape)\n",
    "\n",
    "#-- Escalados a intervalos diferentes --#\n",
    "\n",
    "# Escalado a intervalo unidad [0,1]:\n",
    "x_test_dim_unit = scalerUnit.transform(x_test_dim)\n",
    "\n",
    "# Escalado al máx. de los valores abs.:\n",
    "x_test_dim_MaxAbs = scalerMaxAbs.transform(x_test_dim)\n",
    "\n",
    "# Estandarizamos:\n",
    "x_test_dim_std = scalerStd.transform(x_test_dim)"
   ]
  },
  {
   "cell_type": "code",
   "execution_count": 86,
   "metadata": {},
   "outputs": [],
   "source": [
    "#-- FILTRADO --#\n",
    "\n",
    "# Filtrado por varianza:\n",
    "# x_test_var = selector_var.transform(x_test_dim)\n",
    "x_test_unit_var = selector_var.transform(x_test_dim_unit)\n",
    "x_test_MaxAbs_var = selector_var.transform(x_test_dim_MaxAbs)\n",
    "x_test_sdt_var = selector_var.transform(x_test_dim_std)\n",
    "\n",
    "# Filtrado por correlación:\n",
    "def drop_col_test(df, l_col):\n",
    "    df = pd.DataFrame(df)\n",
    "    return df.drop(columns=l_col)\n",
    "\n",
    "x_test_corr = drop_col_test(x_test_dim, col_drop_corr)\n",
    "x_test_unit_corr = drop_col_test(x_test_dim_unit, col_drop_unit)\n",
    "x_test_MaxAbs_corr = drop_col_test(x_test_dim_MaxAbs, col_drop_MaxAbs)\n",
    "x_test_std_corr = drop_col_test(x_test_dim_std, col_drop_std)"
   ]
  },
  {
   "cell_type": "code",
   "execution_count": 87,
   "metadata": {},
   "outputs": [
    {
     "name": "stdout",
     "output_type": "stream",
     "text": [
      "x_train_unit_var (256, 936)\n",
      "x_train_MaxAbs_var (256, 936)\n",
      "x_train_sdt_var (256, 936)\n",
      "x_train_corr (256, 564)\n",
      "x_train_unit_corr (256, 564)\n",
      "x_train_MaxAbs_corr (256, 564)\n",
      "x_train_std_corr (256, 564)\n"
     ]
    }
   ],
   "source": [
    "print('x_train_unit_var', x_train_unit_var.shape)\n",
    "print('x_train_MaxAbs_var', x_train_MaxAbs_var.shape)\n",
    "print('x_train_sdt_var', x_train_sdt_var.shape)\n",
    "print('x_train_corr', x_train_corr.shape)\n",
    "print('x_train_unit_corr', x_train_unit_corr.shape)\n",
    "print('x_train_MaxAbs_corr', x_train_MaxAbs_corr.shape)\n",
    "print('x_train_std_corr', x_train_std_corr.shape)"
   ]
  },
  {
   "cell_type": "code",
   "execution_count": 88,
   "metadata": {},
   "outputs": [
    {
     "name": "stdout",
     "output_type": "stream",
     "text": [
      "x_test_unit_var (64, 936)\n",
      "x_test_MaxAbs_var (64, 936)\n",
      "x_test_sdt_var (64, 936)\n",
      "x_test_corr (64, 564)\n",
      "x_test_unit_corr (64, 564)\n",
      "x_test_MaxAbs_corr (64, 564)\n",
      "x_test_std_corr (64, 564)\n"
     ]
    }
   ],
   "source": [
    "# print('x_train_var', x_test_var.shape)\n",
    "print('x_test_unit_var', x_test_unit_var.shape)\n",
    "print('x_test_MaxAbs_var', x_test_MaxAbs_var.shape)\n",
    "print('x_test_sdt_var', x_test_sdt_var.shape)\n",
    "print('x_test_corr', x_test_corr.shape)\n",
    "print('x_test_unit_corr', x_test_unit_corr.shape)\n",
    "print('x_test_MaxAbs_corr', x_test_MaxAbs_corr.shape)\n",
    "print('x_test_std_corr', x_test_std_corr.shape)"
   ]
  },
  {
   "cell_type": "code",
   "execution_count": 89,
   "metadata": {},
   "outputs": [
    {
     "name": "stdout",
     "output_type": "stream",
     "text": [
      "Tamaño del DataFrame original:  (64, 48)\n",
      "Tamaño del DataFrame tras PCA:  (64, 23)\n"
     ]
    }
   ],
   "source": [
    "# Estandarizamos primero:\n",
    "print('Tamaño del DataFrame original: ', x_test_df.shape)\n",
    "x_test_df_std = scaler.transform(x_test_df)\n",
    "\n",
    "# Hacemos el transform:\n",
    "x_test_pca = pca.transform(x_test_df_std)\n",
    "print('Tamaño del DataFrame tras PCA: ', x_test_pca.shape)"
   ]
  },
  {
   "cell_type": "markdown",
   "metadata": {},
   "source": [
    "# Comparación de los modelos:"
   ]
  },
  {
   "cell_type": "code",
   "execution_count": 90,
   "metadata": {},
   "outputs": [],
   "source": [
    "# Cálculo de las probabilidades ScalerUnit:\n",
    "y_score_scalerUnit = reg_model_unit.predict(x_test_unit_var)\n",
    "# Cálculo de la curva ROC y AUC\n",
    "fpr_scalerUnit, tpr_scalerUnit, thresholds = roc_curve(y_test_df['class'], y_score_scalerUnit)\n",
    "roc_auc_scalerUnit = auc(fpr_scalerUnit, tpr_scalerUnit)\n",
    "\n",
    "# Cálculo de las probabilidades MaxAbs:\n",
    "y_score_MaxAbs = reg_model_MaxAbs.predict(x_test_MaxAbs_var)\n",
    "# Cálculo de la curva ROC y AUC\n",
    "fpr_MaxAbs, tpr_MaxAbs, thresholds_MaxAbs = roc_curve(y_test_df['class'], y_score_MaxAbs)\n",
    "roc_auc_MaxAbs = auc(fpr_MaxAbs, tpr_MaxAbs)\n",
    "\n",
    "# Cálculo de las probabilidades Std:\n",
    "y_score_Std = reg_model_std.predict(x_test_sdt_var)\n",
    "# Cálculo de la curva ROC y AUC\n",
    "fpr_Std, tpr_Std, thresholds_Std = roc_curve(y_test_df['class'], y_score_Std)\n",
    "roc_auc_Std = auc(fpr_Std, tpr_Std)\n",
    "\n",
    "\n",
    "# Cálculo de las probabilidades Corr:\n",
    "y_score_corr = reg_model_corr.predict(x_test_corr)\n",
    "# Cálculo de la curva ROC y AUC\n",
    "fpr_corr, tpr_corr, thresholds_corr = roc_curve(y_test_df['class'], y_score_corr)\n",
    "roc_auc_corr = auc(fpr_corr, tpr_corr)\n",
    "\n",
    "# Cálculo de las probabilidades ScalerUnit_corr:\n",
    "y_score_scalerUnit_corr = reg_model_unit_corr.predict(x_test_unit_corr)\n",
    "# Cálculo de la curva ROC y AUC\n",
    "fpr_ScalerUnit_corr, tpr_ScalerUnit_corr, thresholds_ScalerUnit_corr = roc_curve(y_test_df['class'], y_score_scalerUnit_corr)\n",
    "roc_auc_ScalerUnit_corr = auc(fpr_ScalerUnit_corr, tpr_ScalerUnit_corr)\n",
    "\n",
    "# Cálculo de las probabilidades MaxAbs_corr:\n",
    "y_score_MaxAbs_corr = reg_model_MaxAbs.predict(x_test_MaxAbs_var)\n",
    "# Cálculo de la curva ROC y AUC\n",
    "fpr_MaxAbs_corr, tpr_MaxAbs_corr, thresholds = roc_curve(y_test_df['class'], y_score_MaxAbs_corr)\n",
    "roc_auc_MaxAbs_corr = auc(fpr_MaxAbs_corr, tpr_MaxAbs_corr)\n",
    "\n",
    "# Cálculo de las probabilidades Std_corr:\n",
    "y_score_Std_corr = reg_model_std_corr.predict(x_test_std_corr)\n",
    "# Cálculo de la curva ROC y AUC\n",
    "fpr_Std_corr, tpr_Std_corr, thresholds_Std_corr = roc_curve(y_test_df['class'], y_score_Std_corr)\n",
    "roc_auc_Std_corr = auc(fpr_Std_corr, tpr_Std_corr)\n",
    "\n",
    "\n",
    "# Cálculo de las probabilidades Std_corr:\n",
    "y_score_pca = reg_model_pca.predict(x_test_pca)\n",
    "# Cálculo de la curva ROC y AUC\n",
    "fpr_pca, tpr_pca, thresholds_pca = roc_curve(y_test_df['class'], y_score_pca)\n",
    "roc_auc_pca = auc(fpr_pca, tpr_pca)"
   ]
  },
  {
   "cell_type": "code",
   "execution_count": 91,
   "metadata": {},
   "outputs": [
    {
     "data": {
      "image/png": "[encoded data removed]",
      "text/plain": [
       "<Figure size 640x480 with 1 Axes>"
      ]
     },
     "metadata": {},
     "output_type": "display_data"
    }
   ],
   "source": [
    "# Visualización de la curva ROC Var:\n",
    "# plt.plot(fpr_var, tpr_var, label='Modelo Var (AUROC = %0.2f)' % roc_auc_var)\n",
    "\n",
    "# Visualización de la curva ROC ScalerUnit:\n",
    "plt.plot(fpr_scalerUnit, tpr_scalerUnit, label='Modelo ScalerUnit (AUROC = %0.2f)' % roc_auc_scalerUnit)\n",
    "\n",
    "# Visualización de la curva ROC MaxAbs:\n",
    "plt.plot(fpr_MaxAbs, tpr_MaxAbs, label='Modelo MaxAbs (AUROC = %0.2f)' % roc_auc_MaxAbs)\n",
    "\n",
    "# Visualización de la curva ROC Std:\n",
    "plt.plot(fpr_Std, tpr_Std, label='Modelo Std (AUROC = %0.2f)' % roc_auc_Std)\n",
    "\n",
    "# Visualización de la curva ROC Corr:\n",
    "plt.plot(fpr_corr, tpr_corr, label='Modelo Corr (AUROC = %0.2f)' % roc_auc_corr)\n",
    "\n",
    "# Visualización de la curva ROC ScalerUnit_corr:\n",
    "plt.plot(fpr_ScalerUnit_corr, tpr_ScalerUnit_corr, label='Modelo ScalerUnit_corr (AUROC = %0.2f)' % roc_auc_ScalerUnit_corr)\n",
    "\n",
    "# Visualización de la curva ROC MaxAbs_corr:\n",
    "plt.plot(fpr_MaxAbs_corr, tpr_MaxAbs_corr, label='Modelo MaxAbs_corr (AUROC = %0.2f)' % roc_auc_MaxAbs_corr)\n",
    "\n",
    "# Visualización de la curva ROC Std:\n",
    "plt.plot(fpr_Std_corr, tpr_Std_corr, label='Modelo Std_corr (AUROC = %0.2f)' % roc_auc_Std_corr)\n",
    "\n",
    "# Visualización de la curva ROC PCA:\n",
    "plt.plot(fpr_pca, tpr_pca, label='Modelo PCA (AUROC = %0.2f)' % roc_auc_pca)\n",
    "\n",
    "\n",
    "\n",
    "# Curva de no discriminación\n",
    "plt.plot([0, 1], [0, 1], color='navy', linestyle='--')\n",
    "\n",
    "# Configuración de los límites del gráfico\n",
    "plt.xlim([0.0, 1.0])\n",
    "plt.ylim([0.0, 1.05])\n",
    "\n",
    "# Etiquetas y título\n",
    "plt.xlabel('Tasa de Falsos Positivos')\n",
    "plt.ylabel('Tasa de Verdaderos Positivos')\n",
    "plt.title('Comparación de las Curvas ROC')\n",
    "plt.legend(loc=\"lower right\")\n",
    "\n",
    "# Mostrar la gráfica\n",
    "plt.show()"
   ]
  },
  {
   "cell_type": "code",
   "execution_count": 92,
   "metadata": {},
   "outputs": [
    {
     "name": "stdout",
     "output_type": "stream",
     "text": [
      "ScalerUnit: 0.9881818181818182\n",
      "MaxAbs: 0.9863636363636363\n",
      "Std: 0.9745454545454545\n",
      "Corr: 0.9527272727272726\n",
      "ScalerUnit_corr: 0.9536363636363635\n",
      "MaxAbs_corr: 0.9863636363636363\n",
      "Std_corr: 0.9545454545454546\n",
      "PCA: 0.9954545454545454\n"
     ]
    }
   ],
   "source": [
    "def calcular_media(valores):\n",
    "    if len(valores) == 0:\n",
    "        return None  # Devuelve None si no hay valores\n",
    "    return sum(valores) / len(valores)\n",
    "\n",
    "# Ejemplo de uso\n",
    "print(\"ScalerUnit:\", calcular_media([1, .98, 1, 1, 1, .97, .97, .97, .98, 1, 1]))\n",
    "print(\"MaxAbs:\", calcular_media([1, .98, 1, 1, 1, .97, .97, .95, .98, 1, 1]))\n",
    "print(\"Std:\", calcular_media([1, .95, 1 , .97, 1, .97, .97, .95, .98, .95, .98]))\n",
    "print(\"Corr:\", calcular_media([.97, .95, .97, .97, .9, 1, .92, .97, .91, .97, .95]))\n",
    "print(\"ScalerUnit_corr:\", calcular_media([1, .98, 1, .92, .92, .97, .92, .95, .95, .95, .93]))\n",
    "print(\"MaxAbs_corr:\", calcular_media([1, .98, 1, 1, 1, .97, .97, .95, .98, 1, 1]))\n",
    "print(\"Std_corr:\", calcular_media([1, .93, 1, .98, .9, .94, .95, .95, .93, .97, .95]))\n",
    "print(\"PCA:\", calcular_media([1, .95, 1, 1, 1, 1, 1, 1, 1, 1, 1]))"
   ]
  },
  {
   "cell_type": "markdown",
   "metadata": {},
   "source": [
    "Nos quedamos con el modelo PCA debido a que es el que más aciertos tiene"
   ]
  },
  {
   "cell_type": "code",
   "execution_count": 93,
   "metadata": {},
   "outputs": [],
   "source": [
    "def guardar_predicciones_decodificadas(predicciones_codificadas, decodificacion_dict):\n",
    "    predicciones_decodificadas = []    # Crear una lista para almacenar las predicciones decodificadas\n",
    "   \n",
    "    for prediccion_codificada in predicciones_codificadas:    # Decodificar las predicciones\n",
    "        clase_decodificada = [clave for clave, valor in decodificacion_dict['class'].items() if valor == round(prediccion_codificada)][0]\n",
    "        predicciones_decodificadas.append(clase_decodificada)\n",
    "\n",
    "    df_predicciones = pd.DataFrame({'Predicciones Decodificadas': predicciones_decodificadas})    # Crear un DataFrame con las predicciones decodificadas \n",
    "    return df_predicciones\n",
    "\n",
    "df_predicciones = guardar_predicciones_decodificadas(y_score_pca, encoding_dict_y)\n",
    "\n",
    "# Guardar el dataframe en un fichero csv\n",
    "df_predicciones.to_csv('predicciones_etiquetas.csv', index=True)"
   ]
  },
  {
   "cell_type": "markdown",
   "metadata": {},
   "source": [
    "# Lo repetimos para los datos de test reales:"
   ]
  },
  {
   "cell_type": "code",
   "execution_count": 94,
   "metadata": {},
   "outputs": [
    {
     "data": {
      "text/plain": [
       "(80, 24)"
      ]
     },
     "execution_count": 94,
     "metadata": {},
     "output_type": "execute_result"
    }
   ],
   "source": [
    "# Descargamos los datos del test: \n",
    "data = pd.read_csv('C:/Users/Diego/OneDrive - Universidad Rey Juan Carlos/Documentos/GIA_URJC/Curso 2023-24/G.-IA/Curso_2/Cuatri_2/AprendizajeAutomatico_1/Practicas/Practica_1/Datos/testX_reto1.csv', sep=';', decimal='.', index_col=0, na_values='?')\n",
    "data.shape"
   ]
  },
  {
   "cell_type": "code",
   "execution_count": 95,
   "metadata": {},
   "outputs": [
    {
     "name": "stdout",
     "output_type": "stream",
     "text": [
      "Tamaño del DataFrame original:  (80, 48)\n",
      "Tamaño del DataFrame tras PCA:  (80, 23)\n"
     ]
    }
   ],
   "source": [
    "#-- CODIFICACIÓN DE LOS DATOS --#\n",
    "\n",
    "# Codificación de los datos:\n",
    "data = apply_encoding(data, encoding_dict_x)\n",
    "\n",
    "# Crear columna dummies valores NaN\n",
    "for col in data.columns:\n",
    "    data[col + '_isna'] = data[col].isna().astype(int)\n",
    "\n",
    "# Sustitución de valores NaN por valor 'mean' columnas 'rbc':\n",
    "mean_rbc = data['rbc'].mean()\n",
    "data['rbc'].fillna(mean_rbc, inplace=True)\n",
    "\n",
    "#-- IMPUTACIÓN MULTIVARIANTE --#\n",
    "\n",
    "# Creas una copia del DataFrame original:\n",
    "data_copy = data.copy()\n",
    "\n",
    "# Imputación multivariante de los datos NaN:\n",
    "data_imputed = imputer.transform(data_copy)\n",
    "data = pd.DataFrame(data_imputed, columns=data.columns)              # Convertir de nuevo a DataFrame\n",
    "\n",
    "# Estandarizamos primero:\n",
    "data_std = scaler.transform(data)\n",
    "\n",
    "# Hacemos el transform:\n",
    "data_pca = pca.transform(data_std)\n",
    "\n",
    "y_data_pca = reg_model_pca.predict(data_pca)\n"
   ]
  },
  {
   "cell_type": "code",
   "execution_count": 96,
   "metadata": {},
   "outputs": [],
   "source": [
    "data_predicciones = guardar_predicciones_decodificadas(y_data_pca, encoding_dict_y)\n",
    "\n",
    "# Guardar el dataframe en un fichero csv\n",
    "data_predicciones.to_csv('predicciones_etiquetas.csv', index=True)"
   ]
  }
 ],
 "metadata": {
  "kernelspec": {
   "display_name": "Python 3",
   "language": "python",
   "name": "python3"
  },
  "language_info": {
   "codemirror_mode": {
    "name": "ipython",
    "version": 3
   },
   "file_extension": ".py",
   "mimetype": "text/x-python",
   "name": "python",
   "nbconvert_exporter": "python",
   "pygments_lexer": "ipython3",
   "version": "3.10.11"
  }
 },
 "nbformat": 4,
 "nbformat_minor": 2
}
