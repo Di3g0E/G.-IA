{
 "cells": [
  {
   "cell_type": "markdown",
   "metadata": {},
   "source": [
    "# T. 1 Introducción a los SSOO"
   ]
  },
  {
   "cell_type": "markdown",
   "metadata": {},
   "source": [
    "- **Máquina desnuda**: es la máquina sin sistema operativo, que únicamente puede leer instrucciones, aumentar el contador y ejecutar la instrucción. Para que realice una función determinada debe controlar la memoria. `El SO aparece para poder tener un manejo cómodo a partir de una serie de programas.`\n",
    "\n",
    "- **Programa ejecutable**: es un programa en lenguaje máquina que puede ser cargado en memoria para su ejecución. Suele estar en un fichero con toda la info. necesaria para su ejecución.<br>\n",
    "Primero se compila el código por partes y se guarda en memoria guardando las posiciones para que finalmente un *controlador* lo compacte todo y lo ejecute.\n",
    "\n",
    "- **Usuario**: es la persona autorizada a utilizar un sistema informático."
   ]
  },
  {
   "cell_type": "markdown",
   "metadata": {},
   "source": [
    "## 1. Sistema Operativo:"
   ]
  },
  {
   "cell_type": "markdown",
   "metadata": {},
   "source": [
    "Funciones clásicas del SO:\n",
    "- Gestión de recursos del computador\n",
    "- Ejecución de los servicios para los programas en ejecución\n",
    "- Ejecución de las instrucciones del usuario\n",
    "\n",
    "La ejecución de los programas por parte del SO da lugar a la existencia de `procesos`. Un proceso es un **programa en ejecución**."
   ]
  },
  {
   "cell_type": "markdown",
   "metadata": {},
   "source": [
    "El SO está formado por 3 capas principales:\n",
    "- La más cercana al hardware se llama **núcleo** (**_kernel_**). Es la encargada de gestionar los recursos del _hardware_ y suministrar la funcionalidad básica del SO. Esta capa se ejecuta en `modo privilegiado` mientras que otras tienen modos más restrictivos.\n",
    "\n",
    "- La capa de **servicios** o **llamadas al sistema** ofrece servicios a los procesos a través de una interafaz de programación o API (_Application Programming Interface_). Desde el punto de vista del computador estos servicios ofrecen una capacidad extendida por lo que se suele decir que el SO ofrece una **máquina extendida**.\n",
    "\n",
    "- La capa de **intérprete** o **_shell_** es una parte del SO que puede estar o no y que muestra gráficamente las operaciones del SO. Es la interfaz de usuario para el usuario. \n",
    "    > Shell = terminal, comando, prompt"
   ]
  },
  {
   "cell_type": "markdown",
   "metadata": {},
   "source": [
    "Servicios del SO (_llamadas al sistema_):\n",
    "1. Ejecución de programas\n",
    "2. Operaciones de E/S\n",
    "3. Operaciones sobre ficheros\n",
    "4. Detección y tratamiento de errores"
   ]
  },
  {
   "cell_type": "markdown",
   "metadata": {},
   "source": [
    "**Ususarios / Grupo de usuarios**: Se establecen permisos para cada ususario, siendo el `root` o `superusuario` el que puede hacer cualquier cosa. No es aconsejable operar con este usuario siempre por riesgo a estropear la máquina."
   ]
  },
  {
   "cell_type": "markdown",
   "metadata": {},
   "source": [
    "> `Proceso`: programa en ejecución\n",
    "\n",
    "> `Demonio`: programa que siempre se está ejecutando de forma oculta y de bajo impacto. (Programa de purga de memoria, ...)\n",
    "\n",
    "> `Escapar`: se refiere al uso de códigos especiales que indican a la computadora que trate a determinados caracteres de forma diferente a la normal"
   ]
  },
  {
   "cell_type": "markdown",
   "metadata": {},
   "source": [
    "### Privilegios de usuarios: (privilegiados y no privilegiados)"
   ]
  },
  {
   "cell_type": "markdown",
   "metadata": {},
   "source": [
    "Cada pocos milisegundos salta una interrupción en el procesador sacando el proceso que se esté ejecutando en ese momento y metiendo el que esté en cola. De esta forma se evita la monopolización del procesador por parte de un programa.\n",
    "\n",
    "`Ningún proceso` está en `modo privilegiado`, pueden hacer llamadas a funciones del modo privilegiado pero es el `S.O.` el que` gestiona este nivel de usuario`."
   ]
  },
  {
   "cell_type": "markdown",
   "metadata": {},
   "source": [
    "## **Comandos**"
   ]
  },
  {
   "cell_type": "markdown",
   "metadata": {},
   "source": [
    "### `Conexión de forma remota con una computadora Linux externa`\n",
    "\n",
    "`~$` $\\rightarrow$ comandos en la máquina Ubuntu <br>\n",
    "`>>` $\\rightarrow$ comandos en la máquina Windows"
   ]
  },
  {
   "cell_type": "code",
   "execution_count": null,
   "metadata": {
    "vscode": {
     "languageId": "powershell"
    }
   },
   "outputs": [],
   "source": [
    "~$ ifconfig                                         // Conocer la IP de la máquina Ubuntu\n",
    "\n",
    ">> ping 'num.IP-Ubuntu'                             // Es un comando que indica si se llega a hacer conexión con la máquina externa\n",
    ">> ssh 'nombreUsuario-Ubuntu'@'num.IP-Ubuntu'       // Permite utilizar la terminal de la máquina externa en la terminal local"
   ]
  },
  {
   "cell_type": "markdown",
   "metadata": {},
   "source": [
    "### `Comandos shell Ubuntu`"
   ]
  },
  {
   "cell_type": "code",
   "execution_count": null,
   "metadata": {
    "vscode": {
     "languageId": "powershell"
    }
   },
   "outputs": [],
   "source": [
    "~$ pwd          // Muestra el directorio actual\n",
    "~$ ls           // Indica las carpetas que hay en el directorio en el que estemos\n",
    "~$ cd           // Se usa para moverse por ficheros\n",
    "~$ cd /         // Vuelve al directorio anterior"
   ]
  },
  {
   "cell_type": "code",
   "execution_count": null,
   "metadata": {
    "vscode": {
     "languageId": "powershell"
    }
   },
   "outputs": [],
   "source": [
    "~$ mkdir dir1               // Crea subdirectorios en la dirección en la que nos encontremos, puede crear más de uno a la vez si escribimos (dir1 dir2 ...)\n",
    "~$ mkdir -p dir4/dir5/dir6  // Crea los directorios anidados, dir6 dentro de dir5 dentro de dir4\n",
    "~$ mkdir 'folder 1'         // Se usan comillas (y otros comandos) para crear nuevos directorios con nombres con espacios"
   ]
  },
  {
   "cell_type": "code",
   "execution_count": null,
   "metadata": {
    "vscode": {
     "languageId": "powershell"
    }
   },
   "outputs": [],
   "source": [
    "~$ echo \"This is a test\" > test_1.txt   // Crea un archivo 'txt' con ese texto\n",
    "~$ echo \"This is a second text\" > text_2.txt\n",
    "\n",
    "~$ cat test_1.txt test_2.txt            // Concatena los archivos en uno solo\n",
    "~$ cat test_?                           // Concatena todos los archivos de ese directorio con ese nombre seguidos. '?' significa 'cualquier caracter'\n",
    "~$ cat test_*                           // El '*' significa 'cero o más caracteres'"
   ]
  }
 ],
 "metadata": {
  "language_info": {
   "name": "python"
  }
 },
 "nbformat": 4,
 "nbformat_minor": 2
}
