{
 "cells": [
  {
   "cell_type": "markdown",
   "metadata": {},
   "source": [
    "# T. 1 Introducción a los SSOO"
   ]
  },
  {
   "cell_type": "markdown",
   "metadata": {},
   "source": [
    "- **Máquina desnuda**: es la máquina sin sistema operativo, que únicamente puede leer instrucciones, aumentar el contador y ejecutar la instrucción. Para que realice una función determinada debe controlar la memoria. `El SO aparece para poder tener un manejo cómodo a partir de una serie de programas.`\n",
    "\n",
    "- **Programa ejecutable**: es un programa en lenguaje máquina que puede ser cargado en memoria para su ejecución. Suele estar en un fichero con toda la info. necesaria para su ejecución.<br>\n",
    "Primero se compila el código por partes y se guarda en memoria guardando las posiciones para que finalmente un *controlador* lo compacte todo y lo ejecute.\n",
    "\n",
    "- **Usuario**: es la persona autorizada a utilizar un sistema informático."
   ]
  },
  {
   "cell_type": "markdown",
   "metadata": {},
   "source": [
    "## 1. Sistema Operativo:"
   ]
  },
  {
   "cell_type": "markdown",
   "metadata": {},
   "source": [
    "Funciones clásicas del SO:\n",
    "- Gestión de recursos del computador\n",
    "- Ejecución de los servicios para los programas en ejecución\n",
    "- Ejecución de las instrucciones del usuario\n",
    "\n",
    "La ejecución de los programas por parte del SO da lugar a la existencia de `procesos`. Un proceso es un **programa en ejecución**."
   ]
  },
  {
   "cell_type": "markdown",
   "metadata": {},
   "source": [
    "El SO está formado por 3 capas principales:\n",
    "- La más cercana al hardware se llama **núcleo** (**_kernel_**). Es la encargada de gestionar los recursos del _hardware_ y suministrar la funcionalidad básica del SO. Esta capa se ejecuta en `modo privilegiado` mientras que otras tienen modos más restrictivos.\n",
    "\n",
    "- La capa de **servicios** o **llamadas al sistema** ofrece servicios a los procesos a través de una interafaz de programación o API (_Application Programming Interface_). Desde el punto de vista del computador estos servicios ofrecen una capacidad extendida por lo que se suele decir que el SO ofrece una **máquina extendida**.\n",
    "\n",
    "- La capa de **intérprete** o **_shell_** es una parte del SO que puede estar o no y que muestra gráficamente las operaciones del SO. Es la interfaz de usuario para el usuario. \n",
    "    > Shell = terminal, comando, prompt"
   ]
  },
  {
   "cell_type": "markdown",
   "metadata": {},
   "source": [
    "Servicios del SO (_llamadas al sistema_):\n",
    "1. Ejecución de programas\n",
    "2. Operaciones de E/S\n",
    "3. Operaciones sobre ficheros\n",
    "4. Detección y tratamiento de errores"
   ]
  },
  {
   "cell_type": "markdown",
   "metadata": {},
   "source": [
    "**Ususarios / Grupo de usuarios**: Se establecen permisos para cada ususario, siendo el `root` o `superusuario` el que puede hacer cualquier cosa. No es aconsejable operar con este usuario siempre por riesgo a estropear la máquina."
   ]
  },
  {
   "cell_type": "markdown",
   "metadata": {},
   "source": [
    "> `Proceso`: programa en ejecución\n",
    "\n",
    "> `Demonio`: programa que siempre se está ejecutando de forma oculta y de bajo impacto. (Programa de purga de memoria, ...)\n",
    "\n",
    "> `Escapar`: se refiere al uso de códigos especiales que indican a la computadora que trate a determinados caracteres de forma diferente a la normal"
   ]
  },
  {
   "cell_type": "markdown",
   "metadata": {},
   "source": [
    "### Privilegios de usuarios: (privilegiados y no privilegiados)"
   ]
  },
  {
   "cell_type": "markdown",
   "metadata": {},
   "source": [
    "Cada pocos milisegundos salta una interrupción en el procesador sacando el proceso que se esté ejecutando en ese momento y metiendo el que esté en cola. De esta forma se evita la monopolización del procesador por parte de un programa.\n",
    "\n",
    "`Ningún proceso` está en `modo privilegiado`, pueden hacer llamadas a funciones del modo privilegiado pero es el `S.O.` el que` gestiona este nivel de usuario`."
   ]
  },
  {
   "cell_type": "markdown",
   "metadata": {},
   "source": [
    "## **Comandos**"
   ]
  },
  {
   "cell_type": "markdown",
   "metadata": {},
   "source": [
    "### Acceder sin IP\n",
    "\n",
    "Si tenemos un servidor y sabemos la IP podemos acceder a través de su nombre en la red\n",
    "\n",
    "    SiEMPRE Y CUANDO ESTEMOS EN **LA MISMA RED**\n",
    "\n",
    "Para eso tenemos que instalar un paquete:\n",
    "\n",
    ">sudo apt-get install libnss-mdns\n",
    "\n",
    "UNa vez hecho eso comprobamos el nombre del equipo en la red que está escrito en el fichero \n",
    "\n",
    "> cat /etc/hostname\n",
    "\n",
    "Si lo modificamos ya podemos hacer ssh a **{hostname}.local**\n"
   ]
  },
  {
   "cell_type": "markdown",
   "metadata": {},
   "source": [
    "### `Conexión de forma remota con una computadora Linux externa`\n",
    "\n",
    "`~$` $\\rightarrow$ comandos en la máquina Ubuntu <br>\n",
    "`>>` $\\rightarrow$ comandos en la máquina Windows o mensajes devueltos por shell"
   ]
  },
  {
   "cell_type": "code",
   "execution_count": null,
   "metadata": {
    "vscode": {
     "languageId": "powershell"
    }
   },
   "outputs": [],
   "source": [
    "~$ ifconfig                                         // Conocer la IP de la máquina Ubuntu\n",
    "\n",
    ">> ping 'num.IP-Ubuntu'                             // Es un comando que indica si se llega a hacer conexión con la máquina externa\n",
    ">> ssh 'nombreUsuario-Ubuntu'@'num.IP-Ubuntu'       // Permite utilizar la terminal de la máquina externa en la terminal local"
   ]
  },
  {
   "cell_type": "markdown",
   "metadata": {},
   "source": [
    "### `Comandos shell Ubuntu`"
   ]
  },
  {
   "cell_type": "markdown",
   "metadata": {},
   "source": [
    "#### Mostrar info:"
   ]
  },
  {
   "cell_type": "code",
   "execution_count": null,
   "metadata": {
    "vscode": {
     "languageId": "powershell"
    }
   },
   "outputs": [],
   "source": [
    "~$ less /etc/group          // Mostrar los grupos y usuarios exixtentes\n",
    "~$ man 'nombre'             // Muestra el manual de uso de lo que se indique\n",
    "~$ dir('nombre_función')    // Indica todas las funciones de el paquete 'nombre_función'"
   ]
  },
  {
   "cell_type": "markdown",
   "metadata": {},
   "source": [
    "#### Moverse por directorios:"
   ]
  },
  {
   "cell_type": "code",
   "execution_count": null,
   "metadata": {
    "vscode": {
     "languageId": "powershell"
    }
   },
   "outputs": [],
   "source": [
    "~$ pwd                      // Muestra el directorio actual\n",
    "~$ ls                       // Indica las carpetas que hay en el directorio en el que estemos\n",
    "~$ cd /'nombre'             // Se usa para moverse por ficheros\n",
    "~$ cd /                     // Vuelve al directorio anterior\n",
    "~$ cd //                    // Vuelve al directorio principal\n",
    "~$ cd ~                     // Vuelve al directorio principal"
   ]
  },
  {
   "cell_type": "markdown",
   "metadata": {},
   "source": [
    "#### Moverse por usuarios:"
   ]
  },
  {
   "cell_type": "code",
   "execution_count": null,
   "metadata": {
    "vscode": {
     "languageId": "powershell"
    }
   },
   "outputs": [],
   "source": [
    "~$ sudo su                  // Cambia el usuario actual al usuario root con todos los permisos ('TENER CUIDADO CON ESTE USUARIO YA QUE NO PIDE CONTRASEÑA PARA ACCIONES')\n",
    "~$ su - 'nombre_usuario'    // Cambia el usuario de uso cambiando la shell como si acabara de iniciar sesion\n",
    "~$ su 'nombre_usuario'      // Cambia el usuario de uso manteniendo la shell, si no deja escribir 'sudo' delante ('sudo su nombre_usuario')"
   ]
  },
  {
   "cell_type": "markdown",
   "metadata": {},
   "source": [
    "#### Crear grupos y usuarios: "
   ]
  },
  {
   "cell_type": "code",
   "execution_count": null,
   "metadata": {
    "vscode": {
     "languageId": "powershell"
    }
   },
   "outputs": [],
   "source": [
    "~$ sudo groupadd 'name_group'                   // Crea el grupo\n",
    "\n",
    "~$ sudo useradd 'name_user'                     // Crea un usuario\n",
    "~$ sudo useradd -mG 'name_group' 'name_user'    // Crea un usuario perteneciente a un grupo. '-m' crea una carpeta con el nombre del usuario en '/home/name_user'\n",
    "\n",
    "~$ sudo groupdell 'name_group'                  // Elimina el grupo\n",
    "~$ sudo userdel 'name_user'                     // Elimina el usuario manteniendo su directorio y sus ficheros\n",
    "~$ sudo userdel -r 'name_user'                  // Elimina el usuario y su directorio con todos sus ficheros"
   ]
  },
  {
   "cell_type": "code",
   "execution_count": null,
   "metadata": {
    "vscode": {
     "languageId": "powershell"
    }
   },
   "outputs": [],
   "source": [
    "~$ sudo passwd 'name_user'                      // Modifica la contraseña del usuario\n",
    "~$ sudo usermod -aG 'name_group' 'name_user'    // Mete a un usuario en un grupo"
   ]
  },
  {
   "cell_type": "markdown",
   "metadata": {},
   "source": [
    "#### Crear directorios:"
   ]
  },
  {
   "cell_type": "code",
   "execution_count": null,
   "metadata": {
    "vscode": {
     "languageId": "powershell"
    }
   },
   "outputs": [],
   "source": [
    "~$ mkdir dir1               // Crea subdirectorios en la dirección en la que nos encontremos, puede crear más de uno a la vez si escribimos (dir1 dir2 ...)\n",
    "~$ mkdir -p dir4/dir5/dir6  // Crea los directorios anidados, dir6 dentro de dir5 dentro de dir4\n",
    "~$ mkdir 'folder 1'         // Se usan comillas (y otros comandos) para crear nuevos directorios con nombres con espacios"
   ]
  },
  {
   "cell_type": "markdown",
   "metadata": {},
   "source": [
    "#### Crear ficheros:"
   ]
  },
  {
   "cell_type": "code",
   "execution_count": null,
   "metadata": {
    "vscode": {
     "languageId": "powershell"
    }
   },
   "outputs": [],
   "source": [
    "~$ touch nombre_fichero                     // Crea un nuevo fichero\n",
    "~$ echo \"This is a test\" > test_1.txt       // Crea un archivo 'txt' con ese texto\n",
    "~$ echo \"This is a second text\" > text_2.txt\n",
    "\n",
    "~$ cat test_1.txt test_2.txt                // Concatena los archivos en uno solo. Se queda con el nombre del primero\n",
    "~$ cat test_?                               // Concatena todos los archivos de ese directorio con ese nombre seguidos. '?' significa 'cualquier caracter'\n",
    "~$ cat test_*                               // El '*' significa 'cero o más caracteres'"
   ]
  },
  {
   "cell_type": "markdown",
   "metadata": {},
   "source": [
    "##### Editar ficheros:"
   ]
  },
  {
   "cell_type": "code",
   "execution_count": null,
   "metadata": {
    "vscode": {
     "languageId": "powershell"
    }
   },
   "outputs": [],
   "source": [
    "~$ cat 'nombre_fichero'     // Muestra el contenido del fichero\n",
    "~$ nano 'nombre_fichero'    // Abre el fichero con el editor de texto 'Nano', con una interfaz de usuario más sencilla que 'Vim'. '^X' en Ubuntu '^' = 'Ctrl'\n",
    "~$ vim 'nombre_fichero'     // Abre el fichero con el editor de texto 'Vim', mucho más personalizable que el editor 'Nano'"
   ]
  },
  {
   "cell_type": "code",
   "execution_count": null,
   "metadata": {
    "vscode": {
     "languageId": "powershell"
    }
   },
   "outputs": [],
   "source": [
    "// Una vez dentro del fichero abierto con 'Vim':\n",
    "~ i                                                 // Insertar\n",
    "~ :w                                                // Guardar\n",
    "~ :q                                                // Exit\n",
    "// Si se escribe '!' se fuerza a realizar la acción"
   ]
  },
  {
   "cell_type": "markdown",
   "metadata": {},
   "source": [
    "`Permisos de ficheros`:\n",
    "\n",
    "- El primer dígito representa los permisos del propietario del fichero.\n",
    "- El segundo dígito representa los permisos del grupo al que pertenece el fichero.\n",
    "- El tercer dígito representa los permisos del resto de usuarios del sistema.\n",
    "\n",
    "Cada uno de estos dígitos se calcula sumando los siguientes valores, dependiendo de los permisos que se quieran establecer:\n",
    "\n",
    "- 4: permiso de lectura (read)\n",
    "- 2: permiso de escritura (write)\n",
    "- 1: permiso de ejecución (execute)\n",
    "\n",
    "Por ejemplo, el valor 600 significa que el propietario tiene permisos de lectura y escritura (4+2=6), pero no de ejecución, y que ni el grupo ni el resto de usuarios tienen ningún permiso (0)."
   ]
  },
  {
   "cell_type": "code",
   "execution_count": null,
   "metadata": {
    "vscode": {
     "languageId": "powershell"
    }
   },
   "outputs": [],
   "source": [
    "~$ chmod '600' 'file_name'  // Cambia los permisos de edición, lectura y ejecución de un fichero"
   ]
  },
  {
   "cell_type": "markdown",
   "metadata": {},
   "source": [
    "##### Info ficheros:"
   ]
  },
  {
   "cell_type": "code",
   "execution_count": null,
   "metadata": {
    "vscode": {
     "languageId": "powershell"
    }
   },
   "outputs": [],
   "source": [
    "~$ ls -l 'nombre_fichero'   // Indica los permisos del usuario, el grupo al que pertenece el usuario y el resto de usuarios ajenos a ese grupo"
   ]
  },
  {
   "cell_type": "markdown",
   "metadata": {},
   "source": [
    "#### Eliminar:"
   ]
  },
  {
   "cell_type": "code",
   "execution_count": null,
   "metadata": {
    "vscode": {
     "languageId": "powershell"
    }
   },
   "outputs": [],
   "source": [
    "~$ rm -rf 'nombre_directorio'   // Elimina directorios con todo lo que contenga\n",
    "~$ rm 'nombre fichero'          // Elimina ficheros"
   ]
  },
  {
   "cell_type": "markdown",
   "metadata": {},
   "source": [
    "Estructura de los SSOO:\n",
    "\n",
    "- Monolíticos: un único programa que lo hace todo. (`muy primitivo`)\n",
    "- SSOO estructurados:\n",
    "    - Por capas\n",
    "- SSOO cliente servidor: escucha y pide peticiones"
   ]
  },
  {
   "cell_type": "markdown",
   "metadata": {},
   "source": [
    "#### Acciones automáticas al iniciar la máquina:"
   ]
  },
  {
   "cell_type": "code",
   "execution_count": null,
   "metadata": {
    "vscode": {
     "languageId": "powershell"
    }
   },
   "outputs": [],
   "source": [
    "~$ sudo crontab -l                              // Lectura del archivo de acciones de inicio\n",
    "~$ sudo crontab -e                              // Edición del archivo de acciones de inicio\n",
    "\n",
    "@reboot sleep 10 && ifconfig > /dev/tty1        // Espera 10 segundos tras el inicio y ejecuta el comando 'ifconfig' en la máquina tty1"
   ]
  },
  {
   "cell_type": "code",
   "execution_count": null,
   "metadata": {
    "vscode": {
     "languageId": "powershell"
    }
   },
   "outputs": [],
   "source": [
    "~$ tty          // Nos dice el nombre de la máquina en la que estamos"
   ]
  },
  {
   "cell_type": "markdown",
   "metadata": {},
   "source": [
    "#### Ejecutar programas:"
   ]
  },
  {
   "cell_type": "code",
   "execution_count": null,
   "metadata": {
    "vscode": {
     "languageId": "powershell"
    }
   },
   "outputs": [],
   "source": [
    "~$ python3 'nombre_archivo.py'                      // Ejecuta un programa de python\n",
    "\n",
    "~$ gcc 'nombre_archivo.c' -o 'nombre_de_ejecucion'  // Compila el programa en C y guarda la compilación con el nombre 'nombre_de_ejecución'\n",
    "~$ ./'nombre_de_ejecucion'                          // Ejecuta el programa compilado de C\n",
    "\n",
    "~$ ./'nombre_de_ejecucion.sh'                       // Ejecuta el programa"
   ]
  },
  {
   "cell_type": "markdown",
   "metadata": {},
   "source": [
    "### Procesos:"
   ]
  },
  {
   "cell_type": "code",
   "execution_count": null,
   "metadata": {
    "vscode": {
     "languageId": "powershell"
    }
   },
   "outputs": [],
   "source": [
    "// Terminal 1:\n",
    "~$ python3 ejercicio_pip.py\n",
    "\n",
    "// Terminal 2:\n",
    "~$ ps -ef | grep ./ejercicio_pip.py                 // Devuelve información sobre los procesos activos que coinciden con el nombre filtrado\n",
    ">> diego       7459    2242  0 17:03 pts/2    00:00:00 grep --color=auto ./ejercicio_pip.py"
   ]
  },
  {
   "cell_type": "markdown",
   "metadata": {},
   "source": [
    "El primer núm. es el número del proceso ejecutado y el segundo es el proceso del padre. Al cerrar la terminal 1 se muere el proceso y ya no aparecerá en la terminal 2."
   ]
  },
  {
   "cell_type": "code",
   "execution_count": null,
   "metadata": {
    "vscode": {
     "languageId": "bat"
    }
   },
   "outputs": [],
   "source": [
    "// Terminal 1: \n",
    "~$ nohup python3 ejercicio_pip.py\n",
    "\n",
    "// Terminal 2:\n",
    "~$ ps -ef | grep python3\n",
    ">> diego       7407    7133  0 17:03 pts/4    00:00:00 python3 ejercicio_pip.py\n",
    "\n",
    "// Terminal 1: Cerramos la Terminal\n",
    "\n",
    "// Terminal 2:\n",
    "~$ ps -ef | grep python3\n",
    ">> diego       7407       1  0 17:03 ?        00:00:00 python3 ejercicio_pip.py"
   ]
  }
 ],
 "metadata": {
  "language_info": {
   "name": "python"
  }
 },
 "nbformat": 4,
 "nbformat_minor": 2
}
