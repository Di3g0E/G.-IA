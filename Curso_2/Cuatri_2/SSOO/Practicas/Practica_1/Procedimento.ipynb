{
 "cells": [
  {
   "cell_type": "markdown",
   "metadata": {},
   "source": [
    "# Práctica 1. Administración básica de un servidor"
   ]
  },
  {
   "cell_type": "markdown",
   "metadata": {},
   "source": [
    "Los objetivos de esta práctica son:\n",
    "- Poner en marcha un servidor linux accesible\n",
    "- Securizarlo y programar un script de mantenimiento\n",
    "- Instalar y mantener levantada una api-rest en python"
   ]
  },
  {
   "cell_type": "markdown",
   "metadata": {},
   "source": [
    "## Paso a paso:"
   ]
  },
  {
   "cell_type": "markdown",
   "metadata": {},
   "source": [
    "## 1. Administración básica de un servidor:\n",
    "- `Crear una instancia de EC2 en AWS (Amazon Elastic Compute Cloud) utilizando la consola de AWS.`\n",
    "- Conectar a la instancia utilizando SSH desde tu terminal o cliente SSH favorito."
   ]
  },
  {
   "cell_type": "markdown",
   "metadata": {},
   "source": [
    "__Conexión SSH:__\n",
    "1. Entrar en _Visual Studio Code_ y conectarse a la máquina virtual\n",
    "2. Moverse hasta la carpeta en la que se encuentra nuestra clave de entrada al servidor\n",
    "3. Ejecutar este comando: `chmod 400 \"Nombre_de_la_clave.pem\"` en terminal cambiando `Nombre_de_la_clave` por el de la nuestra\n",
    "4. Ir a `conectar` en AWS al seleccionar la instancia y copiar el ejemplo y cambiar el nombre de la llave.<br> Queda algo como esto: `ssh -i \"Llave-Mi_servidor_web.pem\" ubuntu@ec2-13-53-136-17.eu-north-1.compute.amazonaws.com`"
   ]
  },
  {
   "cell_type": "code",
   "execution_count": null,
   "metadata": {
    "vscode": {
     "languageId": "bat"
    }
   },
   "outputs": [],
   "source": [
    "~$ chmod 400 \"Llave-Mi_servidor_web.pem\""
   ]
  },
  {
   "cell_type": "markdown",
   "metadata": {},
   "source": [
    "## 2. Puesta en marcha de un servidor Linux accesible:\n",
    "- `Elegir una imagen de sistema operativo Linux compatible, como Amazon Linux, Ubuntu, CentOS, etc., al crear la instancia EC2.`\n",
    "- Configurar reglas de seguridad en el grupo de seguridad de la instancia EC2 para permitir el acceso a los puertos necesarios (por ejemplo, SSH en el puerto 22 para acceso remoto)."
   ]
  },
  {
   "cell_type": "markdown",
   "metadata": {},
   "source": [
    "__Cerrar puertos de entrada y salida en desuso:__\n",
    "> Identificar el ID del Grupo de Seguridad: `curl -s http://169.254.169.254/latest/meta-data/security-groups/`<br>\n",
    "> Revocar el acceso a todos los puertos excepto el 22: `aws ec2 revoke-security-group-ingress --group-id tu-id-de-grupo --protocol all --cidr 0.0.0.0/0`\n",
    "\n",
    "Comprovación de que únicamente el puerto 22, de conexión ssh está abierto y vemos que se puede acceder desde cualquier terminal (0.0.0.0/0) \n",
    "\n",
    "![alt text](Puertos_de_entrada_1.png)"
   ]
  },
  {
   "cell_type": "markdown",
   "metadata": {},
   "source": [
    "## 3. Securización y programación de script de mantenimiento:"
   ]
  },
  {
   "cell_type": "markdown",
   "metadata": {},
   "source": [
    "### Pasos para implementar Fail2ban:"
   ]
  },
  {
   "cell_type": "markdown",
   "metadata": {},
   "source": [
    "1. Descargar Python (versión mayor o igual a 3.5)\n",
    "    1. Actualizar el sistema: `sudo apt update`\n",
    "    2. Instalar python: `sudo apt install python3 python3-pip`\n",
    "    3. Verificar la instalación: `pip3 --version`\n",
    "2. Ejecutar comando de instalación: `sudo apt install fail2ban`\n",
    "3. Configurar _fail2ban_:\n",
    "    1. Nos movemos al directorio de fail2ban: `cd /etc/fail2ban`\n",
    "    2. Cambiar de nombre el archivo de fail.conf a fail.local\n",
    "    3. Modificar el tiempo de baneo: por 3 intentos fallados en 5 min se banea 48h\n"
   ]
  },
  {
   "cell_type": "markdown",
   "metadata": {},
   "source": [
    "### Realice un script de shell que:\n",
    "- Realice copias de seguridad de los principales directorios y ficheros\n",
    "- Borre los ficheros de log más antiguos de 7 dias\n",
    "- Se ejecte todas las madrugadas"
   ]
  },
  {
   "cell_type": "markdown",
   "metadata": {},
   "source": [
    "#### Script:"
   ]
  },
  {
   "cell_type": "code",
   "execution_count": null,
   "metadata": {
    "vscode": {
     "languageId": "bat"
    }
   },
   "outputs": [],
   "source": [
    "#!/bin/bash\n",
    "\n",
    "# Rutas de directorios a respaldar y directorio de copias de seguridad\n",
    "directorios_respaldar=\"/etc /var/lib /home/*\"\n",
    "directorio_backup=\"/home/directorio_backup\"\n",
    "\n",
    "# Copia de seguridad de directorios\n",
    "fecha=$(date +\"%Y-%m-%d\")\n",
    "tar_file=\"$directorio_backup/backup_$fecha.tar.gz\"\n",
    "tar -czvf \"$tar_file\" $directorios_respaldar\n",
    "\n",
    "# Eliminar archivos de log más antiguos de 7 días\n",
    "find /ruta/a/logs -type f -name \"*.log\" -mtime +7 -exec rm {} \\;\n",
    "\n",
    "# Mensaje de registro\n",
    "echo \"Copia de seguridad realizada en $tar_file\"\n",
    "echo \"Archivos de log más antiguos de 7 días eliminados.\""
   ]
  },
  {
   "cell_type": "markdown",
   "metadata": {},
   "source": [
    "Explicación del script:\n",
    "1. directorios_respaldar: Lista de directorios que deseas respaldar.\n",
    "2. directorio_backup: Directorio donde se almacenarán las copias de seguridad.\n",
    "3. Se crea una copia de seguridad comprimida (tar.gz) de los directorios especificados en la variable directorios_respaldar.\n",
    "4. Se eliminan los archivos de log más antiguos de 7 días del directorio /ruta/a/logs.\n",
    "5. Se registra un mensaje de confirmación en la terminal."
   ]
  },
  {
   "cell_type": "markdown",
   "metadata": {},
   "source": [
    "#### Automatización:"
   ]
  },
  {
   "cell_type": "markdown",
   "metadata": {},
   "source": [
    "1. Ejecutar el siguiente comando para modificar el cron: `crontab -e`\n",
    "2. Pegar la siguiente línea al final del archivo: `0 3 * * * /home/scripts/script_backup.sh > /home/directorio_backup/log_backup.log 2>&1` <BR> Esta línea ejecuta el script de recuperación todos los días a las 3 am."
   ]
  },
  {
   "cell_type": "markdown",
   "metadata": {},
   "source": [
    "## 4. Servicios:"
   ]
  },
  {
   "cell_type": "markdown",
   "metadata": {},
   "source": [
    "### 1. Crear la API mínima con Bottle:"
   ]
  },
  {
   "cell_type": "markdown",
   "metadata": {},
   "source": [
    "1. Instalar Bottle: `pip install bottle`"
   ]
  },
  {
   "cell_type": "markdown",
   "metadata": {},
   "source": [
    "2. Crear un archivo python que implemente los siguintes recursos:\n",
    "        - /hi : \"Hola, hoy es dd/MM/YYYY y son las HH:mm:ss\"\n",
    "        - /status: lista los servicios que están corriendo en la máquina"
   ]
  },
  {
   "cell_type": "code",
   "execution_count": null,
   "metadata": {
    "vscode": {
     "languageId": "bat"
    }
   },
   "outputs": [],
   "source": [
    "from bottle import Bottle, run\n",
    "import datetime\n",
    "\n",
    "app = Bottle()\n",
    "\n",
    "@app.route('/hi')\n",
    "def hello():\n",
    "    now = datetime.datetime.now()\n",
    "    return f'Hola, hoy es {now.strftime(\"%d/%m/%Y\")} y son las {now.strftime(\"%H:%M:%S\")}'\n",
    "\n",
    "@app.route('/status')\n",
    "def status():\n",
    "    process = subprocess.Popen(['systemctl', 'list-units', '--type=service', '--state=running'], stdout=subprocess.PIPE)\n",
    "    output, error = process.communicate()\n",
    "    lines = output.decode('utf-8').split('\\n')\n",
    "    services = []\n",
    "    for line in lines:\n",
    "        parts = line.split()\n",
    "        if len(parts) >= 4:\n",
    "            services.append({\n",
    "                'unit': parts[0],\n",
    "                'load': parts[1],\n",
    "                'active': parts[2],\n",
    "                'sub': parts[3],\n",
    "                'description': ' '.join(parts[4:])\n",
    "            })\n",
    "\n",
    "    # Genera una tabla HTML\n",
    "    html = '<table border=\"1\">'\n",
    "    html += '<tr><th>Unit</th><th>Load</th><th>Active</th><th>Sub</th><th>Description</th></tr>'\n",
    "    for service in services:\n",
    "        html += f'<tr><td>{service[\"unit\"]}</td><td>{service[\"load\"]}</td><td>{service[\"active\"]}</td><td>{service[\"sub\"]}</td><td>{service[\"description\"]}</td></tr>'\n",
    "    html += '</table>'\n",
    "\n",
    "    response.content_type = 'text/html'\n",
    "    return html\n",
    "   \n",
    "\n",
    "if __name__ == '__main__':\n",
    "    run(app, host='0.0.0.0', port=8080)"
   ]
  },
  {
   "cell_type": "markdown",
   "metadata": {},
   "source": [
    "3. Darle permisos de ejecución al archivo: `chmod +x /home/scripts/api.py`\n",
    "4. Permitir el acceso de tráfico entrante por el puerto 80 ejecutando: `iptables -A INPUT -p tcp --dport 8080 -j ACCEPT`\n",
    "5. Redirigir el tráfico del puerto 8080 al puerto 80 (donde está la API):<br> `iptables -t nat -A PREROUTING -p tcp --dport 8080 -j REDIRECT --to-port 80`\n",
    "6. Crear el directorio iptables en /etc/: `sudo mkdir -p /etc/iptables/`\n",
    "7. Guardar las reglas de iptables: `sudo iptables-save > /etc/iptables/rules.v4`\n",
    "8. Meterse en `Security Groups` / `launch-wizard-1`\n",
    "9. Editar las reglas de entrada y **crear** una nueva regla `TCP personalizado` con el puerto `8080` y que pueda acceder cualquier dirección ip `0.0.0.0/0`\n",
    "10. Repetirlo para las reglas de salida"
   ]
  },
  {
   "cell_type": "markdown",
   "metadata": {},
   "source": [
    "### 2. Instalar y configurar Supervisor:"
   ]
  },
  {
   "cell_type": "markdown",
   "metadata": {},
   "source": [
    "1. Ejecutar el siguiente comando: `sudo apt-get install supervisor`\n",
    "2. Crea un archivo de configuración para tu aplicación en Supervisor. En este caso, api.conf en /etc/supervisor/conf.d:"
   ]
  },
  {
   "cell_type": "code",
   "execution_count": null,
   "metadata": {
    "vscode": {
     "languageId": "bat"
    }
   },
   "outputs": [],
   "source": [
    "[program:api]   # Llamarlo igual que la api\n",
    "command=/usr/bin/python3 /home/scripts/api.py  # Ruta absoluta al script api.py\n",
    "directory=/home/scripts  # Directorio donde se encuentra api.py\n",
    "autostart=true\n",
    "autorestart=true\n",
    "stderr_logfile=/var/log/api.err.log\n",
    "stdout_logfile=/var/log/api.out.log\n"
   ]
  },
  {
   "cell_type": "markdown",
   "metadata": {},
   "source": [
    "3.  Actualiza la configuración de Supervisor y comienza a supervisar tu aplicación:<BR>\n",
    "    `sudo supervisorctl reread`<br>\n",
    "    `sudo supervisorctl update`<br>\n",
    "    `sudo supervisorctl start my_api`\n"
   ]
  },
  {
   "cell_type": "markdown",
   "metadata": {},
   "source": [
    "Prueba de que la api funciona:\n",
    "- Prueba del programa hi: `curl http://localhost:8080/hi`\n",
    "- Prueba del programa status: `curl http://localhost:8080/status`"
   ]
  },
  {
   "cell_type": "markdown",
   "metadata": {},
   "source": [
    "### 3. Instalar Nginx y configurar un proxy inverso:"
   ]
  },
  {
   "cell_type": "markdown",
   "metadata": {},
   "source": [
    "1. Instalar Nginx: `sudo apt-get install nginx`\n",
    "2. Creamos un archivo de configuración para la API en Nginx. En nuestro caso, api.conf en /etc/nginx/sites-available/:"
   ]
  },
  {
   "cell_type": "code",
   "execution_count": null,
   "metadata": {
    "vscode": {
     "languageId": "bat"
    }
   },
   "outputs": [],
   "source": [
    "server {\n",
    "    listen 80;\n",
    "    server_name tu_dominio_o_ip;\n",
    "\n",
    "    location / {\n",
    "        proxy_pass http://127.0.0.1:8080;  # Puerto donde se ejecuta la API con Bottle\n",
    "        proxy_set_header Host $host;\n",
    "        proxy_set_header X-Real-IP $remote_addr;\n",
    "        proxy_set_header X-Forwarded-For $proxy_add_x_forwarded_for;\n",
    "    }\n",
    "}\n"
   ]
  },
  {
   "cell_type": "markdown",
   "metadata": {},
   "source": [
    "3. Habilitamos el sitio y reiniciamos Nginx: <br>\n",
    "    `sudo ln -s /etc/nginx/sites-available/api.conf /etc/nginx/sites-enabled/` <br>\n",
    "    `sudo systemctl restart nginx`\n"
   ]
  },
  {
   "cell_type": "markdown",
   "metadata": {},
   "source": [
    "`Hacer un programa en CRON para poder lanzar el servidor constantemente`"
   ]
  },
  {
   "cell_type": "markdown",
   "metadata": {},
   "source": [
    "# Práctica 2: Servidor de STOP!"
   ]
  },
  {
   "cell_type": "markdown",
   "metadata": {},
   "source": [
    "### Crear los programas en python para conectar los sockets desde ambas direcciones:"
   ]
  },
  {
   "cell_type": "markdown",
   "metadata": {},
   "source": [
    "#### Programa cliente:"
   ]
  },
  {
   "cell_type": "code",
   "execution_count": null,
   "metadata": {
    "vscode": {
     "languageId": "bat"
    }
   },
   "outputs": [],
   "source": [
    "# El programa cliente que se comunica con el Servidor Software que está escuchando en el Servidor Físico\n",
    "import socket\n",
    "\n",
    "# El host remoto. Sería \"localhost\" si el cliente está en la misma máquina que el servidor\n",
    "HOST = \"13.53.94.147\"\n",
    "\n",
    "# El puerto en el que está escuchando nuestro servidor\n",
    "PORT = 50000\n",
    "\n",
    "\n",
    "if __name__ == \"__main__\":\n",
    "\tprint('[Cliente 1] Iniciando socket con el host \"{}\" al puerto {}'.format(HOST, PORT))\n",
    "\twith socket.socket(socket.AF_INET, socket.SOCK_STREAM) as mi_socket:\n",
    "\t\ttupla_para_el_enlace = (HOST, PORT)\n",
    "\n",
    "\t\tprint('[Cliente 2] Conectando a: {}'.format(tupla_para_el_enlace))\n",
    "\t\tmi_socket.connect(tupla_para_el_enlace)\n",
    "\n",
    "\t\tmantener_el_socket_abierto = True\n",
    "\t\twhile mantener_el_socket_abierto:\n",
    "\t\t\tdato_para_enviar_str = input(\"[Cliente 3] Escribe el dato a enviar al servidor: \")\n",
    "\n",
    "\t\t\tif dato_para_enviar_str == \"cerrar\":\n",
    "\t\t\t\tprint(\"[Cliente 6] Cerrando socket desde cliente\")\n",
    "\t\t\t\tbreak\n",
    "\n",
    "\t\t\tmi_socket.sendall(bytes(dato_para_enviar_str, encoding='utf8'))\n",
    "\n",
    "\t\t\tprint('[Cliente 4] Datos enviados, esperando respuesta del servidor ...')\n",
    "\t\t\tdato_recibido_en_bytes = mi_socket.recv(1024).strip()\n",
    "\n",
    "\t\t\tdato_recibido_en_str = dato_recibido_en_bytes.decode(\"utf-8\")\n",
    "\t\t\tprint(\"[Cliente 5] Respuesta recibida desde el servidor: {}\".format(dato_recibido_en_str))\n",
    "\n",
    "\t\tprint(\"[Cliente 7] Socket cerrado desde cliente\")"
   ]
  },
  {
   "cell_type": "markdown",
   "metadata": {},
   "source": [
    "#### Programa servidor:"
   ]
  },
  {
   "cell_type": "markdown",
   "metadata": {},
   "source": [
    "##### Moverse al siguiente directorio para guardar los scripts:"
   ]
  },
  {
   "cell_type": "code",
   "execution_count": null,
   "metadata": {
    "vscode": {
     "languageId": "bat"
    }
   },
   "outputs": [],
   "source": [
    "cd /usr/local/bin"
   ]
  },
  {
   "cell_type": "markdown",
   "metadata": {},
   "source": [
    "#### Código programa:"
   ]
  },
  {
   "cell_type": "code",
   "execution_count": null,
   "metadata": {
    "vscode": {
     "languageId": "bat"
    }
   },
   "outputs": [],
   "source": [
    "# Nuestro Servidor Software sobre el Servidor Físico\n",
    "import socketserver\n",
    "\n",
    "# Dirección IP\n",
    "HOST = \"0.0.0.0\"\n",
    "\n",
    "# El puerto privado que queramos escuchar, uno de los comprendidos entre 49152 y 65535  1-65535\n",
    "PORT = 50000\n",
    "\n",
    "\n",
    "class MiControladorTCP(socketserver.BaseRequestHandler):\n",
    "    \"\"\"\n",
    "    La clase que controlará las peticiones para nuestro servidor.\n",
    "\n",
    "    It is instantiated once per connection to the server, and must\n",
    "    override the handle() method to implement communication to the\n",
    "    client.\n",
    "    \"\"\"\n",
    "\n",
    "    def handle(self):\n",
    "        \"\"\"\n",
    "        Método sobrescrito para controlar la comunicación que ocurra ne nuestro servidor.\n",
    "        Aquí recibiremos los mensajes del cliente y le responderemos\n",
    "        \"\"\"\n",
    "        print('[Servidor 3] Cliente conectado desde: {}'.format(self.client_address[0]))\n",
    "\n",
    "        socket_abierto = True\n",
    "        while socket_abierto:\n",
    "            print('[Servidor 4] Esperando por petición del cliente...')\n",
    "            dato_recibido_en_bytes = self.request.recv(1024).strip()\n",
    "            if dato_recibido_en_bytes:\n",
    "                dato_recibido_en_str = dato_recibido_en_bytes.decode(\"utf-8\") \n",
    "                print('[Servidor 5] Recibido desde el cliente: {}'.format(dato_recibido_en_str))\n",
    "\n",
    "                respuesta_en_str = \"## RESPUESTA DEL SERVIDOR: {} ##\".format(dato_recibido_en_str)\n",
    "                \n",
    "                self.request.sendall(bytes(respuesta_en_str, encoding='utf8'))\n",
    "                print('[Servidor 6] Se ha respondido al cliente con el mensaje: {}'.format(respuesta_en_str))\n",
    "            else:\n",
    "                print('[Servidor 7] El cliente ha cerrado el Socket desde su lado, cerrando socket desde el Servidor...')\n",
    "                socket_abierto = False\n",
    "\n",
    "\n",
    "if __name__ == \"__main__\":\n",
    "    tupla_para_el_enlace = (HOST, PORT)\n",
    "\n",
    "    try:\n",
    "        print('[Servidor 1] Enlazando Socket en: {}'.format(tupla_para_el_enlace))\n",
    "        with socketserver.TCPServer(tupla_para_el_enlace, MiControladorTCP) as servidor:\n",
    "            print('[Servidor 2] Iniciando buble del servidor. Para interrumpir pulsar a la vez las teclas: [Ctrl]+[C]')\n",
    "            servidor.serve_forever()\n",
    "    except KeyboardInterrupt:\n",
    "        print('[Servidor 8] Interrupción por teclado')\n",
    "    finally:        \n",
    "        if servidor is not None:\n",
    "            servidor.shutdown()\n",
    "        print('[Servidor 9] Servidor Cerrado')"
   ]
  },
  {
   "cell_type": "markdown",
   "metadata": {},
   "source": [
    "### Ejecutar programas"
   ]
  },
  {
   "cell_type": "markdown",
   "metadata": {},
   "source": [
    "Se deben ejecutar los programas en ambas máquinas para poder comunicarse entre sí."
   ]
  },
  {
   "cell_type": "code",
   "execution_count": null,
   "metadata": {
    "vscode": {
     "languageId": "bat"
    }
   },
   "outputs": [],
   "source": [
    "# Ejecutar primero el comando en máquina servidor:\n",
    "python3 socket_servidor.py\n",
    "\n",
    "# Ejecutar comando en máquina cliente:\n",
    "python3 -u socket_cliente_practica_2.py"
   ]
  },
  {
   "cell_type": "markdown",
   "metadata": {},
   "source": [
    "### Modificamos la api para poder jugar al Stop:"
   ]
  },
  {
   "cell_type": "code",
   "execution_count": null,
   "metadata": {
    "vscode": {
     "languageId": "bat"
    }
   },
   "outputs": [],
   "source": [
    "from bottle import Bottle, run, response, request\n",
    "import datetime\n",
    "import subprocess\n",
    "import string\n",
    "import random\n",
    "import socket\n",
    "\n",
    "app = Bottle()\n",
    "\n",
    "@app.route('/hi')\n",
    "def hello():\n",
    "    now = datetime.datetime.now()\n",
    "    return f'Hola, hoy es {now.strftime(\"%d/%m/%Y\")} y son las {now.strftime(\"%H:%M:%S\")}'\n",
    "\n",
    "@app.route('/status')\n",
    "def status():\n",
    "    process = subprocess.Popen(['systemctl', 'list-units', '--type=service', '--state=running'], stdout=subprocess.PIPE)\n",
    "    output, error = process.communicate()\n",
    "    lines = output.decode('utf-8').split('\\n')\n",
    "    services = []\n",
    "    for line in lines:\n",
    "        parts = line.split()\n",
    "        if len(parts) >= 4:\n",
    "            services.append({\n",
    "                'unit': parts[0],\n",
    "                'load': parts[1],\n",
    "                'active': parts[2],\n",
    "                'sub': parts[3],\n",
    "                'description': ' '.join(parts[4:])\n",
    "            })\n",
    "\n",
    "    # Genera una tabla HTML\n",
    "    html = '<table border=\"1\">'\n",
    "    html += '<tr><th>Unit</th><th>Load</th><th>Active</th><th>Sub</th><th>Description</th></tr>'\n",
    "    for service in services:\n",
    "        html += f'<tr><td>{service[\"unit\"]}</td><td>{service[\"load\"]}</td><td>{service[\"active\"]}</td><td>{service[\"sub\"]}</td><td>{service[\"description\"]}</td></tr>'\n",
    "    html += '</table>'\n",
    "\n",
    "    response.content_type = 'text/html'\n",
    "    return html\n",
    "\n",
    "\n",
    "@app.route('/stop', method='POST')\n",
    "def stop():\n",
    "    # Código para detener el cliente\n",
    "    HOST = \"13.53.94.147\"\n",
    "    PORT = 50000\n",
    "\n",
    "    # Crear un socket y conectar al servidor\n",
    "    with socket.socket(socket.AF_INET, socket.SOCK_STREAM) as mi_socket:\n",
    "        try:\n",
    "            mi_socket.connect((HOST, PORT))\n",
    "            # Envía el comando 'cerrar' al servidor\n",
    "            mi_socket.sendall(b'cerrar')\n",
    "        except Exception as e:\n",
    "            return f\"Error al detener el cliente: {e}\"\n",
    "    \n",
    "    return \"Cliente detenido con éxito\"\n",
    "\n",
    "if __name__ == '__main__':\n",
    "    run(app, host='0.0.0.0', port=8080)"
   ]
  }
 ],
 "metadata": {
  "language_info": {
   "name": "python"
  }
 },
 "nbformat": 4,
 "nbformat_minor": 2
}
