{
 "cells": [
  {
   "cell_type": "markdown",
   "metadata": {},
   "source": [
    "# Ejercicios FORK \n",
    "El objetivo de esta práctica es entender cómo funciona la creación y gestión de procesos en \n",
    "sistemas operativos Unix mediante la llamada al sistema fork(). A través de los siguientes \n",
    "ejercicios, exploraremos la asignación de procesos, la manipulación de variables en procesos \n",
    "padre e hijo, y la sincronización entre procesos"
   ]
  },
  {
   "cell_type": "markdown",
   "metadata": {},
   "source": [
    "## PARTE I\n",
    "\n",
    "1. Abre tu editor de código.\n",
    "2. Crea un nuevo archivo llamado `programFork.c` y copia el siguiente código fuente:\n",
    "3. Compila el programa usando el siguiente comando en la terminal:\n",
    "gcc -Wall -o programFork programFork.c\n",
    "4. Ejecuta el programa en segundo plano añadiendo `&` al final del comando:\n",
    "./ programFork &\n",
    "5. Verifica que el programa se está ejecutando con el comando `ps -l`."
   ]
  },
  {
   "cell_type": "code",
   "execution_count": null,
   "metadata": {
    "vscode": {
     "languageId": "bat"
    }
   },
   "outputs": [],
   "source": [
    "~$ touch programFork.c && chmod 777 programFork.c\n",
    "~$ vim programFork.c"
   ]
  },
  {
   "cell_type": "markdown",
   "metadata": {},
   "source": [
    "Una vez en el editor del programa pulsar `i` y escribir este código:"
   ]
  },
  {
   "cell_type": "code",
   "execution_count": null,
   "metadata": {
    "vscode": {
     "languageId": "bat"
    }
   },
   "outputs": [],
   "source": [
    "#include <unistd.h>\n",
    "#include <stdio.h>\n",
    "#include <stdlib.h>\n",
    "\n",
    "int main() {\n",
    " pid_t rf;\n",
    " rf = fork();\n",
    " switch (rf) {\n",
    " case -1:\n",
    " printf(\"No se pudo crear el proceso hijo \\n\");\n",
    " break;\n",
    " case 0:\n",
    " printf(\"Soy el hijo, mi PID es %d y mi PPID es %d \\n\", getpid(), getppid());\n",
    " sleep(20); // Suspende el proceso 20 segundos\n",
    " break;\n",
    " default:\n",
    " printf(\"Soy el padre, mi PID es %d y el PID de mi hijo es %d \\n\", getpid(), rf);\n",
    " sleep(30); // Suspende el proceso 30 segundos. Acaba antes el hijo.\n",
    " }\n",
    " printf(\"Final de ejecución de %d \\n\", getpid());\n",
    " exit(0);\n",
    "}"
   ]
  },
  {
   "cell_type": "code",
   "execution_count": null,
   "metadata": {
    "vscode": {
     "languageId": "bat"
    }
   },
   "outputs": [],
   "source": [
    "~$ gcc programFork.c -o programFork\n",
    "~$ ./programFork.c"
   ]
  },
  {
   "cell_type": "markdown",
   "metadata": {},
   "source": [
    "Para comprobar que el programa está compilando hay que abrir otra terminal y escribir el siguiente código después de lanzar el programa:"
   ]
  },
  {
   "cell_type": "markdown",
   "metadata": {},
   "source": [
    "~$ ls -ef | grep ./programFork"
   ]
  },
  {
   "cell_type": "markdown",
   "metadata": {},
   "source": [
    "## Ejercicios PARTE I:\n"
   ]
  },
  {
   "cell_type": "markdown",
   "metadata": {},
   "source": [
    "1. Anota el valor mostrado inmediatamente después de lanzar el proceso en segundo \n",
    "plano e indica qué representa dicho valor. "
   ]
  },
  {
   "cell_type": "code",
   "execution_count": null,
   "metadata": {
    "vscode": {
     "languageId": "bat"
    }
   },
   "outputs": [],
   "source": [
    "~$ ./programFork > keep_programFork"
   ]
  },
  {
   "cell_type": "markdown",
   "metadata": {},
   "source": [
    "2. ¿Cuáles son los PID de los procesos padre e hijo?"
   ]
  },
  {
   "cell_type": "code",
   "execution_count": null,
   "metadata": {
    "vscode": {
     "languageId": "bat"
    }
   },
   "outputs": [],
   "source": [
    "~$ ps -ef | grep ./programFork"
   ]
  },
  {
   "cell_type": "markdown",
   "metadata": {},
   "source": [
    "3. ¿Qué tamaño en memoria ocupan los procesos padre e hijo?\n",
    "\n",
    "El tamaño ocupado por el PID del padre es 2776 Kib en memoria virtual y 988 Kib en memoria residente del proceso y el tamaño ocupado por el PID hijo es 2776 Kib en memoria virtual y 88 Kib en memoria residente del proceso"
   ]
  },
  {
   "cell_type": "code",
   "execution_count": null,
   "metadata": {
    "vscode": {
     "languageId": "bat"
    }
   },
   "outputs": [],
   "source": [
    "~$ ps aux | grep ./programFork"
   ]
  },
  {
   "cell_type": "markdown",
   "metadata": {},
   "source": [
    "4. ¿Qué realiza la función “sleep”? ¿Qué proceso concluye antes su ejecución?\n",
    "\n",
    "La función `sleep` paraliza la lectura del programa 20 y 30 segundos respectivamente en las dos veces que se invoca. Antes de su ejecución concluye el proceso del `printf`"
   ]
  },
  {
   "cell_type": "markdown",
   "metadata": {},
   "source": [
    "5. ¿Qué ocurre cuando la llamada al sistema fork devuelve un valor negativo?\n",
    "\n",
    "Que ejecuta esta línea de código: `printf(\"No se pudo crear el proceso hijo \\n\");` la cual imprime por pantalla el mensaje: `No se pudo crear el proceso hijo`"
   ]
  },
  {
   "cell_type": "markdown",
   "metadata": {},
   "source": [
    "6. ¿Cuál es la primera instrucción que ejecuta el proceso hijo?\n",
    "\n",
    "La primera instrucción que ejecuta el proceso hijo es `getpid()`"
   ]
  },
  {
   "cell_type": "markdown",
   "metadata": {},
   "source": [
    "## PARTE II \n",
    "Ejercicio 1: Modifica el código del programa ` programFork.c` para asegurar que el proceso \n",
    "padre imprime su mensaje de presentación antes que el hijo imprima el suyo. Guarda el nuevo \n",
    "programa como `ejercicio1parte2.c`.\n",
    "\n",
    "Ejercicio 2: Modifica el código fuente del programa ` programFork.c` declarando una variable \n",
    "entera llamada `varfork` e inicializándola a 10. En el proceso padre, incrementa esta variable \n",
    "10 veces de 10 en 10. En el proceso hijo, incrementa `varfork` 10 veces de 1 en 1. Además, el \n",
    "programa deberá imprimir por pantalla el valor final de `varfork` tanto para el padre como \n",
    "para el hijo. Guarda el nuevo programa como `ejercicio2parte2.c`.\n",
    "\n",
    "Instrucciones\n",
    "\n",
    "Para cada ejercicio:"
   ]
  },
  {
   "cell_type": "markdown",
   "metadata": {},
   "source": [
    "1. Escribe el código en un archivo con el nombre especificado."
   ]
  },
  {
   "cell_type": "code",
   "execution_count": null,
   "metadata": {
    "vscode": {
     "languageId": "bat"
    }
   },
   "outputs": [],
   "source": [
    "~$ cp programFork.c ejercicio1parte2.c && chmod 777 ejercicio1parte2.c\n",
    "~$ vim ejercicio1parte2.c"
   ]
  },
  {
   "cell_type": "markdown",
   "metadata": {},
   "source": [
    "Una vez entras en el nuevo fichero escribes este codigo en el que he intercambiado los tiempos de espera (`sleep`)"
   ]
  },
  {
   "cell_type": "code",
   "execution_count": null,
   "metadata": {
    "vscode": {
     "languageId": "bat"
    }
   },
   "outputs": [],
   "source": [
    "#include <unistd.h>\n",
    "#include <stdio.h>\n",
    "#include <stdlib.h>\n",
    "\n",
    "int main() {\n",
    "    pid_t rf;\n",
    "    rf = fork();\n",
    "    switch (rf) {\n",
    "    case -1:\n",
    "    printf(\"No se pudo crear el proceso hijo \\n\");\n",
    "    break;\n",
    "    case 0:\n",
    "    printf(\"Soy el hijo, mi PID es %d y mi PPID es %d \\n\", getpid(), getppid());\n",
    "    sleep(30); // Suspende el proceso 20 segundos\n",
    "    break;\n",
    "    default:\n",
    "    printf(\"Soy el padre, mi PID es %d y el PID de mi hijo es %d \\n\", getpid(), rf);\n",
    "    sleep(20); // Suspende el proceso 30 segundos. Acaba antes el hijo.\n",
    "    }\n",
    "    printf(\"Final de ejecución de %d \\n\", getpid());\n",
    "    exit(0);\n",
    "}"
   ]
  },
  {
   "cell_type": "markdown",
   "metadata": {},
   "source": [
    "2. Compila y ejecuta el programa para verificar su correcto funcionamiento."
   ]
  },
  {
   "cell_type": "markdown",
   "metadata": {},
   "source": [
    "3. Anota tus observacion"
   ]
  },
  {
   "cell_type": "markdown",
   "metadata": {},
   "source": [
    "El ejercicio 2 está resuelto en la máquina virtual"
   ]
  }
 ],
 "metadata": {
  "kernelspec": {
   "display_name": "Python 3",
   "language": "python",
   "name": "python3"
  },
  "language_info": {
   "codemirror_mode": {
    "name": "ipython",
    "version": 3
   },
   "file_extension": ".py",
   "mimetype": "text/x-python",
   "name": "python",
   "nbconvert_exporter": "python",
   "pygments_lexer": "ipython3",
   "version": "3.10.undefined"
  }
 },
 "nbformat": 4,
 "nbformat_minor": 2
}
